{
  "nbformat": 4,
  "nbformat_minor": 0,
  "metadata": {
    "colab": {
      "name": "chapter 8",
      "provenance": [],
      "collapsed_sections": [],
      "authorship_tag": "ABX9TyON/jRuCmIKr6VOAQAuC9ca",
      "include_colab_link": true
    },
    "kernelspec": {
      "name": "python3",
      "display_name": "Python 3"
    },
    "language_info": {
      "name": "python"
    }
  },
  "cells": [
    {
      "cell_type": "markdown",
      "metadata": {
        "id": "view-in-github",
        "colab_type": "text"
      },
      "source": [
        "<a href=\"https://colab.research.google.com/github/radanim/TIL/blob/master/chapter_8.ipynb\" target=\"_parent\"><img src=\"https://colab.research.google.com/assets/colab-badge.svg\" alt=\"Open In Colab\"/></a>"
      ]
    },
    {
      "cell_type": "code",
      "source": [
        "#3회차 교육 8.2(화)"
      ],
      "metadata": {
        "id": "2G1_xO4E_lDk"
      },
      "execution_count": 1,
      "outputs": []
    },
    {
      "cell_type": "code",
      "execution_count": 2,
      "metadata": {
        "colab": {
          "base_uri": "https://localhost:8080/"
        },
        "id": "tzcm7R2y3U57",
        "outputId": "dc3856c5-f3e2-434c-b4aa-a400e56ce916"
      },
      "outputs": [
        {
          "output_type": "execute_result",
          "data": {
            "text/plain": [
              "str"
            ]
          },
          "metadata": {},
          "execution_count": 2
        }
      ],
      "source": [
        "type('apple')"
      ]
    },
    {
      "cell_type": "code",
      "source": [
        "tuple=('chicken','sushi','steak')\n",
        "tuple"
      ],
      "metadata": {
        "colab": {
          "base_uri": "https://localhost:8080/"
        },
        "id": "k5k-CXV943K9",
        "outputId": "80b73a85-c30e-4eb3-e23b-5266ab11a3a5"
      },
      "execution_count": 3,
      "outputs": [
        {
          "output_type": "execute_result",
          "data": {
            "text/plain": [
              "('chicken', 'sushi', 'steak')"
            ]
          },
          "metadata": {},
          "execution_count": 3
        }
      ]
    },
    {
      "cell_type": "code",
      "source": [
        "type(tuple)"
      ],
      "metadata": {
        "colab": {
          "base_uri": "https://localhost:8080/"
        },
        "id": "O-bqBdaY5Q-0",
        "outputId": "646062d4-9d8a-410f-dce8-126c4049ef8f"
      },
      "execution_count": 4,
      "outputs": [
        {
          "output_type": "execute_result",
          "data": {
            "text/plain": [
              "tuple"
            ]
          },
          "metadata": {},
          "execution_count": 4
        }
      ]
    },
    {
      "cell_type": "code",
      "source": [
        "type('chicken')"
      ],
      "metadata": {
        "colab": {
          "base_uri": "https://localhost:8080/"
        },
        "id": "f6wlWhy-5aO3",
        "outputId": "95b509d0-3a9b-49b0-85e9-d960ef48c744"
      },
      "execution_count": 5,
      "outputs": [
        {
          "output_type": "execute_result",
          "data": {
            "text/plain": [
              "str"
            ]
          },
          "metadata": {},
          "execution_count": 5
        }
      ]
    },
    {
      "cell_type": "code",
      "source": [
        "type(('chicken'))"
      ],
      "metadata": {
        "colab": {
          "base_uri": "https://localhost:8080/"
        },
        "id": "_9IsrghB5e1p",
        "outputId": "a3662ad4-5f68-4e53-b3b5-2094f9e51522"
      },
      "execution_count": 6,
      "outputs": [
        {
          "output_type": "execute_result",
          "data": {
            "text/plain": [
              "str"
            ]
          },
          "metadata": {},
          "execution_count": 6
        }
      ]
    },
    {
      "cell_type": "code",
      "source": [
        "a,b,c=tuple\n",
        "b"
      ],
      "metadata": {
        "colab": {
          "base_uri": "https://localhost:8080/",
          "height": 35
        },
        "id": "Oyp4QAVF5j2T",
        "outputId": "a139fdf6-2f0f-4c95-d4b9-b285da36ae37"
      },
      "execution_count": 7,
      "outputs": [
        {
          "output_type": "execute_result",
          "data": {
            "text/plain": [
              "'sushi'"
            ],
            "application/vnd.google.colaboratory.intrinsic+json": {
              "type": "string"
            }
          },
          "metadata": {},
          "execution_count": 7
        }
      ]
    },
    {
      "cell_type": "code",
      "source": [
        "a='apple'\n",
        "b='banana'\n",
        "a,b=b,a\n",
        "a"
      ],
      "metadata": {
        "colab": {
          "base_uri": "https://localhost:8080/",
          "height": 35
        },
        "id": "I2UA4Twg55C0",
        "outputId": "056f81d3-3854-4f27-f354-a3c530905a9c"
      },
      "execution_count": 8,
      "outputs": [
        {
          "output_type": "execute_result",
          "data": {
            "text/plain": [
              "'banana'"
            ],
            "application/vnd.google.colaboratory.intrinsic+json": {
              "type": "string"
            }
          },
          "metadata": {},
          "execution_count": 8
        }
      ]
    },
    {
      "cell_type": "code",
      "source": [
        "('apple',)*3\n"
      ],
      "metadata": {
        "colab": {
          "base_uri": "https://localhost:8080/"
        },
        "id": "qL-iuqHo64ap",
        "outputId": "fe84027a-8ed4-4ee2-dcf3-d6e94cf82c44"
      },
      "execution_count": 9,
      "outputs": [
        {
          "output_type": "execute_result",
          "data": {
            "text/plain": [
              "('apple', 'apple', 'apple')"
            ]
          },
          "metadata": {},
          "execution_count": 9
        }
      ]
    },
    {
      "cell_type": "code",
      "source": [
        "('apple',)+('banana','cherry')"
      ],
      "metadata": {
        "colab": {
          "base_uri": "https://localhost:8080/"
        },
        "id": "IhFh76Jc7grr",
        "outputId": "29869c90-2c1c-4d7a-e6be-8ad6c4855de2"
      },
      "execution_count": 10,
      "outputs": [
        {
          "output_type": "execute_result",
          "data": {
            "text/plain": [
              "('apple', 'banana', 'cherry')"
            ]
          },
          "metadata": {},
          "execution_count": 10
        }
      ]
    },
    {
      "cell_type": "code",
      "source": [
        "'apple'*3"
      ],
      "metadata": {
        "colab": {
          "base_uri": "https://localhost:8080/",
          "height": 35
        },
        "id": "MZ7NPKm17oL-",
        "outputId": "2480676b-e2b4-4bbd-ca2e-c418ef4f78ae"
      },
      "execution_count": 11,
      "outputs": [
        {
          "output_type": "execute_result",
          "data": {
            "text/plain": [
              "'appleappleapple'"
            ],
            "application/vnd.google.colaboratory.intrinsic+json": {
              "type": "string"
            }
          },
          "metadata": {},
          "execution_count": 11
        }
      ]
    },
    {
      "cell_type": "code",
      "source": [
        "a=(7,2)\n",
        "b=(7,2,1)\n",
        "a==b"
      ],
      "metadata": {
        "colab": {
          "base_uri": "https://localhost:8080/"
        },
        "id": "O1YoP1007uI4",
        "outputId": "521e1c44-020f-4f7b-af48-c26b65d79c66"
      },
      "execution_count": 12,
      "outputs": [
        {
          "output_type": "execute_result",
          "data": {
            "text/plain": [
              "False"
            ]
          },
          "metadata": {},
          "execution_count": 12
        }
      ]
    },
    {
      "cell_type": "code",
      "source": [
        "a<=b"
      ],
      "metadata": {
        "colab": {
          "base_uri": "https://localhost:8080/"
        },
        "id": "BzP7PPRg73Wu",
        "outputId": "8f9f583d-59af-4539-ecfb-25af01ada893"
      },
      "execution_count": 13,
      "outputs": [
        {
          "output_type": "execute_result",
          "data": {
            "text/plain": [
              "True"
            ]
          },
          "metadata": {},
          "execution_count": 13
        }
      ]
    },
    {
      "cell_type": "code",
      "source": [
        "'1'<'10'"
      ],
      "metadata": {
        "colab": {
          "base_uri": "https://localhost:8080/"
        },
        "id": "B3SeTAJV8S0y",
        "outputId": "9f236728-ff80-439d-f837-edb45dcd4f33"
      },
      "execution_count": 14,
      "outputs": [
        {
          "output_type": "execute_result",
          "data": {
            "text/plain": [
              "True"
            ]
          },
          "metadata": {},
          "execution_count": 14
        }
      ]
    },
    {
      "cell_type": "code",
      "source": [
        "'a'<'A'"
      ],
      "metadata": {
        "colab": {
          "base_uri": "https://localhost:8080/"
        },
        "id": "hk_bDQnr8gkM",
        "outputId": "a7bb5024-cda4-4071-9dc9-16ca327ebf44"
      },
      "execution_count": 15,
      "outputs": [
        {
          "output_type": "execute_result",
          "data": {
            "text/plain": [
              "False"
            ]
          },
          "metadata": {},
          "execution_count": 15
        }
      ]
    },
    {
      "cell_type": "code",
      "source": [
        "'a'<'z'"
      ],
      "metadata": {
        "colab": {
          "base_uri": "https://localhost:8080/"
        },
        "id": "_yKpxb_n8kBv",
        "outputId": "fd6a500b-0fe2-49f4-9d74-29b11c899ae4"
      },
      "execution_count": 16,
      "outputs": [
        {
          "output_type": "execute_result",
          "data": {
            "text/plain": [
              "True"
            ]
          },
          "metadata": {},
          "execution_count": 16
        }
      ]
    },
    {
      "cell_type": "code",
      "source": [
        "words=('you','are','so','cool')\n",
        "for word in words:\n",
        "  print(word)"
      ],
      "metadata": {
        "colab": {
          "base_uri": "https://localhost:8080/"
        },
        "id": "2IK9KMFN8lge",
        "outputId": "03ffee3b-a022-4524-d336-40b70165a015"
      },
      "execution_count": 17,
      "outputs": [
        {
          "output_type": "stream",
          "name": "stdout",
          "text": [
            "you\n",
            "are\n",
            "so\n",
            "cool\n"
          ]
        }
      ]
    },
    {
      "cell_type": "code",
      "source": [
        "t1=('apple','banana','cherry')\n",
        "t2=('dog',)\n",
        "t1+t2"
      ],
      "metadata": {
        "colab": {
          "base_uri": "https://localhost:8080/"
        },
        "id": "rV3OWCn782S1",
        "outputId": "1407542e-631f-4770-9822-cc4758f25858"
      },
      "execution_count": 18,
      "outputs": [
        {
          "output_type": "execute_result",
          "data": {
            "text/plain": [
              "('apple', 'banana', 'cherry', 'dog')"
            ]
          },
          "metadata": {},
          "execution_count": 18
        }
      ]
    },
    {
      "cell_type": "code",
      "source": [
        "t1"
      ],
      "metadata": {
        "colab": {
          "base_uri": "https://localhost:8080/"
        },
        "id": "5ZKDvlbZ9v1A",
        "outputId": "21c6e5f7-bf2f-4f96-989e-9aadc81a5326"
      },
      "execution_count": 19,
      "outputs": [
        {
          "output_type": "execute_result",
          "data": {
            "text/plain": [
              "('apple', 'banana', 'cherry')"
            ]
          },
          "metadata": {},
          "execution_count": 19
        }
      ]
    },
    {
      "cell_type": "code",
      "source": [
        "t2"
      ],
      "metadata": {
        "colab": {
          "base_uri": "https://localhost:8080/"
        },
        "id": "7UJ5AVSu9xyt",
        "outputId": "d18e1b2f-ee5a-4008-f9c7-6bfe35edc5e3"
      },
      "execution_count": 20,
      "outputs": [
        {
          "output_type": "execute_result",
          "data": {
            "text/plain": [
              "('dog',)"
            ]
          },
          "metadata": {},
          "execution_count": 20
        }
      ]
    },
    {
      "cell_type": "code",
      "source": [
        "t1+=t2 # t1=t1+t2"
      ],
      "metadata": {
        "id": "jdN3nDN591cU"
      },
      "execution_count": 21,
      "outputs": []
    },
    {
      "cell_type": "code",
      "source": [
        "2**3"
      ],
      "metadata": {
        "colab": {
          "base_uri": "https://localhost:8080/"
        },
        "id": "w5_OsVnO988M",
        "outputId": "2d88884e-db55-4349-c056-dd8028df034f"
      },
      "execution_count": 22,
      "outputs": [
        {
          "output_type": "execute_result",
          "data": {
            "text/plain": [
              "8"
            ]
          },
          "metadata": {},
          "execution_count": 22
        }
      ]
    },
    {
      "cell_type": "code",
      "source": [
        "id(t1) # 변수 저장소별 식별번호, 식별자"
      ],
      "metadata": {
        "colab": {
          "base_uri": "https://localhost:8080/"
        },
        "id": "cQpqcEYQ-PFe",
        "outputId": "962ce1a5-e3df-43b4-8b2d-0c69fdde7a58"
      },
      "execution_count": 23,
      "outputs": [
        {
          "output_type": "execute_result",
          "data": {
            "text/plain": [
              "140455147986384"
            ]
          },
          "metadata": {},
          "execution_count": 23
        }
      ]
    },
    {
      "cell_type": "code",
      "source": [
        "t1+=t2\n",
        "id(t1)"
      ],
      "metadata": {
        "colab": {
          "base_uri": "https://localhost:8080/"
        },
        "id": "NY9LbqGU-TZT",
        "outputId": "355a78af-662d-4303-b9e8-4e44be79dca8"
      },
      "execution_count": 24,
      "outputs": [
        {
          "output_type": "execute_result",
          "data": {
            "text/plain": [
              "140455147809008"
            ]
          },
          "metadata": {},
          "execution_count": 24
        }
      ]
    },
    {
      "cell_type": "code",
      "source": [
        "t1"
      ],
      "metadata": {
        "colab": {
          "base_uri": "https://localhost:8080/"
        },
        "id": "2M7sI-aQ-di7",
        "outputId": "3e599b19-721e-4747-e913-8f314740d3a2"
      },
      "execution_count": 25,
      "outputs": [
        {
          "output_type": "execute_result",
          "data": {
            "text/plain": [
              "('apple', 'banana', 'cherry', 'dog', 'dog')"
            ]
          },
          "metadata": {},
          "execution_count": 25
        }
      ]
    },
    {
      "cell_type": "code",
      "source": [
        "t2"
      ],
      "metadata": {
        "colab": {
          "base_uri": "https://localhost:8080/"
        },
        "id": "Bp7qy7xP-l_t",
        "outputId": "6d020d32-de2c-4ff4-d487-f03abd98eec2"
      },
      "execution_count": 26,
      "outputs": [
        {
          "output_type": "execute_result",
          "data": {
            "text/plain": [
              "('dog',)"
            ]
          },
          "metadata": {},
          "execution_count": 26
        }
      ]
    },
    {
      "cell_type": "code",
      "source": [
        "id(b)"
      ],
      "metadata": {
        "colab": {
          "base_uri": "https://localhost:8080/"
        },
        "id": "hpb-P4w0-pRP",
        "outputId": "b2c9c683-9236-4905-b16d-0822e2b32625"
      },
      "execution_count": 27,
      "outputs": [
        {
          "output_type": "execute_result",
          "data": {
            "text/plain": [
              "140455086659856"
            ]
          },
          "metadata": {},
          "execution_count": 27
        }
      ]
    },
    {
      "cell_type": "code",
      "source": [
        "a='apple'\n",
        "b=a\n",
        "id(a)\n"
      ],
      "metadata": {
        "colab": {
          "base_uri": "https://localhost:8080/"
        },
        "id": "dvO86wpV-siI",
        "outputId": "e7767da8-2e12-4ae7-a2a1-582f7b075631"
      },
      "execution_count": 28,
      "outputs": [
        {
          "output_type": "execute_result",
          "data": {
            "text/plain": [
              "140455163134896"
            ]
          },
          "metadata": {},
          "execution_count": 28
        }
      ]
    },
    {
      "cell_type": "code",
      "source": [
        "id(b)"
      ],
      "metadata": {
        "colab": {
          "base_uri": "https://localhost:8080/"
        },
        "id": "OBNS6S0h-2B3",
        "outputId": "8cfd1deb-db61-4435-ddd4-cb9b0a927f6e"
      },
      "execution_count": 29,
      "outputs": [
        {
          "output_type": "execute_result",
          "data": {
            "text/plain": [
              "140455163134896"
            ]
          },
          "metadata": {},
          "execution_count": 29
        }
      ]
    },
    {
      "cell_type": "code",
      "source": [
        "a=a+'b'\n",
        "id(a)"
      ],
      "metadata": {
        "colab": {
          "base_uri": "https://localhost:8080/"
        },
        "id": "ke4D2zSq-5Nz",
        "outputId": "5b471564-db35-4238-b28d-058b2339f979"
      },
      "execution_count": 30,
      "outputs": [
        {
          "output_type": "execute_result",
          "data": {
            "text/plain": [
              "140455086825648"
            ]
          },
          "metadata": {},
          "execution_count": 30
        }
      ]
    },
    {
      "cell_type": "code",
      "source": [
        "id(b)"
      ],
      "metadata": {
        "colab": {
          "base_uri": "https://localhost:8080/"
        },
        "id": "Gu7wDKqZ_F73",
        "outputId": "c2aaad4b-d242-49ee-9f22-9bd6e44edcc2"
      },
      "execution_count": 31,
      "outputs": [
        {
          "output_type": "execute_result",
          "data": {
            "text/plain": [
              "140455163134896"
            ]
          },
          "metadata": {},
          "execution_count": 31
        }
      ]
    },
    {
      "cell_type": "code",
      "source": [
        "a"
      ],
      "metadata": {
        "colab": {
          "base_uri": "https://localhost:8080/",
          "height": 35
        },
        "id": "-v3KlPbp_Ijx",
        "outputId": "7ca1e8ae-12f2-4d42-bb0e-f9b6b90fb43b"
      },
      "execution_count": 32,
      "outputs": [
        {
          "output_type": "execute_result",
          "data": {
            "text/plain": [
              "'appleb'"
            ],
            "application/vnd.google.colaboratory.intrinsic+json": {
              "type": "string"
            }
          },
          "metadata": {},
          "execution_count": 32
        }
      ]
    },
    {
      "cell_type": "code",
      "source": [
        "#리스트 순차적으로 파악\n",
        "#현재 위치에 새로운 요소 추가, 삭제, 갱신가능\n",
        "#리스트내 동일값 반복 저장 가능 "
      ],
      "metadata": {
        "id": "z2FuwvNj_Wan"
      },
      "execution_count": 33,
      "outputs": []
    },
    {
      "cell_type": "code",
      "source": [
        "#리스트 끝에 추가하는건 append\n",
        "#중간에 넣는것은 insert\n",
        "#지우는건 dl, remove\n"
      ],
      "metadata": {
        "id": "0oj8zcN7_fWj"
      },
      "execution_count": 34,
      "outputs": []
    },
    {
      "cell_type": "code",
      "source": [
        "a=[1,2,3,1,1,2]\n",
        "a"
      ],
      "metadata": {
        "colab": {
          "base_uri": "https://localhost:8080/"
        },
        "id": "lYsGwc8l_5K6",
        "outputId": "fa2d6073-b426-4940-d383-6e82f7051d8b"
      },
      "execution_count": 35,
      "outputs": [
        {
          "output_type": "execute_result",
          "data": {
            "text/plain": [
              "[1, 2, 3, 1, 1, 2]"
            ]
          },
          "metadata": {},
          "execution_count": 35
        }
      ]
    },
    {
      "cell_type": "code",
      "source": [
        "a[5]"
      ],
      "metadata": {
        "colab": {
          "base_uri": "https://localhost:8080/"
        },
        "id": "1VeUx5CA_80m",
        "outputId": "4ee68225-b6fe-47a7-d630-54b45573605b"
      },
      "execution_count": 36,
      "outputs": [
        {
          "output_type": "execute_result",
          "data": {
            "text/plain": [
              "2"
            ]
          },
          "metadata": {},
          "execution_count": 36
        }
      ]
    },
    {
      "cell_type": "code",
      "source": [
        "a[-1]"
      ],
      "metadata": {
        "colab": {
          "base_uri": "https://localhost:8080/"
        },
        "id": "9eCqutLC__rX",
        "outputId": "20189fbf-b416-447a-9873-408a8da2be8d"
      },
      "execution_count": 37,
      "outputs": [
        {
          "output_type": "execute_result",
          "data": {
            "text/plain": [
              "2"
            ]
          },
          "metadata": {},
          "execution_count": 37
        }
      ]
    },
    {
      "cell_type": "code",
      "source": [
        "# 리스트 빈것도 가능, 한개 이상 요소 구성 가능 "
      ],
      "metadata": {
        "id": "uWHC4qAfADPg"
      },
      "execution_count": 38,
      "outputs": []
    },
    {
      "cell_type": "code",
      "source": [
        "li=[]\n",
        "for li in range(1,4):\n",
        "  print(li)"
      ],
      "metadata": {
        "colab": {
          "base_uri": "https://localhost:8080/"
        },
        "id": "RUB42KGnAIIx",
        "outputId": "8136a792-8f7b-454f-aa0e-f7221f8042a2"
      },
      "execution_count": 39,
      "outputs": [
        {
          "output_type": "stream",
          "name": "stdout",
          "text": [
            "1\n",
            "2\n",
            "3\n"
          ]
        }
      ]
    },
    {
      "cell_type": "code",
      "source": [
        "li=[]\n",
        "for i in range(1,4):\n",
        "  li.append(i)\n",
        "  print(li)"
      ],
      "metadata": {
        "colab": {
          "base_uri": "https://localhost:8080/"
        },
        "id": "5MfUf4A7BF8B",
        "outputId": "d73b7ca9-d65c-4bce-9a57-6eec3d70f094"
      },
      "execution_count": 40,
      "outputs": [
        {
          "output_type": "stream",
          "name": "stdout",
          "text": [
            "[1]\n",
            "[1, 2]\n",
            "[1, 2, 3]\n"
          ]
        }
      ]
    },
    {
      "cell_type": "code",
      "source": [
        "sum=0\n",
        "for i in range(1,11):\n",
        "  if i !=10:\n",
        "    print(i,end = \" + \")\n",
        "  else:\n",
        "    print(i,end = \" = \")\n",
        "  sum += i\n",
        "print(sum)"
      ],
      "metadata": {
        "colab": {
          "base_uri": "https://localhost:8080/"
        },
        "id": "vds4qh9OE_rN",
        "outputId": "29e5d0ba-8ea0-4acb-a41e-5514aa55647f"
      },
      "execution_count": 41,
      "outputs": [
        {
          "output_type": "stream",
          "name": "stdout",
          "text": [
            "1 + 2 + 3 + 4 + 5 + 6 + 7 + 8 + 9 + 10 = 55\n"
          ]
        }
      ]
    },
    {
      "cell_type": "code",
      "source": [
        "sum=0\n",
        "for i in range(1,10,2):\n",
        "  if i !=9:\n",
        "    print(i,end = \" + \")\n",
        "  else:\n",
        "    print(i,end = \" = \")\n",
        "  sum += i\n",
        "print(sum)"
      ],
      "metadata": {
        "colab": {
          "base_uri": "https://localhost:8080/"
        },
        "id": "KNrJLZoVFL0q",
        "outputId": "4933d63e-de8a-47c2-a784-4cbad302d204"
      },
      "execution_count": 42,
      "outputs": [
        {
          "output_type": "stream",
          "name": "stdout",
          "text": [
            "1 + 3 + 5 + 7 + 9 = 25\n"
          ]
        }
      ]
    },
    {
      "cell_type": "code",
      "source": [
        "sum=0\n",
        "for i in range(2,10,2):\n",
        "  if i !=8:\n",
        "    print(i,end = \" + \")\n",
        "  else:\n",
        "    print(i,end = \" = \")\n",
        "  sum += i\n",
        "print(sum)"
      ],
      "metadata": {
        "colab": {
          "base_uri": "https://localhost:8080/"
        },
        "id": "H3MGdXFmFRTJ",
        "outputId": "8d8e9fc3-b2ee-4b55-b422-dd0d5318bfb6"
      },
      "execution_count": 43,
      "outputs": [
        {
          "output_type": "stream",
          "name": "stdout",
          "text": [
            "2 + 4 + 6 + 8 = 20\n"
          ]
        }
      ]
    },
    {
      "cell_type": "code",
      "source": [
        "sum=0\n",
        "for i in range(10,0,-1):\n",
        "  if i !=1:\n",
        "    print(i,end = \" + \")\n",
        "  else:\n",
        "    print(i,end = \" = \")\n",
        "  sum += i\n",
        "print(sum)"
      ],
      "metadata": {
        "colab": {
          "base_uri": "https://localhost:8080/"
        },
        "id": "aEMw0v3bFWTd",
        "outputId": "bcb53752-d1b0-45e7-9ec9-fba7e8a0081b"
      },
      "execution_count": 44,
      "outputs": [
        {
          "output_type": "stream",
          "name": "stdout",
          "text": [
            "10 + 9 + 8 + 7 + 6 + 5 + 4 + 3 + 2 + 1 = 55\n"
          ]
        }
      ]
    },
    {
      "cell_type": "code",
      "source": [
        "sum=0\n",
        "for i in range(10,0,-2):\n",
        "  if i !=2:\n",
        "    print(i,end = \" + \")\n",
        "  else:\n",
        "    print(i,end = \" = \")\n",
        "  sum += i\n",
        "print(sum)"
      ],
      "metadata": {
        "colab": {
          "base_uri": "https://localhost:8080/"
        },
        "id": "fmPX9Z8VFaWT",
        "outputId": "80dfc44e-df38-4472-dbfa-3a3653afe23d"
      },
      "execution_count": 45,
      "outputs": [
        {
          "output_type": "stream",
          "name": "stdout",
          "text": [
            "10 + 8 + 6 + 4 + 2 = 30\n"
          ]
        }
      ]
    },
    {
      "cell_type": "code",
      "source": [
        "li = list('cat')\n",
        "for i in range(len(li)):\n",
        "  print(li[i])"
      ],
      "metadata": {
        "colab": {
          "base_uri": "https://localhost:8080/"
        },
        "id": "slTXkddDFeN0",
        "outputId": "d07979e8-bd69-4880-c3fa-968cb2f225f6"
      },
      "execution_count": 46,
      "outputs": [
        {
          "output_type": "stream",
          "name": "stdout",
          "text": [
            "c\n",
            "a\n",
            "t\n"
          ]
        }
      ]
    },
    {
      "cell_type": "code",
      "source": [
        "li = list('cat') # 2 1 0  range(len(li)-1,-1,-1) \n",
        "for i in range(len(li)-1,-1,-1):\n",
        "  print(li[i])"
      ],
      "metadata": {
        "colab": {
          "base_uri": "https://localhost:8080/"
        },
        "id": "jwNVPG-0O6tM",
        "outputId": "46c49753-9736-4722-a998-648376c64c09"
      },
      "execution_count": 47,
      "outputs": [
        {
          "output_type": "stream",
          "name": "stdout",
          "text": [
            "t\n",
            "a\n",
            "c\n"
          ]
        }
      ]
    },
    {
      "cell_type": "code",
      "source": [
        "the_day='12/18/2001'\n",
        "the_day.split('/')"
      ],
      "metadata": {
        "colab": {
          "base_uri": "https://localhost:8080/"
        },
        "id": "qavXT9QYPN_1",
        "outputId": "2bd70d3e-91b0-4f18-a518-8e810d323acf"
      },
      "execution_count": 48,
      "outputs": [
        {
          "output_type": "execute_result",
          "data": {
            "text/plain": [
              "['12', '18', '2001']"
            ]
          },
          "metadata": {},
          "execution_count": 48
        }
      ]
    },
    {
      "cell_type": "code",
      "source": [
        "test='a/b//c/d///e'\n",
        "test.split('/')"
      ],
      "metadata": {
        "colab": {
          "base_uri": "https://localhost:8080/"
        },
        "id": "of09qBNpPmG1",
        "outputId": "ef44a5c1-202f-49c9-e37e-c82c325753dc"
      },
      "execution_count": 49,
      "outputs": [
        {
          "output_type": "execute_result",
          "data": {
            "text/plain": [
              "['a', 'b', '', 'c', 'd', '', '', 'e']"
            ]
          },
          "metadata": {},
          "execution_count": 49
        }
      ]
    },
    {
      "cell_type": "code",
      "source": [
        "#offset 떨어진 정도 변위"
      ],
      "metadata": {
        "id": "6xQAVY2lQFWf"
      },
      "execution_count": 50,
      "outputs": []
    },
    {
      "cell_type": "code",
      "source": [
        "fruit=['apple','banana','cherry']\n",
        "fruit[0:2]"
      ],
      "metadata": {
        "colab": {
          "base_uri": "https://localhost:8080/"
        },
        "id": "Uf-OIWuMQH9x",
        "outputId": "46eba0b1-092f-47c3-9149-c8092bc471e1"
      },
      "execution_count": 51,
      "outputs": [
        {
          "output_type": "execute_result",
          "data": {
            "text/plain": [
              "['apple', 'banana']"
            ]
          },
          "metadata": {},
          "execution_count": 51
        }
      ]
    },
    {
      "cell_type": "code",
      "source": [
        "fruit[:]"
      ],
      "metadata": {
        "colab": {
          "base_uri": "https://localhost:8080/"
        },
        "id": "1lZYaAb1QfbV",
        "outputId": "540f2093-e2ae-44d0-df53-cc8a6f3a6256"
      },
      "execution_count": 52,
      "outputs": [
        {
          "output_type": "execute_result",
          "data": {
            "text/plain": [
              "['apple', 'banana', 'cherry']"
            ]
          },
          "metadata": {},
          "execution_count": 52
        }
      ]
    },
    {
      "cell_type": "code",
      "source": [
        "fruit[::2] # 시작위치:끝위치:두칸마다 선택"
      ],
      "metadata": {
        "colab": {
          "base_uri": "https://localhost:8080/"
        },
        "id": "ZdE7hCR2Q0AP",
        "outputId": "29ed8554-08d0-4f1c-e641-416ce7905ce5"
      },
      "execution_count": 53,
      "outputs": [
        {
          "output_type": "execute_result",
          "data": {
            "text/plain": [
              "['apple', 'cherry']"
            ]
          },
          "metadata": {},
          "execution_count": 53
        }
      ]
    },
    {
      "cell_type": "code",
      "source": [
        "#리스트 정렬하기\n",
        "fruits=['banana','apple','cherry']\n",
        "fruit.sort() #결과 반환하지 않음.\n",
        "fruit"
      ],
      "metadata": {
        "colab": {
          "base_uri": "https://localhost:8080/"
        },
        "id": "vwO1fhKDQ8dP",
        "outputId": "ae42fb88-5cd3-400d-88e6-132ac5e33cd4"
      },
      "execution_count": 54,
      "outputs": [
        {
          "output_type": "execute_result",
          "data": {
            "text/plain": [
              "['apple', 'banana', 'cherry']"
            ]
          },
          "metadata": {},
          "execution_count": 54
        }
      ]
    },
    {
      "cell_type": "code",
      "source": [
        "#리스트 반대로 뒤집기\n",
        "fruits=['apple','banana','cherry']\n",
        "fruits.reverse() #결과를 반환하지 않는다.\n",
        "fruits"
      ],
      "metadata": {
        "colab": {
          "base_uri": "https://localhost:8080/"
        },
        "id": "lT9lX3QnQ_mr",
        "outputId": "86cd6703-e6a4-477e-e793-27c1ddb31c12"
      },
      "execution_count": 55,
      "outputs": [
        {
          "output_type": "execute_result",
          "data": {
            "text/plain": [
              "['cherry', 'banana', 'apple']"
            ]
          },
          "metadata": {},
          "execution_count": 55
        }
      ]
    },
    {
      "cell_type": "code",
      "source": [
        "fruits=['apple','banana','cherry']\n",
        "fruits.insert(2,'mango') #삽입위치, 항목 \n",
        "print(fruits)"
      ],
      "metadata": {
        "colab": {
          "base_uri": "https://localhost:8080/"
        },
        "id": "PYURQH_iRWQo",
        "outputId": "4dee56c9-8e15-485d-bde3-55d6a1ac46b9"
      },
      "execution_count": 56,
      "outputs": [
        {
          "output_type": "stream",
          "name": "stdout",
          "text": [
            "['apple', 'banana', 'mango', 'cherry']\n"
          ]
        }
      ]
    },
    {
      "cell_type": "code",
      "source": [
        "fruit=['apple','banana','cherry']\n",
        "fruits.insert(-3,'kiwi') # 삽입위치: 끝을 넘는 offset은\n",
        "fruits"
      ],
      "metadata": {
        "colab": {
          "base_uri": "https://localhost:8080/"
        },
        "id": "ApI1yLMUR3o3",
        "outputId": "b91ef1f1-36c9-4b0b-b902-49ea96c2ff88"
      },
      "execution_count": 57,
      "outputs": [
        {
          "output_type": "execute_result",
          "data": {
            "text/plain": [
              "['apple', 'kiwi', 'banana', 'mango', 'cherry']"
            ]
          },
          "metadata": {},
          "execution_count": 57
        }
      ]
    },
    {
      "cell_type": "code",
      "source": [
        "['apple']+['banana'] #extend 함수로 리스트 병합 가능 "
      ],
      "metadata": {
        "colab": {
          "base_uri": "https://localhost:8080/"
        },
        "id": "odUwHj-4VnfM",
        "outputId": "de071f47-f1de-48a7-8e71-553ecaa4b317"
      },
      "execution_count": 58,
      "outputs": [
        {
          "output_type": "execute_result",
          "data": {
            "text/plain": [
              "['apple', 'banana']"
            ]
          },
          "metadata": {},
          "execution_count": 58
        }
      ]
    },
    {
      "cell_type": "code",
      "source": [
        "fruits1 = ['apple','banana','cherry']\n",
        "fruits2 = ['tomato','mango','peach']\n",
        "fruits1.append(fruits2)\n",
        "fruits1\n",
        "fruits1.extend(fruits2)\n",
        "fruits1"
      ],
      "metadata": {
        "colab": {
          "base_uri": "https://localhost:8080/"
        },
        "id": "k-iJJpdfV2JI",
        "outputId": "77f66cf3-b89e-4a0e-caa7-2b1ce0af39dc"
      },
      "execution_count": 59,
      "outputs": [
        {
          "output_type": "execute_result",
          "data": {
            "text/plain": [
              "['apple',\n",
              " 'banana',\n",
              " 'cherry',\n",
              " ['tomato', 'mango', 'peach'],\n",
              " 'tomato',\n",
              " 'mango',\n",
              " 'peach']"
            ]
          },
          "metadata": {},
          "execution_count": 59
        }
      ]
    },
    {
      "cell_type": "code",
      "source": [
        "fruit['apple','banana','cherry']\n",
        "fruits[0]='grape'"
      ],
      "metadata": {
        "id": "aw1AV-ziWerq",
        "colab": {
          "base_uri": "https://localhost:8080/",
          "height": 189
        },
        "outputId": "227597ee-237a-41d0-c096-66964b47678e"
      },
      "execution_count": 60,
      "outputs": [
        {
          "output_type": "error",
          "ename": "TypeError",
          "evalue": "ignored",
          "traceback": [
            "\u001b[0;31m---------------------------------------------------------------------------\u001b[0m",
            "\u001b[0;31mTypeError\u001b[0m                                 Traceback (most recent call last)",
            "\u001b[0;32m<ipython-input-60-fdf88198bf7d>\u001b[0m in \u001b[0;36m<module>\u001b[0;34m()\u001b[0m\n\u001b[0;32m----> 1\u001b[0;31m \u001b[0mfruit\u001b[0m\u001b[0;34m[\u001b[0m\u001b[0;34m'apple'\u001b[0m\u001b[0;34m,\u001b[0m\u001b[0;34m'banana'\u001b[0m\u001b[0;34m,\u001b[0m\u001b[0;34m'cherry'\u001b[0m\u001b[0;34m]\u001b[0m\u001b[0;34m\u001b[0m\u001b[0;34m\u001b[0m\u001b[0m\n\u001b[0m\u001b[1;32m      2\u001b[0m \u001b[0mfruits\u001b[0m\u001b[0;34m[\u001b[0m\u001b[0;36m0\u001b[0m\u001b[0;34m]\u001b[0m\u001b[0;34m=\u001b[0m\u001b[0;34m'grape'\u001b[0m\u001b[0;34m\u001b[0m\u001b[0;34m\u001b[0m\u001b[0m\n",
            "\u001b[0;31mTypeError\u001b[0m: list indices must be integers or slices, not tuple"
          ]
        }
      ]
    },
    {
      "cell_type": "code",
      "source": [
        "numbers=[1,2,3,4]\n",
        "numbers[2:4]=[1,2]\n",
        "numbers"
      ],
      "metadata": {
        "id": "irAX-HESW8H2"
      },
      "execution_count": null,
      "outputs": []
    },
    {
      "cell_type": "code",
      "source": [
        "numbers=[1,2,3,4]\n",
        "numbers[1:3]='what?'\n",
        "numbers\n"
      ],
      "metadata": {
        "id": "ewxw17kTXEAf"
      },
      "execution_count": null,
      "outputs": []
    },
    {
      "cell_type": "code",
      "source": [
        "numbers=[1,2,3,4]\n",
        "del numbers[1] #리스트 삭제, del 명령어 \n",
        "numbers"
      ],
      "metadata": {
        "id": "ZPlWI2K1Xp0n"
      },
      "execution_count": null,
      "outputs": []
    },
    {
      "cell_type": "code",
      "source": [
        "#del과 remove 차이, del은 위치로 삭제, remove는 값을 삭제"
      ],
      "metadata": {
        "id": "8BzJSj48X7V-"
      },
      "execution_count": null,
      "outputs": []
    },
    {
      "cell_type": "code",
      "source": [
        "numbers=[1,2,3,4,2]\n",
        "numbers.remove(2) #2라는 값을 찾아서 삭제, 여러개 있으면 맨 앞 하나만 \n",
        "numbers"
      ],
      "metadata": {
        "id": "GHQtKwrCYG5W"
      },
      "execution_count": null,
      "outputs": []
    },
    {
      "cell_type": "code",
      "source": [
        "numbers=[1,2,3,4,2,2] #길이가 6\n",
        "for i in numbers [:]:\n",
        "  if i ==2:\n",
        "    numbers.remove(i)\n",
        "\n",
        "print(numbers)\n"
      ],
      "metadata": {
        "id": "eEirSesWYgfc"
      },
      "execution_count": null,
      "outputs": []
    },
    {
      "cell_type": "code",
      "source": [
        "numbers=[1,2,3,4]\n",
        "for i in range(len(numbers)):\n",
        "  numbers.pop() #pop(-1)와 동일\n",
        "  print(numbers)\n",
        "# pop은 스택구조 가장 마지막 값이 먼저 나감 \n",
        "# last in first out 스택(stack) 구조 \n",
        "# first in first out 큐(queue) 구조 "
      ],
      "metadata": {
        "id": "dPkA7-fedBbi"
      },
      "execution_count": null,
      "outputs": []
    },
    {
      "cell_type": "code",
      "source": [
        "numbers=[1,2,3,4,2,2,2,3,3]\n",
        "num=int(input())\n",
        "i=0\n",
        "while i < len(numbers): \n",
        "  if (numbers[i] == num):\n",
        "   del numbers[i]\n",
        "  else:\n",
        "   i+=1\n",
        "\n",
        "numbers"
      ],
      "metadata": {
        "id": "1mCHEuygr5es"
      },
      "execution_count": null,
      "outputs": []
    },
    {
      "cell_type": "code",
      "source": [
        "a=[1,2,3,4,2,23,2,3,2,3,23,3]\n",
        "b=input()\n",
        "c=int(b)\n",
        "for i in range(len(a)):\n",
        "  a.remove(c)\n",
        "  if a[-1]!=c:\n",
        "    break\n",
        "print(a)"
      ],
      "metadata": {
        "id": "9Yn4e4g5vDeX"
      },
      "execution_count": null,
      "outputs": []
    },
    {
      "cell_type": "code",
      "source": [
        "numbers=[1,2,3,4,2]\n",
        "no=input(\"수:\")\n",
        "no=int(no)\n",
        "numbers2=[]\n",
        "for "
      ],
      "metadata": {
        "id": "N1n9DaXHv0Xe"
      },
      "execution_count": null,
      "outputs": []
    },
    {
      "cell_type": "code",
      "source": [
        "numbers=[1,2,3,4]\n",
        "numbers.clear()\n",
        "numbers"
      ],
      "metadata": {
        "id": "_HC79145wC0T"
      },
      "execution_count": null,
      "outputs": []
    },
    {
      "cell_type": "code",
      "source": [
        "numbers=[1,2,3,4]\n",
        "numbers.index(1) # 1이라는 값이 첫번째 위치해 있다."
      ],
      "metadata": {
        "id": "aRN9bjthwabj"
      },
      "execution_count": null,
      "outputs": []
    },
    {
      "cell_type": "code",
      "source": [
        "# index() 메서드는 같은 값이 두개 이상이면 첫번째 위치 반환\n",
        "numbers=[1,2,3,4,2,2]\n",
        "numbers.index(2)"
      ],
      "metadata": {
        "id": "yHKIkonywhp2"
      },
      "execution_count": null,
      "outputs": []
    },
    {
      "cell_type": "code",
      "source": [
        "numbers=[1,2,3,4]\n",
        "1 in numbers"
      ],
      "metadata": {
        "id": "7mEBPgQWw4_O"
      },
      "execution_count": null,
      "outputs": []
    },
    {
      "cell_type": "code",
      "source": [
        "numbers=[1,2,3,4,2,2]\n",
        "numbers.count(2)"
      ],
      "metadata": {
        "id": "RWSnqKTExGE_"
      },
      "execution_count": null,
      "outputs": []
    },
    {
      "cell_type": "code",
      "source": [
        "#값을 입력받아 그 값이 list에 몇개가 들어 있는지?\n",
        "#그리고 몇번 위치에 있는지를 리스트로 만드시오. \n",
        "\n",
        "numbers=[1,2,3,4,2,2]\n",
        "numbers.count(int(input()))"
      ],
      "metadata": {
        "id": "3v7CAV0YxN0N"
      },
      "execution_count": null,
      "outputs": []
    },
    {
      "cell_type": "code",
      "source": [
        "numbers=[1,2,3,4,2,2]\n",
        "numbers.index(int(input()))"
      ],
      "metadata": {
        "id": "xvXFdR9My2Yb"
      },
      "execution_count": null,
      "outputs": []
    },
    {
      "cell_type": "code",
      "source": [
        "numbers=[1,2,3,4,2,2]\n",
        "no=input(\"수:\")\n",
        "no=int(no)\n",
        "print(numbers.count(2))\n",
        "for i in range(len(numbers)):\n",
        "  if no == numbers[i]:\n",
        "    print(i,end=' ')\n"
      ],
      "metadata": {
        "id": "hSKVNfBsxVwW"
      },
      "execution_count": null,
      "outputs": []
    },
    {
      "cell_type": "code",
      "source": [
        "numbers=[1,2,3,4]\n",
        "'_'.join(numbers)\n",
        "# numbers 안에 있는 문자열들을 _로 연결\n",
        "# 문자열 대상! 정수불가!!\n"
      ],
      "metadata": {
        "id": "0kOO-gEh0dUK"
      },
      "execution_count": null,
      "outputs": []
    },
    {
      "cell_type": "code",
      "source": [
        "numbers=['1','2','3','4']\n",
        "joined='_'.join(numbers)\n",
        "joined"
      ],
      "metadata": {
        "id": "TGjUGYKd0na8"
      },
      "execution_count": null,
      "outputs": []
    },
    {
      "cell_type": "code",
      "source": [
        "sep=joined.split('_')\n",
        "sep"
      ],
      "metadata": {
        "id": "mTIugzmP0uUE"
      },
      "execution_count": null,
      "outputs": []
    },
    {
      "cell_type": "code",
      "source": [
        "# sort() 메소드: 리스트 내부적으로 정렬\n",
        "# sorted() 함수:리스트의 정렬된 복사본 반환, 원본은 불변"
      ],
      "metadata": {
        "id": "dSMBqsbx1Ptb"
      },
      "execution_count": null,
      "outputs": []
    },
    {
      "cell_type": "code",
      "source": [
        "fruits=['kiwi','apple','banana','mango','cherry']\n",
        "sorted(fruits) # 정렬된것만 보여주고 바뀌지는 않음.\n",
        "fruits"
      ],
      "metadata": {
        "id": "21Yuvw6b1XQI"
      },
      "execution_count": null,
      "outputs": []
    },
    {
      "cell_type": "code",
      "source": [
        "fruits=['kiwi','apple','banana','mango','cherry']\n",
        "fruits.sort()\n",
        "fruits"
      ],
      "metadata": {
        "id": "WBfe3j0z1omi"
      },
      "execution_count": null,
      "outputs": []
    },
    {
      "cell_type": "code",
      "source": [
        "a=[1,2,3]\n",
        "b=a #같은곳\n",
        "c=a.copy() #복사본\n",
        "d=list(a) #qhrtkqhs\n",
        "e=a[:]"
      ],
      "metadata": {
        "id": "X5lmWdeP2LNR"
      },
      "execution_count": null,
      "outputs": []
    },
    {
      "cell_type": "code",
      "source": [
        "a[0]='Life is good'\n",
        "a"
      ],
      "metadata": {
        "id": "iKWj1P7G2RgC"
      },
      "execution_count": null,
      "outputs": []
    },
    {
      "cell_type": "code",
      "source": [
        "import copy\n",
        "a=[1,2,[8,9],4]\n",
        "\n",
        "a[2][1]=10\n",
        "b=a # 같은 곳\n",
        "c=a.copy(),deepcopy()\n",
        "d=list(a)\n",
        "e=a[:]"
      ],
      "metadata": {
        "id": "ZgRuezf52oiH"
      },
      "execution_count": null,
      "outputs": []
    },
    {
      "cell_type": "code",
      "source": [
        "import copy\n",
        "a"
      ],
      "metadata": {
        "id": "oO3MZ33d3Eh0"
      },
      "execution_count": null,
      "outputs": []
    },
    {
      "cell_type": "code",
      "source": [
        "import copy\n",
        "b"
      ],
      "metadata": {
        "id": "hXJytgjz3Lwh"
      },
      "execution_count": null,
      "outputs": []
    },
    {
      "cell_type": "code",
      "source": [
        "import copy\n",
        "c"
      ],
      "metadata": {
        "id": "Akv9lJFM3Mon"
      },
      "execution_count": null,
      "outputs": []
    },
    {
      "cell_type": "code",
      "source": [
        "d=list(a)\n",
        "d"
      ],
      "metadata": {
        "id": "4bm0nbmF3OK3"
      },
      "execution_count": null,
      "outputs": []
    },
    {
      "cell_type": "code",
      "source": [
        "e=a[:]\n",
        "e"
      ],
      "metadata": {
        "id": "i_HXVmbl3QMD"
      },
      "execution_count": null,
      "outputs": []
    },
    {
      "cell_type": "code",
      "source": [
        "fruits=['chicken','sushi','steak']\n",
        "food=input()\n",
        "fruits.append(food)\n",
        "for f in fruits:\n",
        "  print(f)"
      ],
      "metadata": {
        "id": "lCTQVqrM3u5E"
      },
      "execution_count": null,
      "outputs": []
    },
    {
      "cell_type": "code",
      "source": [
        "f_list= [ ]\n",
        "no=input(\"음식의 수: \")\n",
        "no=int(no)\n",
        "\n",
        "for i in range(no):\n",
        "  f=input(\"좋아하는 음식: \")\n",
        "  f_list.append(f)\n",
        "print(\"당신이 좋아하는 음식은\",f_list,\"이군여.\")"
      ],
      "metadata": {
        "id": "DAUlIUbb47Pn"
      },
      "execution_count": null,
      "outputs": []
    },
    {
      "cell_type": "code",
      "source": [
        "for i in range(10):\n",
        "  for j in range(10):\n",
        "    print(i*j=ij)"
      ],
      "metadata": {
        "id": "LDJ2Qc7U4dOW"
      },
      "execution_count": null,
      "outputs": []
    },
    {
      "cell_type": "code",
      "source": [
        "f='apple'\n",
        "f.startswith('b')"
      ],
      "metadata": {
        "id": "Cy4h-YuW8PVG"
      },
      "execution_count": null,
      "outputs": []
    },
    {
      "cell_type": "code",
      "source": [
        "fruits=['apple','cherry','banana']\n",
        "for f in fruits:\n",
        "  if f.startwith('c'):\n",
        "    print(\"I will give you this one that starts with a 'c'\")\n",
        "    break\n",
        "  else:\n",
        "    print(f)"
      ],
      "metadata": {
        "id": "eEIHKsVu8dBV"
      },
      "execution_count": null,
      "outputs": []
    },
    {
      "cell_type": "code",
      "source": [
        "#여러 시퀀스 순회하기: zip()"
      ],
      "metadata": {
        "id": "_5TOH6pO9XaJ"
      },
      "execution_count": null,
      "outputs": []
    },
    {
      "cell_type": "code",
      "source": [
        "numbers=[2,3,4,5]\n",
        "fruits=['apples','bananas','cherries']\n",
        "days=['Monday','Tuesday','Wednesday']\n",
        "\n",
        "for number, fruit, day in zip(numbers, fruits, days):\n",
        "  print('I eat',number,fruit, 'on',day+',')\n",
        "  "
      ],
      "metadata": {
        "id": "q1gMDVLc92u0"
      },
      "execution_count": null,
      "outputs": []
    },
    {
      "cell_type": "code",
      "source": [
        "numbers=[2,3,4]\n",
        "fruits=['apples','bananas','cherries']\n",
        "f_list=list(zip(numbers,fruits))\n",
        "f_list"
      ],
      "metadata": {
        "id": "EEu52iVA-vEv"
      },
      "execution_count": null,
      "outputs": []
    },
    {
      "cell_type": "code",
      "source": [
        "f_dict=dict(zip(numbers,fruits))\n",
        "f_dict"
      ],
      "metadata": {
        "id": "2-1-5KCp_wjd"
      },
      "execution_count": null,
      "outputs": []
    },
    {
      "cell_type": "code",
      "source": [
        "f_tuple=tuple(zip(numbers,fruits))\n",
        "f_tuple"
      ],
      "metadata": {
        "id": "QaTV_zQU_vOo"
      },
      "execution_count": null,
      "outputs": []
    },
    {
      "cell_type": "code",
      "source": [
        "a_list=[]\n",
        "for i in range(5):\n",
        "  a_list.append(i+1)\n",
        "a_list"
      ],
      "metadata": {
        "id": "OOyd-ECkADn1"
      },
      "execution_count": null,
      "outputs": []
    },
    {
      "cell_type": "code",
      "source": [
        "a_list=list(range(1,6))\n",
        "a_list"
      ],
      "metadata": {
        "id": "3bygC0IWAZFt"
      },
      "execution_count": null,
      "outputs": []
    },
    {
      "cell_type": "code",
      "source": [
        "# 리스트 컴프리헨션: 리스트안에 for문, if문 전부 활용 가능\n",
        "a_list=[i**2 for i in range(1,6)]\n",
        "a_list"
      ],
      "metadata": {
        "id": "ivXSErL3AkAY"
      },
      "execution_count": null,
      "outputs": []
    },
    {
      "cell_type": "code",
      "source": [
        "a_list=[i for i in range(1,7) if i%2==0]\n",
        "a_list"
      ],
      "metadata": {
        "id": "jL9Bnn42A4tC"
      },
      "execution_count": null,
      "outputs": []
    },
    {
      "cell_type": "code",
      "source": [
        "a_list=[i for i in range(1,10) if i%2==1]\n",
        "a_list"
      ],
      "metadata": {
        "id": "bbKFbzTEBBJw"
      },
      "execution_count": null,
      "outputs": []
    },
    {
      "cell_type": "code",
      "source": [
        "a_list=[i-1 for i in range(1,6)] # [ ] > for 역할\n",
        "a_list"
      ],
      "metadata": {
        "id": "llYO30jTBWWC"
      },
      "execution_count": null,
      "outputs": []
    },
    {
      "cell_type": "code",
      "source": [
        "# 숫자, 문자 + 연산 불가 / ,로 구별하여 표시 \n",
        "for i in range(1,4):\n",
        "  for j in range(1,3):\n",
        "    print(i,\"행\",j,\"열\", end=' ')\n",
        "    #열이 바뀌는 자리\n",
        "  #행이 바뀌는 자리 \n",
        "  print()"
      ],
      "metadata": {
        "id": "Vj5VRxP3BjrS"
      },
      "execution_count": null,
      "outputs": []
    },
    {
      "cell_type": "code",
      "source": [
        "rows=range(1,4)\n",
        "columns=range(1,3)\n",
        "a_list=[(r,c) for r in rows for c in columns]\n",
        "a_list"
      ],
      "metadata": {
        "id": "-HyXApKrCUyL"
      },
      "execution_count": null,
      "outputs": []
    },
    {
      "cell_type": "code",
      "source": [
        "a=[1,2,3]\n",
        "b=['korea','europe','USA']\n",
        "c=[a,b]\n",
        "c"
      ],
      "metadata": {
        "id": "8vnTJRAaD5w9"
      },
      "execution_count": null,
      "outputs": []
    },
    {
      "cell_type": "code",
      "source": [
        "c[1][1]"
      ],
      "metadata": {
        "id": "yyH9lkVoEQOV"
      },
      "execution_count": null,
      "outputs": []
    },
    {
      "cell_type": "code",
      "source": [
        "# 튜플 변동이 없어 함수가 없음.\n",
        "# 공간을 작게 쓰고, 실수를 줄여줌. 자료를 고정해야할 경우\n",
        "# 리스트 컴프리헨션은 있으나 튜플은 없음"
      ],
      "metadata": {
        "id": "EYUGnq9NEX5g"
      },
      "execution_count": null,
      "outputs": []
    },
    {
      "cell_type": "code",
      "source": [
        "# ( ) 제너레이터 컴프리헨션"
      ],
      "metadata": {
        "id": "9LjZ3nBUEne1"
      },
      "execution_count": null,
      "outputs": []
    },
    {
      "cell_type": "code",
      "source": [
        "numbers=(number for number in range(1,6)) # 제너레이터 컴프리헨션\n",
        "for i in numbers:\n",
        "  print(i)"
      ],
      "metadata": {
        "id": "FJqk3cuHEyo0"
      },
      "execution_count": null,
      "outputs": []
    },
    {
      "cell_type": "code",
      "source": [
        "numbers=(number for number in range(1,6))\n",
        "numbers"
      ],
      "metadata": {
        "id": "UOAiuOMrFCog"
      },
      "execution_count": null,
      "outputs": []
    },
    {
      "cell_type": "code",
      "source": [
        "a_list=['apple','banana','cherry']\n",
        "a_list[0][0].upper()"
      ],
      "metadata": {
        "id": "bwU4x7NvFTxm"
      },
      "execution_count": null,
      "outputs": []
    },
    {
      "cell_type": "code",
      "source": [
        "a_list=['apple','banana','cherry']\n",
        "a_list=[a_list[i].upper() for i in range(len(a_list))]\n",
        "a_list"
      ],
      "metadata": {
        "id": "Qv6wSIGqFqBL"
      },
      "execution_count": null,
      "outputs": []
    },
    {
      "cell_type": "code",
      "source": [
        "menu={1:\"짬뽕\",2:\"짜장면\",3:\"탕수육\"}\n",
        "menu[1]\n",
        "\n",
        "for i in range(1,4):\n",
        "  print(i,\"번 메뉴는\",menu[i])"
      ],
      "metadata": {
        "id": "75W73rqCGYmk"
      },
      "execution_count": null,
      "outputs": []
    },
    {
      "cell_type": "code",
      "source": [
        "fruits=dict(apple=\"사과\", banana=\"바나나\", cherry=\"체리\")\n",
        "fruits"
      ],
      "metadata": {
        "id": "RxZcLZVZHrzj"
      },
      "execution_count": null,
      "outputs": []
    },
    {
      "cell_type": "code",
      "source": [
        "def #약속된 예약어 사용 불가, 문자열은 가능 "
      ],
      "metadata": {
        "id": "IncCT9-lG3vL"
      },
      "execution_count": null,
      "outputs": []
    },
    {
      "cell_type": "code",
      "source": [
        "menu=[[1,\"짬뽕\"],[2,\"짜장면\"],[3,'탕수육']]\n",
        "dict(menu)"
      ],
      "metadata": {
        "id": "UqGvv6koGQTC"
      },
      "execution_count": null,
      "outputs": []
    },
    {
      "cell_type": "code",
      "source": [
        "#시퀀스를 딕셔너리로 변환하기\n",
        "menu=[(1,\"짬뽕\"),(2,\"짜장면\"),(3,\"탕수육\")]\n",
        "dict(menu)"
      ],
      "metadata": {
        "id": "A0YYsiFoIVPe"
      },
      "execution_count": null,
      "outputs": []
    },
    {
      "cell_type": "code",
      "source": [
        "m_tuple=dict(['ab','cd','ef']) # 두자씩만 분리 가능, 그 이상은 안됨.\n",
        "m_tuple"
      ],
      "metadata": {
        "id": "wJH3h2G2IqtX"
      },
      "execution_count": null,
      "outputs": []
    },
    {
      "cell_type": "code",
      "source": [
        "menu = {1:'짬뽕',2:'짜장면',3:\"탕수육\"}\n",
        "menu['special']='유산슬'\n",
        "menu"
      ],
      "metadata": {
        "id": "gnc3guBSI5QE"
      },
      "execution_count": null,
      "outputs": []
    },
    {
      "cell_type": "code",
      "source": [
        "fruits={'apple':'사과','mango':'망고','cherry':'체리'}\n",
        "fruits['mango']='맹고' #동일한 키가 존재하면 최종 값으로 대체 \n",
        "fruits"
      ],
      "metadata": {
        "id": "flcs03RgJMv0"
      },
      "execution_count": null,
      "outputs": []
    },
    {
      "cell_type": "code",
      "source": [
        "fruits={'apple':'사과','banana':'바나나','cherry':'체리'}\n",
        "fruits['mango']"
      ],
      "metadata": {
        "id": "Rk1h6l4HJmLv"
      },
      "execution_count": null,
      "outputs": []
    },
    {
      "cell_type": "code",
      "source": [
        "'mango'in fruits"
      ],
      "metadata": {
        "id": "gy2t5WVgJ7mP"
      },
      "execution_count": null,
      "outputs": []
    },
    {
      "cell_type": "code",
      "source": [
        "fruits.get('apple')"
      ],
      "metadata": {
        "id": "QZe6mVdhKI5m"
      },
      "execution_count": null,
      "outputs": []
    },
    {
      "cell_type": "code",
      "source": [
        "fruits.get('mango') # 존재하지 않으면 대화식 인터프리터는 무응답 "
      ],
      "metadata": {
        "id": "HBfoUR3GKOhA"
      },
      "execution_count": null,
      "outputs": []
    },
    {
      "cell_type": "code",
      "source": [
        "fruits={'apple':'사과', 'banana':'바나나','cherry':'체리'}\n",
        "fruits.keys()"
      ],
      "metadata": {
        "id": "pnSD4TgcKls8"
      },
      "execution_count": null,
      "outputs": []
    },
    {
      "cell_type": "code",
      "source": [
        "type(fruits.key()) # 자료형: dict_keys 객체"
      ],
      "metadata": {
        "id": "aICg9-GQK_9p"
      },
      "execution_count": null,
      "outputs": []
    },
    {
      "cell_type": "code",
      "source": [
        "fruits={'apple':'사과', 'banana':'바나나','cherry':'체리'}\n",
        "list(fruits.keys()) # 키들을 리스트로! "
      ],
      "metadata": {
        "colab": {
          "base_uri": "https://localhost:8080/"
        },
        "id": "Tol5yHHsLWsw",
        "outputId": "1db4c631-6d48-4c62-de7e-cb259def71ae"
      },
      "execution_count": 61,
      "outputs": [
        {
          "output_type": "execute_result",
          "data": {
            "text/plain": [
              "['apple', 'banana', 'cherry']"
            ]
          },
          "metadata": {},
          "execution_count": 61
        }
      ]
    },
    {
      "cell_type": "code",
      "source": [
        "# values() - 모든 값 얻기\n",
        "fruits={'apple':'사과', 'banana':'바나나','cherry':'체리'}\n",
        "list(fruits.values())"
      ],
      "metadata": {
        "colab": {
          "base_uri": "https://localhost:8080/"
        },
        "id": "dMKMQL3vL89d",
        "outputId": "2385b2f2-625a-4d9b-abc4-933c2e9f9477"
      },
      "execution_count": 62,
      "outputs": [
        {
          "output_type": "execute_result",
          "data": {
            "text/plain": [
              "['사과', '바나나', '체리']"
            ]
          },
          "metadata": {},
          "execution_count": 62
        }
      ]
    },
    {
      "cell_type": "code",
      "source": [
        "#모든 키-값 얻기: items()\n",
        "list(fruits.items()) #키와 값을 튜플로!"
      ],
      "metadata": {
        "colab": {
          "base_uri": "https://localhost:8080/"
        },
        "id": "WiJZ44kTOBmT",
        "outputId": "7d43e914-7e44-40ca-94d8-ee8ed2135b2c"
      },
      "execution_count": 63,
      "outputs": [
        {
          "output_type": "execute_result",
          "data": {
            "text/plain": [
              "[('apple', '사과'), ('banana', '바나나'), ('cherry', '체리')]"
            ]
          },
          "metadata": {},
          "execution_count": 63
        }
      ]
    },
    {
      "cell_type": "code",
      "source": [
        "#길이얻기 - len()\n",
        "#딕셔너리 안의 키-값 쌍의 개수 구하기\n",
        "fruits={'apple':'사과', 'banana':'바나나','cherry':'체리'}\n",
        "len(fruits)"
      ],
      "metadata": {
        "colab": {
          "base_uri": "https://localhost:8080/"
        },
        "id": "5dOMfiqYOO28",
        "outputId": "c4f22e7f-cfff-4ba6-8c63-ddac748a91ac"
      },
      "execution_count": 64,
      "outputs": [
        {
          "output_type": "execute_result",
          "data": {
            "text/plain": [
              "3"
            ]
          },
          "metadata": {},
          "execution_count": 64
        }
      ]
    },
    {
      "cell_type": "code",
      "source": [
        "fruits={'apple':'사과', 'banana':'바나나','cherry':'체리'}\n",
        "menu={1:'짬뽕',2:'짜장면',3:\"탕수육\"}\n",
        "{**fruits, **menu} # 두개 딕셔너리 결합 **"
      ],
      "metadata": {
        "colab": {
          "base_uri": "https://localhost:8080/"
        },
        "id": "XYc28YYnOdHh",
        "outputId": "6233400e-91fb-4caf-e7b7-98f0d26d3956"
      },
      "execution_count": 65,
      "outputs": [
        {
          "output_type": "execute_result",
          "data": {
            "text/plain": [
              "{1: '짬뽕', 2: '짜장면', 3: '탕수육', 'apple': '사과', 'banana': '바나나', 'cherry': '체리'}"
            ]
          },
          "metadata": {},
          "execution_count": 65
        }
      ]
    },
    {
      "cell_type": "code",
      "source": [
        "a=[1,2]\n",
        "b=[3,4]\n",
        "a+b"
      ],
      "metadata": {
        "colab": {
          "base_uri": "https://localhost:8080/"
        },
        "id": "4gp7NOnRO6Ag",
        "outputId": "cc79ec25-e1de-4c5c-e529-4d5b32ec3a51"
      },
      "execution_count": 66,
      "outputs": [
        {
          "output_type": "execute_result",
          "data": {
            "text/plain": [
              "[1, 2, 3, 4]"
            ]
          },
          "metadata": {},
          "execution_count": 66
        }
      ]
    },
    {
      "cell_type": "code",
      "source": [
        "# 결합하기: update()\n",
        "menu.update(fruits)\n",
        "menu"
      ],
      "metadata": {
        "colab": {
          "base_uri": "https://localhost:8080/"
        },
        "id": "swzXNt7WPFlM",
        "outputId": "ce663c05-ffbd-4429-dc8f-72663a5c8a8d"
      },
      "execution_count": 69,
      "outputs": [
        {
          "output_type": "execute_result",
          "data": {
            "text/plain": [
              "{1: '짬뽕', 2: '짜장면', 3: '탕수육', 'apple': '사과', 'banana': '바나나', 'cherry': '체리'}"
            ]
          },
          "metadata": {},
          "execution_count": 69
        }
      ]
    },
    {
      "cell_type": "code",
      "source": [
        "first={'a':1,'b':2}\n",
        "second={'c':3,'b':4}\n",
        "first.update(second) # 기존에 있는 것은 최종것으로 수정\n",
        "first"
      ],
      "metadata": {
        "colab": {
          "base_uri": "https://localhost:8080/"
        },
        "id": "Um1B55VlPsPa",
        "outputId": "16230c89-9d14-4977-a8b0-9d78d2d8a8ae"
      },
      "execution_count": 70,
      "outputs": [
        {
          "output_type": "execute_result",
          "data": {
            "text/plain": [
              "{'a': 1, 'b': 4, 'c': 3}"
            ]
          },
          "metadata": {},
          "execution_count": 70
        }
      ]
    },
    {
      "cell_type": "code",
      "source": [
        "del first['a']\n",
        "first"
      ],
      "metadata": {
        "colab": {
          "base_uri": "https://localhost:8080/"
        },
        "id": "pj2E3hXXQEPx",
        "outputId": "49963ba9-ef55-43ab-c9a3-e653af3fd837"
      },
      "execution_count": 71,
      "outputs": [
        {
          "output_type": "execute_result",
          "data": {
            "text/plain": [
              "{'b': 4, 'c': 3}"
            ]
          },
          "metadata": {},
          "execution_count": 71
        }
      ]
    },
    {
      "cell_type": "code",
      "source": [
        "len(first)"
      ],
      "metadata": {
        "colab": {
          "base_uri": "https://localhost:8080/"
        },
        "id": "EhE_t0HsQKLT",
        "outputId": "ee726653-4b36-4ad8-9149-05b964252790"
      },
      "execution_count": 72,
      "outputs": [
        {
          "output_type": "execute_result",
          "data": {
            "text/plain": [
              "2"
            ]
          },
          "metadata": {},
          "execution_count": 72
        }
      ]
    },
    {
      "cell_type": "code",
      "source": [
        "first={'a':1,'b':2}\n",
        "first.pop('b')\n",
        "first"
      ],
      "metadata": {
        "colab": {
          "base_uri": "https://localhost:8080/"
        },
        "id": "jIp95LjHQNhc",
        "outputId": "faf1b313-6e6e-4319-ab60-11619a698b6e"
      },
      "execution_count": 77,
      "outputs": [
        {
          "output_type": "execute_result",
          "data": {
            "text/plain": [
              "{'a': 1}"
            ]
          },
          "metadata": {},
          "execution_count": 77
        }
      ]
    },
    {
      "cell_type": "code",
      "source": [
        "first={'a':1,'b':2}\n",
        "first.pop('c') #없는거 지우라하면 오류"
      ],
      "metadata": {
        "colab": {
          "base_uri": "https://localhost:8080/",
          "height": 189
        },
        "id": "tiy6fmd7QXq3",
        "outputId": "63a8ec20-67a7-4fd9-8fd4-9bf5b74e970e"
      },
      "execution_count": 78,
      "outputs": [
        {
          "output_type": "error",
          "ename": "KeyError",
          "evalue": "ignored",
          "traceback": [
            "\u001b[0;31m---------------------------------------------------------------------------\u001b[0m",
            "\u001b[0;31mKeyError\u001b[0m                                  Traceback (most recent call last)",
            "\u001b[0;32m<ipython-input-78-191630f11a9a>\u001b[0m in \u001b[0;36m<module>\u001b[0;34m()\u001b[0m\n\u001b[1;32m      1\u001b[0m \u001b[0mfirst\u001b[0m\u001b[0;34m=\u001b[0m\u001b[0;34m{\u001b[0m\u001b[0;34m'a'\u001b[0m\u001b[0;34m:\u001b[0m\u001b[0;36m1\u001b[0m\u001b[0;34m,\u001b[0m\u001b[0;34m'b'\u001b[0m\u001b[0;34m:\u001b[0m\u001b[0;36m2\u001b[0m\u001b[0;34m}\u001b[0m\u001b[0;34m\u001b[0m\u001b[0;34m\u001b[0m\u001b[0m\n\u001b[0;32m----> 2\u001b[0;31m \u001b[0mfirst\u001b[0m\u001b[0;34m.\u001b[0m\u001b[0mpop\u001b[0m\u001b[0;34m(\u001b[0m\u001b[0;34m'c'\u001b[0m\u001b[0;34m)\u001b[0m\u001b[0;34m\u001b[0m\u001b[0;34m\u001b[0m\u001b[0m\n\u001b[0m",
            "\u001b[0;31mKeyError\u001b[0m: 'c'"
          ]
        }
      ]
    },
    {
      "cell_type": "code",
      "source": [
        "first={'a':1,'b':2}\n",
        "first.pop('c','none') #해당되는 것이 없을때는 none 출력"
      ],
      "metadata": {
        "colab": {
          "base_uri": "https://localhost:8080/",
          "height": 35
        },
        "id": "9pgrpxFMQcNa",
        "outputId": "0458e428-89df-46c6-fdb2-d539cba2f9d8"
      },
      "execution_count": 79,
      "outputs": [
        {
          "output_type": "execute_result",
          "data": {
            "text/plain": [
              "'none'"
            ],
            "application/vnd.google.colaboratory.intrinsic+json": {
              "type": "string"
            }
          },
          "metadata": {},
          "execution_count": 79
        }
      ]
    },
    {
      "cell_type": "code",
      "source": [
        "first={'a':1,'b':2}\n",
        "second = first.copy() # 다른 대상\n",
        "first['c']=3\n",
        "first\n"
      ],
      "metadata": {
        "colab": {
          "base_uri": "https://localhost:8080/"
        },
        "id": "r8kaHoIBQj7X",
        "outputId": "3e88ec72-ec1b-480b-d50a-41771c51b43e"
      },
      "execution_count": 80,
      "outputs": [
        {
          "output_type": "execute_result",
          "data": {
            "text/plain": [
              "{'a': 1, 'b': 2, 'c': 3}"
            ]
          },
          "metadata": {},
          "execution_count": 80
        }
      ]
    },
    {
      "cell_type": "code",
      "source": [
        "# 완전히 다르게 구별하고 싶으면 deepcopy\n",
        "# 안에 리스트가 있으면 copy에서 달라짐\n",
        "# = 완전동일, copy 일부 다름, deepcopy 완전 다름 "
      ],
      "metadata": {
        "id": "qEM9BtOPRfvo"
      },
      "execution_count": null,
      "outputs": []
    },
    {
      "cell_type": "code",
      "source": [
        "import copy\n",
        "first = {'a':1, 'b':[2,3]}\n",
        "second = copy.deepcopy(first) #깊은 복사, 다른 대상, deepcopy는 완전 별개다. \n",
        "first['b'][0]=4\n",
        "first"
      ],
      "metadata": {
        "colab": {
          "base_uri": "https://localhost:8080/"
        },
        "id": "6e8kNrHjR7hk",
        "outputId": "729b5492-6a6f-456e-975a-958bf8597fe2"
      },
      "execution_count": 81,
      "outputs": [
        {
          "output_type": "execute_result",
          "data": {
            "text/plain": [
              "{'a': 1, 'b': [4, 3]}"
            ]
          },
          "metadata": {},
          "execution_count": 81
        }
      ]
    },
    {
      "cell_type": "code",
      "source": [
        "second"
      ],
      "metadata": {
        "colab": {
          "base_uri": "https://localhost:8080/"
        },
        "id": "iRk5-I95SMqd",
        "outputId": "0306a708-c621-4139-87c7-ea58e4b789db"
      },
      "execution_count": 82,
      "outputs": [
        {
          "output_type": "execute_result",
          "data": {
            "text/plain": [
              "{'a': 1, 'b': [2, 3]}"
            ]
          },
          "metadata": {},
          "execution_count": 82
        }
      ]
    },
    {
      "cell_type": "code",
      "source": [
        "# 리스트는 인덱스 딕셔너리는 키\n",
        "# 딕셔너리는 순서는 중요하지 않음. \n",
        "# 딕셔너리는 비교연산 사용불가"
      ],
      "metadata": {
        "id": "tt4H_GyiSO_2"
      },
      "execution_count": null,
      "outputs": []
    },
    {
      "cell_type": "code",
      "source": [
        "first={'a':1,'b':2}\n",
        "for k in first:\n",
        "  print(k)"
      ],
      "metadata": {
        "colab": {
          "base_uri": "https://localhost:8080/"
        },
        "id": "nv2ZSWN7S8Xp",
        "outputId": "8fc7fcbf-77a7-47e6-d5b0-5e66aa742642"
      },
      "execution_count": 83,
      "outputs": [
        {
          "output_type": "stream",
          "name": "stdout",
          "text": [
            "a\n",
            "b\n"
          ]
        }
      ]
    },
    {
      "cell_type": "code",
      "source": [
        "first={'a':1,'b':2}\n",
        "for k in first.values():\n",
        "  print(k)"
      ],
      "metadata": {
        "colab": {
          "base_uri": "https://localhost:8080/"
        },
        "id": "MjvpdWrJTNEp",
        "outputId": "151bc443-4ac8-41da-a547-456995ff5fc3"
      },
      "execution_count": 85,
      "outputs": [
        {
          "output_type": "stream",
          "name": "stdout",
          "text": [
            "1\n",
            "2\n"
          ]
        }
      ]
    },
    {
      "cell_type": "code",
      "source": [
        "first={'a':1,'b':2}\n",
        "list(first.values())"
      ],
      "metadata": {
        "colab": {
          "base_uri": "https://localhost:8080/"
        },
        "id": "tlpuY6axTRvW",
        "outputId": "d7988abf-bc93-4e97-c3a7-d8e87e2984c3"
      },
      "execution_count": 86,
      "outputs": [
        {
          "output_type": "execute_result",
          "data": {
            "text/plain": [
              "[1, 2]"
            ]
          },
          "metadata": {},
          "execution_count": 86
        }
      ]
    },
    {
      "cell_type": "code",
      "source": [
        "first={'a':1,'b':2}\n",
        "for k in first:\n",
        "  print(first[k])"
      ],
      "metadata": {
        "colab": {
          "base_uri": "https://localhost:8080/"
        },
        "id": "nLKYcBkbTypT",
        "outputId": "b52cf1e6-a28d-4e5b-d2e2-4991b3c10751"
      },
      "execution_count": 87,
      "outputs": [
        {
          "output_type": "stream",
          "name": "stdout",
          "text": [
            "1\n",
            "2\n"
          ]
        }
      ]
    },
    {
      "cell_type": "code",
      "source": [
        "first={'a':1,'b':2}\n",
        "for k in first.keys():\n",
        "  print(first[k])"
      ],
      "metadata": {
        "colab": {
          "base_uri": "https://localhost:8080/"
        },
        "id": "aLie0K9uT-LR",
        "outputId": "0f56e560-9f28-4f01-bdd8-eaaa4cd2b2a1"
      },
      "execution_count": 88,
      "outputs": [
        {
          "output_type": "stream",
          "name": "stdout",
          "text": [
            "1\n",
            "2\n"
          ]
        }
      ]
    },
    {
      "cell_type": "code",
      "source": [
        "first={'a':1,'b':2}\n",
        "for k in first.values():\n",
        "  print(first)"
      ],
      "metadata": {
        "colab": {
          "base_uri": "https://localhost:8080/"
        },
        "id": "G6Ka4f1dUCBn",
        "outputId": "6325189a-53cb-4e0f-f46b-bd0e41fcba1d"
      },
      "execution_count": 90,
      "outputs": [
        {
          "output_type": "stream",
          "name": "stdout",
          "text": [
            "{'a': 1, 'b': 2}\n",
            "{'a': 1, 'b': 2}\n"
          ]
        }
      ]
    },
    {
      "cell_type": "code",
      "source": [
        "first={'a':1,'b':2}\n",
        "for k,v in first.items():\n",
        "  print(k,v)"
      ],
      "metadata": {
        "colab": {
          "base_uri": "https://localhost:8080/"
        },
        "id": "CsV4mKZbUOBb",
        "outputId": "5e65ac94-0ecb-47cf-87ed-7c228a031da5"
      },
      "execution_count": 91,
      "outputs": [
        {
          "output_type": "stream",
          "name": "stdout",
          "text": [
            "a 1\n",
            "b 2\n"
          ]
        }
      ]
    },
    {
      "cell_type": "code",
      "source": [
        "li=[i for i in range(1,6)]\n",
        "li"
      ],
      "metadata": {
        "colab": {
          "base_uri": "https://localhost:8080/"
        },
        "id": "RyzTguItUc6J",
        "outputId": "6d1657ab-8735-4303-aeb9-f06b0c429bc3"
      },
      "execution_count": 96,
      "outputs": [
        {
          "output_type": "execute_result",
          "data": {
            "text/plain": [
              "[1, 2, 3, 4, 5]"
            ]
          },
          "metadata": {},
          "execution_count": 96
        }
      ]
    },
    {
      "cell_type": "code",
      "source": [
        "#튜플은 제너레이터 컴프리헨션\n",
        "#셋 - 집합\n",
        "#집합에는 중복이 없음. \n",
        "#딕셔너리의 키만 모아놓은 것 \n",
        "#null(널), empty(빈) 셋"
      ],
      "metadata": {
        "id": "pFiSMxnCVC37"
      },
      "execution_count": 97,
      "outputs": []
    },
    {
      "cell_type": "code",
      "source": [
        "set('Beautiful Korea') # 중복없앤 집합"
      ],
      "metadata": {
        "colab": {
          "base_uri": "https://localhost:8080/"
        },
        "id": "5uS_a37kVcWZ",
        "outputId": "a520467d-4a1b-4eb6-f978-6c3e1dc2b45b"
      },
      "execution_count": 100,
      "outputs": [
        {
          "output_type": "execute_result",
          "data": {
            "text/plain": [
              "{' ', 'B', 'K', 'a', 'e', 'f', 'i', 'l', 'o', 'r', 't', 'u'}"
            ]
          },
          "metadata": {},
          "execution_count": 100
        }
      ]
    },
    {
      "cell_type": "code",
      "source": [
        "set(['judy','jason','john','juda'])"
      ],
      "metadata": {
        "colab": {
          "base_uri": "https://localhost:8080/"
        },
        "id": "YcsvoB8mVnBK",
        "outputId": "bd5ec714-9142-4d77-8970-28d6e40143f8"
      },
      "execution_count": 101,
      "outputs": [
        {
          "output_type": "execute_result",
          "data": {
            "text/plain": [
              "{'jason', 'john', 'juda', 'judy'}"
            ]
          },
          "metadata": {},
          "execution_count": 101
        }
      ]
    },
    {
      "cell_type": "code",
      "source": [
        "s=([1,2,3])\n",
        "s.remove(3)\n",
        "s"
      ],
      "metadata": {
        "colab": {
          "base_uri": "https://localhost:8080/"
        },
        "id": "v9oubc9gVv_g",
        "outputId": "cbcfd78b-4896-4607-f681-8d85f1709372"
      },
      "execution_count": 103,
      "outputs": [
        {
          "output_type": "execute_result",
          "data": {
            "text/plain": [
              "[1, 2]"
            ]
          },
          "metadata": {},
          "execution_count": 103
        }
      ]
    },
    {
      "cell_type": "code",
      "source": [
        "s=[1,2,3]\n",
        "s.remove(3)\n",
        "s"
      ],
      "metadata": {
        "colab": {
          "base_uri": "https://localhost:8080/"
        },
        "id": "IGC1JV-uWYSG",
        "outputId": "8c5fadf1-62ba-44eb-c7f6-55b3806a1318"
      },
      "execution_count": 108,
      "outputs": [
        {
          "output_type": "execute_result",
          "data": {
            "text/plain": [
              "[1, 2]"
            ]
          },
          "metadata": {},
          "execution_count": 108
        }
      ]
    },
    {
      "cell_type": "code",
      "source": [
        "li = [1,2,3]\n",
        "li.remove(3)\n",
        "li"
      ],
      "metadata": {
        "colab": {
          "base_uri": "https://localhost:8080/"
        },
        "id": "-2o6asFcWlFs",
        "outputId": "6723b330-6140-4fe8-faca-d84d7b66d285"
      },
      "execution_count": 110,
      "outputs": [
        {
          "output_type": "execute_result",
          "data": {
            "text/plain": [
              "[1, 2]"
            ]
          },
          "metadata": {},
          "execution_count": 110
        }
      ]
    },
    {
      "cell_type": "code",
      "source": [
        "# 셋은 안에 하나만 들어가야되서 괄호로 한 덩어리로 처리해줌.\n",
        "fruits=set(('apple','banana','cherry'))\n",
        "fruits.remove('cherry')\n",
        "fruits\n",
        "for i in fruits:\n",
        "  print(i)"
      ],
      "metadata": {
        "colab": {
          "base_uri": "https://localhost:8080/",
          "height": 243
        },
        "id": "j6flzODTWyW6",
        "outputId": "e543363e-55eb-4cc8-ead2-a85eeb6071f8"
      },
      "execution_count": 115,
      "outputs": [
        {
          "output_type": "error",
          "ename": "TypeError",
          "evalue": "ignored",
          "traceback": [
            "\u001b[0;31m---------------------------------------------------------------------------\u001b[0m",
            "\u001b[0;31mTypeError\u001b[0m                                 Traceback (most recent call last)",
            "\u001b[0;32m<ipython-input-115-ef7c9307367d>\u001b[0m in \u001b[0;36m<module>\u001b[0;34m()\u001b[0m\n\u001b[0;32m----> 1\u001b[0;31m \u001b[0mfruits\u001b[0m\u001b[0;34m=\u001b[0m\u001b[0mset\u001b[0m\u001b[0;34m(\u001b[0m\u001b[0;34m'apple'\u001b[0m\u001b[0;34m,\u001b[0m\u001b[0;34m'banana'\u001b[0m\u001b[0;34m,\u001b[0m\u001b[0;34m'cherry'\u001b[0m\u001b[0;34m)\u001b[0m\u001b[0;34m\u001b[0m\u001b[0;34m\u001b[0m\u001b[0m\n\u001b[0m\u001b[1;32m      2\u001b[0m \u001b[0mfruits\u001b[0m\u001b[0;34m.\u001b[0m\u001b[0mremove\u001b[0m\u001b[0;34m(\u001b[0m\u001b[0;34m'cherry'\u001b[0m\u001b[0;34m)\u001b[0m\u001b[0;34m\u001b[0m\u001b[0;34m\u001b[0m\u001b[0m\n\u001b[1;32m      3\u001b[0m \u001b[0mfruits\u001b[0m\u001b[0;34m\u001b[0m\u001b[0;34m\u001b[0m\u001b[0m\n\u001b[1;32m      4\u001b[0m \u001b[0;32mfor\u001b[0m \u001b[0mi\u001b[0m \u001b[0;32min\u001b[0m \u001b[0mfruits\u001b[0m\u001b[0;34m:\u001b[0m\u001b[0;34m\u001b[0m\u001b[0;34m\u001b[0m\u001b[0m\n\u001b[1;32m      5\u001b[0m   \u001b[0mprint\u001b[0m\u001b[0;34m(\u001b[0m\u001b[0mi\u001b[0m\u001b[0;34m)\u001b[0m\u001b[0;34m\u001b[0m\u001b[0;34m\u001b[0m\u001b[0m\n",
            "\u001b[0;31mTypeError\u001b[0m: set expected at most 1 arguments, got 3"
          ]
        }
      ]
    },
    {
      "cell_type": "code",
      "source": [
        "menu={\n",
        "    '최상':{\"탕수육\",\"water melon\",'mango','apple'},\n",
        "    '상':{\"짬뽕\",\"mango\",\"grape\"},\n",
        "    '보통':{\"짜장면\",\"apple\"}\n",
        "}\n",
        "for k,v in menu.items():\n",
        "  if \"탕수육\" in v:\n",
        "   print(k)"
      ],
      "metadata": {
        "colab": {
          "base_uri": "https://localhost:8080/"
        },
        "id": "qCp6pUpSXWIt",
        "outputId": "7be12d04-18b2-42e4-ffad-896547c1a69e"
      },
      "execution_count": 141,
      "outputs": [
        {
          "output_type": "stream",
          "name": "stdout",
          "text": [
            "최상\n"
          ]
        }
      ]
    },
    {
      "cell_type": "code",
      "source": [
        "menu={\n",
        "    '최상':{\"탕수육\",\"water melon\",'mango','apple'},\n",
        "    '상':{\"짬뽕\",\"mango\",\"grape\"},\n",
        "    '보통':{\"짜장면\",\"apple\"}\n",
        "}\n",
        "for k,v in menu.items():\n",
        "  if \"mango\" in v and \"탕수육\" not in v:\n",
        "   print(k)"
      ],
      "metadata": {
        "colab": {
          "base_uri": "https://localhost:8080/"
        },
        "id": "znrs_HLsXKi7",
        "outputId": "dbfb58a1-e4d1-4853-adbf-450b408b824c"
      },
      "execution_count": 145,
      "outputs": [
        {
          "output_type": "stream",
          "name": "stdout",
          "text": [
            "상\n"
          ]
        }
      ]
    },
    {
      "cell_type": "code",
      "source": [
        "menu={\n",
        "    '최상':{\"탕수육\",\"water melon\",'mango','apple'},\n",
        "    '상':{\"짬뽕\",\"mango\",\"grape\"},\n",
        "    '보통':{\"짜장면\",\"apple\"}\n",
        "}\n",
        "for k,v in menu.items():\n",
        "  if \"mango\" in v and not (\"탕수육\" in v or \"apple\" in v):\n",
        "   print(k)\n",
        "\n",
        "# 먼저 해야할것을 괄호로 정리, 우선순위 "
      ],
      "metadata": {
        "colab": {
          "base_uri": "https://localhost:8080/"
        },
        "id": "KiYfHsehbMly",
        "outputId": "8f0af87c-4b86-4070-b7cf-8f916935c02b"
      },
      "execution_count": 150,
      "outputs": [
        {
          "output_type": "stream",
          "name": "stdout",
          "text": [
            "상\n"
          ]
        }
      ]
    },
    {
      "cell_type": "code",
      "source": [
        "for k,v in menu.items():\n",
        "  if v&{\"짬뽕\",\"짜장면\"}:\n",
        "    print(k)"
      ],
      "metadata": {
        "colab": {
          "base_uri": "https://localhost:8080/"
        },
        "id": "7KdzNMgKcR1Y",
        "outputId": "1ab87a34-1d26-4511-8fe3-8991441e2ece"
      },
      "execution_count": 152,
      "outputs": [
        {
          "output_type": "stream",
          "name": "stdout",
          "text": [
            "상\n",
            "보통\n"
          ]
        }
      ]
    },
    {
      "cell_type": "code",
      "source": [
        "for k,v in menu.items():\n",
        "  if v&{\"탕수육\",\"watermelon\"}:\n",
        "    print(k)"
      ],
      "metadata": {
        "colab": {
          "base_uri": "https://localhost:8080/"
        },
        "id": "qE_Sg1y2gfO_",
        "outputId": "bdc00ef0-772c-4d88-fb3d-8a570bb1cfd8"
      },
      "execution_count": 153,
      "outputs": [
        {
          "output_type": "stream",
          "name": "stdout",
          "text": [
            "최상\n"
          ]
        }
      ]
    },
    {
      "cell_type": "code",
      "source": [
        "for k,v in menu.items():\n",
        "  if \"mango\" in v and not (\"탕수육\" in v or \"watermelon\" in v):\n",
        "   print(k)"
      ],
      "metadata": {
        "colab": {
          "base_uri": "https://localhost:8080/"
        },
        "id": "TodSUnggg3Pm",
        "outputId": "3ee29a29-8d35-4f22-8364-c9b4923fe017"
      },
      "execution_count": 154,
      "outputs": [
        {
          "output_type": "stream",
          "name": "stdout",
          "text": [
            "상\n"
          ]
        }
      ]
    },
    {
      "cell_type": "code",
      "source": [
        "for k,v in menu.items():\n",
        "  # 문단 주석 ctrl /\n",
        "  if v&{\"mango\"} and not v&{\"탕수육\",\"watermelon\"}:\n",
        "    print(k)"
      ],
      "metadata": {
        "colab": {
          "base_uri": "https://localhost:8080/"
        },
        "id": "qMxxKfDshOOU",
        "outputId": "0ec2b85f-5164-444e-d821-42fa176998ac"
      },
      "execution_count": 155,
      "outputs": [
        {
          "output_type": "stream",
          "name": "stdout",
          "text": [
            "상\n"
          ]
        }
      ]
    },
    {
      "cell_type": "code",
      "source": [
        "menu={\n",
        "    '최상':{\"탕수육\",\"water melon\",'mango','apple'},\n",
        "    '상':{\"짬뽕\",\"mango\",\"grape\"},\n",
        "    '보통':{\"짜장면\",\"apple\"}\n",
        "}\n",
        "\n",
        "menu1=menu['최상']\n",
        "menu2=menu['상']\n",
        "menu2"
      ],
      "metadata": {
        "colab": {
          "base_uri": "https://localhost:8080/"
        },
        "id": "oV4EDA5yheSj",
        "outputId": "dbe86199-8371-4856-f13c-61a76fa7db5f"
      },
      "execution_count": 188,
      "outputs": [
        {
          "output_type": "execute_result",
          "data": {
            "text/plain": [
              "{'grape', 'mango', '짬뽕'}"
            ]
          },
          "metadata": {},
          "execution_count": 188
        }
      ]
    },
    {
      "cell_type": "code",
      "source": [
        "for k,v in menu.items():\n",
        "   if \"탕수육\" in v:\n",
        "    print(k,v)"
      ],
      "metadata": {
        "colab": {
          "base_uri": "https://localhost:8080/"
        },
        "id": "Gwu_Bz7mkg_Q",
        "outputId": "2f6a0ddc-d70d-4c26-8a59-33b35c0de7fa"
      },
      "execution_count": 183,
      "outputs": [
        {
          "output_type": "stream",
          "name": "stdout",
          "text": [
            "최상 {'apple', '탕수육', 'water melon', 'mango'}\n"
          ]
        }
      ]
    },
    {
      "cell_type": "code",
      "source": [
        "a={1,2}\n",
        "b={2,3}\n",
        "a&b"
      ],
      "metadata": {
        "colab": {
          "base_uri": "https://localhost:8080/"
        },
        "id": "_RoH9JQHk6OP",
        "outputId": "0162aeb4-4779-4e20-8e15-54894d6be133"
      },
      "execution_count": 184,
      "outputs": [
        {
          "output_type": "execute_result",
          "data": {
            "text/plain": [
              "{2}"
            ]
          },
          "metadata": {},
          "execution_count": 184
        }
      ]
    },
    {
      "cell_type": "code",
      "source": [
        "a.intersection(b) # 교집합"
      ],
      "metadata": {
        "colab": {
          "base_uri": "https://localhost:8080/"
        },
        "id": "Hf8hXvUul-ql",
        "outputId": "77141032-41fe-4585-8bf5-afdc3b7891a6"
      },
      "execution_count": 185,
      "outputs": [
        {
          "output_type": "execute_result",
          "data": {
            "text/plain": [
              "{2}"
            ]
          },
          "metadata": {},
          "execution_count": 185
        }
      ]
    },
    {
      "cell_type": "code",
      "source": [
        "menu1&menu2"
      ],
      "metadata": {
        "colab": {
          "base_uri": "https://localhost:8080/"
        },
        "id": "QIRghxIEl1DZ",
        "outputId": "a2eeee4c-52c9-4495-8a4d-9e58cf4951ac"
      },
      "execution_count": 186,
      "outputs": [
        {
          "output_type": "execute_result",
          "data": {
            "text/plain": [
              "{'mango'}"
            ]
          },
          "metadata": {},
          "execution_count": 186
        }
      ]
    },
    {
      "cell_type": "code",
      "source": [
        "#집합에는 중복이 없다. \n",
        "a={1,2}\n",
        "b={2,3}\n",
        "a|b #기호 파이프"
      ],
      "metadata": {
        "colab": {
          "base_uri": "https://localhost:8080/"
        },
        "id": "s9GcKKjDmOq0",
        "outputId": "72456171-797c-470b-aeed-e0e2fc5a0859"
      },
      "execution_count": 189,
      "outputs": [
        {
          "output_type": "execute_result",
          "data": {
            "text/plain": [
              "{1, 2, 3}"
            ]
          },
          "metadata": {},
          "execution_count": 189
        }
      ]
    },
    {
      "cell_type": "code",
      "source": [
        "a.union(b) #합집합"
      ],
      "metadata": {
        "colab": {
          "base_uri": "https://localhost:8080/"
        },
        "id": "q10E4WV6mU9q",
        "outputId": "0f61d504-d4a4-42d9-f0a9-9b929491eb57"
      },
      "execution_count": 190,
      "outputs": [
        {
          "output_type": "execute_result",
          "data": {
            "text/plain": [
              "{1, 2, 3}"
            ]
          },
          "metadata": {},
          "execution_count": 190
        }
      ]
    },
    {
      "cell_type": "code",
      "source": [
        "menu1|menu2 #메뉴 합집합"
      ],
      "metadata": {
        "colab": {
          "base_uri": "https://localhost:8080/"
        },
        "id": "Gr0kkbqQmeEz",
        "outputId": "179f8836-79ca-4ae9-8dc5-f17f0c043723"
      },
      "execution_count": 191,
      "outputs": [
        {
          "output_type": "execute_result",
          "data": {
            "text/plain": [
              "{'apple', 'grape', 'mango', 'water melon', '짬뽕', '탕수육'}"
            ]
          },
          "metadata": {},
          "execution_count": 191
        }
      ]
    },
    {
      "cell_type": "code",
      "source": [
        "# 차집합 순수한 우리거, 자기거에서 남의거 공통부분 뺀거\n",
        "a={1,2}\n",
        "b={2,3}\n",
        "a-b"
      ],
      "metadata": {
        "colab": {
          "base_uri": "https://localhost:8080/"
        },
        "id": "U4xWrPNemlvH",
        "outputId": "e48a0e30-aa7f-4b86-a251-0aaabaf332e9"
      },
      "execution_count": 192,
      "outputs": [
        {
          "output_type": "execute_result",
          "data": {
            "text/plain": [
              "{1}"
            ]
          },
          "metadata": {},
          "execution_count": 192
        }
      ]
    },
    {
      "cell_type": "code",
      "source": [
        "a.difference(b)"
      ],
      "metadata": {
        "colab": {
          "base_uri": "https://localhost:8080/"
        },
        "id": "YRApr2QYm_tS",
        "outputId": "739b3f91-3ae1-4f7b-a071-b6b844d46089"
      },
      "execution_count": 193,
      "outputs": [
        {
          "output_type": "execute_result",
          "data": {
            "text/plain": [
              "{1}"
            ]
          },
          "metadata": {},
          "execution_count": 193
        }
      ]
    },
    {
      "cell_type": "code",
      "source": [
        "menu1-menu2"
      ],
      "metadata": {
        "colab": {
          "base_uri": "https://localhost:8080/"
        },
        "id": "cW9ijciSnEdD",
        "outputId": "fba134b3-8936-4c6f-d02b-5289d6da2d6b"
      },
      "execution_count": 194,
      "outputs": [
        {
          "output_type": "execute_result",
          "data": {
            "text/plain": [
              "{'apple', 'water melon', '탕수육'}"
            ]
          },
          "metadata": {},
          "execution_count": 194
        }
      ]
    },
    {
      "cell_type": "code",
      "source": [
        "#대칭 차집합(Symmetric difference)\n",
        "#A,B 순수하게 있는것, 둘다 공통부분 제외 \n",
        "#excusive\n",
        "a ^ b"
      ],
      "metadata": {
        "colab": {
          "base_uri": "https://localhost:8080/"
        },
        "id": "Q-2GQqmVnLdD",
        "outputId": "929a2a1a-b0b8-4e3a-9f02-8def674cc3cf"
      },
      "execution_count": 195,
      "outputs": [
        {
          "output_type": "execute_result",
          "data": {
            "text/plain": [
              "{1, 3}"
            ]
          },
          "metadata": {},
          "execution_count": 195
        }
      ]
    },
    {
      "cell_type": "code",
      "source": [
        "a.symmetric_difference(b)"
      ],
      "metadata": {
        "colab": {
          "base_uri": "https://localhost:8080/"
        },
        "id": "12rO5VtxnhoC",
        "outputId": "beb00818-bcb2-4585-f70d-8cc126256fa0"
      },
      "execution_count": 197,
      "outputs": [
        {
          "output_type": "execute_result",
          "data": {
            "text/plain": [
              "{1, 3}"
            ]
          },
          "metadata": {},
          "execution_count": 197
        }
      ]
    },
    {
      "cell_type": "code",
      "source": [
        "menu1 ^ menu2"
      ],
      "metadata": {
        "colab": {
          "base_uri": "https://localhost:8080/"
        },
        "id": "7L_3mZXLnqAN",
        "outputId": "f22bc335-d32a-4550-a75e-44bac73ac602"
      },
      "execution_count": 198,
      "outputs": [
        {
          "output_type": "execute_result",
          "data": {
            "text/plain": [
              "{'apple', 'grape', 'water melon', '짬뽕', '탕수육'}"
            ]
          },
          "metadata": {},
          "execution_count": 198
        }
      ]
    },
    {
      "cell_type": "code",
      "source": [
        "a={1,2}\n",
        "b={2,3}\n",
        "a<=b"
      ],
      "metadata": {
        "colab": {
          "base_uri": "https://localhost:8080/"
        },
        "id": "52BTVfrWnu-L",
        "outputId": "cd9c8535-616c-46ee-f913-3bdc27b908c7"
      },
      "execution_count": 200,
      "outputs": [
        {
          "output_type": "execute_result",
          "data": {
            "text/plain": [
              "False"
            ]
          },
          "metadata": {},
          "execution_count": 200
        }
      ]
    },
    {
      "cell_type": "code",
      "source": [
        "a={1,2}\n",
        "b={2,3}\n",
        "a.issubset(b) #a가 b의 부분집합인가?\n"
      ],
      "metadata": {
        "id": "zznZ_SA4oDdY"
      },
      "execution_count": 201,
      "outputs": []
    },
    {
      "cell_type": "code",
      "source": [
        "a<=a"
      ],
      "metadata": {
        "colab": {
          "base_uri": "https://localhost:8080/"
        },
        "id": "ih3s4AiYoEWi",
        "outputId": "8487f5ad-d9f3-4af5-a3a1-0d447cf73067"
      },
      "execution_count": 202,
      "outputs": [
        {
          "output_type": "execute_result",
          "data": {
            "text/plain": [
              "True"
            ]
          },
          "metadata": {},
          "execution_count": 202
        }
      ]
    },
    {
      "cell_type": "code",
      "source": [
        "#진부분집합(proper subset)\n",
        "#완전히 포함되어야 진부분집합"
      ],
      "metadata": {
        "id": "WYd5zretoPO-"
      },
      "execution_count": 204,
      "outputs": []
    },
    {
      "cell_type": "code",
      "source": [
        "#상위집합(>=,issuperset(),부분집합의 반대개념)\n",
        "#리스트 딕셔너리 컴프리핸션\n"
      ],
      "metadata": {
        "id": "sBtEA4_gocW4"
      },
      "execution_count": null,
      "outputs": []
    },
    {
      "cell_type": "code",
      "source": [
        "a_set={number for number in range(1,6) if number%3=1}\n",
        "a_set"
      ],
      "metadata": {
        "colab": {
          "base_uri": "https://localhost:8080/",
          "height": 135
        },
        "id": "-TTBAveCpEXi",
        "outputId": "782382c8-ae81-43ef-9101-f8760fc50f6e"
      },
      "execution_count": 208,
      "outputs": [
        {
          "output_type": "error",
          "ename": "SyntaxError",
          "evalue": "ignored",
          "traceback": [
            "\u001b[0;36m  File \u001b[0;32m\"<ipython-input-208-c88e860e6d7d>\"\u001b[0;36m, line \u001b[0;32m1\u001b[0m\n\u001b[0;31m    a_set={number for number in range(1,6) if number%3=1}\u001b[0m\n\u001b[0m                                                      ^\u001b[0m\n\u001b[0;31mSyntaxError\u001b[0m\u001b[0;31m:\u001b[0m invalid syntax\n"
          ]
        }
      ]
    },
    {
      "cell_type": "code",
      "source": [
        "frozenset({3,1,2}) #sort 개념"
      ],
      "metadata": {
        "colab": {
          "base_uri": "https://localhost:8080/"
        },
        "id": "WMmrl7LdphRe",
        "outputId": "1994ad16-a8ea-4da6-d5a5-e85600019718"
      },
      "execution_count": 209,
      "outputs": [
        {
          "output_type": "execute_result",
          "data": {
            "text/plain": [
              "frozenset({1, 2, 3})"
            ]
          },
          "metadata": {},
          "execution_count": 209
        }
      ]
    },
    {
      "cell_type": "code",
      "source": [
        "f=frozenset([3,2,1])\n",
        "f.add(4)"
      ],
      "metadata": {
        "colab": {
          "base_uri": "https://localhost:8080/",
          "height": 189
        },
        "id": "IltsG-KGplqs",
        "outputId": "b5c18f73-9ba6-46a4-fdd2-d55b99a7894b"
      },
      "execution_count": 210,
      "outputs": [
        {
          "output_type": "error",
          "ename": "AttributeError",
          "evalue": "ignored",
          "traceback": [
            "\u001b[0;31m---------------------------------------------------------------------------\u001b[0m",
            "\u001b[0;31mAttributeError\u001b[0m                            Traceback (most recent call last)",
            "\u001b[0;32m<ipython-input-210-340aba78868b>\u001b[0m in \u001b[0;36m<module>\u001b[0;34m()\u001b[0m\n\u001b[1;32m      1\u001b[0m \u001b[0mf\u001b[0m\u001b[0;34m=\u001b[0m\u001b[0mfrozenset\u001b[0m\u001b[0;34m(\u001b[0m\u001b[0;34m[\u001b[0m\u001b[0;36m3\u001b[0m\u001b[0;34m,\u001b[0m\u001b[0;36m2\u001b[0m\u001b[0;34m,\u001b[0m\u001b[0;36m1\u001b[0m\u001b[0;34m]\u001b[0m\u001b[0;34m)\u001b[0m\u001b[0;34m\u001b[0m\u001b[0;34m\u001b[0m\u001b[0m\n\u001b[0;32m----> 2\u001b[0;31m \u001b[0mf\u001b[0m\u001b[0;34m.\u001b[0m\u001b[0madd\u001b[0m\u001b[0;34m(\u001b[0m\u001b[0;36m4\u001b[0m\u001b[0;34m)\u001b[0m\u001b[0;34m\u001b[0m\u001b[0;34m\u001b[0m\u001b[0m\n\u001b[0m",
            "\u001b[0;31mAttributeError\u001b[0m: 'frozenset' object has no attribute 'add'"
          ]
        }
      ]
    },
    {
      "cell_type": "code",
      "source": [
        "# 리스트 튜플은 대괄호에 인덱스값 들어감. \n",
        "# 셋은 인덱스와 키가 없다. \n",
        "# 딕셔너리는 키값을 활용"
      ],
      "metadata": {
        "id": "xaeYY7y9psbT"
      },
      "execution_count": null,
      "outputs": []
    },
    {
      "cell_type": "code",
      "source": [
        "fruits1=['apple','banana','cherry']\n",
        "fruits2=('tomato','mango','peach')\n",
        "fruits3={'a':'tomato','b':'mango','c':'peach'}\n",
        "\n",
        "fruits1[1]"
      ],
      "metadata": {
        "colab": {
          "base_uri": "https://localhost:8080/",
          "height": 35
        },
        "id": "yBsz_4jOqDYt",
        "outputId": "4efdc1ca-41c4-498f-a04d-807274d11219"
      },
      "execution_count": 213,
      "outputs": [
        {
          "output_type": "execute_result",
          "data": {
            "text/plain": [
              "'banana'"
            ],
            "application/vnd.google.colaboratory.intrinsic+json": {
              "type": "string"
            }
          },
          "metadata": {},
          "execution_count": 213
        }
      ]
    },
    {
      "cell_type": "code",
      "source": [
        "fruits2[2]"
      ],
      "metadata": {
        "colab": {
          "base_uri": "https://localhost:8080/",
          "height": 35
        },
        "id": "R4ouahwvqefA",
        "outputId": "4f8d4416-8a61-4aea-97db-6a5dfaab6318"
      },
      "execution_count": 214,
      "outputs": [
        {
          "output_type": "execute_result",
          "data": {
            "text/plain": [
              "'peach'"
            ],
            "application/vnd.google.colaboratory.intrinsic+json": {
              "type": "string"
            }
          },
          "metadata": {},
          "execution_count": 214
        }
      ]
    },
    {
      "cell_type": "code",
      "source": [
        "fruits3['a']"
      ],
      "metadata": {
        "colab": {
          "base_uri": "https://localhost:8080/",
          "height": 35
        },
        "id": "tM6SEjlQqoe9",
        "outputId": "1d55e3cd-b09f-4ae1-d952-f387a8fb2f1e"
      },
      "execution_count": 215,
      "outputs": [
        {
          "output_type": "execute_result",
          "data": {
            "text/plain": [
              "'tomato'"
            ],
            "application/vnd.google.colaboratory.intrinsic+json": {
              "type": "string"
            }
          },
          "metadata": {},
          "execution_count": 215
        }
      ]
    },
    {
      "cell_type": "code",
      "source": [
        "e2f={'dog':'chien','cat':'chat','walrus':'morse'}\n",
        "e2f"
      ],
      "metadata": {
        "colab": {
          "base_uri": "https://localhost:8080/"
        },
        "id": "5zWsRnT1qt-5",
        "outputId": "40ae1fd2-d5ce-4ea3-9aea-f14785499ad6"
      },
      "execution_count": 217,
      "outputs": [
        {
          "output_type": "execute_result",
          "data": {
            "text/plain": [
              "{'cat': 'chat', 'dog': 'chien', 'walrus': 'morse'}"
            ]
          },
          "metadata": {},
          "execution_count": 217
        }
      ]
    },
    {
      "cell_type": "code",
      "source": [
        "e2f['walrus']"
      ],
      "metadata": {
        "colab": {
          "base_uri": "https://localhost:8080/",
          "height": 35
        },
        "id": "b3cTX5O2rTSQ",
        "outputId": "1699968a-077f-409b-c80f-2a3734a0d8d6"
      },
      "execution_count": 218,
      "outputs": [
        {
          "output_type": "execute_result",
          "data": {
            "text/plain": [
              "'morse'"
            ],
            "application/vnd.google.colaboratory.intrinsic+json": {
              "type": "string"
            }
          },
          "metadata": {},
          "execution_count": 218
        }
      ]
    },
    {
      "cell_type": "code",
      "source": [
        "for k,v in e2f.items():\n",
        "  f2e={v,k}\n",
        "  dict(chien='dog',cat='chat',walrus='morse')\n",
        "  print(f2e)"
      ],
      "metadata": {
        "colab": {
          "base_uri": "https://localhost:8080/"
        },
        "id": "MH947ppvrV9t",
        "outputId": "2b5167bd-fb0e-4046-c8d6-33c89715b305"
      },
      "execution_count": 249,
      "outputs": [
        {
          "output_type": "stream",
          "name": "stdout",
          "text": [
            "{'chien', 'dog'}\n",
            "{'cat', 'chat'}\n",
            "{'walrus', 'morse'}\n"
          ]
        }
      ]
    },
    {
      "cell_type": "code",
      "source": [
        "[k for k,v in e2f.items() if v=='chien']"
      ],
      "metadata": {
        "colab": {
          "base_uri": "https://localhost:8080/"
        },
        "id": "uRBS3z8dryIu",
        "outputId": "b30a1514-6570-41e9-b88d-1c1dd91a8de0"
      },
      "execution_count": 238,
      "outputs": [
        {
          "output_type": "execute_result",
          "data": {
            "text/plain": [
              "['dog']"
            ]
          },
          "metadata": {},
          "execution_count": 238
        }
      ]
    },
    {
      "cell_type": "code",
      "source": [
        "e2f.keys()"
      ],
      "metadata": {
        "colab": {
          "base_uri": "https://localhost:8080/"
        },
        "id": "ClNEArxVr97f",
        "outputId": "08189529-0be1-4763-a74e-edc4df7aceda"
      },
      "execution_count": 228,
      "outputs": [
        {
          "output_type": "execute_result",
          "data": {
            "text/plain": [
              "dict_keys(['dog', 'cat', 'walrus'])"
            ]
          },
          "metadata": {},
          "execution_count": 228
        }
      ]
    },
    {
      "cell_type": "code",
      "source": [
        "딕셔너리 키와 값으로 구성되며 항목의 순서는 따지지 않는다."
      ],
      "metadata": {
        "id": "cBKlK_wzKIId"
      },
      "execution_count": null,
      "outputs": []
    },
    {
      "cell_type": "code",
      "source": [
        "menu={1:'식비',2:'쇼핑비',3:'여행비'}\n",
        "menu[2]"
      ],
      "metadata": {
        "colab": {
          "base_uri": "https://localhost:8080/",
          "height": 35
        },
        "id": "iX4zOXnXMgAS",
        "outputId": "efb551c5-8ec8-4c95-ab66-f12938175f1d"
      },
      "execution_count": 2,
      "outputs": [
        {
          "output_type": "execute_result",
          "data": {
            "text/plain": [
              "'쇼핑비'"
            ],
            "application/vnd.google.colaboratory.intrinsic+json": {
              "type": "string"
            }
          },
          "metadata": {},
          "execution_count": 2
        }
      ]
    },
    {
      "cell_type": "code",
      "source": [
        "딕셔너리 생성 dict()"
      ],
      "metadata": {
        "id": "jaVXtqFKNBvY"
      },
      "execution_count": null,
      "outputs": []
    },
    {
      "cell_type": "code",
      "source": [
        "people = dict[[1,'어무니'],[2,'아부지']]\n",
        "people"
      ],
      "metadata": {
        "colab": {
          "base_uri": "https://localhost:8080/",
          "height": 189
        },
        "id": "Vp0lC6KgNEsU",
        "outputId": "609449e5-765b-4efc-e73c-f45b07e6bef0"
      },
      "execution_count": 14,
      "outputs": [
        {
          "output_type": "error",
          "ename": "TypeError",
          "evalue": "ignored",
          "traceback": [
            "\u001b[0;31m---------------------------------------------------------------------------\u001b[0m",
            "\u001b[0;31mTypeError\u001b[0m                                 Traceback (most recent call last)",
            "\u001b[0;32m<ipython-input-14-5d92c1219c65>\u001b[0m in \u001b[0;36m<module>\u001b[0;34m()\u001b[0m\n\u001b[0;32m----> 1\u001b[0;31m \u001b[0mpeople\u001b[0m \u001b[0;34m=\u001b[0m \u001b[0mdict\u001b[0m\u001b[0;34m[\u001b[0m\u001b[0;34m[\u001b[0m\u001b[0;36m1\u001b[0m\u001b[0;34m,\u001b[0m\u001b[0;34m'어무니'\u001b[0m\u001b[0;34m]\u001b[0m\u001b[0;34m,\u001b[0m\u001b[0;34m[\u001b[0m\u001b[0;36m2\u001b[0m\u001b[0;34m,\u001b[0m\u001b[0;34m'아부지'\u001b[0m\u001b[0;34m]\u001b[0m\u001b[0;34m]\u001b[0m\u001b[0;34m\u001b[0m\u001b[0;34m\u001b[0m\u001b[0m\n\u001b[0m\u001b[1;32m      2\u001b[0m \u001b[0mpeople\u001b[0m\u001b[0;34m\u001b[0m\u001b[0;34m\u001b[0m\u001b[0m\n",
            "\u001b[0;31mTypeError\u001b[0m: 'type' object is not subscriptable"
          ]
        }
      ]
    },
    {
      "cell_type": "code",
      "source": [
        "예약어를 key로 사용할 수 없음. "
      ],
      "metadata": {
        "id": "kgDcQfWDNswB"
      },
      "execution_count": null,
      "outputs": []
    },
    {
      "cell_type": "code",
      "source": [
        "menu=[[1,'a'],[2,'b'],[3,'c']]\n",
        "dict(menu)"
      ],
      "metadata": {
        "colab": {
          "base_uri": "https://localhost:8080/"
        },
        "id": "GnmV3adwN7wX",
        "outputId": "c6f3574e-9189-46a2-eb0a-9afeab61538e"
      },
      "execution_count": 12,
      "outputs": [
        {
          "output_type": "execute_result",
          "data": {
            "text/plain": [
              "{1: 'a', 2: 'b', 3: 'c'}"
            ]
          },
          "metadata": {},
          "execution_count": 12
        }
      ]
    },
    {
      "cell_type": "code",
      "source": [
        "리스트를 딕셔너리로 변경하려면 키와 값이 쌍으로 존재해야 변경이 가능 "
      ],
      "metadata": {
        "id": "hEOqQu14OZE7"
      },
      "execution_count": null,
      "outputs": []
    },
    {
      "cell_type": "code",
      "source": [
        "menu=[('breakfast','초밥'),('lunch','치킨'),('dinner','스테이크')]\n",
        "dict(menu)"
      ],
      "metadata": {
        "colab": {
          "base_uri": "https://localhost:8080/"
        },
        "id": "_Zhql7SxOtee",
        "outputId": "a28cbbdb-f618-4fba-fff2-30bc3e5420dd"
      },
      "execution_count": 17,
      "outputs": [
        {
          "output_type": "execute_result",
          "data": {
            "text/plain": [
              "{'breakfast': '초밥', 'dinner': '스테이크', 'lunch': '치킨'}"
            ]
          },
          "metadata": {},
          "execution_count": 17
        }
      ]
    },
    {
      "cell_type": "code",
      "source": [
        "문자 두개씩 넣으면 키 값 구분해서 들어감.\n",
        "두개 초과면 안됨. 두자씩만 가능"
      ],
      "metadata": {
        "id": "yYWqgLdzPRHi"
      },
      "execution_count": null,
      "outputs": []
    },
    {
      "cell_type": "code",
      "source": [
        "menu={'breakfast':'초밥','lunch':'치킨','dinner':'스테이크'}\n",
        "menu['snack']='sandwich'\n",
        "menu['attend']=True\n",
        "menu['attend']"
      ],
      "metadata": {
        "colab": {
          "base_uri": "https://localhost:8080/"
        },
        "id": "hJY5t111PgOT",
        "outputId": "80bb4523-3cc6-42da-9f82-dd1d9223dfc0"
      },
      "execution_count": 30,
      "outputs": [
        {
          "output_type": "execute_result",
          "data": {
            "text/plain": [
              "True"
            ]
          },
          "metadata": {},
          "execution_count": 30
        }
      ]
    },
    {
      "cell_type": "code",
      "source": [
        "맨 마지막 것만 출력\n",
        "중간것은 출력안됨"
      ],
      "metadata": {
        "id": "9sUpwcCOQ1r0"
      },
      "execution_count": null,
      "outputs": []
    },
    {
      "cell_type": "code",
      "source": [
        "'mango' in menu"
      ],
      "metadata": {
        "colab": {
          "base_uri": "https://localhost:8080/"
        },
        "id": "Z30vMKKWQDk1",
        "outputId": "77a47ed7-51fe-4de1-b8d0-6bb6725b69db"
      },
      "execution_count": 31,
      "outputs": [
        {
          "output_type": "execute_result",
          "data": {
            "text/plain": [
              "False"
            ]
          },
          "metadata": {},
          "execution_count": 31
        }
      ]
    },
    {
      "cell_type": "code",
      "source": [
        "'attend' in menu"
      ],
      "metadata": {
        "colab": {
          "base_uri": "https://localhost:8080/"
        },
        "id": "MhTR_xysRC-_",
        "outputId": "2892876f-51e5-4fb8-b422-46d99fa73cd4"
      },
      "execution_count": 32,
      "outputs": [
        {
          "output_type": "execute_result",
          "data": {
            "text/plain": [
              "True"
            ]
          },
          "metadata": {},
          "execution_count": 32
        }
      ]
    },
    {
      "cell_type": "code",
      "source": [
        "menu.get('mango','none of this applies')"
      ],
      "metadata": {
        "colab": {
          "base_uri": "https://localhost:8080/",
          "height": 35
        },
        "id": "Deadr02WRF8M",
        "outputId": "5c5e0c4e-f4f6-41e0-828f-4f20a5380243"
      },
      "execution_count": 33,
      "outputs": [
        {
          "output_type": "execute_result",
          "data": {
            "text/plain": [
              "'none of this applies'"
            ],
            "application/vnd.google.colaboratory.intrinsic+json": {
              "type": "string"
            }
          },
          "metadata": {},
          "execution_count": 33
        }
      ]
    },
    {
      "cell_type": "code",
      "source": [
        "menu.get('absent')"
      ],
      "metadata": {
        "id": "8QVlKK9tRLgc"
      },
      "execution_count": 34,
      "outputs": []
    },
    {
      "cell_type": "code",
      "source": [
        "menu.keys()"
      ],
      "metadata": {
        "colab": {
          "base_uri": "https://localhost:8080/"
        },
        "id": "YCmp48vWRRXP",
        "outputId": "7f02bf67-11f8-473f-b9db-654218489a06"
      },
      "execution_count": 35,
      "outputs": [
        {
          "output_type": "execute_result",
          "data": {
            "text/plain": [
              "dict_keys(['breakfast', 'lunch', 'dinner', 'snack', 'attend'])"
            ]
          },
          "metadata": {},
          "execution_count": 35
        }
      ]
    },
    {
      "cell_type": "code",
      "source": [
        "for i in menu.keys():\n",
        "  print(i)"
      ],
      "metadata": {
        "colab": {
          "base_uri": "https://localhost:8080/"
        },
        "id": "ROmXUTQJRarO",
        "outputId": "5d2703cc-143b-4df9-de0c-92f49955ea8e"
      },
      "execution_count": 40,
      "outputs": [
        {
          "output_type": "stream",
          "name": "stdout",
          "text": [
            "breakfast\n",
            "lunch\n",
            "dinner\n",
            "snack\n",
            "attend\n"
          ]
        }
      ]
    },
    {
      "cell_type": "code",
      "source": [
        "menu.values()"
      ],
      "metadata": {
        "colab": {
          "base_uri": "https://localhost:8080/"
        },
        "id": "GN7yERBCSYX2",
        "outputId": "a653af5e-6b95-4c86-eb5b-cbae8fb1bc82"
      },
      "execution_count": 41,
      "outputs": [
        {
          "output_type": "execute_result",
          "data": {
            "text/plain": [
              "dict_values(['초밥', '치킨', '스테이크', 'sandwich', True])"
            ]
          },
          "metadata": {},
          "execution_count": 41
        }
      ]
    },
    {
      "cell_type": "code",
      "source": [
        "for i in menu.values():\n",
        "  print(i)"
      ],
      "metadata": {
        "colab": {
          "base_uri": "https://localhost:8080/"
        },
        "id": "OwlRKqEHSsUn",
        "outputId": "fb6fe347-451b-4690-a3f7-394da5591210"
      },
      "execution_count": 43,
      "outputs": [
        {
          "output_type": "stream",
          "name": "stdout",
          "text": [
            "초밥\n",
            "치킨\n",
            "스테이크\n",
            "sandwich\n",
            "True\n"
          ]
        }
      ]
    },
    {
      "cell_type": "code",
      "source": [
        "menu.items()"
      ],
      "metadata": {
        "colab": {
          "base_uri": "https://localhost:8080/"
        },
        "id": "u18_I9HqSw-A",
        "outputId": "d789d670-307e-4ac4-fe84-dd4b36adb525"
      },
      "execution_count": 44,
      "outputs": [
        {
          "output_type": "execute_result",
          "data": {
            "text/plain": [
              "dict_items([('breakfast', '초밥'), ('lunch', '치킨'), ('dinner', '스테이크'), ('snack', 'sandwich'), ('attend', True)])"
            ]
          },
          "metadata": {},
          "execution_count": 44
        }
      ]
    },
    {
      "cell_type": "code",
      "source": [
        "for i in menu.items(): #변수 하나에 저장하면 튜플 형태로 나온다. \n",
        "  print(i)\n",
        "\n",
        "튜플 형태로 나옴"
      ],
      "metadata": {
        "colab": {
          "base_uri": "https://localhost:8080/"
        },
        "id": "IcJtfuXGSyrU",
        "outputId": "7f0cf79a-f021-41d5-b872-6f09ef9493bd"
      },
      "execution_count": 45,
      "outputs": [
        {
          "output_type": "stream",
          "name": "stdout",
          "text": [
            "('breakfast', '초밥')\n",
            "('lunch', '치킨')\n",
            "('dinner', '스테이크')\n",
            "('snack', 'sandwich')\n",
            "('attend', True)\n"
          ]
        }
      ]
    },
    {
      "cell_type": "code",
      "source": [
        "for k,v in menu.items():\n",
        "  print(k,v)"
      ],
      "metadata": {
        "colab": {
          "base_uri": "https://localhost:8080/"
        },
        "id": "AjKRnyN3S7BT",
        "outputId": "0899581c-f677-4ddf-9836-76ee42126ac8"
      },
      "execution_count": 46,
      "outputs": [
        {
          "output_type": "stream",
          "name": "stdout",
          "text": [
            "breakfast 초밥\n",
            "lunch 치킨\n",
            "dinner 스테이크\n",
            "snack sandwich\n",
            "attend True\n"
          ]
        }
      ]
    },
    {
      "cell_type": "code",
      "source": [
        "변수 keyword :예약어 reserved word X (tuple, list, print, def, class) "
      ],
      "metadata": {
        "id": "k0y-VLZ9TQIC"
      },
      "execution_count": null,
      "outputs": []
    },
    {
      "cell_type": "code",
      "source": [
        "a=[1,2,3]\n",
        "b=[4,5,6]\n",
        "a+b"
      ],
      "metadata": {
        "colab": {
          "base_uri": "https://localhost:8080/"
        },
        "id": "0e-KISfHUlIE",
        "outputId": "89891589-bc33-4923-9b58-2329fdef6ffc"
      },
      "execution_count": 51,
      "outputs": [
        {
          "output_type": "execute_result",
          "data": {
            "text/plain": [
              "[1, 2, 3, 4, 5, 6]"
            ]
          },
          "metadata": {},
          "execution_count": 51
        }
      ]
    },
    {
      "cell_type": "code",
      "source": [
        "fruits={'apple':'사과','banana':'바나나','cherry':'체리'}\n",
        "menu={1:\"짬뽕\",2:\"짜장면\",3:\"탕수육\"}\n",
        "{**fruits, **menu} # 두개의 딕셔너리 결합"
      ],
      "metadata": {
        "colab": {
          "base_uri": "https://localhost:8080/"
        },
        "id": "Q0lThvvPVZ0F",
        "outputId": "b96c3224-ffae-40a8-d25d-3182d27b376d"
      },
      "execution_count": 52,
      "outputs": [
        {
          "output_type": "execute_result",
          "data": {
            "text/plain": [
              "{1: '짬뽕', 2: '짜장면', 3: '탕수육', 'apple': '사과', 'banana': '바나나', 'cherry': '체리'}"
            ]
          },
          "metadata": {},
          "execution_count": 52
        }
      ]
    },
    {
      "cell_type": "code",
      "source": [
        "update 최근걸로 바꿔죠, 새로운것 추가하기"
      ],
      "metadata": {
        "id": "BpdzciWhVqHs"
      },
      "execution_count": null,
      "outputs": []
    },
    {
      "cell_type": "code",
      "source": [
        "menu.update(fruits)\n",
        "menu"
      ],
      "metadata": {
        "colab": {
          "base_uri": "https://localhost:8080/"
        },
        "id": "zUJ1eJdfWD7T",
        "outputId": "f23e2c70-290b-46bd-bf77-4266b8dcc912"
      },
      "execution_count": 53,
      "outputs": [
        {
          "output_type": "execute_result",
          "data": {
            "text/plain": [
              "{1: '짬뽕', 2: '짜장면', 3: '탕수육', 'apple': '사과', 'banana': '바나나', 'cherry': '체리'}"
            ]
          },
          "metadata": {},
          "execution_count": 53
        }
      ]
    },
    {
      "cell_type": "code",
      "source": [
        "del menu[2]\n",
        "menu"
      ],
      "metadata": {
        "colab": {
          "base_uri": "https://localhost:8080/"
        },
        "id": "_ovLVPONWPI3",
        "outputId": "30be740c-2b4a-4355-c3b1-13d135bb0b58"
      },
      "execution_count": 59,
      "outputs": [
        {
          "output_type": "execute_result",
          "data": {
            "text/plain": [
              "{3: '탕수육', 'apple': '사과', 'banana': '바나나', 'cherry': '체리'}"
            ]
          },
          "metadata": {},
          "execution_count": 59
        }
      ]
    },
    {
      "cell_type": "code",
      "source": [
        "del menu[1] # 지울 값이 없으면 키에러 \n",
        "menu"
      ],
      "metadata": {
        "colab": {
          "base_uri": "https://localhost:8080/",
          "height": 189
        },
        "id": "-B1ZZcJJWlxI",
        "outputId": "d5c02dfb-50ae-4105-d1c9-595a9f60db54"
      },
      "execution_count": 60,
      "outputs": [
        {
          "output_type": "error",
          "ename": "KeyError",
          "evalue": "ignored",
          "traceback": [
            "\u001b[0;31m---------------------------------------------------------------------------\u001b[0m",
            "\u001b[0;31mKeyError\u001b[0m                                  Traceback (most recent call last)",
            "\u001b[0;32m<ipython-input-60-f3c91b3b08a5>\u001b[0m in \u001b[0;36m<module>\u001b[0;34m()\u001b[0m\n\u001b[0;32m----> 1\u001b[0;31m \u001b[0;32mdel\u001b[0m \u001b[0mmenu\u001b[0m\u001b[0;34m[\u001b[0m\u001b[0;36m1\u001b[0m\u001b[0;34m]\u001b[0m\u001b[0;34m\u001b[0m\u001b[0;34m\u001b[0m\u001b[0m\n\u001b[0m\u001b[1;32m      2\u001b[0m \u001b[0mmenu\u001b[0m\u001b[0;34m\u001b[0m\u001b[0;34m\u001b[0m\u001b[0m\n",
            "\u001b[0;31mKeyError\u001b[0m: 1"
          ]
        }
      ]
    },
    {
      "cell_type": "code",
      "source": [
        "first={'a':1,'b':2}\n",
        "first.pop('b')"
      ],
      "metadata": {
        "colab": {
          "base_uri": "https://localhost:8080/"
        },
        "id": "N4x45j9XWgSc",
        "outputId": "e2c93939-48c9-4844-bc9f-a721c80b118b"
      },
      "execution_count": 61,
      "outputs": [
        {
          "output_type": "execute_result",
          "data": {
            "text/plain": [
              "2"
            ]
          },
          "metadata": {},
          "execution_count": 61
        }
      ]
    },
    {
      "cell_type": "code",
      "source": [
        "first.pop('c','none') #해당되는 것 없을때 none 출력"
      ],
      "metadata": {
        "colab": {
          "base_uri": "https://localhost:8080/",
          "height": 35
        },
        "id": "FtPLPpdtWuXS",
        "outputId": "6ea5e660-bb91-4c90-b378-f8133d6d4ec7"
      },
      "execution_count": 62,
      "outputs": [
        {
          "output_type": "execute_result",
          "data": {
            "text/plain": [
              "'none'"
            ],
            "application/vnd.google.colaboratory.intrinsic+json": {
              "type": "string"
            }
          },
          "metadata": {},
          "execution_count": 62
        }
      ]
    },
    {
      "cell_type": "code",
      "source": [
        "menu[1]='초밥'\n",
        "menu"
      ],
      "metadata": {
        "colab": {
          "base_uri": "https://localhost:8080/"
        },
        "id": "ri-ejkJZW40N",
        "outputId": "718dc28e-ce11-4c63-9d65-6f50dbba21a2"
      },
      "execution_count": 63,
      "outputs": [
        {
          "output_type": "execute_result",
          "data": {
            "text/plain": [
              "{1: '초밥', 3: '탕수육', 'apple': '사과', 'banana': '바나나', 'cherry': '체리'}"
            ]
          },
          "metadata": {},
          "execution_count": 63
        }
      ]
    },
    {
      "cell_type": "code",
      "source": [
        "first\n",
        "first['b']=2\n",
        "first['b']=3\n",
        "first"
      ],
      "metadata": {
        "colab": {
          "base_uri": "https://localhost:8080/"
        },
        "id": "5InqAaVSXODx",
        "outputId": "9bdfafb6-508f-47ae-9ae6-584fd371338c"
      },
      "execution_count": 66,
      "outputs": [
        {
          "output_type": "execute_result",
          "data": {
            "text/plain": [
              "{'a': 1, 'b': 3}"
            ]
          },
          "metadata": {},
          "execution_count": 66
        }
      ]
    },
    {
      "cell_type": "code",
      "source": [
        "second=first\n",
        "first['c']=3\n",
        "second"
      ],
      "metadata": {
        "colab": {
          "base_uri": "https://localhost:8080/"
        },
        "id": "nwPniiHQXoV_",
        "outputId": "2a60fc56-c7ef-44e1-e0a5-68750189c13f"
      },
      "execution_count": 67,
      "outputs": [
        {
          "output_type": "execute_result",
          "data": {
            "text/plain": [
              "{'a': 1, 'b': 3, 'c': 3}"
            ]
          },
          "metadata": {},
          "execution_count": 67
        }
      ]
    },
    {
      "cell_type": "code",
      "source": [
        "second = first.copy #기존 복사본만 가져와서 기존값이 변경되어도 수정이 반영되지 않음. 얕은 복사"
      ],
      "metadata": {
        "id": "QEXWcJh-bAN5"
      },
      "execution_count": null,
      "outputs": []
    },
    {
      "cell_type": "code",
      "source": [
        "second.first.copy()\n",
        "first['d']=4\n"
      ],
      "metadata": {
        "id": "hk9X0K8vbULw"
      },
      "execution_count": null,
      "outputs": []
    },
    {
      "cell_type": "code",
      "source": [
        "import copy # 깊은 복사는 사본의 변경사항도 원본과 동일하게 수정됨."
      ],
      "metadata": {
        "id": "YZZi2nKHbzDI"
      },
      "execution_count": null,
      "outputs": []
    },
    {
      "cell_type": "code",
      "source": [
        "name='성 낙 원'\n",
        "name_list=name.split()\n",
        "name_list"
      ],
      "metadata": {
        "colab": {
          "base_uri": "https://localhost:8080/"
        },
        "id": "y2nRkWkqb18w",
        "outputId": "2d434f5b-5eef-4cb8-bd92-f6c4e9c5e46a"
      },
      "execution_count": 75,
      "outputs": [
        {
          "output_type": "execute_result",
          "data": {
            "text/plain": [
              "['성', '낙', '원']"
            ]
          },
          "metadata": {},
          "execution_count": 75
        }
      ]
    },
    {
      "cell_type": "code",
      "source": [
        "number='010-7275-7595'\n",
        "number=number.split('-')\n",
        "number"
      ],
      "metadata": {
        "colab": {
          "base_uri": "https://localhost:8080/"
        },
        "id": "1oLHlf5ibSZg",
        "outputId": "5265e55c-927c-4cc5-d4e6-6d62093cccbd"
      },
      "execution_count": 76,
      "outputs": [
        {
          "output_type": "execute_result",
          "data": {
            "text/plain": [
              "['010', '7275', '7595']"
            ]
          },
          "metadata": {},
          "execution_count": 76
        }
      ]
    },
    {
      "cell_type": "code",
      "source": [
        "list(name)"
      ],
      "metadata": {
        "colab": {
          "base_uri": "https://localhost:8080/"
        },
        "id": "4UxcH4QOaQuh",
        "outputId": "630ece2f-9b94-4531-bafe-6643e7d3df4a"
      },
      "execution_count": 77,
      "outputs": [
        {
          "output_type": "execute_result",
          "data": {
            "text/plain": [
              "['성', ' ', '낙', ' ', '원']"
            ]
          },
          "metadata": {},
          "execution_count": 77
        }
      ]
    },
    {
      "cell_type": "code",
      "source": [
        "list(number)"
      ],
      "metadata": {
        "colab": {
          "base_uri": "https://localhost:8080/"
        },
        "id": "cF4Q6PHreU8-",
        "outputId": "20d96796-3942-4883-eb89-d149da68a713"
      },
      "execution_count": 78,
      "outputs": [
        {
          "output_type": "execute_result",
          "data": {
            "text/plain": [
              "['010', '7275', '7595']"
            ]
          },
          "metadata": {},
          "execution_count": 78
        }
      ]
    },
    {
      "cell_type": "code",
      "source": [
        "word='letter'\n",
        "letter_count={letter:word.count(letter) for letter in word}\n",
        "letter_count "
      ],
      "metadata": {
        "colab": {
          "base_uri": "https://localhost:8080/"
        },
        "id": "_gH9JZcaeWuZ",
        "outputId": "fcb830fe-25d8-4e16-ee35-322701d5cb64"
      },
      "execution_count": 83,
      "outputs": [
        {
          "output_type": "execute_result",
          "data": {
            "text/plain": [
              "{'e': 2, 'l': 1, 'r': 1, 't': 2}"
            ]
          },
          "metadata": {},
          "execution_count": 83
        }
      ]
    },
    {
      "cell_type": "code",
      "source": [
        "#1~10까지의 수를 리스트 컴프리헨션을 이용해서 리스트 만들기\n",
        "num_list=[i for i in range(1,11)]\n",
        "num_list"
      ],
      "metadata": {
        "colab": {
          "base_uri": "https://localhost:8080/"
        },
        "id": "YvHDSKY-ffc-",
        "outputId": "aa53b058-6402-4b3d-ccad-492b888e4316"
      },
      "execution_count": 85,
      "outputs": [
        {
          "output_type": "execute_result",
          "data": {
            "text/plain": [
              "[1, 2, 3, 4, 5, 6, 7, 8, 9, 10]"
            ]
          },
          "metadata": {},
          "execution_count": 85
        }
      ]
    },
    {
      "cell_type": "code",
      "source": [
        "even_list=[i for i in range (2,11,2)]\n",
        "even_list"
      ],
      "metadata": {
        "colab": {
          "base_uri": "https://localhost:8080/"
        },
        "id": "15FNQYt2gCl_",
        "outputId": "a351a916-5a9f-4569-b35c-6b95a031fcd0"
      },
      "execution_count": 86,
      "outputs": [
        {
          "output_type": "execute_result",
          "data": {
            "text/plain": [
              "[2, 4, 6, 8, 10]"
            ]
          },
          "metadata": {},
          "execution_count": 86
        }
      ]
    },
    {
      "cell_type": "code",
      "source": [
        "num_list=[i for i in range(1,11) if i %2==0]\n",
        "num_list"
      ],
      "metadata": {
        "colab": {
          "base_uri": "https://localhost:8080/"
        },
        "id": "HzHAcpNqfSHp",
        "outputId": "f59753fb-35bf-442c-aa66-412a06a4b78b"
      },
      "execution_count": 87,
      "outputs": [
        {
          "output_type": "execute_result",
          "data": {
            "text/plain": [
              "[2, 4, 6, 8, 10]"
            ]
          },
          "metadata": {},
          "execution_count": 87
        }
      ]
    },
    {
      "cell_type": "code",
      "source": [
        "num1_list=[i for i in range(10,0,-1)]\n",
        "num1_list"
      ],
      "metadata": {
        "colab": {
          "base_uri": "https://localhost:8080/"
        },
        "id": "zHGjA96RgX8E",
        "outputId": "c6d9bd2f-17b8-403b-9419-a818c1a3989b"
      },
      "execution_count": 89,
      "outputs": [
        {
          "output_type": "execute_result",
          "data": {
            "text/plain": [
              "[10, 9, 8, 7, 6, 5, 4, 3, 2, 1]"
            ]
          },
          "metadata": {},
          "execution_count": 89
        }
      ]
    },
    {
      "cell_type": "code",
      "source": [
        "num1_list=[i for i in range(10,0,-1) if i%2==1]\n",
        "num1_list"
      ],
      "metadata": {
        "colab": {
          "base_uri": "https://localhost:8080/"
        },
        "id": "0Gk3p-izgvnj",
        "outputId": "7be956fe-770b-4e34-b322-0ba6fd11f788"
      },
      "execution_count": 90,
      "outputs": [
        {
          "output_type": "execute_result",
          "data": {
            "text/plain": [
              "[9, 7, 5, 3, 1]"
            ]
          },
          "metadata": {},
          "execution_count": 90
        }
      ]
    },
    {
      "cell_type": "code",
      "source": [
        "#딕셔너리를 셋으로 바꾸면 키들만 모인다. "
      ],
      "metadata": {
        "id": "cNTUmeo0g0P6"
      },
      "execution_count": null,
      "outputs": []
    },
    {
      "cell_type": "code",
      "source": [
        "menu={1:'초밥',2:'치킨',3:'스테이크'}\n",
        "len(menu)"
      ],
      "metadata": {
        "colab": {
          "base_uri": "https://localhost:8080/"
        },
        "id": "B5wRdX9HhNME",
        "outputId": "bd7bef92-5fa5-4c23-9a55-a30277b3a234"
      },
      "execution_count": 93,
      "outputs": [
        {
          "output_type": "execute_result",
          "data": {
            "text/plain": [
              "3"
            ]
          },
          "metadata": {},
          "execution_count": 93
        }
      ]
    },
    {
      "cell_type": "code",
      "source": [
        "s=set((1,2,3)) #셋은 한 덩어리만 가져감. set expected at most 1 arguments, 매개변수 하나만 \n",
        "s\n",
        "s.add(4)\n",
        "s\n",
        "# 셋추가는 add 메서드 사용, set()메서드는 튜플을 셋으로 바꿈."
      ],
      "metadata": {
        "colab": {
          "base_uri": "https://localhost:8080/"
        },
        "id": "8HEBsCQzhuAf",
        "outputId": "f6637191-4459-4a31-f57a-450ca7ab4896"
      },
      "execution_count": 95,
      "outputs": [
        {
          "output_type": "execute_result",
          "data": {
            "text/plain": [
              "{1, 2, 3, 4}"
            ]
          },
          "metadata": {},
          "execution_count": 95
        }
      ]
    },
    {
      "cell_type": "code",
      "source": [
        "s.add(5)\n",
        "s.add(6)\n",
        "s\n",
        "s.remove(5)\n",
        "s.remove(6)\n",
        "s"
      ],
      "metadata": {
        "colab": {
          "base_uri": "https://localhost:8080/"
        },
        "id": "tZ2jQuBgh19a",
        "outputId": "905c7649-8b66-4319-b255-f84c435d336a"
      },
      "execution_count": 104,
      "outputs": [
        {
          "output_type": "execute_result",
          "data": {
            "text/plain": [
              "{1, 2, 4}"
            ]
          },
          "metadata": {},
          "execution_count": 104
        }
      ]
    },
    {
      "cell_type": "code",
      "source": [
        "menu={\n",
        "    '최상':{\"탕수육\",\"water melon\",'mango','apple'},\n",
        "    '상':{\"짬뽕\",\"mango\",\"grape\"},\n",
        "    '보통':{\"짜장면\",\"apple\"}\n",
        "}\n",
        "\n",
        "for k,v in menu.items():\n",
        "  if v & {'짬뽕','짜장면'}: # $가 or 역할\n",
        "    print(k)"
      ],
      "metadata": {
        "colab": {
          "base_uri": "https://localhost:8080/"
        },
        "id": "Fp9o02I9itud",
        "outputId": "330bdea4-7305-4cac-b291-4cd43fd09c05"
      },
      "execution_count": 106,
      "outputs": [
        {
          "output_type": "stream",
          "name": "stdout",
          "text": [
            "상\n",
            "보통\n"
          ]
        }
      ]
    },
    {
      "cell_type": "code",
      "source": [
        "menu={\n",
        "    '최상':{\"탕수육\",\"water melon\",'mango','apple'},\n",
        "    '상':{\"짬뽕\",\"mango\",\"grape\"},\n",
        "    '보통':{\"짜장면\",\"apple\"}\n",
        "}\n",
        "\n",
        "for k,v in menu.items():\n",
        "  if v=='짬뽕' and v=='짜장면':\n",
        "    print(k)"
      ],
      "metadata": {
        "id": "jNAys2owmx8v"
      },
      "execution_count": 114,
      "outputs": []
    },
    {
      "cell_type": "code",
      "source": [
        "for k,v in menu.items():\n",
        "  if v=='mango' and not v & {'탕수육','watermelon'}: # $가 or 역할\n",
        "    print(k)"
      ],
      "metadata": {
        "id": "E7W5RdPOncDt"
      },
      "execution_count": 122,
      "outputs": []
    },
    {
      "cell_type": "code",
      "source": [
        ""
      ],
      "metadata": {
        "id": "Jpp6WL7SoWlo"
      },
      "execution_count": null,
      "outputs": []
    }
  ]
}