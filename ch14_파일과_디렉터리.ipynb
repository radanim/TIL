{
  "nbformat": 4,
  "nbformat_minor": 0,
  "metadata": {
    "colab": {
      "name": "ch14 파일과 디렉터리",
      "provenance": [],
      "authorship_tag": "ABX9TyPrJOSW+aMbz/7RaoWYI/jb",
      "include_colab_link": true
    },
    "kernelspec": {
      "name": "python3",
      "display_name": "Python 3"
    },
    "language_info": {
      "name": "python"
    }
  },
  "cells": [
    {
      "cell_type": "markdown",
      "metadata": {
        "id": "view-in-github",
        "colab_type": "text"
      },
      "source": [
        "<a href=\"https://colab.research.google.com/github/radanim/TIL/blob/master/ch14_%ED%8C%8C%EC%9D%BC%EA%B3%BC_%EB%94%94%EB%A0%89%ED%84%B0%EB%A6%AC.ipynb\" target=\"_parent\"><img src=\"https://colab.research.google.com/assets/colab-badge.svg\" alt=\"Open In Colab\"/></a>"
      ]
    },
    {
      "cell_type": "code",
      "execution_count": 2,
      "metadata": {
        "colab": {
          "base_uri": "https://localhost:8080/"
        },
        "id": "QZuf3w2gPe12",
        "outputId": "3925a1af-e02d-4b8d-ea11-443729cbcad8"
      },
      "outputs": [
        {
          "output_type": "stream",
          "name": "stdout",
          "text": [
            "Mounted at /content/drive\n"
          ]
        }
      ],
      "source": [
        "from google.colab import drive\n",
        "drive.mount('/content/drive')"
      ]
    },
    {
      "cell_type": "code",
      "source": [
        "!pwd #현재 폴더 경로 "
      ],
      "metadata": {
        "colab": {
          "base_uri": "https://localhost:8080/"
        },
        "id": "IwjiBvMGQhe_",
        "outputId": "f56e22b0-c50a-4b3c-c1c3-fbaecdef9aad"
      },
      "execution_count": 3,
      "outputs": [
        {
          "output_type": "stream",
          "name": "stdout",
          "text": [
            "/content\n"
          ]
        }
      ]
    },
    {
      "cell_type": "code",
      "source": [
        "file_path='/content/text'\n",
        "\n",
        "# my_file=open(file_path,'w') 같은 기능 다른 표현 \n",
        "\n",
        "with open(file_path, 'w') as my_file: #write 파일만들고 쓸거야\n",
        "  my_file.write('Hello') # 없으면 만들어서 열고, 있으면 그대로 열었음.\n",
        "  my_file.write('Good bye')\n",
        "\n",
        "# print는 형태를 완전히 인코딩해서 써야함. \n",
        "# 읽었다 = 파일 내 컨텐츠를 메모리로 가져왔다. \n"
      ],
      "metadata": {
        "id": "fJeUdQZ7Qr7o"
      },
      "execution_count": 6,
      "outputs": []
    },
    {
      "cell_type": "code",
      "source": [
        "\\n 뉴라인 줄 \n",
        "for loop readline: 한줄씩 쭉 불러와서 메모리에 올리기\n",
        "iterator() 한줄씩 쭉쭉 읽어주기"
      ],
      "metadata": {
        "id": "HUcXaT83S8eE"
      },
      "execution_count": null,
      "outputs": []
    },
    {
      "cell_type": "code",
      "source": [
        "모드에 b 포함하면 파일이 이진모드로 열림. 문자열 대신 바이트로 읽고 쓸 수 있음\n",
        "with 표현식 as 변수 형식 사용 추천\n",
        "자동으로 닫아줌. "
      ],
      "metadata": {
        "id": "LGE2bWJoUFLf"
      },
      "execution_count": null,
      "outputs": []
    },
    {
      "cell_type": "code",
      "source": [
        "mmap 모듈 파일을 메모리에 매핑.\n",
        "파일 내용을 메모리의 바이트 배열처럼 보이게 해줌\n",
        "메모리 128기가 테라바이트 급 데이터 pc에서 못함. 그럼 서버에서\n",
        "기가급은 가능. overflow 발생안함. \n",
        "랩탑은 5분 내외 데이터 간단하면\n",
        "데이터 피쳐, 칼럼 자체가 수백건 이상이면 노트북도 10분이상 걸림. \n",
        "gpu장착 서버에서 돌리면 수십초 내외. \n",
        "메모리 올리거나 회사 공용서버 구하기\n",
        "내컴퓨터에서 액셀파일 열리면 그냥 돌리면 됨"
      ],
      "metadata": {
        "id": "Z4Fvv5wcVOY9"
      },
      "execution_count": null,
      "outputs": []
    },
    {
      "cell_type": "code",
      "source": [
        "리드 일정 범위 정해서 순차적으로 처리하기 \n",
        "isfile() 파일인지 확인\n",
        "isdir() 디렉터리 맞는지 확인\n",
        "move() 파일 복사하고 원본파일은 삭제\n",
        "경로구분 기호 윈도우는 백슬러시 \n",
        "파이썬은 슬러시 경로구분 기호"
      ],
      "metadata": {
        "id": "UdnyixPaUSIF"
      },
      "execution_count": null,
      "outputs": []
    },
    {
      "cell_type": "code",
      "source": [
        "파이썬 아나콘다 가상환경\n",
        "경로 이름 작성\n",
        "절대 경로(/ㅇㄹㅁ;리ㅏㅓ/) vs 상대 경로(/..): 상위폴더 표시방법 차이 \n",
        "IO 입출력 파일 불러오고 쓰고 많이 할때\n",
        "메모리에서 해결, 하드까지 안가고 "
      ],
      "metadata": {
        "id": "NljfqOCAXxKi"
      },
      "execution_count": null,
      "outputs": []
    },
    {
      "cell_type": "code",
      "source": [
        "import os # 파이썬 라이브러리를 다루는 오퍼레이션 시스템, 패키지, 모듈\n",
        "os.listdir('.')\n",
        "os.listdir('..')\n",
        "!pwd # 동일한 hierarchy에 있는 폴더 다출력\n"
      ],
      "metadata": {
        "colab": {
          "base_uri": "https://localhost:8080/"
        },
        "id": "r9UTJmR4ZDrZ",
        "outputId": "bd600dae-50e8-4785-ec7f-be1c4947e8bd"
      },
      "execution_count": 9,
      "outputs": [
        {
          "output_type": "stream",
          "name": "stdout",
          "text": [
            "/content\n"
          ]
        }
      ]
    },
    {
      "cell_type": "code",
      "source": [
        "os.listdir('.')"
      ],
      "metadata": {
        "colab": {
          "base_uri": "https://localhost:8080/"
        },
        "id": "-4TZ7UQLZ4_4",
        "outputId": "24c6fff4-7026-43b5-bf74-30fbef42478b"
      },
      "execution_count": 10,
      "outputs": [
        {
          "output_type": "execute_result",
          "data": {
            "text/plain": [
              "['.config', 'drive', 'text', 'sample_data']"
            ]
          },
          "metadata": {},
          "execution_count": 10
        }
      ]
    },
    {
      "cell_type": "code",
      "source": [
        "test1='This is a test of the emergency text system'\n",
        "\n",
        "output=open('test1.txt','wt')\n",
        "output.write((test1))\n",
        "output.close()"
      ],
      "metadata": {
        "id": "wtnmdt7NX0hY"
      },
      "execution_count": 11,
      "outputs": []
    },
    {
      "cell_type": "code",
      "source": [
        "with open('test1.txt','wt') as outfile:\n",
        "  outfile.write(test1)"
      ],
      "metadata": {
        "id": "I_p5eFgFaOmu"
      },
      "execution_count": 12,
      "outputs": []
    },
    {
      "cell_type": "code",
      "source": [
        "with open('test1.txt','rt') as inputfile:\n",
        "  test2=inputfile.read()\n",
        "\n",
        "test2\n",
        "\n",
        "test1==test2"
      ],
      "metadata": {
        "colab": {
          "base_uri": "https://localhost:8080/"
        },
        "id": "up-8dAkUa-c3",
        "outputId": "6905e50b-1c4b-473b-b40e-a55576bcced5"
      },
      "execution_count": 14,
      "outputs": [
        {
          "output_type": "execute_result",
          "data": {
            "text/plain": [
              "True"
            ]
          },
          "metadata": {},
          "execution_count": 14
        }
      ]
    },
    {
      "cell_type": "code",
      "source": [
        ""
      ],
      "metadata": {
        "id": "XIQ2DsQ8a-Gp"
      },
      "execution_count": null,
      "outputs": []
    }
  ]
}