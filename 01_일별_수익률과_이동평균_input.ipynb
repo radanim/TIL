{
  "cells": [
    {
      "cell_type": "markdown",
      "metadata": {
        "id": "view-in-github",
        "colab_type": "text"
      },
      "source": [
        "<a href=\"https://colab.research.google.com/github/radanim/TIL/blob/master/01_%EC%9D%BC%EB%B3%84_%EC%88%98%EC%9D%B5%EB%A5%A0%EA%B3%BC_%EC%9D%B4%EB%8F%99%ED%8F%89%EA%B7%A0_input.ipynb\" target=\"_parent\"><img src=\"https://colab.research.google.com/assets/colab-badge.svg\" alt=\"Open In Colab\"/></a>"
      ]
    },
    {
      "cell_type": "markdown",
      "metadata": {
        "id": "oOGubUTGUDRq"
      },
      "source": [
        "## 기술적 분석\n",
        "금융시장의 가격 예측에는 몇가지 방법이 있다. 학계에서 일반적으로 인정되는 것은 효율적 시장 가설(EMH)과 랜덤워크 이론으로, 이는 <font color=\"red\">시장에서의 가격 예측이 불가능하다는 결론</font>에 이른다.\n",
        "\n",
        "이런 이론에도 불구하고 실무에서는 어떻게든 가격 움직임을 맞히려 애쓸 때가 많다. 기본적 분석(fundamental analysis)은 가격 결정의 원인을 거슬러올라간다. 주식은 회사의 소유지분이며, 주가는 기본적으로 그 회사의 수익성이나 사업 전망 등에 의해 결정된다 할 것이다. 수익성이 높은데 주가가 상대적으로 낮다면, 가격은 회사 가치에 일치하는 방향으로 움직일 것이라 기대할 수 있다. 기본적 분석은 이처럼 가격과 실제 가치의 괴리를 발견하기 위한 방법이다. 워런 버핏이 이런 투자 방법으로 유명하다.\n",
        "\n",
        "기술적 분석은 시장의 가격 그 자체에만 관심을 갖고, 그런 가격 움직임의 원인에는 관심을 두지 않는다. 몇가지 가정과, 과거와 현재의 가격 움직임에 따라 미래의 가격이 어떻게 움직일지를 예측한다. 기술적 분석은 이론적인 뒷받침이 거의 없으며, 분석의 유효성은 과거의 시장 경험에 의존한다. 오늘날 개인용 컴퓨터가 보급됨에 따라 확산되고 있다.\n",
        "\n",
        "기본적 분석은 경제분석가, 시장분석가, 에널리스트의 지지를 받으며 발전을 지속하고 있으며, 고액 연봉을 받는 이들 분석가들은 펀드매니저와 함께 시장의 주류를 형성하고 있다. 반면 기술적 분석가는 일부 증권사에서 한 두 명이 리서치 센터에 속하며 그래프를 통한 시장분석을 내 놓고 있으나, 보조적인 입장에서 개인투자자에게 참고자료를 제공하는 위치에 서 있다. 기관투자가들은 거의 대부분 기본적분석을 중심으로 시장 대응하고 있으며, 개인투자자들은 주로 기술적 분석에 의거하여 시장에 참여하고 있다.\n",
        "\n",
        "* 출처 : [기술적 분석 - 위키백과, 우리 모두의 백과사전](https://ko.wikipedia.org/wiki/%EA%B8%B0%EC%88%A0%EC%A0%81_%EB%B6%84%EC%84%9D)\n",
        "\n",
        "## 효율적 시장 가설(Efficient Market Hypothesis)\n",
        "\n",
        "금융경제학에서 모든 시장참여자가 완벽한 정보를 가지고 있을 때 자산가격이 균형에 도달한다는 가설이다.\n",
        "\n",
        "* 출처 : [효율적 시장 가설 - 위키백과, 우리 모두의 백과사전](https://ko.wikipedia.org/wiki/%ED%9A%A8%EC%9C%A8%EC%A0%81_%EC%8B%9C%EC%9E%A5_%EA%B0%80%EC%84%A4)\n",
        "\n",
        "## MTS(Mobile Trading System) 에서 제공하는 각종 기술적 분석 지표\n",
        "\n",
        "<img src=\"https://i.imgur.com/67VgH44.png\">"
      ]
    },
    {
      "cell_type": "markdown",
      "metadata": {
        "id": "6w98TLnAUDRv"
      },
      "source": [
        "## 라이브러리 로드"
      ]
    },
    {
      "cell_type": "code",
      "execution_count": 11,
      "metadata": {
        "id": "kHBcoIlnUDRw"
      },
      "outputs": [],
      "source": [
        "# 데이터 분석을 위한 pandas, 시각화를 위한 matplotlib, 주가 데이터 수집을 위한 FinanceDataReader\n",
        "import pandas\n",
        "import matplotlib as plt\n",
        "import FinanceDataReader as fdr"
      ]
    },
    {
      "cell_type": "code",
      "source": [
        "!pip install finance-datareader"
      ],
      "metadata": {
        "id": "aDwRAEVmhHn4",
        "outputId": "265f0baf-38aa-4b31-8c45-9383694369c4",
        "colab": {
          "base_uri": "https://localhost:8080/"
        }
      },
      "execution_count": 9,
      "outputs": [
        {
          "output_type": "stream",
          "name": "stdout",
          "text": [
            "Looking in indexes: https://pypi.org/simple, https://us-python.pkg.dev/colab-wheels/public/simple/\n",
            "Requirement already satisfied: finance-datareader in /usr/local/lib/python3.7/dist-packages (0.9.42)\n",
            "Requirement already satisfied: tqdm in /usr/local/lib/python3.7/dist-packages (from finance-datareader) (4.64.1)\n",
            "Requirement already satisfied: requests-file in /usr/local/lib/python3.7/dist-packages (from finance-datareader) (1.5.1)\n",
            "Requirement already satisfied: pandas>=0.19.2 in /usr/local/lib/python3.7/dist-packages (from finance-datareader) (1.3.5)\n",
            "Requirement already satisfied: lxml in /usr/local/lib/python3.7/dist-packages (from finance-datareader) (4.9.1)\n",
            "Requirement already satisfied: requests>=2.3.0 in /usr/local/lib/python3.7/dist-packages (from finance-datareader) (2.23.0)\n",
            "Requirement already satisfied: numpy>=1.17.3 in /usr/local/lib/python3.7/dist-packages (from pandas>=0.19.2->finance-datareader) (1.21.6)\n",
            "Requirement already satisfied: pytz>=2017.3 in /usr/local/lib/python3.7/dist-packages (from pandas>=0.19.2->finance-datareader) (2022.2.1)\n",
            "Requirement already satisfied: python-dateutil>=2.7.3 in /usr/local/lib/python3.7/dist-packages (from pandas>=0.19.2->finance-datareader) (2.8.2)\n",
            "Requirement already satisfied: six>=1.5 in /usr/local/lib/python3.7/dist-packages (from python-dateutil>=2.7.3->pandas>=0.19.2->finance-datareader) (1.15.0)\n",
            "Requirement already satisfied: certifi>=2017.4.17 in /usr/local/lib/python3.7/dist-packages (from requests>=2.3.0->finance-datareader) (2022.6.15)\n",
            "Requirement already satisfied: urllib3!=1.25.0,!=1.25.1,<1.26,>=1.21.1 in /usr/local/lib/python3.7/dist-packages (from requests>=2.3.0->finance-datareader) (1.24.3)\n",
            "Requirement already satisfied: chardet<4,>=3.0.2 in /usr/local/lib/python3.7/dist-packages (from requests>=2.3.0->finance-datareader) (3.0.4)\n",
            "Requirement already satisfied: idna<3,>=2.5 in /usr/local/lib/python3.7/dist-packages (from requests>=2.3.0->finance-datareader) (2.10)\n"
          ]
        }
      ]
    },
    {
      "cell_type": "markdown",
      "metadata": {
        "id": "F2gp8TnWUDRx"
      },
      "source": [
        "## 삼성전자 일별시세 불러오기"
      ]
    },
    {
      "cell_type": "code",
      "execution_count": 13,
      "metadata": {
        "id": "qOCnx9j4UDRx",
        "outputId": "f5c2bcf8-a57a-4524-9fec-8660cc3e69b1",
        "colab": {
          "base_uri": "https://localhost:8080/"
        }
      },
      "outputs": [
        {
          "output_type": "execute_result",
          "data": {
            "text/plain": [
              "(185, 6)"
            ]
          },
          "metadata": {},
          "execution_count": 13
        }
      ],
      "source": [
        "# 삼성전자 : 005930\n",
        "df=fdr.DataReader(\"005930\",\"2022\")\n",
        "df.shape"
      ]
    },
    {
      "cell_type": "code",
      "execution_count": 18,
      "metadata": {
        "id": "F-ksXei9UDRy",
        "outputId": "2955d859-fcd5-481b-a17b-668c9393112f",
        "colab": {
          "base_uri": "https://localhost:8080/",
          "height": 238
        }
      },
      "outputs": [
        {
          "output_type": "execute_result",
          "data": {
            "text/plain": [
              "             Open   High    Low  Close    Volume    Change\n",
              "Date                                                      \n",
              "2022-09-27  53800  54200  53500  54200  16631289  0.005566\n",
              "2022-09-28  53900  54400  52500  52900  19991129 -0.023985\n",
              "2022-09-29  53300  53700  52600  52600  13882080 -0.005671\n",
              "2022-09-30  52300  53600  51800  53100  22503249  0.009506\n",
              "2022-10-04  55300  55400  54500  55300  16237231  0.041431"
            ],
            "text/html": [
              "\n",
              "  <div id=\"df-b0f25781-c82b-4cff-addd-89678a883286\">\n",
              "    <div class=\"colab-df-container\">\n",
              "      <div>\n",
              "<style scoped>\n",
              "    .dataframe tbody tr th:only-of-type {\n",
              "        vertical-align: middle;\n",
              "    }\n",
              "\n",
              "    .dataframe tbody tr th {\n",
              "        vertical-align: top;\n",
              "    }\n",
              "\n",
              "    .dataframe thead th {\n",
              "        text-align: right;\n",
              "    }\n",
              "</style>\n",
              "<table border=\"1\" class=\"dataframe\">\n",
              "  <thead>\n",
              "    <tr style=\"text-align: right;\">\n",
              "      <th></th>\n",
              "      <th>Open</th>\n",
              "      <th>High</th>\n",
              "      <th>Low</th>\n",
              "      <th>Close</th>\n",
              "      <th>Volume</th>\n",
              "      <th>Change</th>\n",
              "    </tr>\n",
              "    <tr>\n",
              "      <th>Date</th>\n",
              "      <th></th>\n",
              "      <th></th>\n",
              "      <th></th>\n",
              "      <th></th>\n",
              "      <th></th>\n",
              "      <th></th>\n",
              "    </tr>\n",
              "  </thead>\n",
              "  <tbody>\n",
              "    <tr>\n",
              "      <th>2022-09-27</th>\n",
              "      <td>53800</td>\n",
              "      <td>54200</td>\n",
              "      <td>53500</td>\n",
              "      <td>54200</td>\n",
              "      <td>16631289</td>\n",
              "      <td>0.005566</td>\n",
              "    </tr>\n",
              "    <tr>\n",
              "      <th>2022-09-28</th>\n",
              "      <td>53900</td>\n",
              "      <td>54400</td>\n",
              "      <td>52500</td>\n",
              "      <td>52900</td>\n",
              "      <td>19991129</td>\n",
              "      <td>-0.023985</td>\n",
              "    </tr>\n",
              "    <tr>\n",
              "      <th>2022-09-29</th>\n",
              "      <td>53300</td>\n",
              "      <td>53700</td>\n",
              "      <td>52600</td>\n",
              "      <td>52600</td>\n",
              "      <td>13882080</td>\n",
              "      <td>-0.005671</td>\n",
              "    </tr>\n",
              "    <tr>\n",
              "      <th>2022-09-30</th>\n",
              "      <td>52300</td>\n",
              "      <td>53600</td>\n",
              "      <td>51800</td>\n",
              "      <td>53100</td>\n",
              "      <td>22503249</td>\n",
              "      <td>0.009506</td>\n",
              "    </tr>\n",
              "    <tr>\n",
              "      <th>2022-10-04</th>\n",
              "      <td>55300</td>\n",
              "      <td>55400</td>\n",
              "      <td>54500</td>\n",
              "      <td>55300</td>\n",
              "      <td>16237231</td>\n",
              "      <td>0.041431</td>\n",
              "    </tr>\n",
              "  </tbody>\n",
              "</table>\n",
              "</div>\n",
              "      <button class=\"colab-df-convert\" onclick=\"convertToInteractive('df-b0f25781-c82b-4cff-addd-89678a883286')\"\n",
              "              title=\"Convert this dataframe to an interactive table.\"\n",
              "              style=\"display:none;\">\n",
              "        \n",
              "  <svg xmlns=\"http://www.w3.org/2000/svg\" height=\"24px\"viewBox=\"0 0 24 24\"\n",
              "       width=\"24px\">\n",
              "    <path d=\"M0 0h24v24H0V0z\" fill=\"none\"/>\n",
              "    <path d=\"M18.56 5.44l.94 2.06.94-2.06 2.06-.94-2.06-.94-.94-2.06-.94 2.06-2.06.94zm-11 1L8.5 8.5l.94-2.06 2.06-.94-2.06-.94L8.5 2.5l-.94 2.06-2.06.94zm10 10l.94 2.06.94-2.06 2.06-.94-2.06-.94-.94-2.06-.94 2.06-2.06.94z\"/><path d=\"M17.41 7.96l-1.37-1.37c-.4-.4-.92-.59-1.43-.59-.52 0-1.04.2-1.43.59L10.3 9.45l-7.72 7.72c-.78.78-.78 2.05 0 2.83L4 21.41c.39.39.9.59 1.41.59.51 0 1.02-.2 1.41-.59l7.78-7.78 2.81-2.81c.8-.78.8-2.07 0-2.86zM5.41 20L4 18.59l7.72-7.72 1.47 1.35L5.41 20z\"/>\n",
              "  </svg>\n",
              "      </button>\n",
              "      \n",
              "  <style>\n",
              "    .colab-df-container {\n",
              "      display:flex;\n",
              "      flex-wrap:wrap;\n",
              "      gap: 12px;\n",
              "    }\n",
              "\n",
              "    .colab-df-convert {\n",
              "      background-color: #E8F0FE;\n",
              "      border: none;\n",
              "      border-radius: 50%;\n",
              "      cursor: pointer;\n",
              "      display: none;\n",
              "      fill: #1967D2;\n",
              "      height: 32px;\n",
              "      padding: 0 0 0 0;\n",
              "      width: 32px;\n",
              "    }\n",
              "\n",
              "    .colab-df-convert:hover {\n",
              "      background-color: #E2EBFA;\n",
              "      box-shadow: 0px 1px 2px rgba(60, 64, 67, 0.3), 0px 1px 3px 1px rgba(60, 64, 67, 0.15);\n",
              "      fill: #174EA6;\n",
              "    }\n",
              "\n",
              "    [theme=dark] .colab-df-convert {\n",
              "      background-color: #3B4455;\n",
              "      fill: #D2E3FC;\n",
              "    }\n",
              "\n",
              "    [theme=dark] .colab-df-convert:hover {\n",
              "      background-color: #434B5C;\n",
              "      box-shadow: 0px 1px 3px 1px rgba(0, 0, 0, 0.15);\n",
              "      filter: drop-shadow(0px 1px 2px rgba(0, 0, 0, 0.3));\n",
              "      fill: #FFFFFF;\n",
              "    }\n",
              "  </style>\n",
              "\n",
              "      <script>\n",
              "        const buttonEl =\n",
              "          document.querySelector('#df-b0f25781-c82b-4cff-addd-89678a883286 button.colab-df-convert');\n",
              "        buttonEl.style.display =\n",
              "          google.colab.kernel.accessAllowed ? 'block' : 'none';\n",
              "\n",
              "        async function convertToInteractive(key) {\n",
              "          const element = document.querySelector('#df-b0f25781-c82b-4cff-addd-89678a883286');\n",
              "          const dataTable =\n",
              "            await google.colab.kernel.invokeFunction('convertToInteractive',\n",
              "                                                     [key], {});\n",
              "          if (!dataTable) return;\n",
              "\n",
              "          const docLinkHtml = 'Like what you see? Visit the ' +\n",
              "            '<a target=\"_blank\" href=https://colab.research.google.com/notebooks/data_table.ipynb>data table notebook</a>'\n",
              "            + ' to learn more about interactive tables.';\n",
              "          element.innerHTML = '';\n",
              "          dataTable['output_type'] = 'display_data';\n",
              "          await google.colab.output.renderOutput(dataTable, element);\n",
              "          const docLink = document.createElement('div');\n",
              "          docLink.innerHTML = docLinkHtml;\n",
              "          element.appendChild(docLink);\n",
              "        }\n",
              "      </script>\n",
              "    </div>\n",
              "  </div>\n",
              "  "
            ]
          },
          "metadata": {},
          "execution_count": 18
        }
      ],
      "source": [
        "# 일별 시세 미리보기\n",
        "df.head()\n",
        "df.tail()"
      ]
    },
    {
      "cell_type": "markdown",
      "metadata": {
        "id": "OXGQJn53UDRy"
      },
      "source": [
        "## Shift 를 활용해 전일 대비 수익률 구하기 \n",
        "### Change 값 직접 구해보기"
      ]
    },
    {
      "cell_type": "code",
      "source": [
        "df[\"Close\"].shift(1)"
      ],
      "metadata": {
        "id": "QauyUprLhxEO",
        "outputId": "23e9601a-4ffb-4111-ce9b-8f98a589df5b",
        "colab": {
          "base_uri": "https://localhost:8080/"
        }
      },
      "execution_count": 16,
      "outputs": [
        {
          "output_type": "execute_result",
          "data": {
            "text/plain": [
              "Date\n",
              "2022-01-03        NaN\n",
              "2022-01-04    78600.0\n",
              "2022-01-05    78700.0\n",
              "2022-01-06    77400.0\n",
              "2022-01-07    76900.0\n",
              "               ...   \n",
              "2022-09-27    53900.0\n",
              "2022-09-28    54200.0\n",
              "2022-09-29    52900.0\n",
              "2022-09-30    52600.0\n",
              "2022-10-04    53100.0\n",
              "Name: Close, Length: 185, dtype: float64"
            ]
          },
          "metadata": {},
          "execution_count": 16
        }
      ]
    },
    {
      "cell_type": "code",
      "execution_count": 20,
      "metadata": {
        "id": "N2wFSJPPUDRz"
      },
      "outputs": [],
      "source": [
        "# Change = ( 종가 / 전일종가 ) - 1\n",
        "df[\"Change2\"]=(df[\"Close\"]/df[\"Close\"].shift(1))-1"
      ]
    },
    {
      "cell_type": "code",
      "execution_count": 21,
      "metadata": {
        "id": "XQgVSJuCUDR0",
        "outputId": "6cbc0ae4-9d1f-4ba6-8b90-c63d00c1ddd2",
        "colab": {
          "base_uri": "https://localhost:8080/",
          "height": 238
        }
      },
      "outputs": [
        {
          "output_type": "execute_result",
          "data": {
            "text/plain": [
              "             Open   High    Low  Close    Volume    Change   Change2\n",
              "Date                                                                \n",
              "2022-01-03  79400  79800  78200  78600  13502112  0.003831       NaN\n",
              "2022-01-04  78800  79200  78300  78700  12427416  0.001272  0.001272\n",
              "2022-01-05  78800  79000  76400  77400  25470640 -0.016518 -0.016518\n",
              "2022-01-06  76700  77600  76600  76900  12931954 -0.006460 -0.006460\n",
              "2022-01-07  78100  78400  77400  78300  15163757  0.018205  0.018205"
            ],
            "text/html": [
              "\n",
              "  <div id=\"df-7e68174f-5c40-4a07-b631-3d49dd302741\">\n",
              "    <div class=\"colab-df-container\">\n",
              "      <div>\n",
              "<style scoped>\n",
              "    .dataframe tbody tr th:only-of-type {\n",
              "        vertical-align: middle;\n",
              "    }\n",
              "\n",
              "    .dataframe tbody tr th {\n",
              "        vertical-align: top;\n",
              "    }\n",
              "\n",
              "    .dataframe thead th {\n",
              "        text-align: right;\n",
              "    }\n",
              "</style>\n",
              "<table border=\"1\" class=\"dataframe\">\n",
              "  <thead>\n",
              "    <tr style=\"text-align: right;\">\n",
              "      <th></th>\n",
              "      <th>Open</th>\n",
              "      <th>High</th>\n",
              "      <th>Low</th>\n",
              "      <th>Close</th>\n",
              "      <th>Volume</th>\n",
              "      <th>Change</th>\n",
              "      <th>Change2</th>\n",
              "    </tr>\n",
              "    <tr>\n",
              "      <th>Date</th>\n",
              "      <th></th>\n",
              "      <th></th>\n",
              "      <th></th>\n",
              "      <th></th>\n",
              "      <th></th>\n",
              "      <th></th>\n",
              "      <th></th>\n",
              "    </tr>\n",
              "  </thead>\n",
              "  <tbody>\n",
              "    <tr>\n",
              "      <th>2022-01-03</th>\n",
              "      <td>79400</td>\n",
              "      <td>79800</td>\n",
              "      <td>78200</td>\n",
              "      <td>78600</td>\n",
              "      <td>13502112</td>\n",
              "      <td>0.003831</td>\n",
              "      <td>NaN</td>\n",
              "    </tr>\n",
              "    <tr>\n",
              "      <th>2022-01-04</th>\n",
              "      <td>78800</td>\n",
              "      <td>79200</td>\n",
              "      <td>78300</td>\n",
              "      <td>78700</td>\n",
              "      <td>12427416</td>\n",
              "      <td>0.001272</td>\n",
              "      <td>0.001272</td>\n",
              "    </tr>\n",
              "    <tr>\n",
              "      <th>2022-01-05</th>\n",
              "      <td>78800</td>\n",
              "      <td>79000</td>\n",
              "      <td>76400</td>\n",
              "      <td>77400</td>\n",
              "      <td>25470640</td>\n",
              "      <td>-0.016518</td>\n",
              "      <td>-0.016518</td>\n",
              "    </tr>\n",
              "    <tr>\n",
              "      <th>2022-01-06</th>\n",
              "      <td>76700</td>\n",
              "      <td>77600</td>\n",
              "      <td>76600</td>\n",
              "      <td>76900</td>\n",
              "      <td>12931954</td>\n",
              "      <td>-0.006460</td>\n",
              "      <td>-0.006460</td>\n",
              "    </tr>\n",
              "    <tr>\n",
              "      <th>2022-01-07</th>\n",
              "      <td>78100</td>\n",
              "      <td>78400</td>\n",
              "      <td>77400</td>\n",
              "      <td>78300</td>\n",
              "      <td>15163757</td>\n",
              "      <td>0.018205</td>\n",
              "      <td>0.018205</td>\n",
              "    </tr>\n",
              "  </tbody>\n",
              "</table>\n",
              "</div>\n",
              "      <button class=\"colab-df-convert\" onclick=\"convertToInteractive('df-7e68174f-5c40-4a07-b631-3d49dd302741')\"\n",
              "              title=\"Convert this dataframe to an interactive table.\"\n",
              "              style=\"display:none;\">\n",
              "        \n",
              "  <svg xmlns=\"http://www.w3.org/2000/svg\" height=\"24px\"viewBox=\"0 0 24 24\"\n",
              "       width=\"24px\">\n",
              "    <path d=\"M0 0h24v24H0V0z\" fill=\"none\"/>\n",
              "    <path d=\"M18.56 5.44l.94 2.06.94-2.06 2.06-.94-2.06-.94-.94-2.06-.94 2.06-2.06.94zm-11 1L8.5 8.5l.94-2.06 2.06-.94-2.06-.94L8.5 2.5l-.94 2.06-2.06.94zm10 10l.94 2.06.94-2.06 2.06-.94-2.06-.94-.94-2.06-.94 2.06-2.06.94z\"/><path d=\"M17.41 7.96l-1.37-1.37c-.4-.4-.92-.59-1.43-.59-.52 0-1.04.2-1.43.59L10.3 9.45l-7.72 7.72c-.78.78-.78 2.05 0 2.83L4 21.41c.39.39.9.59 1.41.59.51 0 1.02-.2 1.41-.59l7.78-7.78 2.81-2.81c.8-.78.8-2.07 0-2.86zM5.41 20L4 18.59l7.72-7.72 1.47 1.35L5.41 20z\"/>\n",
              "  </svg>\n",
              "      </button>\n",
              "      \n",
              "  <style>\n",
              "    .colab-df-container {\n",
              "      display:flex;\n",
              "      flex-wrap:wrap;\n",
              "      gap: 12px;\n",
              "    }\n",
              "\n",
              "    .colab-df-convert {\n",
              "      background-color: #E8F0FE;\n",
              "      border: none;\n",
              "      border-radius: 50%;\n",
              "      cursor: pointer;\n",
              "      display: none;\n",
              "      fill: #1967D2;\n",
              "      height: 32px;\n",
              "      padding: 0 0 0 0;\n",
              "      width: 32px;\n",
              "    }\n",
              "\n",
              "    .colab-df-convert:hover {\n",
              "      background-color: #E2EBFA;\n",
              "      box-shadow: 0px 1px 2px rgba(60, 64, 67, 0.3), 0px 1px 3px 1px rgba(60, 64, 67, 0.15);\n",
              "      fill: #174EA6;\n",
              "    }\n",
              "\n",
              "    [theme=dark] .colab-df-convert {\n",
              "      background-color: #3B4455;\n",
              "      fill: #D2E3FC;\n",
              "    }\n",
              "\n",
              "    [theme=dark] .colab-df-convert:hover {\n",
              "      background-color: #434B5C;\n",
              "      box-shadow: 0px 1px 3px 1px rgba(0, 0, 0, 0.15);\n",
              "      filter: drop-shadow(0px 1px 2px rgba(0, 0, 0, 0.3));\n",
              "      fill: #FFFFFF;\n",
              "    }\n",
              "  </style>\n",
              "\n",
              "      <script>\n",
              "        const buttonEl =\n",
              "          document.querySelector('#df-7e68174f-5c40-4a07-b631-3d49dd302741 button.colab-df-convert');\n",
              "        buttonEl.style.display =\n",
              "          google.colab.kernel.accessAllowed ? 'block' : 'none';\n",
              "\n",
              "        async function convertToInteractive(key) {\n",
              "          const element = document.querySelector('#df-7e68174f-5c40-4a07-b631-3d49dd302741');\n",
              "          const dataTable =\n",
              "            await google.colab.kernel.invokeFunction('convertToInteractive',\n",
              "                                                     [key], {});\n",
              "          if (!dataTable) return;\n",
              "\n",
              "          const docLinkHtml = 'Like what you see? Visit the ' +\n",
              "            '<a target=\"_blank\" href=https://colab.research.google.com/notebooks/data_table.ipynb>data table notebook</a>'\n",
              "            + ' to learn more about interactive tables.';\n",
              "          element.innerHTML = '';\n",
              "          dataTable['output_type'] = 'display_data';\n",
              "          await google.colab.output.renderOutput(dataTable, element);\n",
              "          const docLink = document.createElement('div');\n",
              "          docLink.innerHTML = docLinkHtml;\n",
              "          element.appendChild(docLink);\n",
              "        }\n",
              "      </script>\n",
              "    </div>\n",
              "  </div>\n",
              "  "
            ]
          },
          "metadata": {},
          "execution_count": 21
        }
      ],
      "source": [
        "# 불러온 값과 직접 구한 값이 같은지 확인하기\n",
        "df.head()"
      ]
    },
    {
      "cell_type": "markdown",
      "metadata": {
        "id": "a0cW0-0KUDR1"
      },
      "source": [
        "### pct_change 값 직접 구하기\n",
        "* pandas의 pct_change 를 사용해서 구해볼 수도 있습니다."
      ]
    },
    {
      "cell_type": "code",
      "execution_count": 22,
      "metadata": {
        "id": "2O3aschkUDR1",
        "outputId": "bc0157fb-baf3-40c7-bc63-bf246d9d92c3",
        "colab": {
          "base_uri": "https://localhost:8080/",
          "height": 238
        }
      },
      "outputs": [
        {
          "output_type": "execute_result",
          "data": {
            "text/plain": [
              "             Open   High    Low  Close    Volume    Change   Change2  \\\n",
              "Date                                                                   \n",
              "2022-01-03  79400  79800  78200  78600  13502112  0.003831       NaN   \n",
              "2022-01-04  78800  79200  78300  78700  12427416  0.001272  0.001272   \n",
              "2022-01-05  78800  79000  76400  77400  25470640 -0.016518 -0.016518   \n",
              "2022-01-06  76700  77600  76600  76900  12931954 -0.006460 -0.006460   \n",
              "2022-01-07  78100  78400  77400  78300  15163757  0.018205  0.018205   \n",
              "\n",
              "            pct_change  \n",
              "Date                    \n",
              "2022-01-03         NaN  \n",
              "2022-01-04    0.001272  \n",
              "2022-01-05   -0.016518  \n",
              "2022-01-06   -0.006460  \n",
              "2022-01-07    0.018205  "
            ],
            "text/html": [
              "\n",
              "  <div id=\"df-c793a19f-40fe-45f7-816a-3fa019664bea\">\n",
              "    <div class=\"colab-df-container\">\n",
              "      <div>\n",
              "<style scoped>\n",
              "    .dataframe tbody tr th:only-of-type {\n",
              "        vertical-align: middle;\n",
              "    }\n",
              "\n",
              "    .dataframe tbody tr th {\n",
              "        vertical-align: top;\n",
              "    }\n",
              "\n",
              "    .dataframe thead th {\n",
              "        text-align: right;\n",
              "    }\n",
              "</style>\n",
              "<table border=\"1\" class=\"dataframe\">\n",
              "  <thead>\n",
              "    <tr style=\"text-align: right;\">\n",
              "      <th></th>\n",
              "      <th>Open</th>\n",
              "      <th>High</th>\n",
              "      <th>Low</th>\n",
              "      <th>Close</th>\n",
              "      <th>Volume</th>\n",
              "      <th>Change</th>\n",
              "      <th>Change2</th>\n",
              "      <th>pct_change</th>\n",
              "    </tr>\n",
              "    <tr>\n",
              "      <th>Date</th>\n",
              "      <th></th>\n",
              "      <th></th>\n",
              "      <th></th>\n",
              "      <th></th>\n",
              "      <th></th>\n",
              "      <th></th>\n",
              "      <th></th>\n",
              "      <th></th>\n",
              "    </tr>\n",
              "  </thead>\n",
              "  <tbody>\n",
              "    <tr>\n",
              "      <th>2022-01-03</th>\n",
              "      <td>79400</td>\n",
              "      <td>79800</td>\n",
              "      <td>78200</td>\n",
              "      <td>78600</td>\n",
              "      <td>13502112</td>\n",
              "      <td>0.003831</td>\n",
              "      <td>NaN</td>\n",
              "      <td>NaN</td>\n",
              "    </tr>\n",
              "    <tr>\n",
              "      <th>2022-01-04</th>\n",
              "      <td>78800</td>\n",
              "      <td>79200</td>\n",
              "      <td>78300</td>\n",
              "      <td>78700</td>\n",
              "      <td>12427416</td>\n",
              "      <td>0.001272</td>\n",
              "      <td>0.001272</td>\n",
              "      <td>0.001272</td>\n",
              "    </tr>\n",
              "    <tr>\n",
              "      <th>2022-01-05</th>\n",
              "      <td>78800</td>\n",
              "      <td>79000</td>\n",
              "      <td>76400</td>\n",
              "      <td>77400</td>\n",
              "      <td>25470640</td>\n",
              "      <td>-0.016518</td>\n",
              "      <td>-0.016518</td>\n",
              "      <td>-0.016518</td>\n",
              "    </tr>\n",
              "    <tr>\n",
              "      <th>2022-01-06</th>\n",
              "      <td>76700</td>\n",
              "      <td>77600</td>\n",
              "      <td>76600</td>\n",
              "      <td>76900</td>\n",
              "      <td>12931954</td>\n",
              "      <td>-0.006460</td>\n",
              "      <td>-0.006460</td>\n",
              "      <td>-0.006460</td>\n",
              "    </tr>\n",
              "    <tr>\n",
              "      <th>2022-01-07</th>\n",
              "      <td>78100</td>\n",
              "      <td>78400</td>\n",
              "      <td>77400</td>\n",
              "      <td>78300</td>\n",
              "      <td>15163757</td>\n",
              "      <td>0.018205</td>\n",
              "      <td>0.018205</td>\n",
              "      <td>0.018205</td>\n",
              "    </tr>\n",
              "  </tbody>\n",
              "</table>\n",
              "</div>\n",
              "      <button class=\"colab-df-convert\" onclick=\"convertToInteractive('df-c793a19f-40fe-45f7-816a-3fa019664bea')\"\n",
              "              title=\"Convert this dataframe to an interactive table.\"\n",
              "              style=\"display:none;\">\n",
              "        \n",
              "  <svg xmlns=\"http://www.w3.org/2000/svg\" height=\"24px\"viewBox=\"0 0 24 24\"\n",
              "       width=\"24px\">\n",
              "    <path d=\"M0 0h24v24H0V0z\" fill=\"none\"/>\n",
              "    <path d=\"M18.56 5.44l.94 2.06.94-2.06 2.06-.94-2.06-.94-.94-2.06-.94 2.06-2.06.94zm-11 1L8.5 8.5l.94-2.06 2.06-.94-2.06-.94L8.5 2.5l-.94 2.06-2.06.94zm10 10l.94 2.06.94-2.06 2.06-.94-2.06-.94-.94-2.06-.94 2.06-2.06.94z\"/><path d=\"M17.41 7.96l-1.37-1.37c-.4-.4-.92-.59-1.43-.59-.52 0-1.04.2-1.43.59L10.3 9.45l-7.72 7.72c-.78.78-.78 2.05 0 2.83L4 21.41c.39.39.9.59 1.41.59.51 0 1.02-.2 1.41-.59l7.78-7.78 2.81-2.81c.8-.78.8-2.07 0-2.86zM5.41 20L4 18.59l7.72-7.72 1.47 1.35L5.41 20z\"/>\n",
              "  </svg>\n",
              "      </button>\n",
              "      \n",
              "  <style>\n",
              "    .colab-df-container {\n",
              "      display:flex;\n",
              "      flex-wrap:wrap;\n",
              "      gap: 12px;\n",
              "    }\n",
              "\n",
              "    .colab-df-convert {\n",
              "      background-color: #E8F0FE;\n",
              "      border: none;\n",
              "      border-radius: 50%;\n",
              "      cursor: pointer;\n",
              "      display: none;\n",
              "      fill: #1967D2;\n",
              "      height: 32px;\n",
              "      padding: 0 0 0 0;\n",
              "      width: 32px;\n",
              "    }\n",
              "\n",
              "    .colab-df-convert:hover {\n",
              "      background-color: #E2EBFA;\n",
              "      box-shadow: 0px 1px 2px rgba(60, 64, 67, 0.3), 0px 1px 3px 1px rgba(60, 64, 67, 0.15);\n",
              "      fill: #174EA6;\n",
              "    }\n",
              "\n",
              "    [theme=dark] .colab-df-convert {\n",
              "      background-color: #3B4455;\n",
              "      fill: #D2E3FC;\n",
              "    }\n",
              "\n",
              "    [theme=dark] .colab-df-convert:hover {\n",
              "      background-color: #434B5C;\n",
              "      box-shadow: 0px 1px 3px 1px rgba(0, 0, 0, 0.15);\n",
              "      filter: drop-shadow(0px 1px 2px rgba(0, 0, 0, 0.3));\n",
              "      fill: #FFFFFF;\n",
              "    }\n",
              "  </style>\n",
              "\n",
              "      <script>\n",
              "        const buttonEl =\n",
              "          document.querySelector('#df-c793a19f-40fe-45f7-816a-3fa019664bea button.colab-df-convert');\n",
              "        buttonEl.style.display =\n",
              "          google.colab.kernel.accessAllowed ? 'block' : 'none';\n",
              "\n",
              "        async function convertToInteractive(key) {\n",
              "          const element = document.querySelector('#df-c793a19f-40fe-45f7-816a-3fa019664bea');\n",
              "          const dataTable =\n",
              "            await google.colab.kernel.invokeFunction('convertToInteractive',\n",
              "                                                     [key], {});\n",
              "          if (!dataTable) return;\n",
              "\n",
              "          const docLinkHtml = 'Like what you see? Visit the ' +\n",
              "            '<a target=\"_blank\" href=https://colab.research.google.com/notebooks/data_table.ipynb>data table notebook</a>'\n",
              "            + ' to learn more about interactive tables.';\n",
              "          element.innerHTML = '';\n",
              "          dataTable['output_type'] = 'display_data';\n",
              "          await google.colab.output.renderOutput(dataTable, element);\n",
              "          const docLink = document.createElement('div');\n",
              "          docLink.innerHTML = docLinkHtml;\n",
              "          element.appendChild(docLink);\n",
              "        }\n",
              "      </script>\n",
              "    </div>\n",
              "  </div>\n",
              "  "
            ]
          },
          "metadata": {},
          "execution_count": 22
        }
      ],
      "source": [
        "# pct_change = (종가/전일종가) - 1\n",
        "df[\"pct_change\"] = df[\"Close\"].pct_change()\n",
        "df.head()"
      ]
    },
    {
      "cell_type": "code",
      "execution_count": 24,
      "metadata": {
        "id": "YplWhahzUDR1",
        "outputId": "658ef225-84b7-40f9-8590-6cfeb9ee966c",
        "colab": {
          "base_uri": "https://localhost:8080/",
          "height": 238
        }
      },
      "outputs": [
        {
          "output_type": "execute_result",
          "data": {
            "text/plain": [
              "             Open   High    Low  Close    Volume    Change   Change2  \\\n",
              "Date                                                                   \n",
              "2022-01-03  79400  79800  78200  78600  13502112  0.003831       NaN   \n",
              "2022-01-04  78800  79200  78300  78700  12427416  0.001272  0.001272   \n",
              "2022-01-05  78800  79000  76400  77400  25470640 -0.016518 -0.016518   \n",
              "2022-01-06  76700  77600  76600  76900  12931954 -0.006460 -0.006460   \n",
              "2022-01-07  78100  78400  77400  78300  15163757  0.018205  0.018205   \n",
              "\n",
              "            pct_change    Diff  \n",
              "Date                            \n",
              "2022-01-03         NaN     NaN  \n",
              "2022-01-04    0.001272   100.0  \n",
              "2022-01-05   -0.016518 -1300.0  \n",
              "2022-01-06   -0.006460  -500.0  \n",
              "2022-01-07    0.018205  1400.0  "
            ],
            "text/html": [
              "\n",
              "  <div id=\"df-18f4d181-b6fa-4e57-9bcc-40081658e321\">\n",
              "    <div class=\"colab-df-container\">\n",
              "      <div>\n",
              "<style scoped>\n",
              "    .dataframe tbody tr th:only-of-type {\n",
              "        vertical-align: middle;\n",
              "    }\n",
              "\n",
              "    .dataframe tbody tr th {\n",
              "        vertical-align: top;\n",
              "    }\n",
              "\n",
              "    .dataframe thead th {\n",
              "        text-align: right;\n",
              "    }\n",
              "</style>\n",
              "<table border=\"1\" class=\"dataframe\">\n",
              "  <thead>\n",
              "    <tr style=\"text-align: right;\">\n",
              "      <th></th>\n",
              "      <th>Open</th>\n",
              "      <th>High</th>\n",
              "      <th>Low</th>\n",
              "      <th>Close</th>\n",
              "      <th>Volume</th>\n",
              "      <th>Change</th>\n",
              "      <th>Change2</th>\n",
              "      <th>pct_change</th>\n",
              "      <th>Diff</th>\n",
              "    </tr>\n",
              "    <tr>\n",
              "      <th>Date</th>\n",
              "      <th></th>\n",
              "      <th></th>\n",
              "      <th></th>\n",
              "      <th></th>\n",
              "      <th></th>\n",
              "      <th></th>\n",
              "      <th></th>\n",
              "      <th></th>\n",
              "      <th></th>\n",
              "    </tr>\n",
              "  </thead>\n",
              "  <tbody>\n",
              "    <tr>\n",
              "      <th>2022-01-03</th>\n",
              "      <td>79400</td>\n",
              "      <td>79800</td>\n",
              "      <td>78200</td>\n",
              "      <td>78600</td>\n",
              "      <td>13502112</td>\n",
              "      <td>0.003831</td>\n",
              "      <td>NaN</td>\n",
              "      <td>NaN</td>\n",
              "      <td>NaN</td>\n",
              "    </tr>\n",
              "    <tr>\n",
              "      <th>2022-01-04</th>\n",
              "      <td>78800</td>\n",
              "      <td>79200</td>\n",
              "      <td>78300</td>\n",
              "      <td>78700</td>\n",
              "      <td>12427416</td>\n",
              "      <td>0.001272</td>\n",
              "      <td>0.001272</td>\n",
              "      <td>0.001272</td>\n",
              "      <td>100.0</td>\n",
              "    </tr>\n",
              "    <tr>\n",
              "      <th>2022-01-05</th>\n",
              "      <td>78800</td>\n",
              "      <td>79000</td>\n",
              "      <td>76400</td>\n",
              "      <td>77400</td>\n",
              "      <td>25470640</td>\n",
              "      <td>-0.016518</td>\n",
              "      <td>-0.016518</td>\n",
              "      <td>-0.016518</td>\n",
              "      <td>-1300.0</td>\n",
              "    </tr>\n",
              "    <tr>\n",
              "      <th>2022-01-06</th>\n",
              "      <td>76700</td>\n",
              "      <td>77600</td>\n",
              "      <td>76600</td>\n",
              "      <td>76900</td>\n",
              "      <td>12931954</td>\n",
              "      <td>-0.006460</td>\n",
              "      <td>-0.006460</td>\n",
              "      <td>-0.006460</td>\n",
              "      <td>-500.0</td>\n",
              "    </tr>\n",
              "    <tr>\n",
              "      <th>2022-01-07</th>\n",
              "      <td>78100</td>\n",
              "      <td>78400</td>\n",
              "      <td>77400</td>\n",
              "      <td>78300</td>\n",
              "      <td>15163757</td>\n",
              "      <td>0.018205</td>\n",
              "      <td>0.018205</td>\n",
              "      <td>0.018205</td>\n",
              "      <td>1400.0</td>\n",
              "    </tr>\n",
              "  </tbody>\n",
              "</table>\n",
              "</div>\n",
              "      <button class=\"colab-df-convert\" onclick=\"convertToInteractive('df-18f4d181-b6fa-4e57-9bcc-40081658e321')\"\n",
              "              title=\"Convert this dataframe to an interactive table.\"\n",
              "              style=\"display:none;\">\n",
              "        \n",
              "  <svg xmlns=\"http://www.w3.org/2000/svg\" height=\"24px\"viewBox=\"0 0 24 24\"\n",
              "       width=\"24px\">\n",
              "    <path d=\"M0 0h24v24H0V0z\" fill=\"none\"/>\n",
              "    <path d=\"M18.56 5.44l.94 2.06.94-2.06 2.06-.94-2.06-.94-.94-2.06-.94 2.06-2.06.94zm-11 1L8.5 8.5l.94-2.06 2.06-.94-2.06-.94L8.5 2.5l-.94 2.06-2.06.94zm10 10l.94 2.06.94-2.06 2.06-.94-2.06-.94-.94-2.06-.94 2.06-2.06.94z\"/><path d=\"M17.41 7.96l-1.37-1.37c-.4-.4-.92-.59-1.43-.59-.52 0-1.04.2-1.43.59L10.3 9.45l-7.72 7.72c-.78.78-.78 2.05 0 2.83L4 21.41c.39.39.9.59 1.41.59.51 0 1.02-.2 1.41-.59l7.78-7.78 2.81-2.81c.8-.78.8-2.07 0-2.86zM5.41 20L4 18.59l7.72-7.72 1.47 1.35L5.41 20z\"/>\n",
              "  </svg>\n",
              "      </button>\n",
              "      \n",
              "  <style>\n",
              "    .colab-df-container {\n",
              "      display:flex;\n",
              "      flex-wrap:wrap;\n",
              "      gap: 12px;\n",
              "    }\n",
              "\n",
              "    .colab-df-convert {\n",
              "      background-color: #E8F0FE;\n",
              "      border: none;\n",
              "      border-radius: 50%;\n",
              "      cursor: pointer;\n",
              "      display: none;\n",
              "      fill: #1967D2;\n",
              "      height: 32px;\n",
              "      padding: 0 0 0 0;\n",
              "      width: 32px;\n",
              "    }\n",
              "\n",
              "    .colab-df-convert:hover {\n",
              "      background-color: #E2EBFA;\n",
              "      box-shadow: 0px 1px 2px rgba(60, 64, 67, 0.3), 0px 1px 3px 1px rgba(60, 64, 67, 0.15);\n",
              "      fill: #174EA6;\n",
              "    }\n",
              "\n",
              "    [theme=dark] .colab-df-convert {\n",
              "      background-color: #3B4455;\n",
              "      fill: #D2E3FC;\n",
              "    }\n",
              "\n",
              "    [theme=dark] .colab-df-convert:hover {\n",
              "      background-color: #434B5C;\n",
              "      box-shadow: 0px 1px 3px 1px rgba(0, 0, 0, 0.15);\n",
              "      filter: drop-shadow(0px 1px 2px rgba(0, 0, 0, 0.3));\n",
              "      fill: #FFFFFF;\n",
              "    }\n",
              "  </style>\n",
              "\n",
              "      <script>\n",
              "        const buttonEl =\n",
              "          document.querySelector('#df-18f4d181-b6fa-4e57-9bcc-40081658e321 button.colab-df-convert');\n",
              "        buttonEl.style.display =\n",
              "          google.colab.kernel.accessAllowed ? 'block' : 'none';\n",
              "\n",
              "        async function convertToInteractive(key) {\n",
              "          const element = document.querySelector('#df-18f4d181-b6fa-4e57-9bcc-40081658e321');\n",
              "          const dataTable =\n",
              "            await google.colab.kernel.invokeFunction('convertToInteractive',\n",
              "                                                     [key], {});\n",
              "          if (!dataTable) return;\n",
              "\n",
              "          const docLinkHtml = 'Like what you see? Visit the ' +\n",
              "            '<a target=\"_blank\" href=https://colab.research.google.com/notebooks/data_table.ipynb>data table notebook</a>'\n",
              "            + ' to learn more about interactive tables.';\n",
              "          element.innerHTML = '';\n",
              "          dataTable['output_type'] = 'display_data';\n",
              "          await google.colab.output.renderOutput(dataTable, element);\n",
              "          const docLink = document.createElement('div');\n",
              "          docLink.innerHTML = docLinkHtml;\n",
              "          element.appendChild(docLink);\n",
              "        }\n",
              "      </script>\n",
              "    </div>\n",
              "  </div>\n",
              "  "
            ]
          },
          "metadata": {},
          "execution_count": 24
        }
      ],
      "source": [
        "# Diff 값 구하기\n",
        "df[\"Diff\"] = df[\"Close\"].diff()\n",
        "df.head(5)"
      ]
    },
    {
      "cell_type": "code",
      "execution_count": 25,
      "metadata": {
        "id": "yvDd_GSRUDR2",
        "outputId": "bf9f45ad-e2bb-482f-d23c-fca4687fe6eb",
        "colab": {
          "base_uri": "https://localhost:8080/",
          "height": 197
        }
      },
      "outputs": [
        {
          "output_type": "execute_result",
          "data": {
            "text/plain": [
              "<matplotlib.axes._subplots.AxesSubplot at 0x7fd807904d10>"
            ]
          },
          "metadata": {},
          "execution_count": 25
        },
        {
          "output_type": "display_data",
          "data": {
            "text/plain": [
              "<Figure size 864x144 with 1 Axes>"
            ],
            "image/png": "[encoded data removed]"
          },
          "metadata": {
            "needs_background": "light"
          }
        }
      ],
      "source": [
        "# \"Change\", \"pct_change\" 시각화 하기\n",
        "df[[\"Change\",\"pct_change\"]].plot(figsize=(12,2))"
      ]
    },
    {
      "cell_type": "markdown",
      "metadata": {
        "id": "AI18TofwUDR2"
      },
      "source": [
        "## diff 를 통한 증감 구하기"
      ]
    },
    {
      "cell_type": "code",
      "execution_count": 30,
      "metadata": {
        "id": "BK_yupJuUDR3",
        "outputId": "fa887adf-1de0-4aaa-83dc-d0850a4ec8dc",
        "colab": {
          "base_uri": "https://localhost:8080/"
        }
      },
      "outputs": [
        {
          "output_type": "execute_result",
          "data": {
            "text/plain": [
              "Date\n",
              "2022-01-03       NaN\n",
              "2022-01-04     100.0\n",
              "2022-01-05   -1300.0\n",
              "Name: Close, dtype: float64"
            ]
          },
          "metadata": {},
          "execution_count": 30
        }
      ],
      "source": [
        "# 이전 데이터와 다음 데이터의 차이를 구합니다.\n",
        "df[\"Close\"].diff().head(3)"
      ]
    },
    {
      "cell_type": "code",
      "execution_count": 31,
      "metadata": {
        "id": "qnU2Fif2UDR3",
        "outputId": "1d7ff624-5b57-429e-c12f-43a2bc042804",
        "colab": {
          "base_uri": "https://localhost:8080/",
          "height": 238
        }
      },
      "outputs": [
        {
          "output_type": "execute_result",
          "data": {
            "text/plain": [
              "             Open   High    Low  Close    Volume    Change   Change2  \\\n",
              "Date                                                                   \n",
              "2022-01-03  79400  79800  78200  78600  13502112  0.003831       NaN   \n",
              "2022-01-04  78800  79200  78300  78700  12427416  0.001272  0.001272   \n",
              "2022-01-05  78800  79000  76400  77400  25470640 -0.016518 -0.016518   \n",
              "2022-01-06  76700  77600  76600  76900  12931954 -0.006460 -0.006460   \n",
              "2022-01-07  78100  78400  77400  78300  15163757  0.018205  0.018205   \n",
              "\n",
              "            pct_change    Diff  Diff_Shift  \n",
              "Date                                        \n",
              "2022-01-03         NaN     NaN         NaN  \n",
              "2022-01-04    0.001272   100.0       100.0  \n",
              "2022-01-05   -0.016518 -1300.0     -1300.0  \n",
              "2022-01-06   -0.006460  -500.0      -500.0  \n",
              "2022-01-07    0.018205  1400.0      1400.0  "
            ],
            "text/html": [
              "\n",
              "  <div id=\"df-023fcd8c-cbc7-4333-86c2-441267302118\">\n",
              "    <div class=\"colab-df-container\">\n",
              "      <div>\n",
              "<style scoped>\n",
              "    .dataframe tbody tr th:only-of-type {\n",
              "        vertical-align: middle;\n",
              "    }\n",
              "\n",
              "    .dataframe tbody tr th {\n",
              "        vertical-align: top;\n",
              "    }\n",
              "\n",
              "    .dataframe thead th {\n",
              "        text-align: right;\n",
              "    }\n",
              "</style>\n",
              "<table border=\"1\" class=\"dataframe\">\n",
              "  <thead>\n",
              "    <tr style=\"text-align: right;\">\n",
              "      <th></th>\n",
              "      <th>Open</th>\n",
              "      <th>High</th>\n",
              "      <th>Low</th>\n",
              "      <th>Close</th>\n",
              "      <th>Volume</th>\n",
              "      <th>Change</th>\n",
              "      <th>Change2</th>\n",
              "      <th>pct_change</th>\n",
              "      <th>Diff</th>\n",
              "      <th>Diff_Shift</th>\n",
              "    </tr>\n",
              "    <tr>\n",
              "      <th>Date</th>\n",
              "      <th></th>\n",
              "      <th></th>\n",
              "      <th></th>\n",
              "      <th></th>\n",
              "      <th></th>\n",
              "      <th></th>\n",
              "      <th></th>\n",
              "      <th></th>\n",
              "      <th></th>\n",
              "      <th></th>\n",
              "    </tr>\n",
              "  </thead>\n",
              "  <tbody>\n",
              "    <tr>\n",
              "      <th>2022-01-03</th>\n",
              "      <td>79400</td>\n",
              "      <td>79800</td>\n",
              "      <td>78200</td>\n",
              "      <td>78600</td>\n",
              "      <td>13502112</td>\n",
              "      <td>0.003831</td>\n",
              "      <td>NaN</td>\n",
              "      <td>NaN</td>\n",
              "      <td>NaN</td>\n",
              "      <td>NaN</td>\n",
              "    </tr>\n",
              "    <tr>\n",
              "      <th>2022-01-04</th>\n",
              "      <td>78800</td>\n",
              "      <td>79200</td>\n",
              "      <td>78300</td>\n",
              "      <td>78700</td>\n",
              "      <td>12427416</td>\n",
              "      <td>0.001272</td>\n",
              "      <td>0.001272</td>\n",
              "      <td>0.001272</td>\n",
              "      <td>100.0</td>\n",
              "      <td>100.0</td>\n",
              "    </tr>\n",
              "    <tr>\n",
              "      <th>2022-01-05</th>\n",
              "      <td>78800</td>\n",
              "      <td>79000</td>\n",
              "      <td>76400</td>\n",
              "      <td>77400</td>\n",
              "      <td>25470640</td>\n",
              "      <td>-0.016518</td>\n",
              "      <td>-0.016518</td>\n",
              "      <td>-0.016518</td>\n",
              "      <td>-1300.0</td>\n",
              "      <td>-1300.0</td>\n",
              "    </tr>\n",
              "    <tr>\n",
              "      <th>2022-01-06</th>\n",
              "      <td>76700</td>\n",
              "      <td>77600</td>\n",
              "      <td>76600</td>\n",
              "      <td>76900</td>\n",
              "      <td>12931954</td>\n",
              "      <td>-0.006460</td>\n",
              "      <td>-0.006460</td>\n",
              "      <td>-0.006460</td>\n",
              "      <td>-500.0</td>\n",
              "      <td>-500.0</td>\n",
              "    </tr>\n",
              "    <tr>\n",
              "      <th>2022-01-07</th>\n",
              "      <td>78100</td>\n",
              "      <td>78400</td>\n",
              "      <td>77400</td>\n",
              "      <td>78300</td>\n",
              "      <td>15163757</td>\n",
              "      <td>0.018205</td>\n",
              "      <td>0.018205</td>\n",
              "      <td>0.018205</td>\n",
              "      <td>1400.0</td>\n",
              "      <td>1400.0</td>\n",
              "    </tr>\n",
              "  </tbody>\n",
              "</table>\n",
              "</div>\n",
              "      <button class=\"colab-df-convert\" onclick=\"convertToInteractive('df-023fcd8c-cbc7-4333-86c2-441267302118')\"\n",
              "              title=\"Convert this dataframe to an interactive table.\"\n",
              "              style=\"display:none;\">\n",
              "        \n",
              "  <svg xmlns=\"http://www.w3.org/2000/svg\" height=\"24px\"viewBox=\"0 0 24 24\"\n",
              "       width=\"24px\">\n",
              "    <path d=\"M0 0h24v24H0V0z\" fill=\"none\"/>\n",
              "    <path d=\"M18.56 5.44l.94 2.06.94-2.06 2.06-.94-2.06-.94-.94-2.06-.94 2.06-2.06.94zm-11 1L8.5 8.5l.94-2.06 2.06-.94-2.06-.94L8.5 2.5l-.94 2.06-2.06.94zm10 10l.94 2.06.94-2.06 2.06-.94-2.06-.94-.94-2.06-.94 2.06-2.06.94z\"/><path d=\"M17.41 7.96l-1.37-1.37c-.4-.4-.92-.59-1.43-.59-.52 0-1.04.2-1.43.59L10.3 9.45l-7.72 7.72c-.78.78-.78 2.05 0 2.83L4 21.41c.39.39.9.59 1.41.59.51 0 1.02-.2 1.41-.59l7.78-7.78 2.81-2.81c.8-.78.8-2.07 0-2.86zM5.41 20L4 18.59l7.72-7.72 1.47 1.35L5.41 20z\"/>\n",
              "  </svg>\n",
              "      </button>\n",
              "      \n",
              "  <style>\n",
              "    .colab-df-container {\n",
              "      display:flex;\n",
              "      flex-wrap:wrap;\n",
              "      gap: 12px;\n",
              "    }\n",
              "\n",
              "    .colab-df-convert {\n",
              "      background-color: #E8F0FE;\n",
              "      border: none;\n",
              "      border-radius: 50%;\n",
              "      cursor: pointer;\n",
              "      display: none;\n",
              "      fill: #1967D2;\n",
              "      height: 32px;\n",
              "      padding: 0 0 0 0;\n",
              "      width: 32px;\n",
              "    }\n",
              "\n",
              "    .colab-df-convert:hover {\n",
              "      background-color: #E2EBFA;\n",
              "      box-shadow: 0px 1px 2px rgba(60, 64, 67, 0.3), 0px 1px 3px 1px rgba(60, 64, 67, 0.15);\n",
              "      fill: #174EA6;\n",
              "    }\n",
              "\n",
              "    [theme=dark] .colab-df-convert {\n",
              "      background-color: #3B4455;\n",
              "      fill: #D2E3FC;\n",
              "    }\n",
              "\n",
              "    [theme=dark] .colab-df-convert:hover {\n",
              "      background-color: #434B5C;\n",
              "      box-shadow: 0px 1px 3px 1px rgba(0, 0, 0, 0.15);\n",
              "      filter: drop-shadow(0px 1px 2px rgba(0, 0, 0, 0.3));\n",
              "      fill: #FFFFFF;\n",
              "    }\n",
              "  </style>\n",
              "\n",
              "      <script>\n",
              "        const buttonEl =\n",
              "          document.querySelector('#df-023fcd8c-cbc7-4333-86c2-441267302118 button.colab-df-convert');\n",
              "        buttonEl.style.display =\n",
              "          google.colab.kernel.accessAllowed ? 'block' : 'none';\n",
              "\n",
              "        async function convertToInteractive(key) {\n",
              "          const element = document.querySelector('#df-023fcd8c-cbc7-4333-86c2-441267302118');\n",
              "          const dataTable =\n",
              "            await google.colab.kernel.invokeFunction('convertToInteractive',\n",
              "                                                     [key], {});\n",
              "          if (!dataTable) return;\n",
              "\n",
              "          const docLinkHtml = 'Like what you see? Visit the ' +\n",
              "            '<a target=\"_blank\" href=https://colab.research.google.com/notebooks/data_table.ipynb>data table notebook</a>'\n",
              "            + ' to learn more about interactive tables.';\n",
              "          element.innerHTML = '';\n",
              "          dataTable['output_type'] = 'display_data';\n",
              "          await google.colab.output.renderOutput(dataTable, element);\n",
              "          const docLink = document.createElement('div');\n",
              "          docLink.innerHTML = docLinkHtml;\n",
              "          element.appendChild(docLink);\n",
              "        }\n",
              "      </script>\n",
              "    </div>\n",
              "  </div>\n",
              "  "
            ]
          },
          "metadata": {},
          "execution_count": 31
        }
      ],
      "source": [
        "# shift로 diff 구하기\n",
        "# 종가 - 전일종가\n",
        "df[\"Diff_Shift\"]=df[\"Close\"]-df[\"Close\"].shift(1)\n",
        "df.head()"
      ]
    },
    {
      "cell_type": "markdown",
      "metadata": {
        "id": "gKnmfRvHUDR3"
      },
      "source": [
        "## 누적 수익률\n",
        "* 일별 수익률을 누적곱으로 구합니다."
      ]
    },
    {
      "cell_type": "code",
      "execution_count": 32,
      "metadata": {
        "id": "ODjv9i23UDR4",
        "outputId": "a4e14fa6-f3ba-4c86-8f86-7ea0ec2bd082",
        "colab": {
          "base_uri": "https://localhost:8080/"
        }
      },
      "outputs": [
        {
          "output_type": "execute_result",
          "data": {
            "text/plain": [
              "count    185.000000\n",
              "mean       0.998213\n",
              "std        0.013582\n",
              "min        0.972715\n",
              "25%        0.989218\n",
              "50%        0.996947\n",
              "75%        1.005008\n",
              "max        1.044964\n",
              "Name: Change, dtype: float64"
            ]
          },
          "metadata": {},
          "execution_count": 32
        }
      ],
      "source": [
        "# Change = ( 종가 / 전일종가 ) - 1\n",
        "(df[\"Change\"]+1).describe()"
      ]
    },
    {
      "cell_type": "code",
      "execution_count": 38,
      "metadata": {
        "id": "ox_29tgHUDR4",
        "outputId": "a3f14f0d-1bc6-4fdd-9282-63e058c9ce25",
        "colab": {
          "base_uri": "https://localhost:8080/",
          "height": 213
        }
      },
      "outputs": [
        {
          "output_type": "execute_result",
          "data": {
            "text/plain": [
              "<matplotlib.axes._subplots.AxesSubplot at 0x7fd806cd6e90>"
            ]
          },
          "metadata": {},
          "execution_count": 38
        },
        {
          "output_type": "display_data",
          "data": {
            "text/plain": [
              "<Figure size 864x144 with 1 Axes>"
            ],
            "image/png": "[encoded data removed]"
          },
          "metadata": {
            "needs_background": "light"
          }
        }
      ],
      "source": [
        "# cumulative Daily Returns 일별 수익률을 누적곱으로 구하기\n",
        "cum_daily_return = (df[\"Change\"]+1).cumprod()\n",
        "cum_daily_return.plot(figsize=(12,2),title=\"Cumulative daily return\")\n",
        "#plt.axhline(1,c=\"b\", lw=1)"
      ]
    },
    {
      "cell_type": "markdown",
      "metadata": {
        "id": "B7Wn_8FVUDR4"
      },
      "source": [
        "\n",
        "\n",
        "## 이동평균\n",
        "통계학에서 이동평균(롤링평균 또는 이동평균)은 전체 데이터 집합의 여러 하위 집합에 대한 일련의 평균을 만들어 데이터 요소를 분석하는 계산이다. 이동산술평균 (Moving Mean) 또는 롤링산술평균(Rolling Mean)이라고도 한다.\n",
        "\n",
        "일련의 연속된 숫자와 고정된 부분 집합 크기가 주어지면, 이동 평균의 첫 번째 요소는 연속된 숫자의 첫 고정 부분 집합의 평균을 취하여 구한다. 그런 다음 \"앞으로 이동\"하여 하위 집합을 변경한다. 즉, 부분 집합의 첫 번째 숫자를 제외하고 연속된 숫자의 다음 값을 포함시킨다.\n",
        "\n",
        "\n",
        "* 출처 : [이동평균 - 위키백과, 우리 모두의 백과사전](https://ko.wikipedia.org/wiki/%EC%9D%B4%EB%8F%99%ED%8F%89%EA%B7%A0)\n",
        "\n",
        "* 이동평균의 종류\n",
        "    * 단순이동평균(Simple Moving Average)\n",
        "    * 누적이동평균(Cumulative moving average)\n",
        "    * 가중이동평균(Weighted Moving Average)\n",
        "    * 지수이동평균(Exponential Moving Average)\n",
        "\n",
        "\n",
        "### rolling\n",
        "* window : 몇 개의 데이터를 가지고 연산을 할 것인지 결정\n",
        "    * 의미 : window가 클수록 부드러운 선의 형태를 가지고 있음 window가 center에 있지 않으면 window는 클수록 위상 차가 큼\n",
        "* min_periods : 최소한 몇 개의 데이터가 있어야 연산을 할 것인지 결정\n",
        "    * --> window 안의 데이터가 min_periods보다 적다면, \n",
        "       결과는 NaN\n",
        "* center : window의 위치를 window 끝으로 할 것인지 중간으로 할 것 인지 결정\n",
        "    * 의미 : 시계열 데이터에서는 window를 중간으로 할 수 없다(미래의 데이터는 볼 수 없기 때문에)\n",
        "* <font color=\"red\">연산을 mean()으로 했을 경우 'rolling'은 전체적으로 진짜 데이터에서 **잡음(noise)을 제거**하는 의미</font>\n",
        "\n",
        "### expanding\n",
        "\n",
        "* window : expanding에서는 window를 결정하지 않음\n",
        "    * 왜냐하면 window의 크기가 순차적으로 증가하기 때문\n",
        "* min_periods : 최소한 몇 개의 데이터가 있어야 연산을 할 것인지 결정\n",
        "    * --> 이것은 rolling과 같음\n",
        "* expanding에서의 sum()은 cumsum() 연산과 동일하게 진행되나 NaN 이 있을 경우 expanding은 무난하게 처리할 수 있음\n",
        "* 연산을 sum()으로 했을 경우, cumsum()과 같은 의미가 있음\n",
        "* <font color=\"red\">연산을 mean()으로 했을 경우 'expanding' 은 전체적으로 **추세**를 찾는 의미가 있음</font>\n",
        "\n",
        "<img src=\"https://i.imgur.com/mCBaCbd.png\">\n",
        "\n"
      ]
    },
    {
      "cell_type": "markdown",
      "metadata": {
        "id": "xFjUZFhMUDR5"
      },
      "source": [
        "### 단순이동평균(SMA: Simple Moving Average)\n",
        "* rolling을 사용합니다."
      ]
    },
    {
      "cell_type": "code",
      "execution_count": 46,
      "metadata": {
        "id": "V5deAq6CUDR5"
      },
      "outputs": [],
      "source": [
        "# 윈도우 7, 14 단순 이동평균 구하기\n",
        "df[\"SMA7\"]=df[\"Close\"].rolling(window=7).mean()\n",
        "# df[\"SMA14\"]\n",
        "df[\"SMA14\"]=df[\"Close\"].rolling(window=7).mean()"
      ]
    },
    {
      "cell_type": "code",
      "execution_count": 47,
      "metadata": {
        "scrolled": true,
        "id": "0rsoQz5yUDR5",
        "outputId": "a8a5be0e-4679-4274-97ab-8a6a15ea1a77",
        "colab": {
          "base_uri": "https://localhost:8080/",
          "height": 249
        }
      },
      "outputs": [
        {
          "output_type": "execute_result",
          "data": {
            "text/plain": [
              "<matplotlib.axes._subplots.AxesSubplot at 0x7fd806b10d50>"
            ]
          },
          "metadata": {},
          "execution_count": 47
        },
        {
          "output_type": "display_data",
          "data": {
            "text/plain": [
              "<Figure size 864x216 with 1 Axes>"
            ],
            "image/png": "[encoded data removed]"
          },
          "metadata": {
            "needs_background": "light"
          }
        }
      ],
      "source": [
        "# \"Close\", \"SMA7\", \"SMA14\" 시각화 하기\n",
        "df[[\"Close\",\"SMA7\",\"SMA14\"]].plot(figsize=(12,3))"
      ]
    },
    {
      "cell_type": "markdown",
      "metadata": {
        "id": "Qege8AyoUDR6"
      },
      "source": [
        "### 누적이동평균(Cumulative moving average)\n",
        "* expanding을 사용합니다. window 창이 시간의 흐름에 따라 증가합니다."
      ]
    },
    {
      "cell_type": "code",
      "execution_count": 44,
      "metadata": {
        "id": "7o25MlN1UDR6"
      },
      "outputs": [],
      "source": [
        "# expanding 을 사용하면 window가 시간의 흐름에 따라 증가합니다.\n",
        "df[\"CMA\"] = df[\"Close\"].expanding(14).mean()"
      ]
    },
    {
      "cell_type": "code",
      "execution_count": 45,
      "metadata": {
        "id": "oRFz7KWJUDR6",
        "outputId": "26237092-7c4c-4c22-9e5f-8f5ae4b7140f",
        "colab": {
          "base_uri": "https://localhost:8080/",
          "height": 249
        }
      },
      "outputs": [
        {
          "output_type": "execute_result",
          "data": {
            "text/plain": [
              "<matplotlib.axes._subplots.AxesSubplot at 0x7fd806effe50>"
            ]
          },
          "metadata": {},
          "execution_count": 45
        },
        {
          "output_type": "display_data",
          "data": {
            "text/plain": [
              "<Figure size 864x216 with 1 Axes>"
            ],
            "image/png": "[encoded data removed]"
          },
          "metadata": {
            "needs_background": "light"
          }
        }
      ],
      "source": [
        "# 누적이동평균 시각화\n",
        "df[[\"Close\", \"CMA\"]].plot(figsize=(12,3))"
      ]
    },
    {
      "cell_type": "markdown",
      "metadata": {
        "id": "e3qLaxSZUDR6"
      },
      "source": [
        "### 지수이동평균(Exponential Moving Average)\n",
        "* 최근 자료에 가중치를 부여하여 최근 가격 변동을 잘 나타냅니다."
      ]
    },
    {
      "cell_type": "code",
      "execution_count": 49,
      "metadata": {
        "id": "McBYjzcrUDR6"
      },
      "outputs": [],
      "source": [
        "# 최근 자료에 가중치를 더 주도록 지수 이동 평균을 구합니다.\n",
        "# exponential weighted moving\n",
        "df[\"EWM_short\"] = df[\"Close\"].ewm(span=12).mean()\n",
        "df[\"EWM_long\"] = df[\"Close\"].ewm(span=120).mean()"
      ]
    },
    {
      "cell_type": "code",
      "execution_count": 50,
      "metadata": {
        "id": "EWiB0n4eUDR7",
        "outputId": "e38a40e7-04c4-4f60-8166-0366fc0bc6ba",
        "colab": {
          "base_uri": "https://localhost:8080/",
          "height": 249
        }
      },
      "outputs": [
        {
          "output_type": "execute_result",
          "data": {
            "text/plain": [
              "<matplotlib.axes._subplots.AxesSubplot at 0x7fd8069da190>"
            ]
          },
          "metadata": {},
          "execution_count": 50
        },
        {
          "output_type": "display_data",
          "data": {
            "text/plain": [
              "<Figure size 864x216 with 1 Axes>"
            ],
            "image/png": "[encoded data removed]"
          },
          "metadata": {
            "needs_background": "light"
          }
        }
      ],
      "source": [
        "# \"Close\", \"EWM_short\", \"EWM_long\" 시각화\n",
        "df[[\"Close\",\"EWM_short\",\"EWM_long\"]].plot(figsize=(12,3))"
      ]
    },
    {
      "cell_type": "code",
      "execution_count": 53,
      "metadata": {
        "id": "cVWI1VUDUDR7",
        "outputId": "5ed222f4-b197-48f0-dc72-88c640515fe0",
        "colab": {
          "base_uri": "https://localhost:8080/",
          "height": 246
        }
      },
      "outputs": [
        {
          "output_type": "execute_result",
          "data": {
            "text/plain": [
              "<matplotlib.axes._subplots.AxesSubplot at 0x7fd80690b150>"
            ]
          },
          "metadata": {},
          "execution_count": 53
        },
        {
          "output_type": "display_data",
          "data": {
            "text/plain": [
              "<Figure size 864x216 with 1 Axes>"
            ],
            "image/png": "[encoded data removed]"
          },
          "metadata": {
            "needs_background": "light"
          }
        }
      ],
      "source": [
        "# 다양한 이동평균 비교하기\n",
        "df.head()\n",
        "df.iloc[:,-5:].plot(figsize=(12,3))"
      ]
    },
    {
      "cell_type": "markdown",
      "metadata": {
        "id": "VDrbAUmyUDR7"
      },
      "source": [
        "## 샘플링\n",
        "### asfreq\n",
        "* Convert TimeSeries to specified frequency.\n",
        "\n",
        "* asfreq : 특정 주기 데이터를 반환\n",
        "* resample : 특정 주기의 그룹화된 데이터를 반환"
      ]
    },
    {
      "cell_type": "code",
      "execution_count": 54,
      "metadata": {
        "id": "lBPgIVLfUDR7",
        "outputId": "96a23b29-90d0-47e5-bf57-0ecd3bdb31c3",
        "colab": {
          "base_uri": "https://localhost:8080/"
        }
      },
      "outputs": [
        {
          "output_type": "execute_result",
          "data": {
            "text/plain": [
              "Date\n",
              "2022-01-03    78600\n",
              "2022-01-04    78700\n",
              "2022-01-05    77400\n",
              "2022-01-06    76900\n",
              "2022-01-07    78300\n",
              "Name: Close, dtype: int64"
            ]
          },
          "metadata": {},
          "execution_count": 54
        }
      ],
      "source": [
        "# 인덱스의 데이터 타입이 datetime 형태라면 asfreq, resample을 통해 \n",
        "# 특정 기간만큼 샘플링 혹은 추출을 할 수 있습니다.\n",
        "df[\"Close\"].head()"
      ]
    },
    {
      "cell_type": "code",
      "execution_count": 55,
      "metadata": {
        "id": "2HA9rTa_UDR7",
        "outputId": "63800ff3-d46a-40e4-c9ae-3cfa847a72a4",
        "colab": {
          "base_uri": "https://localhost:8080/"
        }
      },
      "outputs": [
        {
          "output_type": "execute_result",
          "data": {
            "text/plain": [
              "Date\n",
              "2022-01-03    78600.0\n",
              "2022-01-04    78700.0\n",
              "2022-01-05    77400.0\n",
              "2022-01-06    76900.0\n",
              "2022-01-07    78300.0\n",
              "               ...   \n",
              "2022-09-30    53100.0\n",
              "2022-10-01        NaN\n",
              "2022-10-02        NaN\n",
              "2022-10-03        NaN\n",
              "2022-10-04    55300.0\n",
              "Freq: D, Name: Close, Length: 275, dtype: float64"
            ]
          },
          "metadata": {},
          "execution_count": 55
        }
      ],
      "source": [
        "# asfreq : D단위로 샘플링\n",
        "df[\"Close\"].asfreq(\"D\")"
      ]
    },
    {
      "cell_type": "code",
      "execution_count": 57,
      "metadata": {
        "id": "bJm6tmXXUDR8",
        "outputId": "2e90632e-c8bf-4682-b5da-acf5118a9e4b",
        "colab": {
          "base_uri": "https://localhost:8080/"
        }
      },
      "outputs": [
        {
          "output_type": "execute_result",
          "data": {
            "text/plain": [
              "Date\n",
              "2022-01-03    78600\n",
              "2022-01-04    78700\n",
              "2022-01-05    77400\n",
              "2022-01-06    76900\n",
              "2022-01-07    78300\n",
              "2022-01-08    78300\n",
              "2022-01-09    78300\n",
              "2022-01-10    78000\n",
              "2022-01-11    78900\n",
              "2022-01-12    78900\n",
              "2022-01-13    77900\n",
              "2022-01-14    77300\n",
              "2022-01-15    77300\n",
              "2022-01-16    77300\n",
              "2022-01-17    77500\n",
              "2022-01-18    77000\n",
              "2022-01-19    76300\n",
              "2022-01-20    76500\n",
              "2022-01-21    75600\n",
              "2022-01-22    75600\n",
              "Freq: D, Name: Close, dtype: int64"
            ]
          },
          "metadata": {},
          "execution_count": 57
        }
      ],
      "source": [
        "# 일 단위로 샘플링을 하면 영업일이 아닌 데이터들이 결측치(NaN)로 되어 있습니다.\n",
        "# fillna를 통해 method=\"ffill\" 로 채우면 이전 영업일 데이터로 값을 채울 수 있습니다.\n",
        "df[\"Close\"].asfreq(\"D\",method=\"ffill\").head(20)"
      ]
    },
    {
      "cell_type": "code",
      "execution_count": null,
      "metadata": {
        "id": "xMBqUlg_UDR8"
      },
      "outputs": [],
      "source": [
        "df.interpolate?\n"
      ]
    },
    {
      "cell_type": "code",
      "execution_count": 58,
      "metadata": {
        "id": "7FcS061TUDR8",
        "outputId": "632fa7c5-3536-40bd-9cbe-4100df5592bd",
        "colab": {
          "base_uri": "https://localhost:8080/"
        }
      },
      "outputs": [
        {
          "output_type": "execute_result",
          "data": {
            "text/plain": [
              "Date\n",
              "2022-01-03    78600.0\n",
              "2022-01-04    78700.0\n",
              "2022-01-05    77400.0\n",
              "2022-01-06    76900.0\n",
              "2022-01-07    78300.0\n",
              "               ...   \n",
              "2022-09-30    53100.0\n",
              "2022-10-01    53650.0\n",
              "2022-10-02    54200.0\n",
              "2022-10-03    54750.0\n",
              "2022-10-04    55300.0\n",
              "Freq: D, Name: Close, Length: 275, dtype: float64"
            ]
          },
          "metadata": {},
          "execution_count": 58
        }
      ],
      "source": [
        "# 결측치 보간\n",
        "df[\"Close\"].asfreq(\"D\").interpolate()"
      ]
    },
    {
      "cell_type": "code",
      "source": [
        "import numpy as np\n",
        "dfs=pd.DataFrame([(0.0,np.nan,-1.0,1.0),\n",
        "                  (np.nan,2.0,np.nan,np.nan),\n",
        "                  (2.0,3.0,np.nan,9.0),\n",
        "                  (np.nan,4.0,-4.0,16.0)], columns=list('abcd'))\n",
        "dfs"
      ],
      "metadata": {
        "id": "woWO3E5WtbCE",
        "outputId": "5042acee-9a65-407b-d9db-48e887a3cfa0",
        "colab": {
          "base_uri": "https://localhost:8080/",
          "height": 175
        }
      },
      "execution_count": 59,
      "outputs": [
        {
          "output_type": "execute_result",
          "data": {
            "text/plain": [
              "     a    b    c     d\n",
              "0  0.0  NaN -1.0   1.0\n",
              "1  NaN  2.0  NaN   NaN\n",
              "2  2.0  3.0  NaN   9.0\n",
              "3  NaN  4.0 -4.0  16.0"
            ],
            "text/html": [
              "\n",
              "  <div id=\"df-6709efdc-1165-4055-a0ea-219ae7b8cf86\">\n",
              "    <div class=\"colab-df-container\">\n",
              "      <div>\n",
              "<style scoped>\n",
              "    .dataframe tbody tr th:only-of-type {\n",
              "        vertical-align: middle;\n",
              "    }\n",
              "\n",
              "    .dataframe tbody tr th {\n",
              "        vertical-align: top;\n",
              "    }\n",
              "\n",
              "    .dataframe thead th {\n",
              "        text-align: right;\n",
              "    }\n",
              "</style>\n",
              "<table border=\"1\" class=\"dataframe\">\n",
              "  <thead>\n",
              "    <tr style=\"text-align: right;\">\n",
              "      <th></th>\n",
              "      <th>a</th>\n",
              "      <th>b</th>\n",
              "      <th>c</th>\n",
              "      <th>d</th>\n",
              "    </tr>\n",
              "  </thead>\n",
              "  <tbody>\n",
              "    <tr>\n",
              "      <th>0</th>\n",
              "      <td>0.0</td>\n",
              "      <td>NaN</td>\n",
              "      <td>-1.0</td>\n",
              "      <td>1.0</td>\n",
              "    </tr>\n",
              "    <tr>\n",
              "      <th>1</th>\n",
              "      <td>NaN</td>\n",
              "      <td>2.0</td>\n",
              "      <td>NaN</td>\n",
              "      <td>NaN</td>\n",
              "    </tr>\n",
              "    <tr>\n",
              "      <th>2</th>\n",
              "      <td>2.0</td>\n",
              "      <td>3.0</td>\n",
              "      <td>NaN</td>\n",
              "      <td>9.0</td>\n",
              "    </tr>\n",
              "    <tr>\n",
              "      <th>3</th>\n",
              "      <td>NaN</td>\n",
              "      <td>4.0</td>\n",
              "      <td>-4.0</td>\n",
              "      <td>16.0</td>\n",
              "    </tr>\n",
              "  </tbody>\n",
              "</table>\n",
              "</div>\n",
              "      <button class=\"colab-df-convert\" onclick=\"convertToInteractive('df-6709efdc-1165-4055-a0ea-219ae7b8cf86')\"\n",
              "              title=\"Convert this dataframe to an interactive table.\"\n",
              "              style=\"display:none;\">\n",
              "        \n",
              "  <svg xmlns=\"http://www.w3.org/2000/svg\" height=\"24px\"viewBox=\"0 0 24 24\"\n",
              "       width=\"24px\">\n",
              "    <path d=\"M0 0h24v24H0V0z\" fill=\"none\"/>\n",
              "    <path d=\"M18.56 5.44l.94 2.06.94-2.06 2.06-.94-2.06-.94-.94-2.06-.94 2.06-2.06.94zm-11 1L8.5 8.5l.94-2.06 2.06-.94-2.06-.94L8.5 2.5l-.94 2.06-2.06.94zm10 10l.94 2.06.94-2.06 2.06-.94-2.06-.94-.94-2.06-.94 2.06-2.06.94z\"/><path d=\"M17.41 7.96l-1.37-1.37c-.4-.4-.92-.59-1.43-.59-.52 0-1.04.2-1.43.59L10.3 9.45l-7.72 7.72c-.78.78-.78 2.05 0 2.83L4 21.41c.39.39.9.59 1.41.59.51 0 1.02-.2 1.41-.59l7.78-7.78 2.81-2.81c.8-.78.8-2.07 0-2.86zM5.41 20L4 18.59l7.72-7.72 1.47 1.35L5.41 20z\"/>\n",
              "  </svg>\n",
              "      </button>\n",
              "      \n",
              "  <style>\n",
              "    .colab-df-container {\n",
              "      display:flex;\n",
              "      flex-wrap:wrap;\n",
              "      gap: 12px;\n",
              "    }\n",
              "\n",
              "    .colab-df-convert {\n",
              "      background-color: #E8F0FE;\n",
              "      border: none;\n",
              "      border-radius: 50%;\n",
              "      cursor: pointer;\n",
              "      display: none;\n",
              "      fill: #1967D2;\n",
              "      height: 32px;\n",
              "      padding: 0 0 0 0;\n",
              "      width: 32px;\n",
              "    }\n",
              "\n",
              "    .colab-df-convert:hover {\n",
              "      background-color: #E2EBFA;\n",
              "      box-shadow: 0px 1px 2px rgba(60, 64, 67, 0.3), 0px 1px 3px 1px rgba(60, 64, 67, 0.15);\n",
              "      fill: #174EA6;\n",
              "    }\n",
              "\n",
              "    [theme=dark] .colab-df-convert {\n",
              "      background-color: #3B4455;\n",
              "      fill: #D2E3FC;\n",
              "    }\n",
              "\n",
              "    [theme=dark] .colab-df-convert:hover {\n",
              "      background-color: #434B5C;\n",
              "      box-shadow: 0px 1px 3px 1px rgba(0, 0, 0, 0.15);\n",
              "      filter: drop-shadow(0px 1px 2px rgba(0, 0, 0, 0.3));\n",
              "      fill: #FFFFFF;\n",
              "    }\n",
              "  </style>\n",
              "\n",
              "      <script>\n",
              "        const buttonEl =\n",
              "          document.querySelector('#df-6709efdc-1165-4055-a0ea-219ae7b8cf86 button.colab-df-convert');\n",
              "        buttonEl.style.display =\n",
              "          google.colab.kernel.accessAllowed ? 'block' : 'none';\n",
              "\n",
              "        async function convertToInteractive(key) {\n",
              "          const element = document.querySelector('#df-6709efdc-1165-4055-a0ea-219ae7b8cf86');\n",
              "          const dataTable =\n",
              "            await google.colab.kernel.invokeFunction('convertToInteractive',\n",
              "                                                     [key], {});\n",
              "          if (!dataTable) return;\n",
              "\n",
              "          const docLinkHtml = 'Like what you see? Visit the ' +\n",
              "            '<a target=\"_blank\" href=https://colab.research.google.com/notebooks/data_table.ipynb>data table notebook</a>'\n",
              "            + ' to learn more about interactive tables.';\n",
              "          element.innerHTML = '';\n",
              "          dataTable['output_type'] = 'display_data';\n",
              "          await google.colab.output.renderOutput(dataTable, element);\n",
              "          const docLink = document.createElement('div');\n",
              "          docLink.innerHTML = docLinkHtml;\n",
              "          element.appendChild(docLink);\n",
              "        }\n",
              "      </script>\n",
              "    </div>\n",
              "  </div>\n",
              "  "
            ]
          },
          "metadata": {},
          "execution_count": 59
        }
      ]
    },
    {
      "cell_type": "code",
      "execution_count": 65,
      "metadata": {
        "id": "VpcZjz5JUDR8",
        "outputId": "2a1dd118-eef3-4ca8-9f5d-770bec65898e",
        "colab": {
          "base_uri": "https://localhost:8080/"
        }
      },
      "outputs": [
        {
          "output_type": "execute_result",
          "data": {
            "text/plain": [
              "Date\n",
              "2022-01-31    72100.0\n",
              "2022-02-28    72100.0\n",
              "2022-03-31    69600.0\n",
              "2022-04-30    68500.0\n",
              "2022-05-31    67400.0\n",
              "2022-06-30    57000.0\n",
              "2022-07-31    58350.0\n",
              "2022-08-31    59700.0\n",
              "2022-09-30    53100.0\n",
              "Freq: M, Name: Close, dtype: float64"
            ]
          },
          "metadata": {},
          "execution_count": 65
        }
      ],
      "source": [
        "# 특정 주기 단위로 샘플링 예) 4일\n",
        "df[\"Close\"].asfreq(\"M\").interpolate(limit_direction='both')"
      ]
    },
    {
      "cell_type": "code",
      "source": [
        "dfs.interpolate(method='linear',limit_direction='forward',axis=0)"
      ],
      "metadata": {
        "id": "Z9tTk8TBu2Cq",
        "outputId": "ceb864bd-a059-4c31-94c9-756da836c7e6",
        "colab": {
          "base_uri": "https://localhost:8080/",
          "height": 175
        }
      },
      "execution_count": 66,
      "outputs": [
        {
          "output_type": "execute_result",
          "data": {
            "text/plain": [
              "     a    b    c     d\n",
              "0  0.0  NaN -1.0   1.0\n",
              "1  1.0  2.0 -2.0   5.0\n",
              "2  2.0  3.0 -3.0   9.0\n",
              "3  2.0  4.0 -4.0  16.0"
            ],
            "text/html": [
              "\n",
              "  <div id=\"df-ec09ac77-ec86-4f85-8552-318ee580aa74\">\n",
              "    <div class=\"colab-df-container\">\n",
              "      <div>\n",
              "<style scoped>\n",
              "    .dataframe tbody tr th:only-of-type {\n",
              "        vertical-align: middle;\n",
              "    }\n",
              "\n",
              "    .dataframe tbody tr th {\n",
              "        vertical-align: top;\n",
              "    }\n",
              "\n",
              "    .dataframe thead th {\n",
              "        text-align: right;\n",
              "    }\n",
              "</style>\n",
              "<table border=\"1\" class=\"dataframe\">\n",
              "  <thead>\n",
              "    <tr style=\"text-align: right;\">\n",
              "      <th></th>\n",
              "      <th>a</th>\n",
              "      <th>b</th>\n",
              "      <th>c</th>\n",
              "      <th>d</th>\n",
              "    </tr>\n",
              "  </thead>\n",
              "  <tbody>\n",
              "    <tr>\n",
              "      <th>0</th>\n",
              "      <td>0.0</td>\n",
              "      <td>NaN</td>\n",
              "      <td>-1.0</td>\n",
              "      <td>1.0</td>\n",
              "    </tr>\n",
              "    <tr>\n",
              "      <th>1</th>\n",
              "      <td>1.0</td>\n",
              "      <td>2.0</td>\n",
              "      <td>-2.0</td>\n",
              "      <td>5.0</td>\n",
              "    </tr>\n",
              "    <tr>\n",
              "      <th>2</th>\n",
              "      <td>2.0</td>\n",
              "      <td>3.0</td>\n",
              "      <td>-3.0</td>\n",
              "      <td>9.0</td>\n",
              "    </tr>\n",
              "    <tr>\n",
              "      <th>3</th>\n",
              "      <td>2.0</td>\n",
              "      <td>4.0</td>\n",
              "      <td>-4.0</td>\n",
              "      <td>16.0</td>\n",
              "    </tr>\n",
              "  </tbody>\n",
              "</table>\n",
              "</div>\n",
              "      <button class=\"colab-df-convert\" onclick=\"convertToInteractive('df-ec09ac77-ec86-4f85-8552-318ee580aa74')\"\n",
              "              title=\"Convert this dataframe to an interactive table.\"\n",
              "              style=\"display:none;\">\n",
              "        \n",
              "  <svg xmlns=\"http://www.w3.org/2000/svg\" height=\"24px\"viewBox=\"0 0 24 24\"\n",
              "       width=\"24px\">\n",
              "    <path d=\"M0 0h24v24H0V0z\" fill=\"none\"/>\n",
              "    <path d=\"M18.56 5.44l.94 2.06.94-2.06 2.06-.94-2.06-.94-.94-2.06-.94 2.06-2.06.94zm-11 1L8.5 8.5l.94-2.06 2.06-.94-2.06-.94L8.5 2.5l-.94 2.06-2.06.94zm10 10l.94 2.06.94-2.06 2.06-.94-2.06-.94-.94-2.06-.94 2.06-2.06.94z\"/><path d=\"M17.41 7.96l-1.37-1.37c-.4-.4-.92-.59-1.43-.59-.52 0-1.04.2-1.43.59L10.3 9.45l-7.72 7.72c-.78.78-.78 2.05 0 2.83L4 21.41c.39.39.9.59 1.41.59.51 0 1.02-.2 1.41-.59l7.78-7.78 2.81-2.81c.8-.78.8-2.07 0-2.86zM5.41 20L4 18.59l7.72-7.72 1.47 1.35L5.41 20z\"/>\n",
              "  </svg>\n",
              "      </button>\n",
              "      \n",
              "  <style>\n",
              "    .colab-df-container {\n",
              "      display:flex;\n",
              "      flex-wrap:wrap;\n",
              "      gap: 12px;\n",
              "    }\n",
              "\n",
              "    .colab-df-convert {\n",
              "      background-color: #E8F0FE;\n",
              "      border: none;\n",
              "      border-radius: 50%;\n",
              "      cursor: pointer;\n",
              "      display: none;\n",
              "      fill: #1967D2;\n",
              "      height: 32px;\n",
              "      padding: 0 0 0 0;\n",
              "      width: 32px;\n",
              "    }\n",
              "\n",
              "    .colab-df-convert:hover {\n",
              "      background-color: #E2EBFA;\n",
              "      box-shadow: 0px 1px 2px rgba(60, 64, 67, 0.3), 0px 1px 3px 1px rgba(60, 64, 67, 0.15);\n",
              "      fill: #174EA6;\n",
              "    }\n",
              "\n",
              "    [theme=dark] .colab-df-convert {\n",
              "      background-color: #3B4455;\n",
              "      fill: #D2E3FC;\n",
              "    }\n",
              "\n",
              "    [theme=dark] .colab-df-convert:hover {\n",
              "      background-color: #434B5C;\n",
              "      box-shadow: 0px 1px 3px 1px rgba(0, 0, 0, 0.15);\n",
              "      filter: drop-shadow(0px 1px 2px rgba(0, 0, 0, 0.3));\n",
              "      fill: #FFFFFF;\n",
              "    }\n",
              "  </style>\n",
              "\n",
              "      <script>\n",
              "        const buttonEl =\n",
              "          document.querySelector('#df-ec09ac77-ec86-4f85-8552-318ee580aa74 button.colab-df-convert');\n",
              "        buttonEl.style.display =\n",
              "          google.colab.kernel.accessAllowed ? 'block' : 'none';\n",
              "\n",
              "        async function convertToInteractive(key) {\n",
              "          const element = document.querySelector('#df-ec09ac77-ec86-4f85-8552-318ee580aa74');\n",
              "          const dataTable =\n",
              "            await google.colab.kernel.invokeFunction('convertToInteractive',\n",
              "                                                     [key], {});\n",
              "          if (!dataTable) return;\n",
              "\n",
              "          const docLinkHtml = 'Like what you see? Visit the ' +\n",
              "            '<a target=\"_blank\" href=https://colab.research.google.com/notebooks/data_table.ipynb>data table notebook</a>'\n",
              "            + ' to learn more about interactive tables.';\n",
              "          element.innerHTML = '';\n",
              "          dataTable['output_type'] = 'display_data';\n",
              "          await google.colab.output.renderOutput(dataTable, element);\n",
              "          const docLink = document.createElement('div');\n",
              "          docLink.innerHTML = docLinkHtml;\n",
              "          element.appendChild(docLink);\n",
              "        }\n",
              "      </script>\n",
              "    </div>\n",
              "  </div>\n",
              "  "
            ]
          },
          "metadata": {},
          "execution_count": 66
        }
      ]
    },
    {
      "cell_type": "code",
      "source": [
        "dfs.interpolate(method='linear',limit_direction='both',axis=0)"
      ],
      "metadata": {
        "id": "Qe_3_hrhuWJU",
        "outputId": "d32a3c21-4aa4-48d3-b8fd-50ae4c1e7430",
        "colab": {
          "base_uri": "https://localhost:8080/",
          "height": 175
        }
      },
      "execution_count": 61,
      "outputs": [
        {
          "output_type": "execute_result",
          "data": {
            "text/plain": [
              "     a    b    c     d\n",
              "0  0.0  2.0 -1.0   1.0\n",
              "1  1.0  2.0 -2.0   5.0\n",
              "2  2.0  3.0 -3.0   9.0\n",
              "3  2.0  4.0 -4.0  16.0"
            ],
            "text/html": [
              "\n",
              "  <div id=\"df-3707065e-9f55-43d7-80b5-077ac0573d16\">\n",
              "    <div class=\"colab-df-container\">\n",
              "      <div>\n",
              "<style scoped>\n",
              "    .dataframe tbody tr th:only-of-type {\n",
              "        vertical-align: middle;\n",
              "    }\n",
              "\n",
              "    .dataframe tbody tr th {\n",
              "        vertical-align: top;\n",
              "    }\n",
              "\n",
              "    .dataframe thead th {\n",
              "        text-align: right;\n",
              "    }\n",
              "</style>\n",
              "<table border=\"1\" class=\"dataframe\">\n",
              "  <thead>\n",
              "    <tr style=\"text-align: right;\">\n",
              "      <th></th>\n",
              "      <th>a</th>\n",
              "      <th>b</th>\n",
              "      <th>c</th>\n",
              "      <th>d</th>\n",
              "    </tr>\n",
              "  </thead>\n",
              "  <tbody>\n",
              "    <tr>\n",
              "      <th>0</th>\n",
              "      <td>0.0</td>\n",
              "      <td>2.0</td>\n",
              "      <td>-1.0</td>\n",
              "      <td>1.0</td>\n",
              "    </tr>\n",
              "    <tr>\n",
              "      <th>1</th>\n",
              "      <td>1.0</td>\n",
              "      <td>2.0</td>\n",
              "      <td>-2.0</td>\n",
              "      <td>5.0</td>\n",
              "    </tr>\n",
              "    <tr>\n",
              "      <th>2</th>\n",
              "      <td>2.0</td>\n",
              "      <td>3.0</td>\n",
              "      <td>-3.0</td>\n",
              "      <td>9.0</td>\n",
              "    </tr>\n",
              "    <tr>\n",
              "      <th>3</th>\n",
              "      <td>2.0</td>\n",
              "      <td>4.0</td>\n",
              "      <td>-4.0</td>\n",
              "      <td>16.0</td>\n",
              "    </tr>\n",
              "  </tbody>\n",
              "</table>\n",
              "</div>\n",
              "      <button class=\"colab-df-convert\" onclick=\"convertToInteractive('df-3707065e-9f55-43d7-80b5-077ac0573d16')\"\n",
              "              title=\"Convert this dataframe to an interactive table.\"\n",
              "              style=\"display:none;\">\n",
              "        \n",
              "  <svg xmlns=\"http://www.w3.org/2000/svg\" height=\"24px\"viewBox=\"0 0 24 24\"\n",
              "       width=\"24px\">\n",
              "    <path d=\"M0 0h24v24H0V0z\" fill=\"none\"/>\n",
              "    <path d=\"M18.56 5.44l.94 2.06.94-2.06 2.06-.94-2.06-.94-.94-2.06-.94 2.06-2.06.94zm-11 1L8.5 8.5l.94-2.06 2.06-.94-2.06-.94L8.5 2.5l-.94 2.06-2.06.94zm10 10l.94 2.06.94-2.06 2.06-.94-2.06-.94-.94-2.06-.94 2.06-2.06.94z\"/><path d=\"M17.41 7.96l-1.37-1.37c-.4-.4-.92-.59-1.43-.59-.52 0-1.04.2-1.43.59L10.3 9.45l-7.72 7.72c-.78.78-.78 2.05 0 2.83L4 21.41c.39.39.9.59 1.41.59.51 0 1.02-.2 1.41-.59l7.78-7.78 2.81-2.81c.8-.78.8-2.07 0-2.86zM5.41 20L4 18.59l7.72-7.72 1.47 1.35L5.41 20z\"/>\n",
              "  </svg>\n",
              "      </button>\n",
              "      \n",
              "  <style>\n",
              "    .colab-df-container {\n",
              "      display:flex;\n",
              "      flex-wrap:wrap;\n",
              "      gap: 12px;\n",
              "    }\n",
              "\n",
              "    .colab-df-convert {\n",
              "      background-color: #E8F0FE;\n",
              "      border: none;\n",
              "      border-radius: 50%;\n",
              "      cursor: pointer;\n",
              "      display: none;\n",
              "      fill: #1967D2;\n",
              "      height: 32px;\n",
              "      padding: 0 0 0 0;\n",
              "      width: 32px;\n",
              "    }\n",
              "\n",
              "    .colab-df-convert:hover {\n",
              "      background-color: #E2EBFA;\n",
              "      box-shadow: 0px 1px 2px rgba(60, 64, 67, 0.3), 0px 1px 3px 1px rgba(60, 64, 67, 0.15);\n",
              "      fill: #174EA6;\n",
              "    }\n",
              "\n",
              "    [theme=dark] .colab-df-convert {\n",
              "      background-color: #3B4455;\n",
              "      fill: #D2E3FC;\n",
              "    }\n",
              "\n",
              "    [theme=dark] .colab-df-convert:hover {\n",
              "      background-color: #434B5C;\n",
              "      box-shadow: 0px 1px 3px 1px rgba(0, 0, 0, 0.15);\n",
              "      filter: drop-shadow(0px 1px 2px rgba(0, 0, 0, 0.3));\n",
              "      fill: #FFFFFF;\n",
              "    }\n",
              "  </style>\n",
              "\n",
              "      <script>\n",
              "        const buttonEl =\n",
              "          document.querySelector('#df-3707065e-9f55-43d7-80b5-077ac0573d16 button.colab-df-convert');\n",
              "        buttonEl.style.display =\n",
              "          google.colab.kernel.accessAllowed ? 'block' : 'none';\n",
              "\n",
              "        async function convertToInteractive(key) {\n",
              "          const element = document.querySelector('#df-3707065e-9f55-43d7-80b5-077ac0573d16');\n",
              "          const dataTable =\n",
              "            await google.colab.kernel.invokeFunction('convertToInteractive',\n",
              "                                                     [key], {});\n",
              "          if (!dataTable) return;\n",
              "\n",
              "          const docLinkHtml = 'Like what you see? Visit the ' +\n",
              "            '<a target=\"_blank\" href=https://colab.research.google.com/notebooks/data_table.ipynb>data table notebook</a>'\n",
              "            + ' to learn more about interactive tables.';\n",
              "          element.innerHTML = '';\n",
              "          dataTable['output_type'] = 'display_data';\n",
              "          await google.colab.output.renderOutput(dataTable, element);\n",
              "          const docLink = document.createElement('div');\n",
              "          docLink.innerHTML = docLinkHtml;\n",
              "          element.appendChild(docLink);\n",
              "        }\n",
              "      </script>\n",
              "    </div>\n",
              "  </div>\n",
              "  "
            ]
          },
          "metadata": {},
          "execution_count": 61
        }
      ]
    },
    {
      "cell_type": "code",
      "execution_count": 64,
      "metadata": {
        "id": "1o1bLWcMUDR9",
        "outputId": "3feb1f7c-9ac3-49bb-d052-63b83b50a70f",
        "colab": {
          "base_uri": "https://localhost:8080/"
        }
      },
      "outputs": [
        {
          "output_type": "execute_result",
          "data": {
            "text/plain": [
              "Date\n",
              "2022-01-31    72100.0\n",
              "2022-02-28    72100.0\n",
              "2022-03-31    69600.0\n",
              "2022-04-30    68500.0\n",
              "2022-05-31    67400.0\n",
              "2022-06-30    57000.0\n",
              "2022-07-31    58350.0\n",
              "2022-08-31    59700.0\n",
              "2022-09-30    53100.0\n",
              "Freq: M, Name: Close, dtype: float64"
            ]
          },
          "metadata": {},
          "execution_count": 64
        }
      ],
      "source": [
        "# 특정 주기 단위로 샘플링 예) 월단위\n",
        "df[\"Close\"].asfreq(\"M\").interpolate(limit_direction='both')"
      ]
    },
    {
      "cell_type": "code",
      "execution_count": 67,
      "metadata": {
        "id": "Ry-UxTwfUDR9",
        "outputId": "2e442390-a1f1-466b-9788-a17f9c0d28fd",
        "colab": {
          "base_uri": "https://localhost:8080/"
        }
      },
      "outputs": [
        {
          "output_type": "execute_result",
          "data": {
            "text/plain": [
              "Date\n",
              "2022-03-31    69600\n",
              "2022-06-30    57000\n",
              "2022-09-30    53100\n",
              "Freq: Q-DEC, Name: Close, dtype: int64"
            ]
          },
          "metadata": {},
          "execution_count": 67
        }
      ],
      "source": [
        "# 특정 주기 단위로 샘플링 예) 분기단위\n",
        "df[\"Close\"].asfreq(\"Q\").interpolate()"
      ]
    },
    {
      "cell_type": "markdown",
      "metadata": {
        "id": "5O-D1pV7UDR9"
      },
      "source": [
        "### resample\n",
        "* Resample time-series data."
      ]
    },
    {
      "cell_type": "code",
      "execution_count": 68,
      "metadata": {
        "id": "V6ppxKEdUDR9",
        "outputId": "78695b1f-df0e-4352-ada9-e549508e92af",
        "colab": {
          "base_uri": "https://localhost:8080/"
        }
      },
      "outputs": [
        {
          "output_type": "execute_result",
          "data": {
            "text/plain": [
              "Date\n",
              "2022-01-03    78600.0\n",
              "2022-01-04    78700.0\n",
              "2022-01-05    77400.0\n",
              "2022-01-06    76900.0\n",
              "2022-01-07    78300.0\n",
              "               ...   \n",
              "2022-09-30    53100.0\n",
              "2022-10-01        NaN\n",
              "2022-10-02        NaN\n",
              "2022-10-03        NaN\n",
              "2022-10-04    55300.0\n",
              "Freq: D, Name: Close, Length: 275, dtype: float64"
            ]
          },
          "metadata": {},
          "execution_count": 68
        }
      ],
      "source": [
        "# 일간 평균 구하기\n",
        "df[\"Close\"].resample(\"D\").mean()"
      ]
    },
    {
      "cell_type": "code",
      "execution_count": 69,
      "metadata": {
        "id": "XxCXyGKBUDR9",
        "outputId": "a496943b-c6ff-4368-8267-8f545fee0cb4",
        "colab": {
          "base_uri": "https://localhost:8080/"
        }
      },
      "outputs": [
        {
          "output_type": "execute_result",
          "data": {
            "text/plain": [
              "Date\n",
              "2022-01-31    76540.000000\n",
              "2022-02-28    73688.888889\n",
              "2022-03-31    70409.523810\n",
              "2022-04-30    67395.238095\n",
              "2022-05-31    66852.380952\n",
              "2022-06-30    61125.000000\n",
              "2022-07-31    59547.619048\n",
              "2022-08-31    60272.727273\n",
              "2022-09-30    55595.000000\n",
              "2022-10-31    55300.000000\n",
              "Freq: M, Name: Close, dtype: float64"
            ]
          },
          "metadata": {},
          "execution_count": 69
        }
      ],
      "source": [
        "# 월간 평균 구하기\n",
        "df[\"Close\"].resample(\"M\").mean()"
      ]
    },
    {
      "cell_type": "code",
      "execution_count": 70,
      "metadata": {
        "id": "l44Q98fGUDR9",
        "outputId": "d73ce887-6937-4cd0-cc1d-5a3fcd03f9b4",
        "colab": {
          "base_uri": "https://localhost:8080/",
          "height": 309
        }
      },
      "outputs": [
        {
          "output_type": "execute_result",
          "data": {
            "text/plain": [
              "<matplotlib.axes._subplots.AxesSubplot at 0x7fd806488450>"
            ]
          },
          "metadata": {},
          "execution_count": 70
        },
        {
          "output_type": "display_data",
          "data": {
            "text/plain": [
              "<Figure size 432x288 with 1 Axes>"
            ],
            "image/png": "[encoded data removed]"
          },
          "metadata": {
            "needs_background": "light"
          }
        }
      ],
      "source": [
        "# 월간 평균 시각화\n",
        "df[\"Close\"].resample(\"M\").mean().plot()"
      ]
    },
    {
      "cell_type": "code",
      "execution_count": 71,
      "metadata": {
        "id": "GtpjEbgCUDR-",
        "outputId": "155a82f3-fcac-4fce-fe40-daf34afea56b",
        "colab": {
          "base_uri": "https://localhost:8080/",
          "height": 309
        }
      },
      "outputs": [
        {
          "output_type": "execute_result",
          "data": {
            "text/plain": [
              "<matplotlib.axes._subplots.AxesSubplot at 0x7fd8063e54d0>"
            ]
          },
          "metadata": {},
          "execution_count": 71
        },
        {
          "output_type": "display_data",
          "data": {
            "text/plain": [
              "<Figure size 432x288 with 1 Axes>"
            ],
            "image/png": "[encoded data removed]"
          },
          "metadata": {
            "needs_background": "light"
          }
        }
      ],
      "source": [
        "# 분기별 평균 구하기\n",
        "df[\"Close\"].resample(\"Q\").mean().plot()"
      ]
    },
    {
      "cell_type": "code",
      "execution_count": 72,
      "metadata": {
        "id": "0ZOO5kSQUDR-",
        "outputId": "004b433e-b9ec-4ce4-d6ce-188c9e5bfebb",
        "colab": {
          "base_uri": "https://localhost:8080/",
          "height": 309
        }
      },
      "outputs": [
        {
          "output_type": "execute_result",
          "data": {
            "text/plain": [
              "<matplotlib.axes._subplots.AxesSubplot at 0x7fd8063bf0d0>"
            ]
          },
          "metadata": {},
          "execution_count": 72
        },
        {
          "output_type": "display_data",
          "data": {
            "text/plain": [
              "<Figure size 432x288 with 1 Axes>"
            ],
            "image/png": "[encoded data removed]"
          },
          "metadata": {
            "needs_background": "light"
          }
        }
      ],
      "source": [
        "# 월별 평균 종가로 수익률 구하기\n",
        "# month_change\n",
        "df[\"Close\"].resample(\"M\").mean().pct_change().plot()"
      ]
    },
    {
      "cell_type": "code",
      "execution_count": null,
      "metadata": {
        "id": "_4DHW-JoUDR-"
      },
      "outputs": [],
      "source": []
    }
  ],
  "metadata": {
    "kernelspec": {
      "display_name": "Python 3 (ipykernel)",
      "language": "python",
      "name": "python3"
    },
    "language_info": {
      "codemirror_mode": {
        "name": "ipython",
        "version": 3
      },
      "file_extension": ".py",
      "mimetype": "text/x-python",
      "name": "python",
      "nbconvert_exporter": "python",
      "pygments_lexer": "ipython3",
      "version": "3.7.13"
    },
    "toc": {
      "base_numbering": 1,
      "nav_menu": {},
      "number_sections": true,
      "sideBar": true,
      "skip_h1_title": false,
      "title_cell": "Table of Contents",
      "title_sidebar": "Contents",
      "toc_cell": false,
      "toc_position": {
        "height": "calc(100% - 180px)",
        "left": "10px",
        "top": "150px",
        "width": "192px"
      },
      "toc_section_display": true,
      "toc_window_display": true
    },
    "varInspector": {
      "cols": {
        "lenName": 16,
        "lenType": 16,
        "lenVar": 40
      },
      "kernels_config": {
        "python": {
          "delete_cmd_postfix": "",
          "delete_cmd_prefix": "del ",
          "library": "var_list.py",
          "varRefreshCmd": "print(var_dic_list())"
        },
        "r": {
          "delete_cmd_postfix": ") ",
          "delete_cmd_prefix": "rm(",
          "library": "var_list.r",
          "varRefreshCmd": "cat(var_dic_list()) "
        }
      },
      "types_to_exclude": [
        "module",
        "function",
        "builtin_function_or_method",
        "instance",
        "_Feature"
      ],
      "window_display": false
    },
    "colab": {
      "provenance": [],
      "collapsed_sections": [
        "xFjUZFhMUDR5",
        "Qege8AyoUDR6",
        "e3qLaxSZUDR6",
        "5O-D1pV7UDR9"
      ],
      "include_colab_link": true
    }
  },
  "nbformat": 4,
  "nbformat_minor": 0
}