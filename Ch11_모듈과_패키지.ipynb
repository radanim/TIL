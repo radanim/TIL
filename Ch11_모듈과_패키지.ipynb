{
  "nbformat": 4,
  "nbformat_minor": 0,
  "metadata": {
    "colab": {
      "name": "Ch11 모듈과 패키지",
      "provenance": [],
      "collapsed_sections": [],
      "authorship_tag": "ABX9TyNGoEDkmAy5f6kCCfMzfbho",
      "include_colab_link": true
    },
    "kernelspec": {
      "name": "python3",
      "display_name": "Python 3"
    },
    "language_info": {
      "name": "python"
    }
  },
  "cells": [
    {
      "cell_type": "markdown",
      "metadata": {
        "id": "view-in-github",
        "colab_type": "text"
      },
      "source": [
        "<a href=\"https://colab.research.google.com/github/radanim/TIL/blob/master/Ch11_%EB%AA%A8%EB%93%88%EA%B3%BC_%ED%8C%A8%ED%82%A4%EC%A7%80.ipynb\" target=\"_parent\"><img src=\"https://colab.research.google.com/assets/colab-badge.svg\" alt=\"Open In Colab\"/></a>"
      ]
    },
    {
      "cell_type": "code",
      "execution_count": null,
      "metadata": {
        "id": "WtAHppJBJG1j"
      },
      "outputs": [],
      "source": [
        "패키지 > 모듈 > 함수(종속관계)\n",
        "함수: 특정한 동작을 하는 기능체(자바에서는 모듈)\n",
        "함수를 모아서 특정한 목적을 수행하는 구조체가 모듈(자바에서는 클래스)\n",
        "모듈이 모여서 더 큰 프로젝트를 패키지\n",
        "주로 사용하는 프로그램 파이참\n",
        "모듈 사용(여러 개의 함수를 가진 파이썬 파일 하나) - 실행파일은 같은 디렉터리에 저장되어있어야함.\n",
        "아니면 패키지부터 import\n",
        "패키지는 프로젝트, 내장된 모듈, 함수 활용 가능"
      ]
    },
    {
      "cell_type": "code",
      "source": [
        "import 모듈이름\n",
        "모듈안에 있는 함수를 다 사용할 수 있음. \n",
        "예시) numpy 모듈 안에 내장된 randn 함수 활용\n",
        "자바, 파이썬 객체언어 C 는 아님."
      ],
      "metadata": {
        "id": "ToHtBtkaKEEw"
      },
      "execution_count": null,
      "outputs": []
    },
    {
      "cell_type": "code",
      "source": [
        "컴파일러 sys 폴더에 있는 패키지들은 자동으로 불러옴\n",
        "import sys sys.path 통해 경로탐색 가능\n",
        ".path 경로 탐색"
      ],
      "metadata": {
        "id": "0MvuprzvLOda"
      },
      "execution_count": null,
      "outputs": []
    },
    {
      "cell_type": "code",
      "source": [
        "아나콘다등 가상환경 구축 \n",
        "라이브러리들이 환경에 따라서 작동하는 환경변수가 다다름\n",
        "RNN CNN 을 돌릴수없는 환경도 있고 버전따라 돌아가는게 다름.\n",
        "\n",
        "절대경로: 파일,함수,모듈의 위치,경로가 모두 표시된 경우\n",
        "상대경로: 상위 위치 전부 제외하고 . 전폴더 .. 상위폴더 패키지"
      ],
      "metadata": {
        "id": "pdqMSvyXNVtt"
      },
      "execution_count": null,
      "outputs": []
    },
    {
      "cell_type": "code",
      "source": [
        "모듈-파이썬 파일 하나\n",
        "모듈 vs 객체: 실제로 쓸때는 구분하지 않음. 가져와서 쓰냐 vs 있는걸 쓰냐 \n",
        "import math(모듈 불러오기)\n",
        "math.pi (점 함수)"
      ],
      "metadata": {
        "id": "mkoZsrJgOpYI"
      },
      "execution_count": null,
      "outputs": []
    },
    {
      "cell_type": "code",
      "source": [
        "모듈 불러오고 함수 객체로 변형하고 할당해서 사용가능\n",
        "모듈 코드 사본에 대해서만 pi 값 변경\n",
        "코드 수행 완료되면 값은 사라짐. 임포트는 한번만"
      ],
      "metadata": {
        "id": "irMzpnAJPUUl"
      },
      "execution_count": null,
      "outputs": []
    },
    {
      "cell_type": "code",
      "source": [
        "리스트 항목세기 counter(): 리스트의 항목을 세서 딕셔너리 형태로 반환(항목:키 빈도:값)\n",
        "딕셔너리 형태 키와 값이 같이 있는것 \n",
        "카운터 결합, 빼기 가능 & 공통 항목 열기 | 모든 항목 얻기 \n",
        "lunch_counter=Counter(lunch)"
      ],
      "metadata": {
        "id": "LH3J8Iy3Pvtq"
      },
      "execution_count": null,
      "outputs": []
    },
    {
      "cell_type": "code",
      "source": [
        "코드구조 순회하게 itertools() 반복 수행\n",
        "itertools.chain(): 순환 가능한 인수들을 차례로 반복\n",
        "itertools.cycle(): 인수를 순환하는 무한 이터레이터 \n",
        "itertools.accumulate(): 축적된 값을 합계로 계산하는 이터레이터\n",
        "accumulate() 함수의 두번째 인수로 함수를 전달하여, 함계 대신 이 함수를 사용한 결과를 반환할 수 있음\n",
        "pprint(): 가독성을 위해 요소들을 정렬하여 출력\n",
        "디버깅할 때 많이 사용함. \n",
        "random.choice(): 주어진 시퀀스(리스트,튜플,딕셔너리,문자열)\n",
        "randint(): 정수범위에서 랜덤의 정수를 반환\n",
        "randrange(): 시작, 끝, 스탭(option)으로 인수를 전달하여 랜덤의 정수를 반환\n",
        "인공지능 작업 수행할때 5개정도 패키지 사용"
      ],
      "metadata": {
        "id": "yzyeAb1cRJe0"
      },
      "execution_count": null,
      "outputs": []
    },
    {
      "cell_type": "code",
      "source": [
        "추가 라이브러리 사용 필요 X\n",
        "외부 라이브러리 외부 패키지\n",
        "파이썬 코드 대부분은 표준 파이썬 설치에 포함된 내장함수와 표준 라이브러리 사용\n",
        "파이썬 파일은 코드만 저장 ipynb는 쥬피터 노트북에서 활용되서 저장되는 형태"
      ],
      "metadata": {
        "id": "DGc3Q0gfTAxJ"
      },
      "execution_count": null,
      "outputs": []
    },
    {
      "cell_type": "code",
      "source": [
        "from google.colab import drive\n",
        "drive.mount('/content/drive')"
      ],
      "metadata": {
        "colab": {
          "base_uri": "https://localhost:8080/"
        },
        "id": "H1LnojvZbdQ_",
        "outputId": "d83689b7-0af3-4eca-b7fc-d7194865b682"
      },
      "execution_count": null,
      "outputs": [
        {
          "output_type": "stream",
          "name": "stdout",
          "text": [
            "Drive already mounted at /content/drive; to attempt to forcibly remount, call drive.mount(\"/content/drive\", force_remount=True).\n"
          ]
        }
      ]
    },
    {
      "cell_type": "code",
      "source": [
        "!pwd"
      ],
      "metadata": {
        "colab": {
          "base_uri": "https://localhost:8080/"
        },
        "id": "h2OKMatiboz4",
        "outputId": "173ac5d1-bd7f-46d9-d9ce-dee95dc3f809"
      },
      "execution_count": null,
      "outputs": [
        {
          "output_type": "stream",
          "name": "stdout",
          "text": [
            "/content/python\n"
          ]
        }
      ]
    },
    {
      "cell_type": "code",
      "source": [
        "%cd python"
      ],
      "metadata": {
        "colab": {
          "base_uri": "https://localhost:8080/"
        },
        "id": "XZViYnHGbjJL",
        "outputId": "b9be97a1-3554-4302-8f9b-942dab8ea236"
      },
      "execution_count": null,
      "outputs": [
        {
          "output_type": "stream",
          "name": "stdout",
          "text": [
            "[Errno 2] No such file or directory: 'python'\n",
            "/content/python\n"
          ]
        }
      ]
    },
    {
      "cell_type": "code",
      "source": [
        "import zoo\n",
        "zoo.hours()"
      ],
      "metadata": {
        "colab": {
          "base_uri": "https://localhost:8080/"
        },
        "id": "kqih2SRSTRWD",
        "outputId": "baff9dd7-1801-4631-9e09-491ff58ec805"
      },
      "execution_count": null,
      "outputs": [
        {
          "output_type": "stream",
          "name": "stdout",
          "text": [
            "akjflwean\n"
          ]
        }
      ]
    },
    {
      "cell_type": "code",
      "source": [
        "import zoo as menagerie\n",
        "managerie.hours()"
      ],
      "metadata": {
        "colab": {
          "base_uri": "https://localhost:8080/",
          "height": 192
        },
        "id": "PGiEPEPadjXQ",
        "outputId": "4512c890-e00b-4848-81c5-4f195eb0cd97"
      },
      "execution_count": null,
      "outputs": [
        {
          "output_type": "error",
          "ename": "NameError",
          "evalue": "ignored",
          "traceback": [
            "\u001b[0;31m---------------------------------------------------------------------------\u001b[0m",
            "\u001b[0;31mNameError\u001b[0m                                 Traceback (most recent call last)",
            "\u001b[0;32m<ipython-input-73-e24c59455b53>\u001b[0m in \u001b[0;36m<module>\u001b[0;34m()\u001b[0m\n\u001b[1;32m      1\u001b[0m \u001b[0;32mimport\u001b[0m \u001b[0mzoo\u001b[0m \u001b[0;32mas\u001b[0m \u001b[0mmenagerie\u001b[0m\u001b[0;34m\u001b[0m\u001b[0;34m\u001b[0m\u001b[0m\n\u001b[0;32m----> 2\u001b[0;31m \u001b[0mmanagerie\u001b[0m\u001b[0;34m.\u001b[0m\u001b[0mhours\u001b[0m\u001b[0;34m(\u001b[0m\u001b[0;34m)\u001b[0m\u001b[0;34m\u001b[0m\u001b[0;34m\u001b[0m\u001b[0m\n\u001b[0m",
            "\u001b[0;31mNameError\u001b[0m: name 'managerie' is not defined"
          ]
        }
      ]
    },
    {
      "cell_type": "code",
      "source": [
        "from zoo import hours\n",
        "hours()"
      ],
      "metadata": {
        "colab": {
          "base_uri": "https://localhost:8080/"
        },
        "id": "YEH5Ap4BdqYP",
        "outputId": "b4534619-70b1-433d-a2b9-4c453a97631e"
      },
      "execution_count": null,
      "outputs": [
        {
          "output_type": "stream",
          "name": "stdout",
          "text": [
            "akjflwean\n"
          ]
        }
      ]
    },
    {
      "cell_type": "code",
      "source": [
        "from zoo import hours as info\n",
        "info()"
      ],
      "metadata": {
        "colab": {
          "base_uri": "https://localhost:8080/",
          "height": 340
        },
        "id": "WROVu2QDduAx",
        "outputId": "0bcb264d-08cc-43b2-a216-a02ed16caa39"
      },
      "execution_count": null,
      "outputs": [
        {
          "output_type": "error",
          "ename": "ModuleNotFoundError",
          "evalue": "ignored",
          "traceback": [
            "\u001b[0;31m---------------------------------------------------------------------------\u001b[0m",
            "\u001b[0;31mModuleNotFoundError\u001b[0m                       Traceback (most recent call last)",
            "\u001b[0;32m<ipython-input-43-29d94ee20bd8>\u001b[0m in \u001b[0;36m<module>\u001b[0;34m()\u001b[0m\n\u001b[0;32m----> 1\u001b[0;31m \u001b[0;32mfrom\u001b[0m \u001b[0mzoo\u001b[0m \u001b[0;32mimport\u001b[0m \u001b[0mhours\u001b[0m \u001b[0;32mas\u001b[0m \u001b[0minfo\u001b[0m\u001b[0;34m\u001b[0m\u001b[0;34m\u001b[0m\u001b[0m\n\u001b[0m\u001b[1;32m      2\u001b[0m \u001b[0minfo\u001b[0m\u001b[0;34m(\u001b[0m\u001b[0;34m)\u001b[0m\u001b[0;34m\u001b[0m\u001b[0;34m\u001b[0m\u001b[0m\n",
            "\u001b[0;31mModuleNotFoundError\u001b[0m: No module named 'zoo'",
            "",
            "\u001b[0;31m---------------------------------------------------------------------------\u001b[0;32m\nNOTE: If your import is failing due to a missing package, you can\nmanually install dependencies using either !pip or !apt.\n\nTo view examples of installing some common dependencies, click the\n\"Open Examples\" button below.\n\u001b[0;31m---------------------------------------------------------------------------\u001b[0m\n"
          ],
          "errorDetails": {
            "actions": [
              {
                "action": "open_url",
                "actionText": "Open Examples",
                "url": "/notebooks/snippets/importing_libraries.ipynb"
              }
            ]
          }
        }
      ]
    },
    {
      "cell_type": "code",
      "source": [
        "from collections import OrderedDict\n",
        "fancy=OrderedDict([('a',1),('b',2),('c',3)])\n",
        "fancy"
      ],
      "metadata": {
        "colab": {
          "base_uri": "https://localhost:8080/"
        },
        "id": "yTDIeATmdx8i",
        "outputId": "a2b7a2f6-8eed-4679-c31a-8aabf502a1c4"
      },
      "execution_count": null,
      "outputs": [
        {
          "output_type": "execute_result",
          "data": {
            "text/plain": [
              "OrderedDict([('a', 1), ('b', 2), ('c', 3)])"
            ]
          },
          "metadata": {},
          "execution_count": 74
        }
      ]
    },
    {
      "cell_type": "code",
      "source": [
        "from collections import defaultdict\n",
        "dict_of_lists=defaultdict(list)\n",
        "dict_of_lists['a'].append('something for a')\n",
        "dict_of_lists['a']"
      ],
      "metadata": {
        "id": "p_Wbg7k5Tp_x",
        "colab": {
          "base_uri": "https://localhost:8080/"
        },
        "outputId": "2a094e5d-2269-4a99-d8c0-28c810057706"
      },
      "execution_count": null,
      "outputs": [
        {
          "output_type": "execute_result",
          "data": {
            "text/plain": [
              "['something for a']"
            ]
          },
          "metadata": {},
          "execution_count": 75
        }
      ]
    },
    {
      "cell_type": "code",
      "source": [
        "유니코드 인코딩 \n",
        "유니코드 문자열 식별자 또는 문자에 대한 이름을 알아서 파이썬 문자열에 사용\n",
        "lookup(): 유니코드 문자 반환"
      ],
      "metadata": {
        "id": "VY1ZcHN6Ri8D"
      },
      "execution_count": null,
      "outputs": []
    },
    {
      "cell_type": "code",
      "source": [
        "UTF-8 파이썬 리눅스 HTML 표준 텍스트 인코딩\n",
        "문자열을 바이트로 인코딩\n",
        "바이트를 문자열로 디코딩\n",
        "유니코드 한문자당 1~4 바이트 사용\n",
        "1바이트: 아스키코드\n",
        "2바이트: 대부분 파생 라틴어\n",
        "3바이트: \n",
        "4바이트: 아시아문자들"
      ],
      "metadata": {
        "id": "bdpG5xBx1HfX"
      },
      "execution_count": null,
      "outputs": []
    },
    {
      "cell_type": "code",
      "source": [
        "정규표현식: 문자열 축약형\n",
        "복잡한 문자열 패턴 매칭 가능\n",
        "\\ 찾는다. \n",
        "[a-z]  a-z 사이의 문자 중 하나 찾기\n",
        "[xy] xy 중 하나 찾기\n",
        "[^xy]  xy 제외하고 문자하나 찾기\n",
        "패턴: 지정자\n",
        "정규표현식 예시: 이메일 주소: @.com\n"
      ],
      "metadata": {
        "id": "8r6ag6aM3a6w"
      },
      "execution_count": null,
      "outputs": []
    },
    {
      "cell_type": "code",
      "source": [
        "원하는 데이터 셋 형태로 자르거나 찾을때 사용\n",
        "개인정보 비식별과 삭제때 활용\n",
        "정규표현식 테스트 사이트 \n",
        "빈칸생성 \\b"
      ],
      "metadata": {
        "colab": {
          "base_uri": "https://localhost:8080/",
          "height": 137
        },
        "id": "l9s-1onC8DxN",
        "outputId": "119ea302-39f9-4b6f-c863-a98680f66817"
      },
      "execution_count": null,
      "outputs": [
        {
          "output_type": "error",
          "ename": "SyntaxError",
          "evalue": "ignored",
          "traceback": [
            "\u001b[0;36m  File \u001b[0;32m\"<ipython-input-61-eb51334c34f6>\"\u001b[0;36m, line \u001b[0;32m1\u001b[0m\n\u001b[0;31m    원하는 데이터 셋 형태로 자르거나 찾을때 사용\u001b[0m\n\u001b[0m          ^\u001b[0m\n\u001b[0;31mSyntaxError\u001b[0m\u001b[0;31m:\u001b[0m invalid syntax\n"
          ]
        }
      ]
    },
    {
      "cell_type": "code",
      "source": [
        "mammoth='''\n",
        "    We have seen thee, queen of cheese,\n",
        "    Lying quietly at your ease,\n",
        "    Gently fanned by evening breeze,\n",
        "    Thy fair form no flies dare seize.\n",
        "\n",
        "    All gaily dressed soon you'll go\n",
        "    To the great Provincial show,\n",
        "    To be admired by many a beau\n",
        "    In the city of Toronto.\n",
        "\n",
        "    Cows numerous as a swarm of bees,\n",
        "    Or as the leaves upon the trees,\n",
        "    It did require to make thee please,\n",
        "    And stand unrivalled, queen of cheese.\n",
        "\n",
        "    May you not receive a scar as\n",
        "    We have heard that Mr. Harris\n",
        "    Intends to send you off as far as\n",
        "    The great world's show at Paris.\n",
        "\n",
        "    Of the youth beware of these,\n",
        "    For some of them might rudely squeeze\n",
        "    And bite your cheek, then songs or glees\n",
        "    We could not sing, oh! queen of cheese.\n",
        "\n",
        "    We'rt thou suspended from balloon,\n",
        "    You'd cast a shade even at noon,\n",
        "    Folks would think it was the moon\n",
        "    About to fall and crush them soon.'''"
      ],
      "metadata": {
        "id": "jGBb3AqdB8nK"
      },
      "execution_count": null,
      "outputs": []
    },
    {
      "cell_type": "code",
      "source": [
        "import re\n",
        "pattern=r'\\bc\\w{3}\\b' #c로 시작하는 네글자 찾기 \n",
        "re.findall(pattern,mammoth)"
      ],
      "metadata": {
        "colab": {
          "base_uri": "https://localhost:8080/"
        },
        "id": "tk30NCjn-AUZ",
        "outputId": "1f7c96f6-9990-4f61-e89e-41a236cc1c29"
      },
      "execution_count": null,
      "outputs": [
        {
          "output_type": "execute_result",
          "data": {
            "text/plain": [
              "['city', 'cast']"
            ]
          },
          "metadata": {},
          "execution_count": 22
        }
      ]
    },
    {
      "cell_type": "code",
      "source": [
        "pattern=r'\\b\\w*r\\b' #r로 끝나는 글자 찾기\n",
        "re.findall(pattern,mammoth)"
      ],
      "metadata": {
        "colab": {
          "base_uri": "https://localhost:8080/"
        },
        "id": "4mwU7X2I-HMH",
        "outputId": "b7ef0a75-3b8f-47ec-ecf0-4282f6616820"
      },
      "execution_count": null,
      "outputs": [
        {
          "output_type": "execute_result",
          "data": {
            "text/plain": [
              "['your', 'fair', 'Or', 'scar', 'Mr', 'far', 'For', 'your', 'or']"
            ]
          },
          "metadata": {},
          "execution_count": 29
        }
      ]
    },
    {
      "cell_type": "code",
      "source": [
        "pattern=r'\\b\\w*[aeiou]{3}[^aeiou\\s]*\\r*\\b' #모음 연속 세번 나오는 단어\n",
        "re.findall(pattern,mammoth)"
      ],
      "metadata": {
        "colab": {
          "base_uri": "https://localhost:8080/"
        },
        "id": "6uiA57RM6S9e",
        "outputId": "1dc0ad53-abf2-4d71-f155-6b9672a277e3"
      },
      "execution_count": null,
      "outputs": [
        {
          "output_type": "execute_result",
          "data": {
            "text/plain": [
              "['queen', 'quietly', 'beau', 'queen', 'queen']"
            ]
          },
          "metadata": {},
          "execution_count": 60
        }
      ]
    },
    {
      "cell_type": "code",
      "source": [
        ""
      ],
      "metadata": {
        "id": "tJdWAz6I6STC"
      },
      "execution_count": null,
      "outputs": []
    },
    {
      "cell_type": "code",
      "source": [
        ""
      ],
      "metadata": {
        "id": "uq-97j7XRbEw"
      },
      "execution_count": null,
      "outputs": []
    }
  ]
}