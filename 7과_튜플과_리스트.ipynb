{
  "nbformat": 4,
  "nbformat_minor": 0,
  "metadata": {
    "colab": {
      "name": "7과 튜플과 리스트",
      "provenance": [],
      "authorship_tag": "ABX9TyPvubaLzjpgw5gvUnR19hLL",
      "include_colab_link": true
    },
    "kernelspec": {
      "name": "python3",
      "display_name": "Python 3"
    },
    "language_info": {
      "name": "python"
    }
  },
  "cells": [
    {
      "cell_type": "markdown",
      "metadata": {
        "id": "view-in-github",
        "colab_type": "text"
      },
      "source": [
        "<a href=\"https://colab.research.google.com/github/radanim/TIL/blob/master/7%EA%B3%BC_%ED%8A%9C%ED%94%8C%EA%B3%BC_%EB%A6%AC%EC%8A%A4%ED%8A%B8.ipynb\" target=\"_parent\"><img src=\"https://colab.research.google.com/assets/colab-badge.svg\" alt=\"Open In Colab\"/></a>"
      ]
    },
    {
      "cell_type": "code",
      "execution_count": null,
      "metadata": {
        "id": "JKQV6eG-n7VL"
      },
      "outputs": [],
      "source": [
        "튜플은 불변, 튜플에 항목을 할당하고 나면 바꿀 수 없다.\n",
        "리스트는 가변, 항목을 할당하고 나서 자유롭게 수정하거나 삭제할 수 있다. "
      ]
    },
    {
      "cell_type": "code",
      "source": [
        "marx='groucho','chico','harpo'\n",
        "marx"
      ],
      "metadata": {
        "id": "3D4U9hBboWhy"
      },
      "execution_count": null,
      "outputs": []
    },
    {
      "cell_type": "code",
      "source": [
        "a,b,c=marx\n",
        "a\n",
        "b\n",
        "c"
      ],
      "metadata": {
        "colab": {
          "base_uri": "https://localhost:8080/",
          "height": 35
        },
        "id": "MM7yAscWqAfd",
        "outputId": "261c3a01-bccb-40a4-973a-5ec7cbde2c98"
      },
      "execution_count": null,
      "outputs": [
        {
          "output_type": "execute_result",
          "data": {
            "text/plain": [
              "'harpo'"
            ],
            "application/vnd.google.colaboratory.intrinsic+json": {
              "type": "string"
            }
          },
          "metadata": {},
          "execution_count": 7
        }
      ]
    },
    {
      "cell_type": "code",
      "source": [
        "marx_list=['groucho','chico','harpo'] # 리스트를 튜플로 바꿀때 tuple()\n",
        "tuple(marx_list)"
      ],
      "metadata": {
        "colab": {
          "base_uri": "https://localhost:8080/"
        },
        "id": "IG4JA2qcqoq-",
        "outputId": "edaccaa4-632a-4294-c326-e46e77ca1197"
      },
      "execution_count": null,
      "outputs": [
        {
          "output_type": "execute_result",
          "data": {
            "text/plain": [
              "('groucho', 'chico', 'harpo')"
            ]
          },
          "metadata": {},
          "execution_count": 10
        }
      ]
    },
    {
      "cell_type": "code",
      "source": [
        "list('cat')"
      ],
      "metadata": {
        "colab": {
          "base_uri": "https://localhost:8080/"
        },
        "id": "K5gtStTIq7Ru",
        "outputId": "d0d6f699-01c4-418f-c361-d38ecb9d6c1e"
      },
      "execution_count": null,
      "outputs": [
        {
          "output_type": "execute_result",
          "data": {
            "text/plain": [
              "['c', 'a', 't']"
            ]
          },
          "metadata": {},
          "execution_count": 13
        }
      ]
    },
    {
      "cell_type": "code",
      "source": [
        "a_tuple=('ready','fire','aim')\n",
        "list(a_tuple)"
      ],
      "metadata": {
        "colab": {
          "base_uri": "https://localhost:8080/"
        },
        "id": "Z8LMKufxuJCZ",
        "outputId": "75f3ff7b-040b-4e18-f6cd-d154afd864c1"
      },
      "execution_count": null,
      "outputs": [
        {
          "output_type": "execute_result",
          "data": {
            "text/plain": [
              "['ready', 'fire', 'aim']"
            ]
          },
          "metadata": {},
          "execution_count": 14
        }
      ]
    },
    {
      "cell_type": "code",
      "source": [
        "day='9/19/2019'\n",
        "day.split('/')"
      ],
      "metadata": {
        "colab": {
          "base_uri": "https://localhost:8080/"
        },
        "id": "3650BK0YuRjv",
        "outputId": "9b6fc5c3-c906-4c75-f98b-65b830578e83"
      },
      "execution_count": null,
      "outputs": [
        {
          "output_type": "execute_result",
          "data": {
            "text/plain": [
              "['9', '19', '2019']"
            ]
          },
          "metadata": {},
          "execution_count": 15
        }
      ]
    },
    {
      "cell_type": "code",
      "source": [
        "marx_list.append('zeppo')\n",
        "marx_list"
      ],
      "metadata": {
        "colab": {
          "base_uri": "https://localhost:8080/"
        },
        "id": "PUtCpp7lua91",
        "outputId": "a2617fd4-ffce-4d2a-a842-26e0f58b43a5"
      },
      "execution_count": null,
      "outputs": [
        {
          "output_type": "execute_result",
          "data": {
            "text/plain": [
              "['groucho', 'chico', 'harpo', 'zeppo', 'zeppo', 'zeppo']"
            ]
          },
          "metadata": {},
          "execution_count": 18
        }
      ]
    },
    {
      "cell_type": "code",
      "source": [
        "marx_list.insert(2,'gummo')\n",
        "marx_list"
      ],
      "metadata": {
        "colab": {
          "base_uri": "https://localhost:8080/"
        },
        "id": "BM_atxuEvLSN",
        "outputId": "ee91d9ef-03af-463d-d980-3c1526bbb182"
      },
      "execution_count": null,
      "outputs": [
        {
          "output_type": "execute_result",
          "data": {
            "text/plain": [
              "['groucho', 'chico', 'gummo', 'gummo', 'harpo', 'zeppo', 'zeppo', 'zeppo']"
            ]
          },
          "metadata": {},
          "execution_count": 20
        }
      ]
    },
    {
      "cell_type": "code",
      "source": [
        "marx_list[2]='wanda'\n",
        "del marx_list[-1]\n",
        "marx_list\n",
        "marx_list.pop()\n",
        "marx_list"
      ],
      "metadata": {
        "colab": {
          "base_uri": "https://localhost:8080/"
        },
        "id": "do-ZrPW7vSz2",
        "outputId": "a91c48e2-d9aa-48b8-f771-021cfb110678"
      },
      "execution_count": null,
      "outputs": [
        {
          "output_type": "execute_result",
          "data": {
            "text/plain": [
              "['groucho']"
            ]
          },
          "metadata": {},
          "execution_count": 27
        }
      ]
    },
    {
      "cell_type": "code",
      "source": [
        "marx_list.clear()"
      ],
      "metadata": {
        "id": "N2uz5iOrwe6y"
      },
      "execution_count": null,
      "outputs": []
    },
    {
      "cell_type": "code",
      "source": [
        "marx_list"
      ],
      "metadata": {
        "colab": {
          "base_uri": "https://localhost:8080/"
        },
        "id": "-Rts8n04wl1s",
        "outputId": "a2bc1b91-4700-413a-80b8-a1356bebb412"
      },
      "execution_count": null,
      "outputs": [
        {
          "output_type": "execute_result",
          "data": {
            "text/plain": [
              "[]"
            ]
          },
          "metadata": {},
          "execution_count": 30
        }
      ]
    },
    {
      "cell_type": "code",
      "source": [
        "simpsons=['lisa','bart','marge','homer','bart']\n",
        "simpsons.index('bart')"
      ],
      "metadata": {
        "colab": {
          "base_uri": "https://localhost:8080/"
        },
        "id": "762uRFuyw5Q_",
        "outputId": "67baa09a-7182-41be-a1e5-ac2e1e1b8003"
      },
      "execution_count": null,
      "outputs": [
        {
          "output_type": "execute_result",
          "data": {
            "text/plain": [
              "1"
            ]
          },
          "metadata": {},
          "execution_count": 31
        }
      ]
    },
    {
      "cell_type": "code",
      "source": [
        "'bart' in simpsons"
      ],
      "metadata": {
        "colab": {
          "base_uri": "https://localhost:8080/"
        },
        "id": "fx6EoeJVxBnb",
        "outputId": "1b7dae13-a09f-4121-f244-97bbe48a34db"
      },
      "execution_count": null,
      "outputs": [
        {
          "output_type": "execute_result",
          "data": {
            "text/plain": [
              "True"
            ]
          },
          "metadata": {},
          "execution_count": 32
        }
      ]
    },
    {
      "cell_type": "code",
      "source": [
        "'bob' in simpsons"
      ],
      "metadata": {
        "colab": {
          "base_uri": "https://localhost:8080/"
        },
        "id": "Ajl8sZguxF8N",
        "outputId": "c104965c-f421-4809-fc95-73367fe588af"
      },
      "execution_count": null,
      "outputs": [
        {
          "output_type": "execute_result",
          "data": {
            "text/plain": [
              "False"
            ]
          },
          "metadata": {},
          "execution_count": 33
        }
      ]
    },
    {
      "cell_type": "code",
      "source": [
        "simpsons.count('bart')"
      ],
      "metadata": {
        "colab": {
          "base_uri": "https://localhost:8080/"
        },
        "id": "DiyVk3fPxIUw",
        "outputId": "5ee4997d-795b-49cb-e2c5-5100a2dbce1e"
      },
      "execution_count": null,
      "outputs": [
        {
          "output_type": "execute_result",
          "data": {
            "text/plain": [
              "2"
            ]
          },
          "metadata": {},
          "execution_count": 36
        }
      ]
    },
    {
      "cell_type": "code",
      "source": [
        "simpsons.count('bob')"
      ],
      "metadata": {
        "colab": {
          "base_uri": "https://localhost:8080/"
        },
        "id": "TbzI5GaDxPrN",
        "outputId": "0fbe35c6-a055-48f8-90fe-a67368c60d4e"
      },
      "execution_count": null,
      "outputs": [
        {
          "output_type": "execute_result",
          "data": {
            "text/plain": [
              "0"
            ]
          },
          "metadata": {},
          "execution_count": 35
        }
      ]
    },
    {
      "cell_type": "code",
      "source": [
        "numbers=[2,1,4.0,3]\n",
        "numbers.sort(reverse=True)\n",
        "numbers"
      ],
      "metadata": {
        "colab": {
          "base_uri": "https://localhost:8080/"
        },
        "id": "KNO-imNHxUj0",
        "outputId": "6ab4298e-7b84-4f9a-a03b-36d19c3601c6"
      },
      "execution_count": null,
      "outputs": [
        {
          "output_type": "execute_result",
          "data": {
            "text/plain": [
              "[4.0, 3, 2, 1]"
            ]
          },
          "metadata": {},
          "execution_count": 38
        }
      ]
    },
    {
      "cell_type": "code",
      "source": [
        "슬라이스[:]\n",
        "얕은 복사는 원본이 수정될때 같이 수정되고\n",
        "깊은 복사는 원본이 수정되어도 복사본은 변화없이 그대로 존재"
      ],
      "metadata": {
        "id": "2LQJKc-kzZX8"
      },
      "execution_count": null,
      "outputs": []
    },
    {
      "cell_type": "code",
      "source": [
        "a=[3,2]\n",
        "b=[1,2,3]\n",
        "a>b"
      ],
      "metadata": {
        "colab": {
          "base_uri": "https://localhost:8080/"
        },
        "id": "-GhB3Zrq0ZtD",
        "outputId": "076c3fcc-435f-40ce-a7b8-7d1998d1fc31"
      },
      "execution_count": null,
      "outputs": [
        {
          "output_type": "execute_result",
          "data": {
            "text/plain": [
              "True"
            ]
          },
          "metadata": {},
          "execution_count": 39
        }
      ]
    },
    {
      "cell_type": "code",
      "source": [
        "cheeses=['brie','gjetost','havarti']\n",
        "for cheese in cheeses:\n",
        "  if cheese.startswith('x'):\n",
        "    print(\"I won't eat anything that starts with 'x'\") \n",
        "    break\n",
        "  else: \n",
        "    print(cheese)\n",
        "\n",
        "else:\n",
        "  print(\"Didn't find anything that started with 'x'\")"
      ],
      "metadata": {
        "colab": {
          "base_uri": "https://localhost:8080/"
        },
        "id": "vyUpa0xc0kim",
        "outputId": "6361b473-0887-4f51-ecac-9e75e1ba70a8"
      },
      "execution_count": null,
      "outputs": [
        {
          "output_type": "stream",
          "name": "stdout",
          "text": [
            "brie\n",
            "gjetost\n",
            "havarti\n",
            "Didn't find anything that started with 'x'\n"
          ]
        }
      ]
    },
    {
      "cell_type": "code",
      "source": [
        "cheeses=[]\n",
        "for cheese in cheeses:\n",
        "  print('this shop has some lovely',cheese)\n",
        "  break\n",
        "else: #break 문이 실행되지 않으면 실행된다.\n",
        "  print('this is not much of a cheese shop, is it?')"
      ],
      "metadata": {
        "colab": {
          "base_uri": "https://localhost:8080/"
        },
        "id": "4eslTbtj2TWA",
        "outputId": "c4918607-c8c7-4fbe-f558-470f8b322df3"
      },
      "execution_count": null,
      "outputs": [
        {
          "output_type": "stream",
          "name": "stdout",
          "text": [
            "this is not much of a cheese shop, is it?\n"
          ]
        }
      ]
    },
    {
      "cell_type": "code",
      "source": [
        "days=['monday','tuesday','wednesday']\n",
        "fruits=['banana','orange','peach']\n",
        "drinks=['coffee','tea','beer']\n",
        "desserts=['tiramisu','ice cream','pie','pudding']\n",
        "for day,fruit,drink,dessert in zip(days,fruits,drinks,desserts):\n",
        "  print(day,\":drink\",drink,\"-eat\",fruit,\"-enjoy\",dessert)"
      ],
      "metadata": {
        "colab": {
          "base_uri": "https://localhost:8080/"
        },
        "id": "uPf2wG_w2piF",
        "outputId": "62c49bba-641d-4c86-eace-cf770a93ef75"
      },
      "execution_count": null,
      "outputs": [
        {
          "output_type": "stream",
          "name": "stdout",
          "text": [
            "monday :drink coffee -eat banana -enjoy tiramisu\n",
            "tuesday :drink tea -eat orange -enjoy ice cream\n",
            "wednesday :drink beer -eat peach -enjoy pie\n"
          ]
        }
      ]
    },
    {
      "cell_type": "code",
      "source": [
        "english='monday','tuesday','wednesday'\n",
        "french='lundi','mardi','mercredi'\n",
        "list(zip(english,french))"
      ],
      "metadata": {
        "colab": {
          "base_uri": "https://localhost:8080/"
        },
        "id": "sRAVfI8j4uUd",
        "outputId": "b07bd6bf-aa94-4492-ec94-611d2778aa38"
      },
      "execution_count": null,
      "outputs": [
        {
          "output_type": "execute_result",
          "data": {
            "text/plain": [
              "[('monday', 'lundi'), ('tuesday', 'mardi'), ('wednesday', 'mercredi')]"
            ]
          },
          "metadata": {},
          "execution_count": 54
        }
      ]
    },
    {
      "cell_type": "code",
      "source": [
        "dict(zip(english,french))"
      ],
      "metadata": {
        "colab": {
          "base_uri": "https://localhost:8080/"
        },
        "id": "avBAN2Op5jRi",
        "outputId": "99018f5f-0ef6-4649-b078-27025b4847af"
      },
      "execution_count": null,
      "outputs": [
        {
          "output_type": "execute_result",
          "data": {
            "text/plain": [
              "{'monday': 'lundi', 'tuesday': 'mardi', 'wednesday': 'mercredi'}"
            ]
          },
          "metadata": {},
          "execution_count": 55
        }
      ]
    },
    {
      "cell_type": "code",
      "source": [
        "number_list=[]\n",
        "for number in range(1,6):\n",
        "  number_list.append(number)\n",
        "number_list"
      ],
      "metadata": {
        "colab": {
          "base_uri": "https://localhost:8080/"
        },
        "id": "-IPc8oJF5tTi",
        "outputId": "b5ff7c3e-8121-4856-dc8c-86ad306f6448"
      },
      "execution_count": null,
      "outputs": [
        {
          "output_type": "execute_result",
          "data": {
            "text/plain": [
              "[1, 2, 3, 4, 5]"
            ]
          },
          "metadata": {},
          "execution_count": 57
        }
      ]
    },
    {
      "cell_type": "code",
      "source": [
        "number_list=list(range(1,6))\n",
        "number_list"
      ],
      "metadata": {
        "colab": {
          "base_uri": "https://localhost:8080/"
        },
        "id": "oK3vhHEr50Gu",
        "outputId": "1fd1f588-f5a8-4752-c39c-0770fe5ac0a5"
      },
      "execution_count": null,
      "outputs": [
        {
          "output_type": "execute_result",
          "data": {
            "text/plain": [
              "[1, 2, 3, 4, 5]"
            ]
          },
          "metadata": {},
          "execution_count": 59
        }
      ]
    },
    {
      "cell_type": "code",
      "source": [
        "리스트 컴프리헨션\n",
        "표현식 for 항목 in 순회 가능한 객체 "
      ],
      "metadata": {
        "id": "Ook2LpUH58LD"
      },
      "execution_count": null,
      "outputs": []
    },
    {
      "cell_type": "code",
      "source": [
        "number_list=[number for number in range(1,6)]\n",
        "number_list"
      ],
      "metadata": {
        "colab": {
          "base_uri": "https://localhost:8080/"
        },
        "id": "A2b9D2xq6I8T",
        "outputId": "7c8108ac-ec75-4dbe-cc68-0d904d09dfb4"
      },
      "execution_count": null,
      "outputs": [
        {
          "output_type": "execute_result",
          "data": {
            "text/plain": [
              "[1, 2, 3, 4, 5]"
            ]
          },
          "metadata": {},
          "execution_count": 69
        }
      ]
    },
    {
      "cell_type": "code",
      "source": [
        "number_list=[number-1 for number in range(1,6)]\n",
        "number_list"
      ],
      "metadata": {
        "colab": {
          "base_uri": "https://localhost:8080/"
        },
        "id": "pYAiW4Fr6cVE",
        "outputId": "5140dc9b-92a8-42a5-a3bd-b1bbc1b816ea"
      },
      "execution_count": null,
      "outputs": [
        {
          "output_type": "execute_result",
          "data": {
            "text/plain": [
              "[0, 1, 2, 3, 4]"
            ]
          },
          "metadata": {},
          "execution_count": 70
        }
      ]
    },
    {
      "cell_type": "code",
      "source": [
        "a_list=[number for number in range(1,6) if number %2 == 1]\n",
        "a_list"
      ],
      "metadata": {
        "colab": {
          "base_uri": "https://localhost:8080/"
        },
        "id": "2t9uaO2V6wJR",
        "outputId": "35e70813-0091-4f78-d550-8f413fa6ea3a"
      },
      "execution_count": null,
      "outputs": [
        {
          "output_type": "execute_result",
          "data": {
            "text/plain": [
              "[1, 3, 5]"
            ]
          },
          "metadata": {},
          "execution_count": 71
        }
      ]
    },
    {
      "cell_type": "code",
      "source": [
        "a_list=[]\n",
        "for number in range(1,6):\n",
        "  if number%2==1:\n",
        "    a_list.append(number)\n",
        "\n",
        "a_list"
      ],
      "metadata": {
        "colab": {
          "base_uri": "https://localhost:8080/"
        },
        "id": "B_LbERvA62Qw",
        "outputId": "1dc19a99-2225-43fe-9fe9-cd5f34e44b20"
      },
      "execution_count": null,
      "outputs": [
        {
          "output_type": "execute_result",
          "data": {
            "text/plain": [
              "[1, 3, 5]"
            ]
          },
          "metadata": {},
          "execution_count": 72
        }
      ]
    },
    {
      "cell_type": "code",
      "source": [
        "rows=range(1,4)\n",
        "cols=range(1,3)\n",
        "for row in rows:\n",
        "  for col in cols:\n",
        "    print(row,col)"
      ],
      "metadata": {
        "colab": {
          "base_uri": "https://localhost:8080/"
        },
        "id": "MDi7KhTw6-8Y",
        "outputId": "0f65ad44-d83c-4657-9f76-27907e6e4b2f"
      },
      "execution_count": null,
      "outputs": [
        {
          "output_type": "stream",
          "name": "stdout",
          "text": [
            "1 1\n",
            "1 2\n",
            "2 1\n",
            "2 2\n",
            "3 1\n",
            "3 2\n"
          ]
        }
      ]
    },
    {
      "cell_type": "code",
      "source": [
        "rows=range(1,4)\n",
        "cols=range(1,3)\n",
        "cells=[(row,col) for row in rows for col in cols]\n",
        "for cell in cells:\n",
        "  print(cell)"
      ],
      "metadata": {
        "colab": {
          "base_uri": "https://localhost:8080/"
        },
        "id": "uM-wpO1W7QwQ",
        "outputId": "3748c1a8-9f01-4986-fc71-0ac19afb6b17"
      },
      "execution_count": null,
      "outputs": [
        {
          "output_type": "stream",
          "name": "stdout",
          "text": [
            "(1, 1)\n",
            "(1, 2)\n",
            "(2, 1)\n",
            "(2, 2)\n",
            "(3, 1)\n",
            "(3, 2)\n"
          ]
        }
      ]
    },
    {
      "cell_type": "code",
      "source": [
        "for row,col in cells:\n",
        "  print(row, col)"
      ],
      "metadata": {
        "colab": {
          "base_uri": "https://localhost:8080/"
        },
        "id": "4dOq2dLL7bKi",
        "outputId": "8fcabca2-1b03-4d0a-d722-b9e07ccc7a69"
      },
      "execution_count": null,
      "outputs": [
        {
          "output_type": "stream",
          "name": "stdout",
          "text": [
            "1 1\n",
            "1 2\n",
            "2 1\n",
            "2 2\n",
            "3 1\n",
            "3 2\n"
          ]
        }
      ]
    },
    {
      "cell_type": "code",
      "source": [
        "small_birds=['hummingbird','finch']\n",
        "extinct_birds=['dodo','passenger pigeon','Norwegian Blue']\n",
        "carol_birds=[3,'French hens',2,'turtledoves']\n",
        "all_birds=[small_birds,extinct_birds,'macaw',carol_birds]\n",
        "\n",
        "all_birds[1][0]"
      ],
      "metadata": {
        "colab": {
          "base_uri": "https://localhost:8080/",
          "height": 35
        },
        "id": "sO2o1_gu74YN",
        "outputId": "b03e23ed-f17e-47f6-a415-ebb5c2e61616"
      },
      "execution_count": null,
      "outputs": [
        {
          "output_type": "execute_result",
          "data": {
            "text/plain": [
              "'dodo'"
            ],
            "application/vnd.google.colaboratory.intrinsic+json": {
              "type": "string"
            }
          },
          "metadata": {},
          "execution_count": 76
        }
      ]
    },
    {
      "cell_type": "code",
      "source": [
        "number_thing=(number for number in range(1,6))\n",
        "number_thing"
      ],
      "metadata": {
        "colab": {
          "base_uri": "https://localhost:8080/"
        },
        "id": "It8iHw7B8RCn",
        "outputId": "dcfb4662-6013-48ab-8c07-5ac77e2e7202"
      },
      "execution_count": null,
      "outputs": [
        {
          "output_type": "execute_result",
          "data": {
            "text/plain": [
              "<generator object <genexpr> at 0x7f915ddef950>"
            ]
          },
          "metadata": {},
          "execution_count": 78
        }
      ]
    }
  ]
}