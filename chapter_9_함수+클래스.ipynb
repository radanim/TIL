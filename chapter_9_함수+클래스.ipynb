{
  "nbformat": 4,
  "nbformat_minor": 0,
  "metadata": {
    "colab": {
      "name": "chapter 9 함수+클래스",
      "provenance": [],
      "collapsed_sections": [],
      "authorship_tag": "ABX9TyPi0Jsyc0/aY8kcYiVBcdmj",
      "include_colab_link": true
    },
    "kernelspec": {
      "name": "python3",
      "display_name": "Python 3"
    },
    "language_info": {
      "name": "python"
    }
  },
  "cells": [
    {
      "cell_type": "markdown",
      "metadata": {
        "id": "view-in-github",
        "colab_type": "text"
      },
      "source": [
        "<a href=\"https://colab.research.google.com/github/radanim/TIL/blob/master/chapter_9_%ED%95%A8%EC%88%98%2B%ED%81%B4%EB%9E%98%EC%8A%A4.ipynb\" target=\"_parent\"><img src=\"https://colab.research.google.com/assets/colab-badge.svg\" alt=\"Open In Colab\"/></a>"
      ]
    },
    {
      "cell_type": "code",
      "execution_count": 1,
      "metadata": {
        "id": "90P39elfvpHp"
      },
      "outputs": [],
      "source": [
        "def add(a,b):\n",
        "  return a+b"
      ]
    },
    {
      "cell_type": "code",
      "source": [
        "a=3\n",
        "b=4\n",
        "c=add(a,b)\n",
        "print(c)"
      ],
      "metadata": {
        "colab": {
          "base_uri": "https://localhost:8080/"
        },
        "id": "gNGGNQY3BKHP",
        "outputId": "22cdf743-0c8b-478a-f99c-e01838ab71bd"
      },
      "execution_count": 2,
      "outputs": [
        {
          "output_type": "stream",
          "name": "stdout",
          "text": [
            "7\n"
          ]
        }
      ]
    },
    {
      "cell_type": "code",
      "source": [
        "#함수정의 부르려고, 여러번 사용하려고"
      ],
      "metadata": {
        "id": "yGZ-nZDeBfIZ"
      },
      "execution_count": null,
      "outputs": []
    },
    {
      "cell_type": "code",
      "source": [
        "def sub(a,b):\n",
        "  return a-b"
      ],
      "metadata": {
        "id": "b3RCOZyIBkV3"
      },
      "execution_count": 3,
      "outputs": []
    },
    {
      "cell_type": "code",
      "source": [
        "a=3\n",
        "b=4\n",
        "c=sub(a,b)\n",
        "print(c)"
      ],
      "metadata": {
        "colab": {
          "base_uri": "https://localhost:8080/"
        },
        "id": "vm0NbnFsBwWy",
        "outputId": "720a823b-a5c7-4b4f-d09f-bb201023d677"
      },
      "execution_count": 4,
      "outputs": [
        {
          "output_type": "stream",
          "name": "stdout",
          "text": [
            "-1\n"
          ]
        }
      ]
    },
    {
      "cell_type": "code",
      "source": [
        "def mul(a,b):\n",
        "  return a*b"
      ],
      "metadata": {
        "id": "BElERPUCB1sB"
      },
      "execution_count": 5,
      "outputs": []
    },
    {
      "cell_type": "code",
      "source": [
        "c=mul(a,b)\n",
        "print(c)"
      ],
      "metadata": {
        "colab": {
          "base_uri": "https://localhost:8080/"
        },
        "id": "Ktmp9tN6B5lz",
        "outputId": "4ddbac14-2e1b-481a-b9ba-b7a84fcf949d"
      },
      "execution_count": 6,
      "outputs": [
        {
          "output_type": "stream",
          "name": "stdout",
          "text": [
            "12\n"
          ]
        }
      ]
    },
    {
      "cell_type": "code",
      "source": [
        "def div(a,b):\n",
        "  return a/b"
      ],
      "metadata": {
        "id": "4oYTUBNkB8tv"
      },
      "execution_count": 17,
      "outputs": []
    },
    {
      "cell_type": "code",
      "source": [
        "c=div(a,b)\n",
        "print(c)"
      ],
      "metadata": {
        "colab": {
          "base_uri": "https://localhost:8080/"
        },
        "id": "fRC4wiNYB_Jh",
        "outputId": "f49baad8-2bcd-478e-b8fe-35865dfa6ff6"
      },
      "execution_count": 18,
      "outputs": [
        {
          "output_type": "stream",
          "name": "stdout",
          "text": [
            "0.75\n"
          ]
        }
      ]
    },
    {
      "cell_type": "code",
      "source": [
        "a+b"
      ],
      "metadata": {
        "colab": {
          "base_uri": "https://localhost:8080/"
        },
        "id": "4WQtpgrLCVXN",
        "outputId": "f1d6f3ad-b934-499e-f628-49b4e700952b"
      },
      "execution_count": 16,
      "outputs": [
        {
          "output_type": "execute_result",
          "data": {
            "text/plain": [
              "7"
            ]
          },
          "metadata": {},
          "execution_count": 16
        }
      ]
    },
    {
      "cell_type": "code",
      "source": [
        "print(add(3,4))"
      ],
      "metadata": {
        "colab": {
          "base_uri": "https://localhost:8080/"
        },
        "id": "h-92AngdChD5",
        "outputId": "ef7c354c-fe11-4696-d69f-94cb43100feb"
      },
      "execution_count": 19,
      "outputs": [
        {
          "output_type": "stream",
          "name": "stdout",
          "text": [
            "7\n"
          ]
        }
      ]
    },
    {
      "cell_type": "code",
      "source": [
        "def 함수이름(매개변수):\n",
        "  <수행할 문장>\n",
        "\n",
        "  : 결과값"
      ],
      "metadata": {
        "id": "s2k3GbzgC0Ng"
      },
      "execution_count": null,
      "outputs": []
    },
    {
      "cell_type": "code",
      "source": [
        "def say():\n",
        "  return 'Hi'"
      ],
      "metadata": {
        "id": "LE9WmUZoC5Lw"
      },
      "execution_count": 20,
      "outputs": []
    },
    {
      "cell_type": "code",
      "source": [
        "print('Hi')"
      ],
      "metadata": {
        "colab": {
          "base_uri": "https://localhost:8080/"
        },
        "id": "W0KYPJDAC9KS",
        "outputId": "240287fb-0ccf-4fc8-8cb9-f2a5554dd40b"
      },
      "execution_count": 25,
      "outputs": [
        {
          "output_type": "stream",
          "name": "stdout",
          "text": [
            "Hi\n"
          ]
        }
      ]
    },
    {
      "cell_type": "code",
      "source": [
        "a=say()\n",
        "a"
      ],
      "metadata": {
        "colab": {
          "base_uri": "https://localhost:8080/",
          "height": 35
        },
        "id": "11xwYaj6DJty",
        "outputId": "316271d2-c7e5-42c6-b35b-5122655331fb"
      },
      "execution_count": 26,
      "outputs": [
        {
          "output_type": "execute_result",
          "data": {
            "text/plain": [
              "'Hi'"
            ],
            "application/vnd.google.colaboratory.intrinsic+json": {
              "type": "string"
            }
          },
          "metadata": {},
          "execution_count": 26
        }
      ]
    },
    {
      "cell_type": "code",
      "source": [
        "def add(a,b):\n",
        "  print(\"%d, %d의 합은 %d입니다.\" %(a,b,a+b)) \n",
        "\n",
        "# d decimal\n",
        "# s string\n",
        "# f floating "
      ],
      "metadata": {
        "id": "l0evUV5dDjcO"
      },
      "execution_count": 27,
      "outputs": []
    },
    {
      "cell_type": "code",
      "source": [
        "add(3,4)"
      ],
      "metadata": {
        "colab": {
          "base_uri": "https://localhost:8080/"
        },
        "id": "1EF7E_X0D7Jy",
        "outputId": "7a44f394-48af-4263-bfb1-12a30e26ddb6"
      },
      "execution_count": 28,
      "outputs": [
        {
          "output_type": "stream",
          "name": "stdout",
          "text": [
            "3, 4의 합은 7입니다.\n"
          ]
        }
      ]
    },
    {
      "cell_type": "code",
      "source": [
        "a=add(3,4)\n",
        "print(a)"
      ],
      "metadata": {
        "colab": {
          "base_uri": "https://localhost:8080/"
        },
        "id": "xguOzG62EHrU",
        "outputId": "359d6b64-6aa8-47c5-f4a3-8f5134903841"
      },
      "execution_count": 31,
      "outputs": [
        {
          "output_type": "stream",
          "name": "stdout",
          "text": [
            "3, 4의 합은 7입니다.\n",
            "None\n"
          ]
        }
      ]
    },
    {
      "cell_type": "code",
      "source": [
        "입력값이 O, X , 출력값이 O,X 총 4가지 경우의 수 "
      ],
      "metadata": {
        "id": "TXySG_1jElGl"
      },
      "execution_count": null,
      "outputs": []
    },
    {
      "cell_type": "code",
      "source": [
        "입력값이 여러개면 \n",
        "def 함수이름(*매개변수):\n",
        "  <수행할 문장>"
      ],
      "metadata": {
        "id": "irLoNKddExSV"
      },
      "execution_count": null,
      "outputs": []
    },
    {
      "cell_type": "code",
      "source": [
        "*args - argument"
      ],
      "metadata": {
        "id": "Fyxa9ywXFSmq"
      },
      "execution_count": null,
      "outputs": []
    },
    {
      "cell_type": "code",
      "source": [
        "def add_many(*args):\n",
        "  result=0\n",
        "  for i in args:\n",
        "    result = result+i\n",
        "  return result"
      ],
      "metadata": {
        "id": "gWUb9wVZFjS3"
      },
      "execution_count": 32,
      "outputs": []
    },
    {
      "cell_type": "code",
      "source": [
        "add_many(1,2,3)"
      ],
      "metadata": {
        "colab": {
          "base_uri": "https://localhost:8080/"
        },
        "id": "g6HenrLBFrCb",
        "outputId": "0d8e4e68-cdf2-4386-a1aa-01b230f6ff0a"
      },
      "execution_count": 37,
      "outputs": [
        {
          "output_type": "execute_result",
          "data": {
            "text/plain": [
              "6"
            ]
          },
          "metadata": {},
          "execution_count": 37
        }
      ]
    },
    {
      "cell_type": "code",
      "source": [
        "add_many(1,2,3,4,5,6,7,8,9,10)"
      ],
      "metadata": {
        "colab": {
          "base_uri": "https://localhost:8080/"
        },
        "id": "C_mPaRp7GBsf",
        "outputId": "dca2cae4-e502-443f-b725-1a01308b562c"
      },
      "execution_count": 39,
      "outputs": [
        {
          "output_type": "execute_result",
          "data": {
            "text/plain": [
              "55"
            ]
          },
          "metadata": {},
          "execution_count": 39
        }
      ]
    },
    {
      "cell_type": "code",
      "source": [
        "def add_mul(choice,*args):\n",
        "  if choice==\"add\":\n",
        "    result=0\n",
        "    for i in args:\n",
        "      result=result+i\n",
        "  elif choice==\"mul\":\n",
        "    result=1\n",
        "    for i in args:\n",
        "      result=result*i\n",
        "  return result"
      ],
      "metadata": {
        "id": "tTGyy70rGKT8"
      },
      "execution_count": 40,
      "outputs": []
    },
    {
      "cell_type": "code",
      "source": [
        "add_mul(\"add\",1,2,3)"
      ],
      "metadata": {
        "colab": {
          "base_uri": "https://localhost:8080/"
        },
        "id": "c_xPSvnDGulN",
        "outputId": "80a4a33d-11a8-4b99-9455-d2fd7a5dd174"
      },
      "execution_count": 43,
      "outputs": [
        {
          "output_type": "execute_result",
          "data": {
            "text/plain": [
              "6"
            ]
          },
          "metadata": {},
          "execution_count": 43
        }
      ]
    },
    {
      "cell_type": "code",
      "source": [
        "add_mul(\"mul\",1,2,3,4,5)"
      ],
      "metadata": {
        "colab": {
          "base_uri": "https://localhost:8080/"
        },
        "id": "PmyL-X13G1uP",
        "outputId": "c2f8e0d8-f17a-44cb-a555-fa7eb22bc1a6"
      },
      "execution_count": 44,
      "outputs": [
        {
          "output_type": "execute_result",
          "data": {
            "text/plain": [
              "120"
            ]
          },
          "metadata": {},
          "execution_count": 44
        }
      ]
    },
    {
      "cell_type": "code",
      "source": [
        "kwargs 키워드 파라미터\n",
        "kw 키워드 "
      ],
      "metadata": {
        "id": "8-oxEfVGHCki"
      },
      "execution_count": null,
      "outputs": []
    },
    {
      "cell_type": "markdown",
      "source": [
        " def print_kwargs(**kwargs):\n",
        "   print(kwargs)\n",
        "# ** 쌍이다."
      ],
      "metadata": {
        "id": "eLS5PBojHdS5"
      }
    },
    {
      "cell_type": "code",
      "source": [
        "def print_kwargs(**kwargs): print(kwargs)"
      ],
      "metadata": {
        "id": "SFwvCc3THniC"
      },
      "execution_count": 45,
      "outputs": []
    },
    {
      "cell_type": "code",
      "source": [
        "print_kwargs(a=1)"
      ],
      "metadata": {
        "colab": {
          "base_uri": "https://localhost:8080/"
        },
        "id": "gfnuY0jfHqUJ",
        "outputId": "32a276dc-2fad-4ad3-e81a-0c698bdafe5f"
      },
      "execution_count": 47,
      "outputs": [
        {
          "output_type": "stream",
          "name": "stdout",
          "text": [
            "{'a': 1}\n"
          ]
        }
      ]
    },
    {
      "cell_type": "code",
      "source": [
        "print_kwargs(name='foo', age=3)"
      ],
      "metadata": {
        "colab": {
          "base_uri": "https://localhost:8080/"
        },
        "id": "fdsNXmUiHyUa",
        "outputId": "1cb83398-2774-49a5-dc0c-21f55f7ea753"
      },
      "execution_count": 48,
      "outputs": [
        {
          "output_type": "stream",
          "name": "stdout",
          "text": [
            "{'name': 'foo', 'age': 3}\n"
          ]
        }
      ]
    },
    {
      "cell_type": "code",
      "source": [
        "keyword argument 딕셔너리 형태로 만들어준다. "
      ],
      "metadata": {
        "id": "xI9eoiJCH2Kb"
      },
      "execution_count": null,
      "outputs": []
    },
    {
      "cell_type": "code",
      "source": [
        "def add_and_mul(a,b):\n",
        "  return a+b,a*b"
      ],
      "metadata": {
        "id": "D8dL9_IRH6Yo"
      },
      "execution_count": 49,
      "outputs": []
    },
    {
      "cell_type": "code",
      "source": [
        "add_and_mul(7,8) # 튜플값 하나, 한 덩어리로 넘겨준다. "
      ],
      "metadata": {
        "colab": {
          "base_uri": "https://localhost:8080/"
        },
        "id": "Z0P0UsW7IGuv",
        "outputId": "00fa19cc-884f-4db8-d8db-4d31ec29cc18"
      },
      "execution_count": 50,
      "outputs": [
        {
          "output_type": "execute_result",
          "data": {
            "text/plain": [
              "(15, 56)"
            ]
          },
          "metadata": {},
          "execution_count": 50
        }
      ]
    },
    {
      "cell_type": "code",
      "source": [
        "result1, result2=add_and_mul(3,4)"
      ],
      "metadata": {
        "id": "KBrsMWssIL69"
      },
      "execution_count": 51,
      "outputs": []
    },
    {
      "cell_type": "code",
      "source": [
        "def add_and_mul(a,b): #return이 먼저 돌아가면 끝남.\n",
        "  return a+b\n",
        "  return a*b"
      ],
      "metadata": {
        "id": "SPnF-hKWIJ1N"
      },
      "execution_count": 52,
      "outputs": []
    },
    {
      "cell_type": "code",
      "source": [
        "add_and_mul(3,4)"
      ],
      "metadata": {
        "colab": {
          "base_uri": "https://localhost:8080/"
        },
        "id": "H16RZadvIx9l",
        "outputId": "0df297e7-1290-4e22-aef1-62c117c3fab1"
      },
      "execution_count": 53,
      "outputs": [
        {
          "output_type": "execute_result",
          "data": {
            "text/plain": [
              "7"
            ]
          },
          "metadata": {},
          "execution_count": 53
        }
      ]
    },
    {
      "cell_type": "code",
      "source": [
        "def say_nick(nick):\n",
        "  if nick==\"바보\":\n",
        "    return\n",
        "  print(\"나의 별명은 %s 입니다.\" %nick)"
      ],
      "metadata": {
        "id": "MvgyIHrSI2qg"
      },
      "execution_count": 71,
      "outputs": []
    },
    {
      "cell_type": "code",
      "source": [
        "say_nick(\"반짝반짝\")"
      ],
      "metadata": {
        "colab": {
          "base_uri": "https://localhost:8080/"
        },
        "id": "MfJ5c9ewJfSF",
        "outputId": "0edd56d7-37ba-4efe-de65-bfd5e7fd4b7b"
      },
      "execution_count": 72,
      "outputs": [
        {
          "output_type": "stream",
          "name": "stdout",
          "text": [
            "나의 별명은 반짝반짝 입니다.\n"
          ]
        }
      ]
    },
    {
      "cell_type": "code",
      "source": [
        "say_nick(\"성스마트\")"
      ],
      "metadata": {
        "colab": {
          "base_uri": "https://localhost:8080/"
        },
        "id": "DNdwhFyOJzzR",
        "outputId": "40e0b9dd-07fb-4041-8fc0-91cdb99739e8"
      },
      "execution_count": 73,
      "outputs": [
        {
          "output_type": "stream",
          "name": "stdout",
          "text": [
            "나의 별명은 성스마트 입니다.\n"
          ]
        }
      ]
    },
    {
      "cell_type": "code",
      "source": [
        "say_nick(\"바보\")"
      ],
      "metadata": {
        "id": "GCTw_0reJlz-"
      },
      "execution_count": 74,
      "outputs": []
    },
    {
      "cell_type": "code",
      "source": [
        "def say_myself(name, old, man=True): # 내가 말 안하면 True인줄 알아라, 기본값, default\n",
        "  print(\"나의 이름은 %s입니다\" %name)\n",
        "  print(\"나이는 %d살입니다\" %old)\n",
        "  if man:\n",
        "    print(\"남자입니다.\")\n",
        "  else:\n",
        "    print(\"여자입니다.\")"
      ],
      "metadata": {
        "id": "fMQCeII-J7OG"
      },
      "execution_count": 75,
      "outputs": []
    },
    {
      "cell_type": "code",
      "source": [
        "say_myself(\"성낙원\", 20,'false')"
      ],
      "metadata": {
        "colab": {
          "base_uri": "https://localhost:8080/"
        },
        "id": "UyakGkoeKonc",
        "outputId": "0ba5a5a3-0968-4ff6-c1b7-6118e93538fd"
      },
      "execution_count": 98,
      "outputs": [
        {
          "output_type": "stream",
          "name": "stdout",
          "text": [
            "나의 이름은 성낙원입니다\n",
            "나이는 20살입니다\n",
            "남자입니다.\n"
          ]
        }
      ]
    },
    {
      "cell_type": "code",
      "source": [
        "say_myself(\"성낙원\", 24, False)"
      ],
      "metadata": {
        "colab": {
          "base_uri": "https://localhost:8080/"
        },
        "id": "1GOiMAtbLOFq",
        "outputId": "fd5dc8f7-4ebc-4f8b-b28f-67cdc1a37191"
      },
      "execution_count": 99,
      "outputs": [
        {
          "output_type": "stream",
          "name": "stdout",
          "text": [
            "나의 이름은 성낙원입니다\n",
            "나이는 24살입니다\n",
            "여자입니다.\n"
          ]
        }
      ]
    },
    {
      "cell_type": "code",
      "source": [
        "say_myself(\"성낙원\", 34, 0)"
      ],
      "metadata": {
        "colab": {
          "base_uri": "https://localhost:8080/"
        },
        "id": "3WyJP6v5LLrN",
        "outputId": "1283c72e-4c06-4ee3-a3d4-ddc995b922b6"
      },
      "execution_count": 100,
      "outputs": [
        {
          "output_type": "stream",
          "name": "stdout",
          "text": [
            "나의 이름은 성낙원입니다\n",
            "나이는 34살입니다\n",
            "여자입니다.\n"
          ]
        }
      ]
    },
    {
      "cell_type": "code",
      "source": [
        "say_myself(\"성낙원\", 34, None)"
      ],
      "metadata": {
        "colab": {
          "base_uri": "https://localhost:8080/"
        },
        "id": "LvvQa0cuKs9-",
        "outputId": "0f4521b0-d35f-45e6-8231-a80530c94d42"
      },
      "execution_count": 102,
      "outputs": [
        {
          "output_type": "stream",
          "name": "stdout",
          "text": [
            "나의 이름은 성낙원입니다\n",
            "나이는 34살입니다\n",
            "여자입니다.\n"
          ]
        }
      ]
    },
    {
      "cell_type": "code",
      "source": [
        "def say_myself(name, man=True, old): # 내가 말 안하면 True인줄 알아라, 기본값, default 값은 마지막에\n",
        "  print(\"나의 이름은 %s입니다\" %name)\n",
        "  if man:\n",
        "    print(\"남자입니다.\")\n",
        "  else:\n",
        "    print(\"여자입니다.\")\n",
        "  print(\"나이는 %d살입니다\" %old)"
      ],
      "metadata": {
        "colab": {
          "base_uri": "https://localhost:8080/",
          "height": 135
        },
        "id": "bTIdXSxxL2ar",
        "outputId": "eb2a291c-985f-42df-9e40-b25f7b01a57c"
      },
      "execution_count": 105,
      "outputs": [
        {
          "output_type": "error",
          "ename": "SyntaxError",
          "evalue": "ignored",
          "traceback": [
            "\u001b[0;36m  File \u001b[0;32m\"<ipython-input-105-ed2d5f4706f2>\"\u001b[0;36m, line \u001b[0;32m1\u001b[0m\n\u001b[0;31m    def say_myself(name, man=True, old): # 내가 말 안하면 True인줄 알아라, 기본값, default 값은 마지막에\u001b[0m\n\u001b[0m                  ^\u001b[0m\n\u001b[0;31mSyntaxError\u001b[0m\u001b[0;31m:\u001b[0m non-default argument follows default argument\n"
          ]
        }
      ]
    },
    {
      "cell_type": "code",
      "source": [
        "a=1 # 전역번수, 아무리 지역변수에서 함수 설정하고 바꿀려고해도, 전역변수 설정해놓으면 변하지 않는다.\n",
        "def vartest(a):\n",
        "  a=a+1 # 지역변수\n",
        "\n",
        "vartest(a)\n",
        "print(a)"
      ],
      "metadata": {
        "colab": {
          "base_uri": "https://localhost:8080/"
        },
        "id": "3zEvXbO9Oygh",
        "outputId": "4841bf7c-55a5-4af5-b882-29a2761e97e1"
      },
      "execution_count": 106,
      "outputs": [
        {
          "output_type": "stream",
          "name": "stdout",
          "text": [
            "1\n"
          ]
        }
      ]
    },
    {
      "cell_type": "code",
      "source": [
        "def vartest(hello):\n",
        "  hello=hello+1\n",
        "\n"
      ],
      "metadata": {
        "colab": {
          "base_uri": "https://localhost:8080/",
          "height": 225
        },
        "id": "Hy09iJ10MNNv",
        "outputId": "92a2a573-439e-4fbf-8b36-e27dd3bdd356"
      },
      "execution_count": 109,
      "outputs": [
        {
          "output_type": "error",
          "ename": "NameError",
          "evalue": "ignored",
          "traceback": [
            "\u001b[0;31m---------------------------------------------------------------------------\u001b[0m",
            "\u001b[0;31mNameError\u001b[0m                                 Traceback (most recent call last)",
            "\u001b[0;32m<ipython-input-109-2fa746a5e0d4>\u001b[0m in \u001b[0;36m<module>\u001b[0;34m()\u001b[0m\n\u001b[1;32m      2\u001b[0m   \u001b[0mhello\u001b[0m\u001b[0;34m=\u001b[0m\u001b[0mhello\u001b[0m\u001b[0;34m+\u001b[0m\u001b[0;36m1\u001b[0m\u001b[0;34m\u001b[0m\u001b[0;34m\u001b[0m\u001b[0m\n\u001b[1;32m      3\u001b[0m \u001b[0;34m\u001b[0m\u001b[0m\n\u001b[0;32m----> 4\u001b[0;31m \u001b[0mvartest\u001b[0m\u001b[0;34m(\u001b[0m\u001b[0mhello\u001b[0m\u001b[0;34m)\u001b[0m\u001b[0;34m\u001b[0m\u001b[0;34m\u001b[0m\u001b[0m\n\u001b[0m\u001b[1;32m      5\u001b[0m \u001b[0mprint\u001b[0m\u001b[0;34m(\u001b[0m\u001b[0mhello\u001b[0m\u001b[0;34m)\u001b[0m\u001b[0;34m\u001b[0m\u001b[0;34m\u001b[0m\u001b[0m\n",
            "\u001b[0;31mNameError\u001b[0m: name 'hello' is not defined"
          ]
        }
      ]
    },
    {
      "cell_type": "code",
      "source": [
        "def vartest(a): #리턴값이 없음. \n",
        "  a=a+1\n",
        "\n",
        "vartest(3)\n",
        "print(a) #여기서 a와 함수의 a는 다르다. 전역변수"
      ],
      "metadata": {
        "colab": {
          "base_uri": "https://localhost:8080/"
        },
        "id": "CJVy0-qUQCol",
        "outputId": "b4006399-2560-45dc-9e31-df0d4fc36d03"
      },
      "execution_count": 110,
      "outputs": [
        {
          "output_type": "stream",
          "name": "stdout",
          "text": [
            "1\n"
          ]
        }
      ]
    },
    {
      "cell_type": "code",
      "source": [
        "a=1\n",
        "def vartest(a):\n",
        "  a=a+1\n",
        "  return a\n",
        "\n",
        "a=vartest(a)\n",
        "print(a)"
      ],
      "metadata": {
        "colab": {
          "base_uri": "https://localhost:8080/"
        },
        "id": "DYP_b02vQcNw",
        "outputId": "6e4de1fd-132a-4fa4-ccee-c73f3c69de73"
      },
      "execution_count": 111,
      "outputs": [
        {
          "output_type": "stream",
          "name": "stdout",
          "text": [
            "2\n"
          ]
        }
      ]
    },
    {
      "cell_type": "code",
      "source": [
        "a=1\n",
        "def vartest(a):\n",
        "  a=a+1\n",
        "  return a\n",
        "\n",
        "a=vartest(a)\n",
        "print(a)"
      ],
      "metadata": {
        "colab": {
          "base_uri": "https://localhost:8080/"
        },
        "id": "F6XewO8gQ643",
        "outputId": "91190945-3b67-4a1e-892d-ae07e6398f29"
      },
      "execution_count": 120,
      "outputs": [
        {
          "output_type": "stream",
          "name": "stdout",
          "text": [
            "1\n"
          ]
        }
      ]
    },
    {
      "cell_type": "code",
      "source": [
        "a=1\n",
        "def vartest():\n",
        "  global a\n",
        "  a=a+1\n",
        "\n",
        "vartest()\n",
        "print(a)"
      ],
      "metadata": {
        "colab": {
          "base_uri": "https://localhost:8080/"
        },
        "id": "dRPIR0AURFRW",
        "outputId": "65e3734c-b561-4f5d-8413-1be7f21244b9"
      },
      "execution_count": 124,
      "outputs": [
        {
          "output_type": "stream",
          "name": "stdout",
          "text": [
            "2\n"
          ]
        }
      ]
    },
    {
      "cell_type": "code",
      "source": [
        "add = lambda a,b:a+b # 함수이름 = lambda 매개변수: 해야할일\n",
        "result=add(3,4)\n",
        "print(result)"
      ],
      "metadata": {
        "colab": {
          "base_uri": "https://localhost:8080/"
        },
        "id": "XJf3vtoERYo_",
        "outputId": "c7a1bbae-eba2-470e-f4b3-8bdb1e2e1077"
      },
      "execution_count": 125,
      "outputs": [
        {
          "output_type": "stream",
          "name": "stdout",
          "text": [
            "7\n"
          ]
        }
      ]
    },
    {
      "cell_type": "code",
      "source": [
        "def add(a,b): # 함수정의 함수(매개변수)\n",
        "  return a+b # 해야될 일\n",
        "\n",
        "add(3,4)"
      ],
      "metadata": {
        "colab": {
          "base_uri": "https://localhost:8080/"
        },
        "id": "lHUizINgS-R5",
        "outputId": "86abd036-a8df-499b-c49e-95ec0e460853"
      },
      "execution_count": 126,
      "outputs": [
        {
          "output_type": "execute_result",
          "data": {
            "text/plain": [
              "7"
            ]
          },
          "metadata": {},
          "execution_count": 126
        }
      ]
    },
    {
      "cell_type": "code",
      "source": [
        "# 클래스 시작\n",
        "result=0 \n",
        "\n",
        "def add(num):\n",
        "  global result\n",
        "  result += num\n",
        "  return result\n",
        "\n",
        "print(add(3))\n",
        "print(add(4))"
      ],
      "metadata": {
        "colab": {
          "base_uri": "https://localhost:8080/"
        },
        "id": "1VfWi4CETgBG",
        "outputId": "6a0f1f83-4c5f-46a0-95e1-b1221ae917aa"
      },
      "execution_count": 130,
      "outputs": [
        {
          "output_type": "stream",
          "name": "stdout",
          "text": [
            "3\n",
            "7\n"
          ]
        }
      ]
    },
    {
      "cell_type": "code",
      "source": [
        "class Calculator:\n",
        "  def __init__(self): # 일반 함수가 아니라 클래스를 만들면 자동으로 생성\n",
        "    self.result=0\n",
        "\n",
        "  def add(self, num): #함수가 아니라 메서드라고 부른다. \n",
        "    self.result += num\n",
        "    return self.result\n",
        "\n",
        "  def sub(self, num): #함수가 아니라 메서드라고 부른다. \n",
        "    self.result -= num\n",
        "    return self.result\n",
        "\n",
        "  def mul(self, num): #함수가 아니라 메서드라고 부른다. \n",
        "    self.result *= num\n",
        "    return self.result\n",
        "\n",
        "  def div(self, num): #함수가 아니라 메서드라고 부른다. \n",
        "    self.result /= num\n",
        "    return self.result\n",
        "\n",
        "cal1=Calculator()\n",
        "cal2=Calculator()\n",
        "\n",
        "#cal1,2는 객체,대상,object, 빵틀에 찍어서 나오는 결과\n",
        "#calculator()는 클래스  \n",
        "\n",
        "print(cal1.add(3)) #cal1 에 소속된 add 메서드, .으로 어디에 소속되었는지 표시 \n",
        "print(cal1.add(4))\n",
        "print(cal2.add(3))\n",
        "print(cal2.add(7))\n",
        "\n",
        "# __ 일반 사용자가 쓰지 않고, hidden name. 함부로 건드릴수 없는 것. 던더. 내부에서 건드리지 못하게.  \n",
        "print(cal1.sub(3))\n",
        "print(cal1.mul(3))\n",
        "print(cal1.div(2))\n",
        "print(cal2.add(1))\n",
        "\n",
        "# 여러가지 기능, 정보를 보존하기 위해 클래스를 사용 \n",
        "# 설계도면은 클래스, 만들어진 피조물은 객체 "
      ],
      "metadata": {
        "colab": {
          "base_uri": "https://localhost:8080/"
        },
        "id": "CqCgYIG4Ut_d",
        "outputId": "5673fa8c-710e-4a26-8fa0-519c48d18406"
      },
      "execution_count": 137,
      "outputs": [
        {
          "output_type": "stream",
          "name": "stdout",
          "text": [
            "3\n",
            "7\n",
            "3\n",
            "10\n",
            "4\n",
            "12\n",
            "6.0\n",
            "11\n"
          ]
        }
      ]
    },
    {
      "cell_type": "code",
      "source": [
        "객체와 인스턴스의 차이?\n",
        "클래스의 사례를 인스턴스라고 한다. \n",
        "클래스과 객체의 관계를 설명 \n",
        "a=cookie()\n",
        "a는 coockie의 인스턴스\n"
      ],
      "metadata": {
        "id": "2bkx28LzY01_"
      },
      "execution_count": null,
      "outputs": []
    },
    {
      "cell_type": "code",
      "source": [
        "a=FourCal()"
      ],
      "metadata": {
        "id": "cgpOmBbaXL9b"
      },
      "execution_count": null,
      "outputs": []
    },
    {
      "cell_type": "code",
      "source": [
        ". 은 소속 a안에 있는 set data 일 시키겠다. \n",
        "a.setdata(4,2)\n"
      ],
      "metadata": {
        "id": "ug2C0GvJdNQg"
      },
      "execution_count": null,
      "outputs": []
    },
    {
      "cell_type": "code",
      "source": [
        "class FourCal:\n",
        "  pass"
      ],
      "metadata": {
        "id": "8vCuz_UMdgyM"
      },
      "execution_count": 138,
      "outputs": []
    },
    {
      "cell_type": "code",
      "source": [
        "a=FourCal()\n",
        "type(a)"
      ],
      "metadata": {
        "colab": {
          "base_uri": "https://localhost:8080/"
        },
        "id": "LIrCx6EDdjv1",
        "outputId": "587d1cc7-8458-44e3-c1f4-6b0e2948ca6e"
      },
      "execution_count": 140,
      "outputs": [
        {
          "output_type": "execute_result",
          "data": {
            "text/plain": [
              "__main__.FourCal"
            ]
          },
          "metadata": {},
          "execution_count": 140
        }
      ]
    },
    {
      "cell_type": "code",
      "source": [
        "class FourCal:\n",
        "  def setdata(self, first, second): # 클래스 안에 def로 시작되고 ()로 갇혀져 있어서 메소드라고 한다. \n",
        "    self.first=first\n",
        "    self.second=second\n",
        "  def add(self):\n",
        "    result=self.first+self.second\n",
        "    return result \n",
        "  def sub(self):\n",
        "    result=self.first-self.second\n",
        "    return result\n",
        "  def mul(self):\n",
        "    result=self.first*self.second\n",
        "    return result \n",
        "  def div(self):\n",
        "    result=self.first/self.second\n",
        "    return result "
      ],
      "metadata": {
        "id": "amjimJ-ReFmJ"
      },
      "execution_count": 154,
      "outputs": []
    },
    {
      "cell_type": "code",
      "source": [
        "a=FourCal()\n",
        "a.setdata(4,2)"
      ],
      "metadata": {
        "id": "6u5wOujciK3K"
      },
      "execution_count": 146,
      "outputs": []
    },
    {
      "cell_type": "code",
      "source": [
        "print(a.add())"
      ],
      "metadata": {
        "colab": {
          "base_uri": "https://localhost:8080/"
        },
        "id": "wMZT9N3keb7a",
        "outputId": "963f7d66-73a6-40c4-f793-aa84483ee280"
      },
      "execution_count": 147,
      "outputs": [
        {
          "output_type": "stream",
          "name": "stdout",
          "text": [
            "6\n"
          ]
        }
      ]
    },
    {
      "cell_type": "code",
      "source": [
        "a=FourCal()\n",
        "b=FourCal()\n",
        "a.setdata(4,2)\n",
        "b.setdata(3,8)\n",
        "b.add()\n",
        "b.sub()\n",
        "b.mul()\n",
        "b.div()\n",
        "#객체 a,b의 객체변수 first, secound"
      ],
      "metadata": {
        "colab": {
          "base_uri": "https://localhost:8080/"
        },
        "id": "qdrkJG3Siatl",
        "outputId": "eb2c1fba-9ef5-4a62-cc73-5ccfc357a6a3"
      },
      "execution_count": 165,
      "outputs": [
        {
          "output_type": "execute_result",
          "data": {
            "text/plain": [
              "0.375"
            ]
          },
          "metadata": {},
          "execution_count": 165
        }
      ]
    },
    {
      "cell_type": "code",
      "source": [
        "생성자 클래스 실행하면 자동 작동 "
      ],
      "metadata": {
        "id": "RegRzHmjj7Kv"
      },
      "execution_count": null,
      "outputs": []
    },
    {
      "cell_type": "code",
      "source": [
        "class FourCal:\n",
        "  def __init__(self,first,second):\n",
        "    self.first=first\n",
        "    self.second=second\n",
        "  def setdata(self, first, second): # 클래스 안에 def로 시작되고 ()로 갇혀져 있어서 메소드라고 한다. set data 남기는 이유 나중에 값을 바꾸려고 \n",
        "    self.first=first\n",
        "    self.second=second\n",
        "  def add(self):\n",
        "    result=self.first+self.second\n",
        "    return result \n",
        "  def sub(self):\n",
        "    result=self.first-self.second\n",
        "    return result\n",
        "  def mul(self):\n",
        "    result=self.first*self.second\n",
        "    return result \n",
        "  def div(self):\n",
        "    result=self.first/self.second\n",
        "    return result"
      ],
      "metadata": {
        "id": "T6Sh4POajkMi"
      },
      "execution_count": 166,
      "outputs": []
    },
    {
      "cell_type": "code",
      "source": [
        "class 클래스 이름(상속할 클래스 이름, 아빠나 엄마)\n",
        "메소드와 변수를 상속\n"
      ],
      "metadata": {
        "id": "fZUzJb2jkN8e"
      },
      "execution_count": 167,
      "outputs": []
    },
    {
      "cell_type": "code",
      "source": [
        "class MoreFourCal(FourCal): # 클래스 상속받는 이유? : 기존 클래스를 빠르게 수정 보완해서 비슷한 다른 클래스 활용하려고, 특히 라이브러리 형태나 수정이 허용되지 않을시에\n",
        "  pass"
      ],
      "metadata": {
        "id": "iRf_LuoTlwXU"
      },
      "execution_count": 168,
      "outputs": []
    },
    {
      "cell_type": "code",
      "source": [
        "a=MoreFourCal(4,2)"
      ],
      "metadata": {
        "id": "TnRtwrI9l3o0"
      },
      "execution_count": 169,
      "outputs": []
    },
    {
      "cell_type": "code",
      "source": [
        "a.add()\n",
        "a.mul()\n",
        "a.sub()\n",
        "a.div()"
      ],
      "metadata": {
        "colab": {
          "base_uri": "https://localhost:8080/"
        },
        "id": "F_sC2nVjmA_3",
        "outputId": "db029ef2-35b5-4bc2-dbc6-6238858a2073"
      },
      "execution_count": 174,
      "outputs": [
        {
          "output_type": "execute_result",
          "data": {
            "text/plain": [
              "2.0"
            ]
          },
          "metadata": {},
          "execution_count": 174
        }
      ]
    },
    {
      "cell_type": "code",
      "source": [
        "class MoreFourCal(FourCal):\n",
        "  def pow(self):\n",
        "    result=self.first**self.second\n",
        "    return result"
      ],
      "metadata": {
        "id": "u6uZxcCImZKp"
      },
      "execution_count": 175,
      "outputs": []
    },
    {
      "cell_type": "code",
      "source": [
        "a=MoreFourCal(4,2)\n",
        "a.pow()"
      ],
      "metadata": {
        "colab": {
          "base_uri": "https://localhost:8080/"
        },
        "id": "1VpghQl6mu4T",
        "outputId": "26b7a5cb-3224-4734-ff9d-e70960c7a0ec"
      },
      "execution_count": 177,
      "outputs": [
        {
          "output_type": "execute_result",
          "data": {
            "text/plain": [
              "16"
            ]
          },
          "metadata": {},
          "execution_count": 177
        }
      ]
    },
    {
      "cell_type": "code",
      "source": [
        "# 오버라이딩: 덮어쓰기"
      ],
      "metadata": {
        "id": "HLLwSdexnF64"
      },
      "execution_count": null,
      "outputs": []
    },
    {
      "cell_type": "code",
      "source": [
        "a=FourCal(4,0) # 오류가나면 넘어가라, 예외처리. 오류가 나도 계속 넘어가고 이어질수 있도록\n",
        "a.div()"
      ],
      "metadata": {
        "colab": {
          "base_uri": "https://localhost:8080/",
          "height": 297
        },
        "id": "QxU75VUnnO6P",
        "outputId": "95024a1f-8fbf-4513-91f7-f6ece90fe57b"
      },
      "execution_count": 178,
      "outputs": [
        {
          "output_type": "error",
          "ename": "ZeroDivisionError",
          "evalue": "ignored",
          "traceback": [
            "\u001b[0;31m---------------------------------------------------------------------------\u001b[0m",
            "\u001b[0;31mZeroDivisionError\u001b[0m                         Traceback (most recent call last)",
            "\u001b[0;32m<ipython-input-178-6a70b2d5dc2a>\u001b[0m in \u001b[0;36m<module>\u001b[0;34m()\u001b[0m\n\u001b[1;32m      1\u001b[0m \u001b[0ma\u001b[0m\u001b[0;34m=\u001b[0m\u001b[0mFourCal\u001b[0m\u001b[0;34m(\u001b[0m\u001b[0;36m4\u001b[0m\u001b[0;34m,\u001b[0m\u001b[0;36m0\u001b[0m\u001b[0;34m)\u001b[0m\u001b[0;34m\u001b[0m\u001b[0;34m\u001b[0m\u001b[0m\n\u001b[0;32m----> 2\u001b[0;31m \u001b[0ma\u001b[0m\u001b[0;34m.\u001b[0m\u001b[0mdiv\u001b[0m\u001b[0;34m(\u001b[0m\u001b[0;34m)\u001b[0m\u001b[0;34m\u001b[0m\u001b[0;34m\u001b[0m\u001b[0m\n\u001b[0m",
            "\u001b[0;32m<ipython-input-166-9c1659024157>\u001b[0m in \u001b[0;36mdiv\u001b[0;34m(self)\u001b[0m\n\u001b[1;32m     16\u001b[0m     \u001b[0;32mreturn\u001b[0m \u001b[0mresult\u001b[0m\u001b[0;34m\u001b[0m\u001b[0;34m\u001b[0m\u001b[0m\n\u001b[1;32m     17\u001b[0m   \u001b[0;32mdef\u001b[0m \u001b[0mdiv\u001b[0m\u001b[0;34m(\u001b[0m\u001b[0mself\u001b[0m\u001b[0;34m)\u001b[0m\u001b[0;34m:\u001b[0m\u001b[0;34m\u001b[0m\u001b[0;34m\u001b[0m\u001b[0m\n\u001b[0;32m---> 18\u001b[0;31m     \u001b[0mresult\u001b[0m\u001b[0;34m=\u001b[0m\u001b[0mself\u001b[0m\u001b[0;34m.\u001b[0m\u001b[0mfirst\u001b[0m\u001b[0;34m/\u001b[0m\u001b[0mself\u001b[0m\u001b[0;34m.\u001b[0m\u001b[0msecond\u001b[0m\u001b[0;34m\u001b[0m\u001b[0;34m\u001b[0m\u001b[0m\n\u001b[0m\u001b[1;32m     19\u001b[0m     \u001b[0;32mreturn\u001b[0m \u001b[0mresult\u001b[0m\u001b[0;34m\u001b[0m\u001b[0;34m\u001b[0m\u001b[0m\n",
            "\u001b[0;31mZeroDivisionError\u001b[0m: division by zero"
          ]
        }
      ]
    },
    {
      "cell_type": "code",
      "source": [
        "class SafeFourCal(FourCal):\n",
        "  def div(self):\n",
        "    if self.second==0: # 나누는 값이 0인 경우 0을 리턴하도록 수정\n",
        "      return 0\n",
        "    else:\n",
        "      return self.first/self.second \n",
        "# 클래스로 만든 변수는 모든 객체에 공유된다. "
      ],
      "metadata": {
        "id": "3Bvht1CEnWcM"
      },
      "execution_count": 180,
      "outputs": []
    },
    {
      "cell_type": "code",
      "source": [
        "함수: 이름이 붙여진 코드의 모음, 일을 할수 있는 애, 특정 기능을 수행, 부를수 있음. 해야할 일이 안에 들어있다.\n",
        "함수 사용 이유? 긴 코드를 관리하기 용이하고 재사용이 쉬움\n",
        "함수는 define, call이 있음. 정의하기 + 호출하기\n",
        "정의하기 - 매개변수(모든타입), 생략가능\n",
        "호출하기 - 결과 반환\n",
        "\n",
        "pass 쓰는 이유? 그냥 넘어가는 이유? 지금 당장 구체적으로 설명하기 어려울때 일단 넘어가기, 정의해놓고 시작가능\n",
        "함수와 메소드의 차이: 객체 안에 있느냐, 클래스 안에 있느냐 \n",
        "클래스는 틀, 객체는 찍어낸 피조물. 하나의 클래스로 여러개의 객체 생성 가능\n"
      ],
      "metadata": {
        "id": "7VKIOpS6svgU"
      },
      "execution_count": null,
      "outputs": []
    },
    {
      "cell_type": "code",
      "source": [
        "def agree():\n",
        "  return True"
      ],
      "metadata": {
        "id": "zmBPHJj8nePm"
      },
      "execution_count": 181,
      "outputs": []
    },
    {
      "cell_type": "code",
      "source": [
        "if agree():\n",
        "  print(\"good!\")\n",
        "else:\n",
        "  print(\"It was unexpected\")"
      ],
      "metadata": {
        "colab": {
          "base_uri": "https://localhost:8080/"
        },
        "id": "0AN5eQKvuNoP",
        "outputId": "9ba1c28b-1dbc-4d0d-e4c6-6b4954b00a50"
      },
      "execution_count": 186,
      "outputs": [
        {
          "output_type": "stream",
          "name": "stdout",
          "text": [
            "good!\n",
            "It was unexpected\n"
          ]
        }
      ]
    },
    {
      "cell_type": "code",
      "source": [
        "def echo(anything):\n",
        "  return anything+anything"
      ],
      "metadata": {
        "id": "m7w8ERnVu8e-"
      },
      "execution_count": 192,
      "outputs": []
    },
    {
      "cell_type": "code",
      "source": [
        "echo('love') #함수 echo() 호출시 안에"
      ],
      "metadata": {
        "colab": {
          "base_uri": "https://localhost:8080/",
          "height": 35
        },
        "id": "l7ii83uOvAby",
        "outputId": "f74a3e6d-40a1-44c4-b3b2-d694b6b1353c"
      },
      "execution_count": 191,
      "outputs": [
        {
          "output_type": "execute_result",
          "data": {
            "text/plain": [
              "'lovelove'"
            ],
            "application/vnd.google.colaboratory.intrinsic+json": {
              "type": "string"
            }
          },
          "metadata": {},
          "execution_count": 191
        }
      ]
    },
    {
      "cell_type": "code",
      "source": [
        "def commentary(color):\n",
        "  if color =='red':\n",
        "    return \"tomato\"\n",
        "  elif color == 'white':\n",
        "    return \"radish\"\n",
        "  elif color =='orange':\n",
        "    return \"carrot\"\n",
        "  else: \n",
        "    return \"I don't have it.\""
      ],
      "metadata": {
        "id": "vay-Q-hFvLAs"
      },
      "execution_count": 194,
      "outputs": []
    },
    {
      "cell_type": "code",
      "source": [
        "commentary(\"red\")"
      ],
      "metadata": {
        "colab": {
          "base_uri": "https://localhost:8080/",
          "height": 35
        },
        "id": "jKbILE9aujA3",
        "outputId": "3aad66c9-89e7-437e-80b1-5e03d9707b99"
      },
      "execution_count": 195,
      "outputs": [
        {
          "output_type": "execute_result",
          "data": {
            "text/plain": [
              "'tomato'"
            ],
            "application/vnd.google.colaboratory.intrinsic+json": {
              "type": "string"
            }
          },
          "metadata": {},
          "execution_count": 195
        }
      ]
    },
    {
      "cell_type": "code",
      "source": [
        "commentary(\"white\")"
      ],
      "metadata": {
        "colab": {
          "base_uri": "https://localhost:8080/",
          "height": 35
        },
        "id": "GmzsedRhvlGv",
        "outputId": "54df6145-cba0-49ec-88b8-62aa29dda832"
      },
      "execution_count": 196,
      "outputs": [
        {
          "output_type": "execute_result",
          "data": {
            "text/plain": [
              "'radish'"
            ],
            "application/vnd.google.colaboratory.intrinsic+json": {
              "type": "string"
            }
          },
          "metadata": {},
          "execution_count": 196
        }
      ]
    },
    {
      "cell_type": "code",
      "source": [
        "commentary(\"orange\")"
      ],
      "metadata": {
        "colab": {
          "base_uri": "https://localhost:8080/",
          "height": 35
        },
        "id": "zBaPK5Fsvnhf",
        "outputId": "7dd9b6ef-963c-4fad-e38b-47922b85886f"
      },
      "execution_count": 197,
      "outputs": [
        {
          "output_type": "execute_result",
          "data": {
            "text/plain": [
              "'carrot'"
            ],
            "application/vnd.google.colaboratory.intrinsic+json": {
              "type": "string"
            }
          },
          "metadata": {},
          "execution_count": 197
        }
      ]
    },
    {
      "cell_type": "code",
      "source": [
        "commentary('1')"
      ],
      "metadata": {
        "colab": {
          "base_uri": "https://localhost:8080/",
          "height": 35
        },
        "id": "WT6e1Jo9vpla",
        "outputId": "6de741a6-307a-4440-d1db-876c72c2c524"
      },
      "execution_count": 198,
      "outputs": [
        {
          "output_type": "execute_result",
          "data": {
            "text/plain": [
              "\"I don't have it.\""
            ],
            "application/vnd.google.colaboratory.intrinsic+json": {
              "type": "string"
            }
          },
          "metadata": {},
          "execution_count": 198
        }
      ]
    },
    {
      "cell_type": "code",
      "source": [
        "# 두 수를 입력 받아 더하기(add함수) 결과 도려받아 출력하기 \n",
        "def add(i,j):\n",
        "  return i+j\n",
        "a=int(input('첫번째 수: '))\n",
        "b=int(input('두번째 수: '))\n",
        "result=add(a,b)\n",
        "print(result)"
      ],
      "metadata": {
        "colab": {
          "base_uri": "https://localhost:8080/"
        },
        "id": "XVbvboKZvvde",
        "outputId": "6bd09a2d-e3bb-41dd-e098-2e124b375497"
      },
      "execution_count": 224,
      "outputs": [
        {
          "output_type": "stream",
          "name": "stdout",
          "text": [
            "첫번째 수: 3\n",
            "두번째 수: 5\n",
            "8\n"
          ]
        }
      ]
    },
    {
      "cell_type": "code",
      "source": [
        "def add(i,j):\n",
        "  return i+j\n",
        "\n",
        "for k in range(3):\n",
        "  a=int(input('첫번째 수: '))\n",
        "  b=int(input('두번째 수: '))\n",
        "  result=add(a,b)\n",
        "  print(result)"
      ],
      "metadata": {
        "colab": {
          "base_uri": "https://localhost:8080/"
        },
        "id": "d6Lz_UJlyiPz",
        "outputId": "cc87e631-aee8-4240-b4d9-2fa34d8ce5d1"
      },
      "execution_count": 228,
      "outputs": [
        {
          "output_type": "stream",
          "name": "stdout",
          "text": [
            "첫번째 수: 3\n",
            "두번째 수: 5\n",
            "8\n",
            "첫번째 수: 6\n",
            "두번째 수: 7\n",
            "13\n",
            "첫번째 수: 8\n",
            "두번째 수: 4\n",
            "12\n"
          ]
        }
      ]
    },
    {
      "cell_type": "code",
      "source": [
        "thing=None\n",
        "if thing:\n",
        "  print(\"it's some thing.\")\n",
        "else:\n",
        "  print(\"it's nothing\")"
      ],
      "metadata": {
        "colab": {
          "base_uri": "https://localhost:8080/"
        },
        "id": "tMwlmvDyxFLM",
        "outputId": "03d07f21-9341-4c68-affa-85c39384ab12"
      },
      "execution_count": 231,
      "outputs": [
        {
          "output_type": "stream",
          "name": "stdout",
          "text": [
            "it's nothing\n"
          ]
        }
      ]
    },
    {
      "cell_type": "code",
      "source": [
        "def whatis(thing):\n",
        "  if thing == None:\n",
        "    print(thing, \"is None.\")\n",
        "  elif thing:\n",
        "    print(thing,\"is True.\")\n",
        "  else:\n",
        "    print(thing, \"is False.\")"
      ],
      "metadata": {
        "id": "N2ifGLOMv-Ob"
      },
      "execution_count": 236,
      "outputs": []
    },
    {
      "cell_type": "code",
      "source": [
        "whatis(None)"
      ],
      "metadata": {
        "colab": {
          "base_uri": "https://localhost:8080/"
        },
        "id": "dVNB4kMv0FY0",
        "outputId": "5d82bfb3-16c5-4b30-91a1-5c6d16f1c597"
      },
      "execution_count": 237,
      "outputs": [
        {
          "output_type": "stream",
          "name": "stdout",
          "text": [
            "None is None.\n"
          ]
        }
      ]
    },
    {
      "cell_type": "code",
      "source": [
        "whatis(True)"
      ],
      "metadata": {
        "colab": {
          "base_uri": "https://localhost:8080/"
        },
        "id": "iIUHGDLF0HE0",
        "outputId": "896489ac-f37f-463d-d16b-ef301d1eb2e8"
      },
      "execution_count": 238,
      "outputs": [
        {
          "output_type": "stream",
          "name": "stdout",
          "text": [
            "True is True.\n"
          ]
        }
      ]
    },
    {
      "cell_type": "code",
      "source": [
        "whatis(False)"
      ],
      "metadata": {
        "colab": {
          "base_uri": "https://localhost:8080/"
        },
        "id": "PHfbwhb40Uq8",
        "outputId": "bf604ae1-14ff-4604-b34e-ce6d025438fb"
      },
      "execution_count": 240,
      "outputs": [
        {
          "output_type": "stream",
          "name": "stdout",
          "text": [
            "False is False.\n"
          ]
        }
      ]
    },
    {
      "cell_type": "code",
      "source": [
        "def menu(A,B,C):\n",
        "  return {'a':A,'b':B,'c':C}\n",
        "\n",
        "menu(\"apple\",\"banana\",\"cherry\")"
      ],
      "metadata": {
        "colab": {
          "base_uri": "https://localhost:8080/"
        },
        "id": "d8A63mE20WWl",
        "outputId": "3553a517-73af-42cb-e306-a3d713cd23c6"
      },
      "execution_count": 243,
      "outputs": [
        {
          "output_type": "execute_result",
          "data": {
            "text/plain": [
              "{'a': 'apple', 'b': 'banana', 'c': 'cherry'}"
            ]
          },
          "metadata": {},
          "execution_count": 243
        }
      ]
    },
    {
      "cell_type": "code",
      "source": [
        "def menu(A,B,C):\n",
        "  return {'a':A,'b':B,'c':C}\n",
        "\n",
        "menu(A=\"banana\",C=\"apple\",B=\"cherry\")"
      ],
      "metadata": {
        "colab": {
          "base_uri": "https://localhost:8080/"
        },
        "id": "9FU88RHB0rfW",
        "outputId": "a883c4a6-0827-482c-e28d-faef305ac343"
      },
      "execution_count": 245,
      "outputs": [
        {
          "output_type": "execute_result",
          "data": {
            "text/plain": [
              "{'a': 'banana', 'b': 'cherry', 'c': 'apple'}"
            ]
          },
          "metadata": {},
          "execution_count": 245
        }
      ]
    },
    {
      "cell_type": "code",
      "source": [
        "def cart(arg, result=[]): #result=[] default값, 초기화는 아님.\n",
        "  result.append(arg)\n",
        "  print(result)\n",
        "\n",
        "cart('a')"
      ],
      "metadata": {
        "colab": {
          "base_uri": "https://localhost:8080/"
        },
        "id": "tIhzpqlg5aGP",
        "outputId": "163ea3e4-49ca-41c6-fb6e-c2e4dd98bf5c"
      },
      "execution_count": 246,
      "outputs": [
        {
          "output_type": "stream",
          "name": "stdout",
          "text": [
            "['a']\n"
          ]
        }
      ]
    },
    {
      "cell_type": "code",
      "source": [
        "cart('b')"
      ],
      "metadata": {
        "colab": {
          "base_uri": "https://localhost:8080/"
        },
        "id": "EvTv0xub5w-P",
        "outputId": "d0d47d66-0b1f-4f37-870f-9a6fee7fe0db"
      },
      "execution_count": 247,
      "outputs": [
        {
          "output_type": "stream",
          "name": "stdout",
          "text": [
            "['a', 'b']\n"
          ]
        }
      ]
    },
    {
      "cell_type": "code",
      "source": [
        "cart('c')"
      ],
      "metadata": {
        "colab": {
          "base_uri": "https://localhost:8080/"
        },
        "id": "zCuLqaLo5-pS",
        "outputId": "b647a04d-507e-44a4-b694-c2ff1d4a3acd"
      },
      "execution_count": 248,
      "outputs": [
        {
          "output_type": "stream",
          "name": "stdout",
          "text": [
            "['a', 'b', 'c']\n"
          ]
        }
      ]
    },
    {
      "cell_type": "code",
      "source": [
        "def works(arg):\n",
        "  result=[] #works() 함수 호출시마다 새롭게!\n",
        "  result.append(arg)\n",
        "  return result\n",
        "\n",
        "works('a')\n",
        "works('b')"
      ],
      "metadata": {
        "colab": {
          "base_uri": "https://localhost:8080/"
        },
        "id": "QHcTrgJZ6YdE",
        "outputId": "d42a549b-35de-4984-c987-271723834ca9"
      },
      "execution_count": 249,
      "outputs": [
        {
          "output_type": "execute_result",
          "data": {
            "text/plain": [
              "['b']"
            ]
          },
          "metadata": {},
          "execution_count": 249
        }
      ]
    },
    {
      "cell_type": "code",
      "source": [
        "def noncart(arg, result=None):\n",
        "  if result is None:\n",
        "    result=[]\n",
        "  result.append(arg)\n",
        "  print(result)\n",
        "\n",
        "noncart('a')\n",
        "noncart('b')"
      ],
      "metadata": {
        "colab": {
          "base_uri": "https://localhost:8080/"
        },
        "id": "UCVvcvNT6kwc",
        "outputId": "ddd3cd0d-935c-4bc5-dd32-ae92d2b4f01a"
      },
      "execution_count": 250,
      "outputs": [
        {
          "output_type": "stream",
          "name": "stdout",
          "text": [
            "['a']\n",
            "['b']\n"
          ]
        }
      ]
    },
    {
      "cell_type": "code",
      "source": [
        "noncart('a',['b','c'])"
      ],
      "metadata": {
        "colab": {
          "base_uri": "https://localhost:8080/"
        },
        "id": "jv3kGNFS7JIs",
        "outputId": "4c8e1a09-c699-4916-b3b1-e5893c933544"
      },
      "execution_count": 251,
      "outputs": [
        {
          "output_type": "stream",
          "name": "stdout",
          "text": [
            "['b', 'c', 'a']\n"
          ]
        }
      ]
    },
    {
      "cell_type": "code",
      "source": [
        "def print_args(*args):\n",
        "  print('Positional tuple:', args)"
      ],
      "metadata": {
        "id": "A1HAKJm47VFq"
      },
      "execution_count": 252,
      "outputs": []
    },
    {
      "cell_type": "code",
      "source": [
        "print_args(1,2,3,4,5)"
      ],
      "metadata": {
        "colab": {
          "base_uri": "https://localhost:8080/"
        },
        "id": "kykm7oKM7bVl",
        "outputId": "219b956c-e009-455e-d8b5-9f91ea67d3e4"
      },
      "execution_count": 253,
      "outputs": [
        {
          "output_type": "stream",
          "name": "stdout",
          "text": [
            "Positional tuple: (1, 2, 3, 4, 5)\n"
          ]
        }
      ]
    },
    {
      "cell_type": "code",
      "source": [
        "print_args() #안에 인수없이 함수 호출하면 args에 아무것도 없으므로"
      ],
      "metadata": {
        "colab": {
          "base_uri": "https://localhost:8080/"
        },
        "id": "7Z5R_gBr7hH1",
        "outputId": "2c73002e-ea61-4a83-d546-137ad2dff406"
      },
      "execution_count": 254,
      "outputs": [
        {
          "output_type": "stream",
          "name": "stdout",
          "text": [
            "Positional tuple: ()\n"
          ]
        }
      ]
    },
    {
      "cell_type": "code",
      "source": [
        "print_args(1,2,3)"
      ],
      "metadata": {
        "colab": {
          "base_uri": "https://localhost:8080/"
        },
        "id": "wbFTqE857jKH",
        "outputId": "e2eb1329-cd4a-4294-89b2-66eece229485"
      },
      "execution_count": 256,
      "outputs": [
        {
          "output_type": "stream",
          "name": "stdout",
          "text": [
            "Positional tuple: (1, 2, 3)\n"
          ]
        }
      ]
    },
    {
      "cell_type": "code",
      "source": [
        "print_args('a','b','c','d','e')"
      ],
      "metadata": {
        "colab": {
          "base_uri": "https://localhost:8080/"
        },
        "id": "_UXbcV807lzd",
        "outputId": "c1f7c7ca-8d4a-49bf-9b2e-05f96efa820f"
      },
      "execution_count": 257,
      "outputs": [
        {
          "output_type": "stream",
          "name": "stdout",
          "text": [
            "Positional tuple: ('a', 'b', 'c', 'd', 'e')\n"
          ]
        }
      ]
    },
    {
      "cell_type": "code",
      "source": [
        "def print_kwargs(**kwargs): #** 두개는 쌍으로 딕셔너리 형태로 표현\n",
        "  print('Keyword arguments:',kwargs)"
      ],
      "metadata": {
        "id": "W2z8aBHG73Nx"
      },
      "execution_count": 258,
      "outputs": []
    },
    {
      "cell_type": "code",
      "source": [
        "print_kwargs(wine='meriot',entree='mutton',dessert='macaroon') #이름=값 형식 > 딕셔너리로! "
      ],
      "metadata": {
        "colab": {
          "base_uri": "https://localhost:8080/"
        },
        "id": "hbnBocwp8Ist",
        "outputId": "1f6cab2f-494f-49a7-a632-4d74a8e89cec"
      },
      "execution_count": 261,
      "outputs": [
        {
          "output_type": "stream",
          "name": "stdout",
          "text": [
            "Keyword arguments: {'wine': 'meriot', 'entree': 'mutton', 'dessert': 'macaroon'}\n"
          ]
        }
      ]
    },
    {
      "cell_type": "code",
      "source": [
        "print_kwargs()"
      ],
      "metadata": {
        "colab": {
          "base_uri": "https://localhost:8080/"
        },
        "id": "f6CRcK0E8Vgo",
        "outputId": "fd4ec4c9-5689-4dff-8888-1fc5489339ae"
      },
      "execution_count": 260,
      "outputs": [
        {
          "output_type": "stream",
          "name": "stdout",
          "text": [
            "Keyword arguments: {}\n"
          ]
        }
      ]
    },
    {
      "cell_type": "code",
      "source": [
        "def print_data(data,*,start=0,end=100): # * 없어도됨.\n",
        "  for value in (data[start:end]):\n",
        "    print(value)"
      ],
      "metadata": {
        "id": "ojQgY75V8YI_"
      },
      "execution_count": 262,
      "outputs": []
    },
    {
      "cell_type": "code",
      "source": [
        "data=['a','b','c','d','e','f']\n",
        "print_data(data)"
      ],
      "metadata": {
        "colab": {
          "base_uri": "https://localhost:8080/"
        },
        "id": "lgboFiHS8nmx",
        "outputId": "31477908-d3b5-4db8-ca43-127f13a5652b"
      },
      "execution_count": 263,
      "outputs": [
        {
          "output_type": "stream",
          "name": "stdout",
          "text": [
            "a\n",
            "b\n",
            "c\n",
            "d\n",
            "e\n",
            "f\n"
          ]
        }
      ]
    },
    {
      "cell_type": "code",
      "source": [
        "리스트 가변 추가 삭제 가능\n",
        "독스트링 문서 스트링 '''로 문서 주석표시"
      ],
      "metadata": {
        "id": "mkClz8DO9Y1z"
      },
      "execution_count": null,
      "outputs": []
    },
    {
      "cell_type": "code",
      "source": [
        "def echo(anything):\n",
        "  '''\n",
        "  'echo returns its input argument'\n",
        "  '''\n",
        "  return anything"
      ],
      "metadata": {
        "id": "l75ZOG83-AJX"
      },
      "execution_count": 265,
      "outputs": []
    },
    {
      "cell_type": "code",
      "source": [
        "def print_if_true(thing, check):\n",
        "  '''\n",
        "  print\n",
        "  '''\n",
        "  if check:\n",
        "    print(thing)"
      ],
      "metadata": {
        "id": "crb6qKj9-Rs6"
      },
      "execution_count": 266,
      "outputs": []
    },
    {
      "cell_type": "code",
      "source": [
        "help(echo)"
      ],
      "metadata": {
        "colab": {
          "base_uri": "https://localhost:8080/"
        },
        "id": "YnkDftuI-o-4",
        "outputId": "6e427b2a-424c-438f-bf04-99a21a6959ac"
      },
      "execution_count": 267,
      "outputs": [
        {
          "output_type": "stream",
          "name": "stdout",
          "text": [
            "Help on function echo in module __main__:\n",
            "\n",
            "echo(anything)\n",
            "    'echo returns its input argument'\n",
            "\n"
          ]
        }
      ]
    },
    {
      "cell_type": "code",
      "source": [
        "print(echo.__doc__)\n",
        "#더블언더바(__:던더(dunder)-파이썬에서 내부 사용 목적으로 만들어진 변수)"
      ],
      "metadata": {
        "colab": {
          "base_uri": "https://localhost:8080/"
        },
        "id": "z7AuaWea--lp",
        "outputId": "d7d32844-9f82-41d1-ccbb-7456cf075c74"
      },
      "execution_count": 268,
      "outputs": [
        {
          "output_type": "stream",
          "name": "stdout",
          "text": [
            "\n",
            "  'echo returns its input argument'\n",
            "  \n"
          ]
        }
      ]
    },
    {
      "cell_type": "code",
      "source": [
        "help(print_if_true)"
      ],
      "metadata": {
        "colab": {
          "base_uri": "https://localhost:8080/"
        },
        "id": "aYgwzCHN_QoM",
        "outputId": "29be6266-82bc-4ecc-e6bf-b12733209876"
      },
      "execution_count": 269,
      "outputs": [
        {
          "output_type": "stream",
          "name": "stdout",
          "text": [
            "Help on function print_if_true in module __main__:\n",
            "\n",
            "print_if_true(thing, check)\n",
            "    print\n",
            "\n"
          ]
        }
      ]
    },
    {
      "cell_type": "code",
      "source": [
        "# 함수를 인수로 사용할 수 있다.\n",
        "def run_something(func):\n",
        "  func()"
      ],
      "metadata": {
        "id": "IV4CpH7B_dHN"
      },
      "execution_count": 270,
      "outputs": []
    },
    {
      "cell_type": "code",
      "source": [
        "def answer():\n",
        "  print(42)"
      ],
      "metadata": {
        "id": "P2yvE_YYAA1Y"
      },
      "execution_count": 272,
      "outputs": []
    },
    {
      "cell_type": "code",
      "source": [
        "run_something(answer)"
      ],
      "metadata": {
        "colab": {
          "base_uri": "https://localhost:8080/"
        },
        "id": "rnfzb9CA_9dy",
        "outputId": "76ee169a-a2c9-4957-99d1-2a23c93d1fe3"
      },
      "execution_count": 273,
      "outputs": [
        {
          "output_type": "stream",
          "name": "stdout",
          "text": [
            "42\n"
          ]
        }
      ]
    },
    {
      "cell_type": "code",
      "source": [
        "#args = 악스\n",
        "def add_args(arg1,arg2):\n",
        "  print(arg1+arg2)"
      ],
      "metadata": {
        "id": "rjDzDAFFAKcv"
      },
      "execution_count": 274,
      "outputs": []
    },
    {
      "cell_type": "code",
      "source": [
        "type(add_args)"
      ],
      "metadata": {
        "colab": {
          "base_uri": "https://localhost:8080/"
        },
        "id": "NGeM_YqxAa9I",
        "outputId": "ceb4a4f6-3829-4a3e-fe48-c321fe557881"
      },
      "execution_count": 275,
      "outputs": [
        {
          "output_type": "execute_result",
          "data": {
            "text/plain": [
              "function"
            ]
          },
          "metadata": {},
          "execution_count": 275
        }
      ]
    },
    {
      "cell_type": "code",
      "source": [
        "add_args(5,9)"
      ],
      "metadata": {
        "colab": {
          "base_uri": "https://localhost:8080/"
        },
        "id": "3t3IrVB1AeLr",
        "outputId": "26fcb7ea-6596-40b2-8249-7a8ebef8cc9b"
      },
      "execution_count": 276,
      "outputs": [
        {
          "output_type": "stream",
          "name": "stdout",
          "text": [
            "14\n"
          ]
        }
      ]
    },
    {
      "cell_type": "code",
      "source": [
        "# 함수도 객체다, 함수도 매개변수처럼 넘겨주고, 수행할 수 있다.\n",
        "def run_something_with_args(func,arg1,arg2):\n",
        "  func(arg1,arg2)"
      ],
      "metadata": {
        "id": "8H4SbuHaAr1R"
      },
      "execution_count": 277,
      "outputs": []
    },
    {
      "cell_type": "code",
      "source": [
        "run_something_with_args(add_args,5,9)"
      ],
      "metadata": {
        "colab": {
          "base_uri": "https://localhost:8080/"
        },
        "id": "UxF0qRIOA39X",
        "outputId": "1ac4e669-53b6-49aa-c6fb-930e1e658157"
      },
      "execution_count": 278,
      "outputs": [
        {
          "output_type": "stream",
          "name": "stdout",
          "text": [
            "14\n"
          ]
        }
      ]
    },
    {
      "cell_type": "code",
      "source": [
        "def sum_args(*args):\n",
        "  return sum(args)"
      ],
      "metadata": {
        "id": "r5A0Lc12A8HD"
      },
      "execution_count": 279,
      "outputs": []
    },
    {
      "cell_type": "code",
      "source": [
        "def outer(a,b):\n",
        "  def inner(c,d):\n",
        "    return c+d\n",
        "  return inner(a,b)"
      ],
      "metadata": {
        "id": "VPeqNfX-BDqM"
      },
      "execution_count": 280,
      "outputs": []
    },
    {
      "cell_type": "code",
      "source": [
        "outer(4,7)"
      ],
      "metadata": {
        "colab": {
          "base_uri": "https://localhost:8080/"
        },
        "id": "iCp2OidvBMXe",
        "outputId": "870814aa-acb9-45a7-d63d-61f3295d86a6"
      },
      "execution_count": 281,
      "outputs": [
        {
          "output_type": "execute_result",
          "data": {
            "text/plain": [
              "11"
            ]
          },
          "metadata": {},
          "execution_count": 281
        }
      ]
    },
    {
      "cell_type": "code",
      "source": [
        "def knights2(saying): #함수는 항상 불려야 실행된다. 자체적으로 실행할 수 없다. \n",
        "  def inner2():\n",
        "    return(\"We are the knights who say: '%s'\" %saying)\n",
        "  return inner2"
      ],
      "metadata": {
        "id": "6AU8HEjSBvLL"
      },
      "execution_count": 282,
      "outputs": []
    },
    {
      "cell_type": "code",
      "source": [
        "a=knights2('Duck')"
      ],
      "metadata": {
        "id": "tjT9P1DgB9O-"
      },
      "execution_count": 286,
      "outputs": []
    },
    {
      "cell_type": "code",
      "source": [
        "b=knights2('Hasenpfeffer')"
      ],
      "metadata": {
        "id": "_Gm6v5xgB_ae"
      },
      "execution_count": 287,
      "outputs": []
    },
    {
      "cell_type": "code",
      "source": [
        "type(a)"
      ],
      "metadata": {
        "colab": {
          "base_uri": "https://localhost:8080/"
        },
        "id": "5jWgdH63CCuB",
        "outputId": "bc3b492f-a629-4df3-e10d-3cba3cbfe907"
      },
      "execution_count": 285,
      "outputs": [
        {
          "output_type": "execute_result",
          "data": {
            "text/plain": [
              "function"
            ]
          },
          "metadata": {},
          "execution_count": 285
        }
      ]
    },
    {
      "cell_type": "code",
      "source": [
        "type(b)"
      ],
      "metadata": {
        "colab": {
          "base_uri": "https://localhost:8080/"
        },
        "id": "QX9w3FYYCb3s",
        "outputId": "2865e7a6-599b-439b-b8c7-cfb5f3c1efce"
      },
      "execution_count": 288,
      "outputs": [
        {
          "output_type": "execute_result",
          "data": {
            "text/plain": [
              "function"
            ]
          },
          "metadata": {},
          "execution_count": 288
        }
      ]
    },
    {
      "cell_type": "code",
      "source": [
        "a"
      ],
      "metadata": {
        "colab": {
          "base_uri": "https://localhost:8080/"
        },
        "id": "iRjZuccUCdvQ",
        "outputId": "f4e9639a-cfbe-4d72-b796-256984abbcad"
      },
      "execution_count": 289,
      "outputs": [
        {
          "output_type": "execute_result",
          "data": {
            "text/plain": [
              "<function __main__.knights2.<locals>.inner2>"
            ]
          },
          "metadata": {},
          "execution_count": 289
        }
      ]
    },
    {
      "cell_type": "code",
      "source": [
        "b"
      ],
      "metadata": {
        "colab": {
          "base_uri": "https://localhost:8080/"
        },
        "id": "2MkjF7AHCiAe",
        "outputId": "551bdbc3-3c74-4676-d841-468b910db99a"
      },
      "execution_count": 290,
      "outputs": [
        {
          "output_type": "execute_result",
          "data": {
            "text/plain": [
              "<function __main__.knights2.<locals>.inner2>"
            ]
          },
          "metadata": {},
          "execution_count": 290
        }
      ]
    },
    {
      "cell_type": "code",
      "source": [
        "a()"
      ],
      "metadata": {
        "colab": {
          "base_uri": "https://localhost:8080/",
          "height": 35
        },
        "id": "6H-H9XxaCiq_",
        "outputId": "8d54b8af-d985-44cd-ad5f-0cf479d8f044"
      },
      "execution_count": 291,
      "outputs": [
        {
          "output_type": "execute_result",
          "data": {
            "text/plain": [
              "\"We are the knights who say: 'Duck'\""
            ],
            "application/vnd.google.colaboratory.intrinsic+json": {
              "type": "string"
            }
          },
          "metadata": {},
          "execution_count": 291
        }
      ]
    },
    {
      "cell_type": "code",
      "source": [
        "b() #동적으로 만들어진다. "
      ],
      "metadata": {
        "colab": {
          "base_uri": "https://localhost:8080/",
          "height": 35
        },
        "id": "oJmtpqx3CjmS",
        "outputId": "ce61e025-65e6-4419-94ba-9ce929493fad"
      },
      "execution_count": 292,
      "outputs": [
        {
          "output_type": "execute_result",
          "data": {
            "text/plain": [
              "\"We are the knights who say: 'Hasenpfeffer'\""
            ],
            "application/vnd.google.colaboratory.intrinsic+json": {
              "type": "string"
            }
          },
          "metadata": {},
          "execution_count": 292
        }
      ]
    },
    {
      "cell_type": "code",
      "source": [
        "# lambda #상속, 다중 상속도 가능하다."
      ],
      "metadata": {
        "id": "-zVwcXBFCppT"
      },
      "execution_count": null,
      "outputs": []
    }
  ]
}