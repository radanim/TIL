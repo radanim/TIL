{
  "cells": [
    {
      "cell_type": "markdown",
      "metadata": {
        "id": "view-in-github",
        "colab_type": "text"
      },
      "source": [
        "<a href=\"https://colab.research.google.com/github/radanim/TIL/blob/master/07_stock_price_RNN_output_ipynb%EC%9D%98_%EC%82%AC%EB%B3%B8.ipynb\" target=\"_parent\"><img src=\"https://colab.research.google.com/assets/colab-badge.svg\" alt=\"Open In Colab\"/></a>"
      ]
    },
    {
      "cell_type": "markdown",
      "id": "62b61891",
      "metadata": {
        "id": "62b61891"
      },
      "source": [
        "## RNN 으로 주가예측하기"
      ]
    },
    {
      "cell_type": "code",
      "source": [
        "!pip install -U finance-datareader"
      ],
      "metadata": {
        "colab": {
          "base_uri": "https://localhost:8080/"
        },
        "id": "aLnKbSTeSCon",
        "outputId": "f8d5e9a2-b574-4cf3-fdb0-a163ebd2701c"
      },
      "id": "aLnKbSTeSCon",
      "execution_count": 1,
      "outputs": [
        {
          "output_type": "stream",
          "name": "stdout",
          "text": [
            "Looking in indexes: https://pypi.org/simple, https://us-python.pkg.dev/colab-wheels/public/simple/\n",
            "Collecting finance-datareader\n",
            "  Downloading finance_datareader-0.9.42-py3-none-any.whl (17 kB)\n",
            "Requirement already satisfied: requests>=2.3.0 in /usr/local/lib/python3.7/dist-packages (from finance-datareader) (2.23.0)\n",
            "Collecting requests-file\n",
            "  Downloading requests_file-1.5.1-py2.py3-none-any.whl (3.7 kB)\n",
            "Requirement already satisfied: lxml in /usr/local/lib/python3.7/dist-packages (from finance-datareader) (4.9.1)\n",
            "Requirement already satisfied: tqdm in /usr/local/lib/python3.7/dist-packages (from finance-datareader) (4.64.1)\n",
            "Requirement already satisfied: pandas>=0.19.2 in /usr/local/lib/python3.7/dist-packages (from finance-datareader) (1.3.5)\n",
            "Requirement already satisfied: pytz>=2017.3 in /usr/local/lib/python3.7/dist-packages (from pandas>=0.19.2->finance-datareader) (2022.4)\n",
            "Requirement already satisfied: numpy>=1.17.3 in /usr/local/lib/python3.7/dist-packages (from pandas>=0.19.2->finance-datareader) (1.21.6)\n",
            "Requirement already satisfied: python-dateutil>=2.7.3 in /usr/local/lib/python3.7/dist-packages (from pandas>=0.19.2->finance-datareader) (2.8.2)\n",
            "Requirement already satisfied: six>=1.5 in /usr/local/lib/python3.7/dist-packages (from python-dateutil>=2.7.3->pandas>=0.19.2->finance-datareader) (1.15.0)\n",
            "Requirement already satisfied: idna<3,>=2.5 in /usr/local/lib/python3.7/dist-packages (from requests>=2.3.0->finance-datareader) (2.10)\n",
            "Requirement already satisfied: certifi>=2017.4.17 in /usr/local/lib/python3.7/dist-packages (from requests>=2.3.0->finance-datareader) (2022.9.24)\n",
            "Requirement already satisfied: chardet<4,>=3.0.2 in /usr/local/lib/python3.7/dist-packages (from requests>=2.3.0->finance-datareader) (3.0.4)\n",
            "Requirement already satisfied: urllib3!=1.25.0,!=1.25.1,<1.26,>=1.21.1 in /usr/local/lib/python3.7/dist-packages (from requests>=2.3.0->finance-datareader) (1.24.3)\n",
            "Installing collected packages: requests-file, finance-datareader\n",
            "Successfully installed finance-datareader-0.9.42 requests-file-1.5.1\n"
          ]
        }
      ]
    },
    {
      "cell_type": "code",
      "execution_count": 23,
      "id": "c526793a",
      "metadata": {
        "id": "c526793a"
      },
      "outputs": [],
      "source": [
        "import numpy as np\n",
        "import pandas as pd\n",
        "import matplotlib.pyplot as plt\n",
        "import FinanceDataReader as fdr\n",
        "from tensorflow.keras import Sequential\n",
        "from tensorflow.keras.layers import Dense, LSTM, Dropout, Bidirectional #from 모듈 import 클래스 tf 프레임워크=라이브러리 > keras 패키지 > layers 모듈 > 클래스 . 안에 들어감. "
      ]
    },
    {
      "cell_type": "markdown",
      "id": "0e8ed6bc",
      "metadata": {
        "id": "0e8ed6bc"
      },
      "source": [
        "## 주가수집"
      ]
    },
    {
      "cell_type": "code",
      "execution_count": 3,
      "id": "6f9c4fc4",
      "metadata": {
        "colab": {
          "base_uri": "https://localhost:8080/"
        },
        "id": "6f9c4fc4",
        "outputId": "947033bf-4920-4f99-9079-4fd5cd3da646"
      },
      "outputs": [
        {
          "output_type": "execute_result",
          "data": {
            "text/plain": [
              "(685, 6)"
            ]
          },
          "metadata": {},
          "execution_count": 3
        }
      ],
      "source": [
        "# 삼성전자 주가 수집\n",
        "df = fdr.DataReader(\"005930\",\"2020\")\n",
        "df.shape"
      ]
    },
    {
      "cell_type": "code",
      "execution_count": 4,
      "id": "42f19def",
      "metadata": {
        "colab": {
          "base_uri": "https://localhost:8080/",
          "height": 143
        },
        "id": "42f19def",
        "outputId": "5f45fa74-62fa-4b53-cfb0-701f676bbe5a"
      },
      "outputs": [
        {
          "output_type": "execute_result",
          "data": {
            "text/plain": [
              "             Open   High    Low  Close    Volume    Change\n",
              "Date                                                      \n",
              "2020-01-02  55500  56000  55000  55200  12993228 -0.010753\n",
              "2020-01-03  56000  56600  54900  55500  15422255  0.005435"
            ],
            "text/html": [
              "\n",
              "  <div id=\"df-ad82c0ec-7601-4866-8944-4cf75fc18be7\">\n",
              "    <div class=\"colab-df-container\">\n",
              "      <div>\n",
              "<style scoped>\n",
              "    .dataframe tbody tr th:only-of-type {\n",
              "        vertical-align: middle;\n",
              "    }\n",
              "\n",
              "    .dataframe tbody tr th {\n",
              "        vertical-align: top;\n",
              "    }\n",
              "\n",
              "    .dataframe thead th {\n",
              "        text-align: right;\n",
              "    }\n",
              "</style>\n",
              "<table border=\"1\" class=\"dataframe\">\n",
              "  <thead>\n",
              "    <tr style=\"text-align: right;\">\n",
              "      <th></th>\n",
              "      <th>Open</th>\n",
              "      <th>High</th>\n",
              "      <th>Low</th>\n",
              "      <th>Close</th>\n",
              "      <th>Volume</th>\n",
              "      <th>Change</th>\n",
              "    </tr>\n",
              "    <tr>\n",
              "      <th>Date</th>\n",
              "      <th></th>\n",
              "      <th></th>\n",
              "      <th></th>\n",
              "      <th></th>\n",
              "      <th></th>\n",
              "      <th></th>\n",
              "    </tr>\n",
              "  </thead>\n",
              "  <tbody>\n",
              "    <tr>\n",
              "      <th>2020-01-02</th>\n",
              "      <td>55500</td>\n",
              "      <td>56000</td>\n",
              "      <td>55000</td>\n",
              "      <td>55200</td>\n",
              "      <td>12993228</td>\n",
              "      <td>-0.010753</td>\n",
              "    </tr>\n",
              "    <tr>\n",
              "      <th>2020-01-03</th>\n",
              "      <td>56000</td>\n",
              "      <td>56600</td>\n",
              "      <td>54900</td>\n",
              "      <td>55500</td>\n",
              "      <td>15422255</td>\n",
              "      <td>0.005435</td>\n",
              "    </tr>\n",
              "  </tbody>\n",
              "</table>\n",
              "</div>\n",
              "      <button class=\"colab-df-convert\" onclick=\"convertToInteractive('df-ad82c0ec-7601-4866-8944-4cf75fc18be7')\"\n",
              "              title=\"Convert this dataframe to an interactive table.\"\n",
              "              style=\"display:none;\">\n",
              "        \n",
              "  <svg xmlns=\"http://www.w3.org/2000/svg\" height=\"24px\"viewBox=\"0 0 24 24\"\n",
              "       width=\"24px\">\n",
              "    <path d=\"M0 0h24v24H0V0z\" fill=\"none\"/>\n",
              "    <path d=\"M18.56 5.44l.94 2.06.94-2.06 2.06-.94-2.06-.94-.94-2.06-.94 2.06-2.06.94zm-11 1L8.5 8.5l.94-2.06 2.06-.94-2.06-.94L8.5 2.5l-.94 2.06-2.06.94zm10 10l.94 2.06.94-2.06 2.06-.94-2.06-.94-.94-2.06-.94 2.06-2.06.94z\"/><path d=\"M17.41 7.96l-1.37-1.37c-.4-.4-.92-.59-1.43-.59-.52 0-1.04.2-1.43.59L10.3 9.45l-7.72 7.72c-.78.78-.78 2.05 0 2.83L4 21.41c.39.39.9.59 1.41.59.51 0 1.02-.2 1.41-.59l7.78-7.78 2.81-2.81c.8-.78.8-2.07 0-2.86zM5.41 20L4 18.59l7.72-7.72 1.47 1.35L5.41 20z\"/>\n",
              "  </svg>\n",
              "      </button>\n",
              "      \n",
              "  <style>\n",
              "    .colab-df-container {\n",
              "      display:flex;\n",
              "      flex-wrap:wrap;\n",
              "      gap: 12px;\n",
              "    }\n",
              "\n",
              "    .colab-df-convert {\n",
              "      background-color: #E8F0FE;\n",
              "      border: none;\n",
              "      border-radius: 50%;\n",
              "      cursor: pointer;\n",
              "      display: none;\n",
              "      fill: #1967D2;\n",
              "      height: 32px;\n",
              "      padding: 0 0 0 0;\n",
              "      width: 32px;\n",
              "    }\n",
              "\n",
              "    .colab-df-convert:hover {\n",
              "      background-color: #E2EBFA;\n",
              "      box-shadow: 0px 1px 2px rgba(60, 64, 67, 0.3), 0px 1px 3px 1px rgba(60, 64, 67, 0.15);\n",
              "      fill: #174EA6;\n",
              "    }\n",
              "\n",
              "    [theme=dark] .colab-df-convert {\n",
              "      background-color: #3B4455;\n",
              "      fill: #D2E3FC;\n",
              "    }\n",
              "\n",
              "    [theme=dark] .colab-df-convert:hover {\n",
              "      background-color: #434B5C;\n",
              "      box-shadow: 0px 1px 3px 1px rgba(0, 0, 0, 0.15);\n",
              "      filter: drop-shadow(0px 1px 2px rgba(0, 0, 0, 0.3));\n",
              "      fill: #FFFFFF;\n",
              "    }\n",
              "  </style>\n",
              "\n",
              "      <script>\n",
              "        const buttonEl =\n",
              "          document.querySelector('#df-ad82c0ec-7601-4866-8944-4cf75fc18be7 button.colab-df-convert');\n",
              "        buttonEl.style.display =\n",
              "          google.colab.kernel.accessAllowed ? 'block' : 'none';\n",
              "\n",
              "        async function convertToInteractive(key) {\n",
              "          const element = document.querySelector('#df-ad82c0ec-7601-4866-8944-4cf75fc18be7');\n",
              "          const dataTable =\n",
              "            await google.colab.kernel.invokeFunction('convertToInteractive',\n",
              "                                                     [key], {});\n",
              "          if (!dataTable) return;\n",
              "\n",
              "          const docLinkHtml = 'Like what you see? Visit the ' +\n",
              "            '<a target=\"_blank\" href=https://colab.research.google.com/notebooks/data_table.ipynb>data table notebook</a>'\n",
              "            + ' to learn more about interactive tables.';\n",
              "          element.innerHTML = '';\n",
              "          dataTable['output_type'] = 'display_data';\n",
              "          await google.colab.output.renderOutput(dataTable, element);\n",
              "          const docLink = document.createElement('div');\n",
              "          docLink.innerHTML = docLinkHtml;\n",
              "          element.appendChild(docLink);\n",
              "        }\n",
              "      </script>\n",
              "    </div>\n",
              "  </div>\n",
              "  "
            ]
          },
          "metadata": {},
          "execution_count": 4
        }
      ],
      "source": [
        "df.head(2)"
      ]
    },
    {
      "cell_type": "code",
      "execution_count": 5,
      "id": "ae81002b",
      "metadata": {
        "colab": {
          "base_uri": "https://localhost:8080/",
          "height": 143
        },
        "id": "ae81002b",
        "outputId": "5994d62d-efdd-45d7-cd27-c576aa8f933b"
      },
      "outputs": [
        {
          "output_type": "execute_result",
          "data": {
            "text/plain": [
              "             Open   High    Low  Close    Volume    Change\n",
              "Date                                                      \n",
              "2022-10-07  55900  56900  55200  56200  16886813 -0.001776\n",
              "2022-10-11  54400  55700  54000  55500  17422179 -0.012456"
            ],
            "text/html": [
              "\n",
              "  <div id=\"df-43ca2323-1147-411a-b89b-99bb950d46c9\">\n",
              "    <div class=\"colab-df-container\">\n",
              "      <div>\n",
              "<style scoped>\n",
              "    .dataframe tbody tr th:only-of-type {\n",
              "        vertical-align: middle;\n",
              "    }\n",
              "\n",
              "    .dataframe tbody tr th {\n",
              "        vertical-align: top;\n",
              "    }\n",
              "\n",
              "    .dataframe thead th {\n",
              "        text-align: right;\n",
              "    }\n",
              "</style>\n",
              "<table border=\"1\" class=\"dataframe\">\n",
              "  <thead>\n",
              "    <tr style=\"text-align: right;\">\n",
              "      <th></th>\n",
              "      <th>Open</th>\n",
              "      <th>High</th>\n",
              "      <th>Low</th>\n",
              "      <th>Close</th>\n",
              "      <th>Volume</th>\n",
              "      <th>Change</th>\n",
              "    </tr>\n",
              "    <tr>\n",
              "      <th>Date</th>\n",
              "      <th></th>\n",
              "      <th></th>\n",
              "      <th></th>\n",
              "      <th></th>\n",
              "      <th></th>\n",
              "      <th></th>\n",
              "    </tr>\n",
              "  </thead>\n",
              "  <tbody>\n",
              "    <tr>\n",
              "      <th>2022-10-07</th>\n",
              "      <td>55900</td>\n",
              "      <td>56900</td>\n",
              "      <td>55200</td>\n",
              "      <td>56200</td>\n",
              "      <td>16886813</td>\n",
              "      <td>-0.001776</td>\n",
              "    </tr>\n",
              "    <tr>\n",
              "      <th>2022-10-11</th>\n",
              "      <td>54400</td>\n",
              "      <td>55700</td>\n",
              "      <td>54000</td>\n",
              "      <td>55500</td>\n",
              "      <td>17422179</td>\n",
              "      <td>-0.012456</td>\n",
              "    </tr>\n",
              "  </tbody>\n",
              "</table>\n",
              "</div>\n",
              "      <button class=\"colab-df-convert\" onclick=\"convertToInteractive('df-43ca2323-1147-411a-b89b-99bb950d46c9')\"\n",
              "              title=\"Convert this dataframe to an interactive table.\"\n",
              "              style=\"display:none;\">\n",
              "        \n",
              "  <svg xmlns=\"http://www.w3.org/2000/svg\" height=\"24px\"viewBox=\"0 0 24 24\"\n",
              "       width=\"24px\">\n",
              "    <path d=\"M0 0h24v24H0V0z\" fill=\"none\"/>\n",
              "    <path d=\"M18.56 5.44l.94 2.06.94-2.06 2.06-.94-2.06-.94-.94-2.06-.94 2.06-2.06.94zm-11 1L8.5 8.5l.94-2.06 2.06-.94-2.06-.94L8.5 2.5l-.94 2.06-2.06.94zm10 10l.94 2.06.94-2.06 2.06-.94-2.06-.94-.94-2.06-.94 2.06-2.06.94z\"/><path d=\"M17.41 7.96l-1.37-1.37c-.4-.4-.92-.59-1.43-.59-.52 0-1.04.2-1.43.59L10.3 9.45l-7.72 7.72c-.78.78-.78 2.05 0 2.83L4 21.41c.39.39.9.59 1.41.59.51 0 1.02-.2 1.41-.59l7.78-7.78 2.81-2.81c.8-.78.8-2.07 0-2.86zM5.41 20L4 18.59l7.72-7.72 1.47 1.35L5.41 20z\"/>\n",
              "  </svg>\n",
              "      </button>\n",
              "      \n",
              "  <style>\n",
              "    .colab-df-container {\n",
              "      display:flex;\n",
              "      flex-wrap:wrap;\n",
              "      gap: 12px;\n",
              "    }\n",
              "\n",
              "    .colab-df-convert {\n",
              "      background-color: #E8F0FE;\n",
              "      border: none;\n",
              "      border-radius: 50%;\n",
              "      cursor: pointer;\n",
              "      display: none;\n",
              "      fill: #1967D2;\n",
              "      height: 32px;\n",
              "      padding: 0 0 0 0;\n",
              "      width: 32px;\n",
              "    }\n",
              "\n",
              "    .colab-df-convert:hover {\n",
              "      background-color: #E2EBFA;\n",
              "      box-shadow: 0px 1px 2px rgba(60, 64, 67, 0.3), 0px 1px 3px 1px rgba(60, 64, 67, 0.15);\n",
              "      fill: #174EA6;\n",
              "    }\n",
              "\n",
              "    [theme=dark] .colab-df-convert {\n",
              "      background-color: #3B4455;\n",
              "      fill: #D2E3FC;\n",
              "    }\n",
              "\n",
              "    [theme=dark] .colab-df-convert:hover {\n",
              "      background-color: #434B5C;\n",
              "      box-shadow: 0px 1px 3px 1px rgba(0, 0, 0, 0.15);\n",
              "      filter: drop-shadow(0px 1px 2px rgba(0, 0, 0, 0.3));\n",
              "      fill: #FFFFFF;\n",
              "    }\n",
              "  </style>\n",
              "\n",
              "      <script>\n",
              "        const buttonEl =\n",
              "          document.querySelector('#df-43ca2323-1147-411a-b89b-99bb950d46c9 button.colab-df-convert');\n",
              "        buttonEl.style.display =\n",
              "          google.colab.kernel.accessAllowed ? 'block' : 'none';\n",
              "\n",
              "        async function convertToInteractive(key) {\n",
              "          const element = document.querySelector('#df-43ca2323-1147-411a-b89b-99bb950d46c9');\n",
              "          const dataTable =\n",
              "            await google.colab.kernel.invokeFunction('convertToInteractive',\n",
              "                                                     [key], {});\n",
              "          if (!dataTable) return;\n",
              "\n",
              "          const docLinkHtml = 'Like what you see? Visit the ' +\n",
              "            '<a target=\"_blank\" href=https://colab.research.google.com/notebooks/data_table.ipynb>data table notebook</a>'\n",
              "            + ' to learn more about interactive tables.';\n",
              "          element.innerHTML = '';\n",
              "          dataTable['output_type'] = 'display_data';\n",
              "          await google.colab.output.renderOutput(dataTable, element);\n",
              "          const docLink = document.createElement('div');\n",
              "          docLink.innerHTML = docLinkHtml;\n",
              "          element.appendChild(docLink);\n",
              "        }\n",
              "      </script>\n",
              "    </div>\n",
              "  </div>\n",
              "  "
            ]
          },
          "metadata": {},
          "execution_count": 5
        }
      ],
      "source": [
        "df.tail(2)"
      ]
    },
    {
      "cell_type": "markdown",
      "id": "cda36cbd",
      "metadata": {
        "id": "cda36cbd"
      },
      "source": [
        "## 문제, 답안 나누기"
      ]
    },
    {
      "cell_type": "code",
      "execution_count": 6,
      "id": "a74dcc60",
      "metadata": {
        "colab": {
          "base_uri": "https://localhost:8080/"
        },
        "id": "a74dcc60",
        "outputId": "651a83db-c15a-4525-cc19-caaa2d588adb"
      },
      "outputs": [
        {
          "output_type": "execute_result",
          "data": {
            "text/plain": [
              "(685, 4)"
            ]
          },
          "metadata": {},
          "execution_count": 6
        }
      ],
      "source": [
        "df_ohlcv = df.iloc[:, :-1] # 마지막 컬럼 제외하고 저장\n",
        "\n",
        "dfx = df_ohlcv.drop(columns =\"Close\")\n",
        "dfy = df_ohlcv[\"Close\"]\n",
        "dfx.shape # 정답(Y) -- close, 훈련(x) - close제외한 나머지"
      ]
    },
    {
      "cell_type": "markdown",
      "id": "fd327e43",
      "metadata": {
        "id": "fd327e43"
      },
      "source": [
        "## 정규화 "
      ]
    },
    {
      "cell_type": "code",
      "execution_count": 7,
      "id": "5b00b47c",
      "metadata": {
        "id": "5b00b47c"
      },
      "outputs": [],
      "source": [
        "# MinMaxScaler\n",
        "from sklearn.preprocessing import MinMaxScaler\n",
        "# 복원을 위해 x, y 따로 스케일링하기\n",
        "# 스케일링 후 list 형태로 변환하기\n",
        "mmsx = MinMaxScaler()\n",
        "mmsy = MinMaxScaler()\n",
        "x = mmsx.fit_transform(dfx).tolist()\n",
        "y = mmsy.fit_transform(dfy.to_frame()).tolist()"
      ]
    },
    {
      "cell_type": "code",
      "execution_count": 8,
      "id": "ecb2175d",
      "metadata": {
        "colab": {
          "base_uri": "https://localhost:8080/"
        },
        "id": "ecb2175d",
        "outputId": "ce0ce9dd-6cdb-4669-ffb0-41649038b422"
      },
      "outputs": [
        {
          "output_type": "execute_result",
          "data": {
            "text/plain": [
              "(4, 1)"
            ]
          },
          "metadata": {},
          "execution_count": 8
        }
      ],
      "source": [
        "len(x[0]), len(y[0])\n",
        "# (685, 4)      (685, 1)"
      ]
    },
    {
      "cell_type": "markdown",
      "id": "9273cc48",
      "metadata": {
        "id": "9273cc48"
      },
      "source": [
        "## x, y 값 window_size 적용하기\n",
        "\n",
        "\n",
        "<center>\n",
        "<img src = \"https://i.stack.imgur.com/padg4.gif\">\n",
        "</center>\n",
        "* 이미지출처: https://stackoverflow.com/questions/31947183/how-to-implement-walk-forward-testing-in-sklearn\n"
      ]
    },
    {
      "cell_type": "code",
      "source": [
        "window_size = 10 \n",
        "len(y) - window_size"
      ],
      "metadata": {
        "colab": {
          "base_uri": "https://localhost:8080/"
        },
        "id": "B7GqtXfLVDM_",
        "outputId": "53b8c9f3-fc5e-4ffa-e506-3bfd73b40741"
      },
      "id": "B7GqtXfLVDM_",
      "execution_count": 9,
      "outputs": [
        {
          "output_type": "execute_result",
          "data": {
            "text/plain": [
              "675"
            ]
          },
          "metadata": {},
          "execution_count": 9
        }
      ]
    },
    {
      "cell_type": "code",
      "execution_count": 10,
      "id": "415439a5",
      "metadata": {
        "scrolled": true,
        "id": "415439a5"
      },
      "outputs": [],
      "source": [
        "# window_size 만큼만 슬라이싱\n",
        "# 10일치 데이터로 다음날 주가를 예측\n",
        "# 다음 날 종가(i+windows_size)는 포함되지 않도록 X값을 만들고\n",
        "# 다음 날 종가를 y로 만듦\n",
        "window_size = 10 \n",
        "x_data = []\n",
        "y_data = []\n",
        "\n",
        "for i in range(len(y) - window_size):\n",
        "    _x = x[i : i+window_size]\n",
        "    _y = y[i + window_size]\n",
        "    x_data.append(_x)\n",
        "    y_data.append(_y)"
      ]
    },
    {
      "cell_type": "code",
      "execution_count": 11,
      "id": "b6ffe6e8",
      "metadata": {
        "colab": {
          "base_uri": "https://localhost:8080/"
        },
        "id": "b6ffe6e8",
        "outputId": "74367266-b468-4dac-966f-dd554ec36380"
      },
      "outputs": [
        {
          "output_type": "execute_result",
          "data": {
            "text/plain": [
              "(675, 675)"
            ]
          },
          "metadata": {},
          "execution_count": 11
        }
      ],
      "source": [
        "len(x_data), len(y_data)"
      ]
    },
    {
      "cell_type": "markdown",
      "id": "6e723022",
      "metadata": {
        "id": "6e723022"
      },
      "source": [
        "## train, test 나누기"
      ]
    },
    {
      "cell_type": "code",
      "execution_count": 12,
      "id": "ce512ee8",
      "metadata": {
        "colab": {
          "base_uri": "https://localhost:8080/"
        },
        "id": "ce512ee8",
        "outputId": "6024d8d0-4f58-4200-c80b-e141668fecfc"
      },
      "outputs": [
        {
          "output_type": "execute_result",
          "data": {
            "text/plain": [
              "540"
            ]
          },
          "metadata": {},
          "execution_count": 12
        }
      ],
      "source": [
        "# 8:2 로 나누기\n",
        "split_size = int(len(x_data) * 0.8)\n",
        "split_size"
      ]
    },
    {
      "cell_type": "code",
      "execution_count": 13,
      "id": "ae0655c3",
      "metadata": {
        "id": "ae0655c3"
      },
      "outputs": [],
      "source": [
        "X_train = np.array(x_data[:split_size]) # 80\n",
        "y_train = np.array(y_data[:split_size]) #80\n",
        "X_test = np.array(x_data[split_size:]) # 20\n",
        "y_test = np.array(y_data[split_size:]) #20"
      ]
    },
    {
      "cell_type": "code",
      "execution_count": 14,
      "id": "92e52115",
      "metadata": {
        "colab": {
          "base_uri": "https://localhost:8080/"
        },
        "id": "92e52115",
        "outputId": "2d05dc0b-c0e8-44cd-b3f3-bc96bdec5520"
      },
      "outputs": [
        {
          "output_type": "execute_result",
          "data": {
            "text/plain": [
              "((540, 10, 4), (540, 1), (135, 10, 4), (135, 1))"
            ]
          },
          "metadata": {},
          "execution_count": 14
        }
      ],
      "source": [
        "X_train.shape, y_train.shape, X_test.shape, y_test.shape #(배치사이즈,타임스텝(윈도우 사이즈).피쳐수(칼럼))"
      ]
    },
    {
      "cell_type": "markdown",
      "id": "54e52b61",
      "metadata": {
        "id": "54e52b61"
      },
      "source": [
        "## 모델 생성"
      ]
    },
    {
      "cell_type": "code",
      "source": [
        "data_size = dfx.shape[1]\n",
        "data_size"
      ],
      "metadata": {
        "colab": {
          "base_uri": "https://localhost:8080/"
        },
        "id": "IB8xhhIedjhi",
        "outputId": "c125ac14-5712-47eb-8578-d1e9adc8c6ea"
      },
      "id": "IB8xhhIedjhi",
      "execution_count": 15,
      "outputs": [
        {
          "output_type": "execute_result",
          "data": {
            "text/plain": [
              "4"
            ]
          },
          "metadata": {},
          "execution_count": 15
        }
      ]
    },
    {
      "cell_type": "code",
      "execution_count": 25,
      "id": "5ed6899e",
      "metadata": {
        "id": "5ed6899e",
        "colab": {
          "base_uri": "https://localhost:8080/"
        },
        "outputId": "097a94f7-805c-4a0b-88ae-41cd98603437"
      },
      "outputs": [
        {
          "output_type": "stream",
          "name": "stdout",
          "text": [
            "Model: \"sequential_3\"\n",
            "_________________________________________________________________\n",
            " Layer (type)                Output Shape              Param #   \n",
            "=================================================================\n",
            " lstm (LSTM)                 (None, 10, 10)            600       \n",
            "                                                                 \n",
            " dropout (Dropout)           (None, 10, 10)            0         \n",
            "                                                                 \n",
            " bidirectional (Bidirectiona  (None, 20)               1680      \n",
            " l)                                                              \n",
            "                                                                 \n",
            " dropout_1 (Dropout)         (None, 20)                0         \n",
            "                                                                 \n",
            " dense (Dense)               (None, 1)                 21        \n",
            "                                                                 \n",
            "=================================================================\n",
            "Total params: 2,301\n",
            "Trainable params: 2,301\n",
            "Non-trainable params: 0\n",
            "_________________________________________________________________\n"
          ]
        }
      ],
      "source": [
        "# 모델 생성\n",
        "\n",
        "data_size = dfx.shape[1]\n",
        "\n",
        "model = Sequential()\n",
        "model.add(LSTM(units=10,activation='relu',return_sequences=True, input_shape=(window_size, data_size)))\n",
        "model.add(Dropout(0.1)) #10%의 랜덤노드를 날린다. \n",
        "model.add(Bidirectional(LSTM(units=10,activation='relu')))\n",
        "# bidirectional = forward + backward, 실제로 성능차이는 없음\n",
        "model.add(Dropout(0.1))\n",
        "model.add(Dense(units=1)) # 분류를 하기 위한 학습\n",
        "model.summary() \n",
        "\n",
        "\n",
        "\n",
        "#배치사이즈는 총 데이터의 개수(로우수), 윈도우 사이즈(현재 정보 기준으로 과거의 정보를 얼마나 반영할지, 타임스탬프), 데이터 사이즈(피쳐수, 칼럼수) \n",
        "#None 크기 지정안해줌 어떤 숫자가 들어와도 상관없음. \n"
      ]
    },
    {
      "cell_type": "markdown",
      "id": "580a6c41",
      "metadata": {
        "id": "580a6c41"
      },
      "source": [
        "## compile"
      ]
    },
    {
      "cell_type": "code",
      "execution_count": 26,
      "id": "5171593a",
      "metadata": {
        "id": "5171593a"
      },
      "outputs": [],
      "source": [
        "model.compile(optimizer='adam',loss='mse',metrics=['mse','mae']) #회귀 (y^-y)^2 // 분류 cross categorical entropy (분류값이 얼마나 정확할지를 확률값으로)"
      ]
    },
    {
      "cell_type": "markdown",
      "id": "74c24ffd",
      "metadata": {
        "id": "74c24ffd"
      },
      "source": [
        "## 학습과 예측"
      ]
    },
    {
      "cell_type": "code",
      "execution_count": 28,
      "id": "2ede1bda",
      "metadata": {
        "scrolled": false,
        "id": "2ede1bda",
        "colab": {
          "base_uri": "https://localhost:8080/"
        },
        "outputId": "92ccc92c-7e7e-416d-996a-d9856c5e9365"
      },
      "outputs": [
        {
          "output_type": "execute_result",
          "data": {
            "text/plain": [
              "((540, 10, 4), (540, 1))"
            ]
          },
          "metadata": {},
          "execution_count": 28
        }
      ],
      "source": [
        "X_train.shape,y_train.shape #input sequence length "
      ]
    },
    {
      "cell_type": "code",
      "execution_count": 34,
      "id": "a7845169",
      "metadata": {
        "id": "a7845169",
        "colab": {
          "base_uri": "https://localhost:8080/"
        },
        "outputId": "22c9fccf-30e2-467b-b4f9-aec20772a66e"
      },
      "outputs": [
        {
          "output_type": "stream",
          "name": "stdout",
          "text": [
            "Epoch 1/100\n",
            "18/18 [==============================] - 0s 8ms/step - loss: 0.0018 - mse: 0.0018 - mae: 0.0322\n",
            "Epoch 2/100\n",
            "18/18 [==============================] - 0s 14ms/step - loss: 0.0020 - mse: 0.0020 - mae: 0.0343\n",
            "Epoch 3/100\n",
            "18/18 [==============================] - 0s 17ms/step - loss: 0.0023 - mse: 0.0023 - mae: 0.0372\n",
            "Epoch 4/100\n",
            "18/18 [==============================] - 0s 15ms/step - loss: 0.0022 - mse: 0.0022 - mae: 0.0347\n",
            "Epoch 5/100\n",
            "18/18 [==============================] - 0s 8ms/step - loss: 0.0021 - mse: 0.0021 - mae: 0.0354\n",
            "Epoch 6/100\n",
            "18/18 [==============================] - 0s 8ms/step - loss: 0.0021 - mse: 0.0021 - mae: 0.0346\n",
            "Epoch 7/100\n",
            "18/18 [==============================] - 0s 8ms/step - loss: 0.0018 - mse: 0.0018 - mae: 0.0319\n",
            "Epoch 8/100\n",
            "18/18 [==============================] - 0s 8ms/step - loss: 0.0021 - mse: 0.0021 - mae: 0.0353\n",
            "Epoch 9/100\n",
            "18/18 [==============================] - 0s 8ms/step - loss: 0.0018 - mse: 0.0018 - mae: 0.0327\n",
            "Epoch 10/100\n",
            "18/18 [==============================] - 0s 8ms/step - loss: 0.0018 - mse: 0.0018 - mae: 0.0332\n",
            "Epoch 11/100\n",
            "18/18 [==============================] - 0s 9ms/step - loss: 0.0019 - mse: 0.0019 - mae: 0.0341\n",
            "Epoch 12/100\n",
            "18/18 [==============================] - 0s 8ms/step - loss: 0.0021 - mse: 0.0021 - mae: 0.0347\n",
            "Epoch 13/100\n",
            "18/18 [==============================] - 0s 8ms/step - loss: 0.0016 - mse: 0.0016 - mae: 0.0310\n",
            "Epoch 14/100\n",
            "18/18 [==============================] - 0s 10ms/step - loss: 0.0021 - mse: 0.0021 - mae: 0.0350\n",
            "Epoch 15/100\n",
            "18/18 [==============================] - 0s 8ms/step - loss: 0.0019 - mse: 0.0019 - mae: 0.0332\n",
            "Epoch 16/100\n",
            "18/18 [==============================] - 0s 8ms/step - loss: 0.0020 - mse: 0.0020 - mae: 0.0329\n",
            "Epoch 17/100\n",
            "18/18 [==============================] - 0s 8ms/step - loss: 0.0019 - mse: 0.0019 - mae: 0.0343\n",
            "Epoch 18/100\n",
            "18/18 [==============================] - 0s 7ms/step - loss: 0.0019 - mse: 0.0019 - mae: 0.0331\n",
            "Epoch 19/100\n",
            "18/18 [==============================] - 0s 8ms/step - loss: 0.0018 - mse: 0.0018 - mae: 0.0326\n",
            "Epoch 20/100\n",
            "18/18 [==============================] - 0s 8ms/step - loss: 0.0018 - mse: 0.0018 - mae: 0.0339\n",
            "Epoch 21/100\n",
            "18/18 [==============================] - 0s 9ms/step - loss: 0.0019 - mse: 0.0019 - mae: 0.0332\n",
            "Epoch 22/100\n",
            "18/18 [==============================] - 0s 8ms/step - loss: 0.0020 - mse: 0.0020 - mae: 0.0345\n",
            "Epoch 23/100\n",
            "18/18 [==============================] - 0s 9ms/step - loss: 0.0018 - mse: 0.0018 - mae: 0.0333\n",
            "Epoch 24/100\n",
            "18/18 [==============================] - 0s 8ms/step - loss: 0.0021 - mse: 0.0021 - mae: 0.0348\n",
            "Epoch 25/100\n",
            "18/18 [==============================] - 0s 8ms/step - loss: 0.0020 - mse: 0.0020 - mae: 0.0341\n",
            "Epoch 26/100\n",
            "18/18 [==============================] - 0s 8ms/step - loss: 0.0021 - mse: 0.0021 - mae: 0.0350\n",
            "Epoch 27/100\n",
            "18/18 [==============================] - 0s 8ms/step - loss: 0.0021 - mse: 0.0021 - mae: 0.0353\n",
            "Epoch 28/100\n",
            "18/18 [==============================] - 0s 8ms/step - loss: 0.0021 - mse: 0.0021 - mae: 0.0368\n",
            "Epoch 29/100\n",
            "18/18 [==============================] - 0s 8ms/step - loss: 0.0022 - mse: 0.0022 - mae: 0.0358\n",
            "Epoch 30/100\n",
            "18/18 [==============================] - 0s 8ms/step - loss: 0.0019 - mse: 0.0019 - mae: 0.0340\n",
            "Epoch 31/100\n",
            "18/18 [==============================] - 0s 8ms/step - loss: 0.0017 - mse: 0.0017 - mae: 0.0311\n",
            "Epoch 32/100\n",
            "18/18 [==============================] - 0s 8ms/step - loss: 0.0019 - mse: 0.0019 - mae: 0.0328\n",
            "Epoch 33/100\n",
            "18/18 [==============================] - 0s 8ms/step - loss: 0.0020 - mse: 0.0020 - mae: 0.0339\n",
            "Epoch 34/100\n",
            "18/18 [==============================] - 0s 8ms/step - loss: 0.0020 - mse: 0.0020 - mae: 0.0340\n",
            "Epoch 35/100\n",
            "18/18 [==============================] - 0s 8ms/step - loss: 0.0017 - mse: 0.0017 - mae: 0.0317\n",
            "Epoch 36/100\n",
            "18/18 [==============================] - 0s 8ms/step - loss: 0.0020 - mse: 0.0020 - mae: 0.0337\n",
            "Epoch 37/100\n",
            "18/18 [==============================] - 0s 8ms/step - loss: 0.0019 - mse: 0.0019 - mae: 0.0337\n",
            "Epoch 38/100\n",
            "18/18 [==============================] - 0s 8ms/step - loss: 0.0020 - mse: 0.0020 - mae: 0.0344\n",
            "Epoch 39/100\n",
            "18/18 [==============================] - 0s 9ms/step - loss: 0.0019 - mse: 0.0019 - mae: 0.0330\n",
            "Epoch 40/100\n",
            "18/18 [==============================] - 0s 11ms/step - loss: 0.0019 - mse: 0.0019 - mae: 0.0337\n",
            "Epoch 41/100\n",
            "18/18 [==============================] - 0s 8ms/step - loss: 0.0018 - mse: 0.0018 - mae: 0.0321\n",
            "Epoch 42/100\n",
            "18/18 [==============================] - 0s 8ms/step - loss: 0.0017 - mse: 0.0017 - mae: 0.0322\n",
            "Epoch 43/100\n",
            "18/18 [==============================] - 0s 8ms/step - loss: 0.0017 - mse: 0.0017 - mae: 0.0324\n",
            "Epoch 44/100\n",
            "18/18 [==============================] - 0s 8ms/step - loss: 0.0018 - mse: 0.0018 - mae: 0.0325\n",
            "Epoch 45/100\n",
            "18/18 [==============================] - 0s 8ms/step - loss: 0.0021 - mse: 0.0021 - mae: 0.0349\n",
            "Epoch 46/100\n",
            "18/18 [==============================] - 0s 8ms/step - loss: 0.0020 - mse: 0.0020 - mae: 0.0341\n",
            "Epoch 47/100\n",
            "18/18 [==============================] - 0s 8ms/step - loss: 0.0018 - mse: 0.0018 - mae: 0.0331\n",
            "Epoch 48/100\n",
            "18/18 [==============================] - 0s 8ms/step - loss: 0.0017 - mse: 0.0017 - mae: 0.0322\n",
            "Epoch 49/100\n",
            "18/18 [==============================] - 0s 9ms/step - loss: 0.0019 - mse: 0.0019 - mae: 0.0339\n",
            "Epoch 50/100\n",
            "18/18 [==============================] - 0s 9ms/step - loss: 0.0020 - mse: 0.0020 - mae: 0.0340\n",
            "Epoch 51/100\n",
            "18/18 [==============================] - 0s 8ms/step - loss: 0.0020 - mse: 0.0020 - mae: 0.0343\n",
            "Epoch 52/100\n",
            "18/18 [==============================] - 0s 8ms/step - loss: 0.0019 - mse: 0.0019 - mae: 0.0338\n",
            "Epoch 53/100\n",
            "18/18 [==============================] - 0s 8ms/step - loss: 0.0019 - mse: 0.0019 - mae: 0.0333\n",
            "Epoch 54/100\n",
            "18/18 [==============================] - 0s 8ms/step - loss: 0.0020 - mse: 0.0020 - mae: 0.0346\n",
            "Epoch 55/100\n",
            "18/18 [==============================] - 0s 8ms/step - loss: 0.0019 - mse: 0.0019 - mae: 0.0345\n",
            "Epoch 56/100\n",
            "18/18 [==============================] - 0s 8ms/step - loss: 0.0020 - mse: 0.0020 - mae: 0.0323\n",
            "Epoch 57/100\n",
            "18/18 [==============================] - 0s 8ms/step - loss: 0.0020 - mse: 0.0020 - mae: 0.0343\n",
            "Epoch 58/100\n",
            "18/18 [==============================] - 0s 8ms/step - loss: 0.0021 - mse: 0.0021 - mae: 0.0341\n",
            "Epoch 59/100\n",
            "18/18 [==============================] - 0s 8ms/step - loss: 0.0017 - mse: 0.0017 - mae: 0.0319\n",
            "Epoch 60/100\n",
            "18/18 [==============================] - 0s 7ms/step - loss: 0.0020 - mse: 0.0020 - mae: 0.0337\n",
            "Epoch 61/100\n",
            "18/18 [==============================] - 0s 8ms/step - loss: 0.0019 - mse: 0.0019 - mae: 0.0330\n",
            "Epoch 62/100\n",
            "18/18 [==============================] - 0s 8ms/step - loss: 0.0019 - mse: 0.0019 - mae: 0.0322\n",
            "Epoch 63/100\n",
            "18/18 [==============================] - 0s 8ms/step - loss: 0.0020 - mse: 0.0020 - mae: 0.0345\n",
            "Epoch 64/100\n",
            "18/18 [==============================] - 0s 8ms/step - loss: 0.0018 - mse: 0.0018 - mae: 0.0321\n",
            "Epoch 65/100\n",
            "18/18 [==============================] - 0s 8ms/step - loss: 0.0019 - mse: 0.0019 - mae: 0.0339\n",
            "Epoch 66/100\n",
            "18/18 [==============================] - 0s 8ms/step - loss: 0.0023 - mse: 0.0023 - mae: 0.0371\n",
            "Epoch 67/100\n",
            "18/18 [==============================] - 0s 8ms/step - loss: 0.0019 - mse: 0.0019 - mae: 0.0346\n",
            "Epoch 68/100\n",
            "18/18 [==============================] - 0s 8ms/step - loss: 0.0018 - mse: 0.0018 - mae: 0.0325\n",
            "Epoch 69/100\n",
            "18/18 [==============================] - 0s 9ms/step - loss: 0.0019 - mse: 0.0019 - mae: 0.0330\n",
            "Epoch 70/100\n",
            "18/18 [==============================] - 0s 8ms/step - loss: 0.0018 - mse: 0.0018 - mae: 0.0330\n",
            "Epoch 71/100\n",
            "18/18 [==============================] - 0s 8ms/step - loss: 0.0017 - mse: 0.0017 - mae: 0.0322\n",
            "Epoch 72/100\n",
            "18/18 [==============================] - 0s 8ms/step - loss: 0.0021 - mse: 0.0021 - mae: 0.0352\n",
            "Epoch 73/100\n",
            "18/18 [==============================] - 0s 9ms/step - loss: 0.0022 - mse: 0.0022 - mae: 0.0353\n",
            "Epoch 74/100\n",
            "18/18 [==============================] - 0s 8ms/step - loss: 0.0019 - mse: 0.0019 - mae: 0.0331\n",
            "Epoch 75/100\n",
            "18/18 [==============================] - 0s 8ms/step - loss: 0.0020 - mse: 0.0020 - mae: 0.0342\n",
            "Epoch 76/100\n",
            "18/18 [==============================] - 0s 10ms/step - loss: 0.0018 - mse: 0.0018 - mae: 0.0320\n",
            "Epoch 77/100\n",
            "18/18 [==============================] - 0s 11ms/step - loss: 0.0019 - mse: 0.0019 - mae: 0.0333\n",
            "Epoch 78/100\n",
            "18/18 [==============================] - 0s 10ms/step - loss: 0.0017 - mse: 0.0017 - mae: 0.0311\n",
            "Epoch 79/100\n",
            "18/18 [==============================] - 0s 11ms/step - loss: 0.0018 - mse: 0.0018 - mae: 0.0319\n",
            "Epoch 80/100\n",
            "18/18 [==============================] - 0s 8ms/step - loss: 0.0018 - mse: 0.0018 - mae: 0.0330\n",
            "Epoch 81/100\n",
            "18/18 [==============================] - 0s 8ms/step - loss: 0.0018 - mse: 0.0018 - mae: 0.0316\n",
            "Epoch 82/100\n",
            "18/18 [==============================] - 0s 10ms/step - loss: 0.0021 - mse: 0.0021 - mae: 0.0343\n",
            "Epoch 83/100\n",
            "18/18 [==============================] - 0s 7ms/step - loss: 0.0017 - mse: 0.0017 - mae: 0.0317\n",
            "Epoch 84/100\n",
            "18/18 [==============================] - 0s 9ms/step - loss: 0.0017 - mse: 0.0017 - mae: 0.0316\n",
            "Epoch 85/100\n",
            "18/18 [==============================] - 0s 8ms/step - loss: 0.0017 - mse: 0.0017 - mae: 0.0318\n",
            "Epoch 86/100\n",
            "18/18 [==============================] - 0s 8ms/step - loss: 0.0016 - mse: 0.0016 - mae: 0.0315\n",
            "Epoch 87/100\n",
            "18/18 [==============================] - 0s 8ms/step - loss: 0.0019 - mse: 0.0019 - mae: 0.0338\n",
            "Epoch 88/100\n",
            "18/18 [==============================] - 0s 9ms/step - loss: 0.0018 - mse: 0.0018 - mae: 0.0324\n",
            "Epoch 89/100\n",
            "18/18 [==============================] - 0s 8ms/step - loss: 0.0017 - mse: 0.0017 - mae: 0.0313\n",
            "Epoch 90/100\n",
            "18/18 [==============================] - 0s 8ms/step - loss: 0.0020 - mse: 0.0020 - mae: 0.0336\n",
            "Epoch 91/100\n",
            "18/18 [==============================] - 0s 8ms/step - loss: 0.0017 - mse: 0.0017 - mae: 0.0315\n",
            "Epoch 92/100\n",
            "18/18 [==============================] - 0s 8ms/step - loss: 0.0016 - mse: 0.0016 - mae: 0.0306\n",
            "Epoch 93/100\n",
            "18/18 [==============================] - 0s 8ms/step - loss: 0.0018 - mse: 0.0018 - mae: 0.0329\n",
            "Epoch 94/100\n",
            "18/18 [==============================] - 0s 8ms/step - loss: 0.0019 - mse: 0.0019 - mae: 0.0323\n",
            "Epoch 95/100\n",
            "18/18 [==============================] - 0s 8ms/step - loss: 0.0018 - mse: 0.0018 - mae: 0.0322\n",
            "Epoch 96/100\n",
            "18/18 [==============================] - 0s 8ms/step - loss: 0.0019 - mse: 0.0019 - mae: 0.0322\n",
            "Epoch 97/100\n",
            "18/18 [==============================] - 0s 8ms/step - loss: 0.0018 - mse: 0.0018 - mae: 0.0334\n",
            "Epoch 98/100\n",
            "18/18 [==============================] - 0s 8ms/step - loss: 0.0021 - mse: 0.0021 - mae: 0.0346\n",
            "Epoch 99/100\n",
            "18/18 [==============================] - 0s 8ms/step - loss: 0.0018 - mse: 0.0018 - mae: 0.0328\n",
            "Epoch 100/100\n",
            "18/18 [==============================] - 0s 8ms/step - loss: 0.0018 - mse: 0.0018 - mae: 0.0329\n"
          ]
        }
      ],
      "source": [
        "history=model.fit(X_train,y_train,epochs=100,batch_size=30,verbose=1) #메모리 한계 문제를 피하기 위해 배치사이즈를 일부만 선정  verbose=progress바를 그려주나 마나"
      ]
    },
    {
      "cell_type": "code",
      "source": [
        "history.history"
      ],
      "metadata": {
        "colab": {
          "base_uri": "https://localhost:8080/"
        },
        "id": "wOv8Zlsc1qlk",
        "outputId": "7703f8c6-683d-4411-c9ac-5c2187da3ff9"
      },
      "id": "wOv8Zlsc1qlk",
      "execution_count": 35,
      "outputs": [
        {
          "output_type": "execute_result",
          "data": {
            "text/plain": [
              "{'loss': [0.0017773404251784086,\n",
              "  0.002003258792683482,\n",
              "  0.0022779549472033978,\n",
              "  0.002156084170565009,\n",
              "  0.0021320926025509834,\n",
              "  0.0020947419106960297,\n",
              "  0.001758216880261898,\n",
              "  0.0021159907337278128,\n",
              "  0.0018249923596158624,\n",
              "  0.0018269653664901853,\n",
              "  0.001913837855681777,\n",
              "  0.0020883975084871054,\n",
              "  0.0016203925479203463,\n",
              "  0.002115213545039296,\n",
              "  0.001896302797831595,\n",
              "  0.0019904037471860647,\n",
              "  0.0019089904380962253,\n",
              "  0.0019196011126041412,\n",
              "  0.0018466392066329718,\n",
              "  0.0018382437992841005,\n",
              "  0.00187038560397923,\n",
              "  0.0020122139248996973,\n",
              "  0.0018108580261468887,\n",
              "  0.002081845421344042,\n",
              "  0.0019703893922269344,\n",
              "  0.002051157644018531,\n",
              "  0.0020520854741334915,\n",
              "  0.0021499120630323887,\n",
              "  0.0022284137085080147,\n",
              "  0.0019490240374580026,\n",
              "  0.001665391493588686,\n",
              "  0.0018943949835374951,\n",
              "  0.0019606982823461294,\n",
              "  0.0020135489758104086,\n",
              "  0.0017455666093155742,\n",
              "  0.0019573417957872152,\n",
              "  0.0018728727009147406,\n",
              "  0.0020053109619766474,\n",
              "  0.0019343214808031917,\n",
              "  0.0019234749488532543,\n",
              "  0.0017768380930647254,\n",
              "  0.0017381097422912717,\n",
              "  0.0017282564658671618,\n",
              "  0.0018011982319876552,\n",
              "  0.0020586380269378424,\n",
              "  0.00197642226703465,\n",
              "  0.0017882809042930603,\n",
              "  0.0017351571004837751,\n",
              "  0.0019247368909418583,\n",
              "  0.001989054726436734,\n",
              "  0.002000573556870222,\n",
              "  0.0019388821674510837,\n",
              "  0.0018875926034525037,\n",
              "  0.002047368325293064,\n",
              "  0.0018944464391097426,\n",
              "  0.001958385342732072,\n",
              "  0.001983155030757189,\n",
              "  0.002056105062365532,\n",
              "  0.0017146274913102388,\n",
              "  0.002014336409047246,\n",
              "  0.0019403230398893356,\n",
              "  0.0018640721682459116,\n",
              "  0.002030580537393689,\n",
              "  0.0017636308912187815,\n",
              "  0.001947013777680695,\n",
              "  0.0023204581812024117,\n",
              "  0.001945896539837122,\n",
              "  0.0017594259697943926,\n",
              "  0.0019145120168104768,\n",
              "  0.0018295772606506944,\n",
              "  0.0016839959425851703,\n",
              "  0.002088956767693162,\n",
              "  0.002196783432736993,\n",
              "  0.0019038341706618667,\n",
              "  0.001982426969334483,\n",
              "  0.001759212464094162,\n",
              "  0.0018988007213920355,\n",
              "  0.0016918594483286142,\n",
              "  0.0017572520300745964,\n",
              "  0.0017707189545035362,\n",
              "  0.0017986268503591418,\n",
              "  0.002079048426821828,\n",
              "  0.0016832096735015512,\n",
              "  0.0016707467148080468,\n",
              "  0.001673135906457901,\n",
              "  0.0016472979914397001,\n",
              "  0.0019237874075770378,\n",
              "  0.0017826055409386754,\n",
              "  0.0016749771311879158,\n",
              "  0.002004934474825859,\n",
              "  0.0016507001128047705,\n",
              "  0.0015552948461845517,\n",
              "  0.0018187008099630475,\n",
              "  0.0018620870541781187,\n",
              "  0.0017700518947094679,\n",
              "  0.0018703460227698088,\n",
              "  0.0018460176652297378,\n",
              "  0.0021275547333061695,\n",
              "  0.0018414963269606233,\n",
              "  0.0018312509637326002],\n",
              " 'mse': [0.0017773404251784086,\n",
              "  0.002003258792683482,\n",
              "  0.0022779549472033978,\n",
              "  0.002156084170565009,\n",
              "  0.0021320926025509834,\n",
              "  0.0020947419106960297,\n",
              "  0.001758216880261898,\n",
              "  0.0021159907337278128,\n",
              "  0.0018249924760311842,\n",
              "  0.0018269653664901853,\n",
              "  0.001913837855681777,\n",
              "  0.0020883975084871054,\n",
              "  0.0016203925479203463,\n",
              "  0.002115213545039296,\n",
              "  0.001896302797831595,\n",
              "  0.0019904037471860647,\n",
              "  0.0019089904380962253,\n",
              "  0.0019196011126041412,\n",
              "  0.0018466392066329718,\n",
              "  0.0018382437992841005,\n",
              "  0.00187038560397923,\n",
              "  0.0020122139248996973,\n",
              "  0.0018108582589775324,\n",
              "  0.002081845421344042,\n",
              "  0.0019703893922269344,\n",
              "  0.002051157644018531,\n",
              "  0.0020520854741334915,\n",
              "  0.0021499120630323887,\n",
              "  0.0022284137085080147,\n",
              "  0.0019490240374580026,\n",
              "  0.001665391493588686,\n",
              "  0.0018943949835374951,\n",
              "  0.0019606982823461294,\n",
              "  0.0020135489758104086,\n",
              "  0.0017455666093155742,\n",
              "  0.0019573417957872152,\n",
              "  0.0018728727009147406,\n",
              "  0.0020053109619766474,\n",
              "  0.0019343214808031917,\n",
              "  0.0019234749488532543,\n",
              "  0.0017768380930647254,\n",
              "  0.0017381097422912717,\n",
              "  0.0017282564658671618,\n",
              "  0.0018011982319876552,\n",
              "  0.0020586380269378424,\n",
              "  0.00197642226703465,\n",
              "  0.0017882809042930603,\n",
              "  0.0017351571004837751,\n",
              "  0.0019247368909418583,\n",
              "  0.001989054726436734,\n",
              "  0.002000573556870222,\n",
              "  0.0019388821674510837,\n",
              "  0.0018875926034525037,\n",
              "  0.002047368325293064,\n",
              "  0.0018944464391097426,\n",
              "  0.001958385342732072,\n",
              "  0.001983155030757189,\n",
              "  0.002056105062365532,\n",
              "  0.0017146274913102388,\n",
              "  0.002014336409047246,\n",
              "  0.0019403230398893356,\n",
              "  0.0018640721682459116,\n",
              "  0.002030580537393689,\n",
              "  0.0017636308912187815,\n",
              "  0.001947013777680695,\n",
              "  0.0023204581812024117,\n",
              "  0.001945896539837122,\n",
              "  0.0017594259697943926,\n",
              "  0.0019145120168104768,\n",
              "  0.0018295772606506944,\n",
              "  0.0016839959425851703,\n",
              "  0.002088956767693162,\n",
              "  0.002196783432736993,\n",
              "  0.0019038341706618667,\n",
              "  0.001982426969334483,\n",
              "  0.001759212464094162,\n",
              "  0.0018988007213920355,\n",
              "  0.0016918594483286142,\n",
              "  0.0017572520300745964,\n",
              "  0.0017707189545035362,\n",
              "  0.0017986268503591418,\n",
              "  0.002079048426821828,\n",
              "  0.0016832096735015512,\n",
              "  0.0016707467148080468,\n",
              "  0.001673135906457901,\n",
              "  0.0016472979914397001,\n",
              "  0.0019237874075770378,\n",
              "  0.0017826055409386754,\n",
              "  0.0016749771311879158,\n",
              "  0.002004934474825859,\n",
              "  0.0016507001128047705,\n",
              "  0.0015552948461845517,\n",
              "  0.0018187008099630475,\n",
              "  0.0018620870541781187,\n",
              "  0.0017700518947094679,\n",
              "  0.0018703460227698088,\n",
              "  0.0018460176652297378,\n",
              "  0.0021275547333061695,\n",
              "  0.0018414963269606233,\n",
              "  0.0018312509637326002],\n",
              " 'mae': [0.03224168345332146,\n",
              "  0.03432612493634224,\n",
              "  0.03723609074950218,\n",
              "  0.03471779823303223,\n",
              "  0.035405054688453674,\n",
              "  0.03463946282863617,\n",
              "  0.03186705708503723,\n",
              "  0.035321809351444244,\n",
              "  0.03273770213127136,\n",
              "  0.03317079693078995,\n",
              "  0.03408920019865036,\n",
              "  0.03470095619559288,\n",
              "  0.030999120324850082,\n",
              "  0.034974463284015656,\n",
              "  0.03320561721920967,\n",
              "  0.03287183865904808,\n",
              "  0.03432191163301468,\n",
              "  0.03312412649393082,\n",
              "  0.0325620137155056,\n",
              "  0.03390943631529808,\n",
              "  0.03316322714090347,\n",
              "  0.034476138651371,\n",
              "  0.03334895148873329,\n",
              "  0.034842923283576965,\n",
              "  0.03412860259413719,\n",
              "  0.035041868686676025,\n",
              "  0.03531212359666824,\n",
              "  0.036782942712306976,\n",
              "  0.0358002632856369,\n",
              "  0.03395168110728264,\n",
              "  0.031054751947522163,\n",
              "  0.03282914683222771,\n",
              "  0.0339287668466568,\n",
              "  0.03404725715517998,\n",
              "  0.03172201290726662,\n",
              "  0.03369329869747162,\n",
              "  0.03373876214027405,\n",
              "  0.034355491399765015,\n",
              "  0.032980337738990784,\n",
              "  0.03365512192249298,\n",
              "  0.03205414488911629,\n",
              "  0.03218691051006317,\n",
              "  0.03243880346417427,\n",
              "  0.03250455856323242,\n",
              "  0.03494969755411148,\n",
              "  0.03411230444908142,\n",
              "  0.033071838319301605,\n",
              "  0.03218851611018181,\n",
              "  0.03389276564121246,\n",
              "  0.03402193635702133,\n",
              "  0.0342964269220829,\n",
              "  0.033842023462057114,\n",
              "  0.03327174857258797,\n",
              "  0.03461068496108055,\n",
              "  0.034505195915699005,\n",
              "  0.03230512514710426,\n",
              "  0.03430706635117531,\n",
              "  0.03414914011955261,\n",
              "  0.03188255429267883,\n",
              "  0.033657971769571304,\n",
              "  0.03303106874227524,\n",
              "  0.03216138482093811,\n",
              "  0.034494660794734955,\n",
              "  0.03212292864918709,\n",
              "  0.033946190029382706,\n",
              "  0.03707738593220711,\n",
              "  0.03462089225649834,\n",
              "  0.03248639404773712,\n",
              "  0.03304778039455414,\n",
              "  0.03297550603747368,\n",
              "  0.03219558298587799,\n",
              "  0.03515258803963661,\n",
              "  0.035258058458566666,\n",
              "  0.03308800235390663,\n",
              "  0.03421491011977196,\n",
              "  0.03195984661579132,\n",
              "  0.0333237424492836,\n",
              "  0.03110727109014988,\n",
              "  0.0318991020321846,\n",
              "  0.03302770480513573,\n",
              "  0.03158840909600258,\n",
              "  0.03433360904455185,\n",
              "  0.03167728707194328,\n",
              "  0.03159426525235176,\n",
              "  0.031796202063560486,\n",
              "  0.0315055176615715,\n",
              "  0.033750686794519424,\n",
              "  0.03244846686720848,\n",
              "  0.03127890080213547,\n",
              "  0.03364401310682297,\n",
              "  0.03150109201669693,\n",
              "  0.030617406591773033,\n",
              "  0.032903432846069336,\n",
              "  0.03225548565387726,\n",
              "  0.03221831098198891,\n",
              "  0.032207608222961426,\n",
              "  0.033377084881067276,\n",
              "  0.03461937606334686,\n",
              "  0.03278067708015442,\n",
              "  0.03290113806724548]}"
            ]
          },
          "metadata": {},
          "execution_count": 35
        }
      ]
    },
    {
      "cell_type": "code",
      "execution_count": 40,
      "id": "8923e031",
      "metadata": {
        "id": "8923e031"
      },
      "outputs": [],
      "source": [
        "# y_pred\n",
        "df_hist=pd.DataFrame(history.history)"
      ]
    },
    {
      "cell_type": "code",
      "source": [
        "df_hist"
      ],
      "metadata": {
        "colab": {
          "base_uri": "https://localhost:8080/",
          "height": 424
        },
        "id": "lP10sS8n2Fco",
        "outputId": "d9656f9e-d70e-4a00-a856-fc82075af8a0"
      },
      "id": "lP10sS8n2Fco",
      "execution_count": 41,
      "outputs": [
        {
          "output_type": "execute_result",
          "data": {
            "text/plain": [
              "        loss       mse       mae\n",
              "0   0.001777  0.001777  0.032242\n",
              "1   0.002003  0.002003  0.034326\n",
              "2   0.002278  0.002278  0.037236\n",
              "3   0.002156  0.002156  0.034718\n",
              "4   0.002132  0.002132  0.035405\n",
              "..       ...       ...       ...\n",
              "95  0.001870  0.001870  0.032208\n",
              "96  0.001846  0.001846  0.033377\n",
              "97  0.002128  0.002128  0.034619\n",
              "98  0.001841  0.001841  0.032781\n",
              "99  0.001831  0.001831  0.032901\n",
              "\n",
              "[100 rows x 3 columns]"
            ],
            "text/html": [
              "\n",
              "  <div id=\"df-f153a34d-d83a-496c-8bd9-a38cb13bcc1a\">\n",
              "    <div class=\"colab-df-container\">\n",
              "      <div>\n",
              "<style scoped>\n",
              "    .dataframe tbody tr th:only-of-type {\n",
              "        vertical-align: middle;\n",
              "    }\n",
              "\n",
              "    .dataframe tbody tr th {\n",
              "        vertical-align: top;\n",
              "    }\n",
              "\n",
              "    .dataframe thead th {\n",
              "        text-align: right;\n",
              "    }\n",
              "</style>\n",
              "<table border=\"1\" class=\"dataframe\">\n",
              "  <thead>\n",
              "    <tr style=\"text-align: right;\">\n",
              "      <th></th>\n",
              "      <th>loss</th>\n",
              "      <th>mse</th>\n",
              "      <th>mae</th>\n",
              "    </tr>\n",
              "  </thead>\n",
              "  <tbody>\n",
              "    <tr>\n",
              "      <th>0</th>\n",
              "      <td>0.001777</td>\n",
              "      <td>0.001777</td>\n",
              "      <td>0.032242</td>\n",
              "    </tr>\n",
              "    <tr>\n",
              "      <th>1</th>\n",
              "      <td>0.002003</td>\n",
              "      <td>0.002003</td>\n",
              "      <td>0.034326</td>\n",
              "    </tr>\n",
              "    <tr>\n",
              "      <th>2</th>\n",
              "      <td>0.002278</td>\n",
              "      <td>0.002278</td>\n",
              "      <td>0.037236</td>\n",
              "    </tr>\n",
              "    <tr>\n",
              "      <th>3</th>\n",
              "      <td>0.002156</td>\n",
              "      <td>0.002156</td>\n",
              "      <td>0.034718</td>\n",
              "    </tr>\n",
              "    <tr>\n",
              "      <th>4</th>\n",
              "      <td>0.002132</td>\n",
              "      <td>0.002132</td>\n",
              "      <td>0.035405</td>\n",
              "    </tr>\n",
              "    <tr>\n",
              "      <th>...</th>\n",
              "      <td>...</td>\n",
              "      <td>...</td>\n",
              "      <td>...</td>\n",
              "    </tr>\n",
              "    <tr>\n",
              "      <th>95</th>\n",
              "      <td>0.001870</td>\n",
              "      <td>0.001870</td>\n",
              "      <td>0.032208</td>\n",
              "    </tr>\n",
              "    <tr>\n",
              "      <th>96</th>\n",
              "      <td>0.001846</td>\n",
              "      <td>0.001846</td>\n",
              "      <td>0.033377</td>\n",
              "    </tr>\n",
              "    <tr>\n",
              "      <th>97</th>\n",
              "      <td>0.002128</td>\n",
              "      <td>0.002128</td>\n",
              "      <td>0.034619</td>\n",
              "    </tr>\n",
              "    <tr>\n",
              "      <th>98</th>\n",
              "      <td>0.001841</td>\n",
              "      <td>0.001841</td>\n",
              "      <td>0.032781</td>\n",
              "    </tr>\n",
              "    <tr>\n",
              "      <th>99</th>\n",
              "      <td>0.001831</td>\n",
              "      <td>0.001831</td>\n",
              "      <td>0.032901</td>\n",
              "    </tr>\n",
              "  </tbody>\n",
              "</table>\n",
              "<p>100 rows × 3 columns</p>\n",
              "</div>\n",
              "      <button class=\"colab-df-convert\" onclick=\"convertToInteractive('df-f153a34d-d83a-496c-8bd9-a38cb13bcc1a')\"\n",
              "              title=\"Convert this dataframe to an interactive table.\"\n",
              "              style=\"display:none;\">\n",
              "        \n",
              "  <svg xmlns=\"http://www.w3.org/2000/svg\" height=\"24px\"viewBox=\"0 0 24 24\"\n",
              "       width=\"24px\">\n",
              "    <path d=\"M0 0h24v24H0V0z\" fill=\"none\"/>\n",
              "    <path d=\"M18.56 5.44l.94 2.06.94-2.06 2.06-.94-2.06-.94-.94-2.06-.94 2.06-2.06.94zm-11 1L8.5 8.5l.94-2.06 2.06-.94-2.06-.94L8.5 2.5l-.94 2.06-2.06.94zm10 10l.94 2.06.94-2.06 2.06-.94-2.06-.94-.94-2.06-.94 2.06-2.06.94z\"/><path d=\"M17.41 7.96l-1.37-1.37c-.4-.4-.92-.59-1.43-.59-.52 0-1.04.2-1.43.59L10.3 9.45l-7.72 7.72c-.78.78-.78 2.05 0 2.83L4 21.41c.39.39.9.59 1.41.59.51 0 1.02-.2 1.41-.59l7.78-7.78 2.81-2.81c.8-.78.8-2.07 0-2.86zM5.41 20L4 18.59l7.72-7.72 1.47 1.35L5.41 20z\"/>\n",
              "  </svg>\n",
              "      </button>\n",
              "      \n",
              "  <style>\n",
              "    .colab-df-container {\n",
              "      display:flex;\n",
              "      flex-wrap:wrap;\n",
              "      gap: 12px;\n",
              "    }\n",
              "\n",
              "    .colab-df-convert {\n",
              "      background-color: #E8F0FE;\n",
              "      border: none;\n",
              "      border-radius: 50%;\n",
              "      cursor: pointer;\n",
              "      display: none;\n",
              "      fill: #1967D2;\n",
              "      height: 32px;\n",
              "      padding: 0 0 0 0;\n",
              "      width: 32px;\n",
              "    }\n",
              "\n",
              "    .colab-df-convert:hover {\n",
              "      background-color: #E2EBFA;\n",
              "      box-shadow: 0px 1px 2px rgba(60, 64, 67, 0.3), 0px 1px 3px 1px rgba(60, 64, 67, 0.15);\n",
              "      fill: #174EA6;\n",
              "    }\n",
              "\n",
              "    [theme=dark] .colab-df-convert {\n",
              "      background-color: #3B4455;\n",
              "      fill: #D2E3FC;\n",
              "    }\n",
              "\n",
              "    [theme=dark] .colab-df-convert:hover {\n",
              "      background-color: #434B5C;\n",
              "      box-shadow: 0px 1px 3px 1px rgba(0, 0, 0, 0.15);\n",
              "      filter: drop-shadow(0px 1px 2px rgba(0, 0, 0, 0.3));\n",
              "      fill: #FFFFFF;\n",
              "    }\n",
              "  </style>\n",
              "\n",
              "      <script>\n",
              "        const buttonEl =\n",
              "          document.querySelector('#df-f153a34d-d83a-496c-8bd9-a38cb13bcc1a button.colab-df-convert');\n",
              "        buttonEl.style.display =\n",
              "          google.colab.kernel.accessAllowed ? 'block' : 'none';\n",
              "\n",
              "        async function convertToInteractive(key) {\n",
              "          const element = document.querySelector('#df-f153a34d-d83a-496c-8bd9-a38cb13bcc1a');\n",
              "          const dataTable =\n",
              "            await google.colab.kernel.invokeFunction('convertToInteractive',\n",
              "                                                     [key], {});\n",
              "          if (!dataTable) return;\n",
              "\n",
              "          const docLinkHtml = 'Like what you see? Visit the ' +\n",
              "            '<a target=\"_blank\" href=https://colab.research.google.com/notebooks/data_table.ipynb>data table notebook</a>'\n",
              "            + ' to learn more about interactive tables.';\n",
              "          element.innerHTML = '';\n",
              "          dataTable['output_type'] = 'display_data';\n",
              "          await google.colab.output.renderOutput(dataTable, element);\n",
              "          const docLink = document.createElement('div');\n",
              "          docLink.innerHTML = docLinkHtml;\n",
              "          element.appendChild(docLink);\n",
              "        }\n",
              "      </script>\n",
              "    </div>\n",
              "  </div>\n",
              "  "
            ]
          },
          "metadata": {},
          "execution_count": 41
        }
      ]
    },
    {
      "cell_type": "code",
      "source": [
        "df_hist['loss'].plot()"
      ],
      "metadata": {
        "colab": {
          "base_uri": "https://localhost:8080/",
          "height": 283
        },
        "id": "utldEPLb2NkS",
        "outputId": "e08833e3-6dc5-4578-f94e-838d4370278c"
      },
      "id": "utldEPLb2NkS",
      "execution_count": 42,
      "outputs": [
        {
          "output_type": "execute_result",
          "data": {
            "text/plain": [
              "<matplotlib.axes._subplots.AxesSubplot at 0x7f16eadec9d0>"
            ]
          },
          "metadata": {},
          "execution_count": 42
        },
        {
          "output_type": "display_data",
          "data": {
            "text/plain": [
              "<Figure size 432x288 with 1 Axes>"
            ],
            "image/png": "[encoded data removed]"
          },
          "metadata": {
            "needs_background": "light"
          }
        }
      ]
    },
    {
      "cell_type": "code",
      "source": [
        "y_pred=model.predict(X_test)"
      ],
      "metadata": {
        "id": "VYS-E8M92dOR"
      },
      "id": "VYS-E8M92dOR",
      "execution_count": 43,
      "outputs": []
    },
    {
      "cell_type": "code",
      "execution_count": 45,
      "id": "de52e11f",
      "metadata": {
        "id": "de52e11f",
        "colab": {
          "base_uri": "https://localhost:8080/"
        },
        "outputId": "858e06a0-1e3c-4696-a800-db236655e68d"
      },
      "outputs": [
        {
          "output_type": "execute_result",
          "data": {
            "text/plain": [
              "0.024813435749499665"
            ]
          },
          "metadata": {},
          "execution_count": 45
        }
      ],
      "source": [
        "# rmse\n",
        "np.sqrt(np.square(y_test-y_pred)).mean()"
      ]
    },
    {
      "cell_type": "markdown",
      "id": "0c56329a",
      "metadata": {
        "id": "0c56329a"
      },
      "source": [
        "## 예측 결과 시각화"
      ]
    },
    {
      "cell_type": "code",
      "execution_count": 46,
      "id": "bd91d28e",
      "metadata": {
        "id": "bd91d28e",
        "colab": {
          "base_uri": "https://localhost:8080/"
        },
        "outputId": "031bc9c4-96b6-47e3-b8bc-11b576b1a760"
      },
      "outputs": [
        {
          "output_type": "execute_result",
          "data": {
            "text/plain": [
              "((135, 1), (135, 1))"
            ]
          },
          "metadata": {},
          "execution_count": 46
        }
      ],
      "source": [
        "y_test.shape, y_pred.shape"
      ]
    },
    {
      "cell_type": "code",
      "source": [
        "plt.figure(figsize=(12,4))\n",
        "plt.plot(y_test.flatten(), label='y_test')\n",
        "plt.plot(y_pred.flatten(), label='y_pred')\n",
        "plt.legend()"
      ],
      "metadata": {
        "colab": {
          "base_uri": "https://localhost:8080/",
          "height": 283
        },
        "id": "tn3OPleB6YMy",
        "outputId": "5c08a473-bf1f-46aa-b4f5-5810dbcdbbfe"
      },
      "id": "tn3OPleB6YMy",
      "execution_count": 50,
      "outputs": [
        {
          "output_type": "execute_result",
          "data": {
            "text/plain": [
              "<matplotlib.legend.Legend at 0x7f16e728d6d0>"
            ]
          },
          "metadata": {},
          "execution_count": 50
        },
        {
          "output_type": "display_data",
          "data": {
            "text/plain": [
              "<Figure size 864x288 with 1 Axes>"
            ],
            "image/png": "[encoded data removed]"
          },
          "metadata": {
            "needs_background": "light"
          }
        }
      ]
    },
    {
      "cell_type": "markdown",
      "id": "2788eef5",
      "metadata": {
        "id": "2788eef5"
      },
      "source": [
        "## 원래 값으로 복원하여 비교"
      ]
    },
    {
      "cell_type": "code",
      "execution_count": 51,
      "id": "0cc78657",
      "metadata": {
        "id": "0cc78657",
        "colab": {
          "base_uri": "https://localhost:8080/"
        },
        "outputId": "1edbd74e-dcc1-4e00-fa98-ad6e1f2fb006"
      },
      "outputs": [
        {
          "output_type": "execute_result",
          "data": {
            "text/plain": [
              "array([[70337.36 ],\n",
              "       [69877.766],\n",
              "       [69567.02 ],\n",
              "       [69806.78 ],\n",
              "       [69977.3  ]], dtype=float32)"
            ]
          },
          "metadata": {},
          "execution_count": 51
        }
      ],
      "source": [
        "y_predict_inverse = mmsy.inverse_transform(y_pred)\n",
        "y_predict_inverse[:5]"
      ]
    },
    {
      "cell_type": "code",
      "execution_count": 52,
      "id": "d91e7a2c",
      "metadata": {
        "id": "d91e7a2c",
        "colab": {
          "base_uri": "https://localhost:8080/"
        },
        "outputId": "c96ed2cf-8110-42af-8ff2-ec0507c837c2"
      },
      "outputs": [
        {
          "output_type": "execute_result",
          "data": {
            "text/plain": [
              "array([[69800.],\n",
              "       [69700.],\n",
              "       [70200.],\n",
              "       [69900.],\n",
              "       [69600.]])"
            ]
          },
          "metadata": {},
          "execution_count": 52
        }
      ],
      "source": [
        "# y_test_inverse\n",
        "y_test_inverse=mmsy.inverse_transform(y_test)\n",
        "y_test_inverse[:5]"
      ]
    },
    {
      "cell_type": "code",
      "execution_count": 53,
      "id": "2051791f",
      "metadata": {
        "id": "2051791f",
        "colab": {
          "base_uri": "https://localhost:8080/"
        },
        "outputId": "b349f74d-44f5-4994-bce3-ff5823661651"
      },
      "outputs": [
        {
          "output_type": "execute_result",
          "data": {
            "text/plain": [
              "1514.1574623454358"
            ]
          },
          "metadata": {},
          "execution_count": 53
        }
      ],
      "source": [
        "# rmse \n",
        "np.sqrt(np.square(y_test_inverse-y_predict_inverse).mean()) #예측값이 다른이유? 처음 초기 가중치 값이 랜덤으로 다다르게 들어가서, 똑같게 하려면 랜덤시드 고정 "
      ]
    },
    {
      "cell_type": "code",
      "execution_count": 54,
      "id": "87a76c69",
      "metadata": {
        "id": "87a76c69",
        "colab": {
          "base_uri": "https://localhost:8080/",
          "height": 229
        },
        "outputId": "b2b32d1f-cdda-48e5-903f-986b52a497f9"
      },
      "outputs": [
        {
          "output_type": "execute_result",
          "data": {
            "text/plain": [
              "[<matplotlib.lines.Line2D at 0x7f16e712df10>]"
            ]
          },
          "metadata": {},
          "execution_count": 54
        },
        {
          "output_type": "display_data",
          "data": {
            "text/plain": [
              "<Figure size 864x216 with 1 Axes>"
            ],
            "image/png": "[encoded data removed]"
          },
          "metadata": {
            "needs_background": "light"
          }
        }
      ],
      "source": [
        "#시각화\n",
        "plt.figure(figsize=(12,3))\n",
        "plt.plot(y_predict_inverse)\n",
        "plt.plot(y_test_inverse)"
      ]
    },
    {
      "cell_type": "code",
      "execution_count": 21,
      "id": "a9eeffab",
      "metadata": {
        "id": "a9eeffab"
      },
      "outputs": [],
      "source": []
    }
  ],
  "metadata": {
    "kernelspec": {
      "display_name": "Python 3 (ipykernel)",
      "language": "python",
      "name": "python3"
    },
    "language_info": {
      "codemirror_mode": {
        "name": "ipython",
        "version": 3
      },
      "file_extension": ".py",
      "mimetype": "text/x-python",
      "name": "python",
      "nbconvert_exporter": "python",
      "pygments_lexer": "ipython3",
      "version": "3.7.13"
    },
    "varInspector": {
      "cols": {
        "lenName": 16,
        "lenType": 16,
        "lenVar": 40
      },
      "kernels_config": {
        "python": {
          "delete_cmd_postfix": "",
          "delete_cmd_prefix": "del ",
          "library": "var_list.py",
          "varRefreshCmd": "print(var_dic_list())"
        },
        "r": {
          "delete_cmd_postfix": ") ",
          "delete_cmd_prefix": "rm(",
          "library": "var_list.r",
          "varRefreshCmd": "cat(var_dic_list()) "
        }
      },
      "types_to_exclude": [
        "module",
        "function",
        "builtin_function_or_method",
        "instance",
        "_Feature"
      ],
      "window_display": false
    },
    "colab": {
      "provenance": [],
      "include_colab_link": true
    }
  },
  "nbformat": 4,
  "nbformat_minor": 5
}