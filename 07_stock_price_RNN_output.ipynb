{
  "cells": [
    {
      "cell_type": "markdown",
      "metadata": {
        "id": "view-in-github",
        "colab_type": "text"
      },
      "source": [
        "<a href=\"https://colab.research.google.com/github/radanim/TIL/blob/master/07_stock_price_RNN_output.ipynb\" target=\"_parent\"><img src=\"https://colab.research.google.com/assets/colab-badge.svg\" alt=\"Open In Colab\"/></a>"
      ]
    },
    {
      "cell_type": "markdown",
      "id": "62b61891",
      "metadata": {
        "id": "62b61891"
      },
      "source": [
        "## RNN 으로 주가예측하기"
      ]
    },
    {
      "cell_type": "code",
      "source": [
        "!pip install -U finance-datareader"
      ],
      "metadata": {
        "colab": {
          "base_uri": "https://localhost:8080/"
        },
        "id": "aLnKbSTeSCon",
        "outputId": "0e867d15-c200-445e-9d5f-7f12093b09a1"
      },
      "id": "aLnKbSTeSCon",
      "execution_count": 1,
      "outputs": [
        {
          "output_type": "stream",
          "name": "stdout",
          "text": [
            "Looking in indexes: https://pypi.org/simple, https://us-python.pkg.dev/colab-wheels/public/simple/\n",
            "Collecting finance-datareader\n",
            "  Downloading finance_datareader-0.9.42-py3-none-any.whl (17 kB)\n",
            "Requirement already satisfied: pandas>=0.19.2 in /usr/local/lib/python3.7/dist-packages (from finance-datareader) (1.3.5)\n",
            "Requirement already satisfied: requests>=2.3.0 in /usr/local/lib/python3.7/dist-packages (from finance-datareader) (2.23.0)\n",
            "Requirement already satisfied: lxml in /usr/local/lib/python3.7/dist-packages (from finance-datareader) (4.9.1)\n",
            "Collecting requests-file\n",
            "  Downloading requests_file-1.5.1-py2.py3-none-any.whl (3.7 kB)\n",
            "Requirement already satisfied: tqdm in /usr/local/lib/python3.7/dist-packages (from finance-datareader) (4.64.1)\n",
            "Requirement already satisfied: pytz>=2017.3 in /usr/local/lib/python3.7/dist-packages (from pandas>=0.19.2->finance-datareader) (2022.4)\n",
            "Requirement already satisfied: python-dateutil>=2.7.3 in /usr/local/lib/python3.7/dist-packages (from pandas>=0.19.2->finance-datareader) (2.8.2)\n",
            "Requirement already satisfied: numpy>=1.17.3 in /usr/local/lib/python3.7/dist-packages (from pandas>=0.19.2->finance-datareader) (1.21.6)\n",
            "Requirement already satisfied: six>=1.5 in /usr/local/lib/python3.7/dist-packages (from python-dateutil>=2.7.3->pandas>=0.19.2->finance-datareader) (1.15.0)\n",
            "Requirement already satisfied: chardet<4,>=3.0.2 in /usr/local/lib/python3.7/dist-packages (from requests>=2.3.0->finance-datareader) (3.0.4)\n",
            "Requirement already satisfied: urllib3!=1.25.0,!=1.25.1,<1.26,>=1.21.1 in /usr/local/lib/python3.7/dist-packages (from requests>=2.3.0->finance-datareader) (1.24.3)\n",
            "Requirement already satisfied: certifi>=2017.4.17 in /usr/local/lib/python3.7/dist-packages (from requests>=2.3.0->finance-datareader) (2022.9.24)\n",
            "Requirement already satisfied: idna<3,>=2.5 in /usr/local/lib/python3.7/dist-packages (from requests>=2.3.0->finance-datareader) (2.10)\n",
            "Installing collected packages: requests-file, finance-datareader\n",
            "Successfully installed finance-datareader-0.9.42 requests-file-1.5.1\n"
          ]
        }
      ]
    },
    {
      "cell_type": "code",
      "execution_count": null,
      "id": "c526793a",
      "metadata": {
        "id": "c526793a"
      },
      "outputs": [],
      "source": [
        "import numpy as np\n",
        "import pandas as pd\n",
        "import matplotlib.pyplot as plt\n",
        "import FinanceDataReader as fdr\n",
        "from tensorflow.keras import Sequential\n",
        "from tensorflow.keras.layers import Dense, LSTM, Dropout"
      ]
    },
    {
      "cell_type": "markdown",
      "id": "0e8ed6bc",
      "metadata": {
        "id": "0e8ed6bc"
      },
      "source": [
        "## 주가수집"
      ]
    },
    {
      "cell_type": "code",
      "execution_count": null,
      "id": "6f9c4fc4",
      "metadata": {
        "id": "6f9c4fc4"
      },
      "outputs": [],
      "source": [
        "# 삼성전자 주가 수집\n",
        "df = fdr.DataReader(\"005930\",\"2020\")\n",
        "df.shape"
      ]
    },
    {
      "cell_type": "code",
      "execution_count": null,
      "id": "42f19def",
      "metadata": {
        "id": "42f19def"
      },
      "outputs": [],
      "source": [
        "df.head(2)"
      ]
    },
    {
      "cell_type": "code",
      "execution_count": null,
      "id": "ae81002b",
      "metadata": {
        "id": "ae81002b"
      },
      "outputs": [],
      "source": [
        "df.tail(2)"
      ]
    },
    {
      "cell_type": "markdown",
      "id": "cda36cbd",
      "metadata": {
        "id": "cda36cbd"
      },
      "source": [
        "## 문제, 답안 나누기"
      ]
    },
    {
      "cell_type": "code",
      "execution_count": null,
      "id": "a74dcc60",
      "metadata": {
        "id": "a74dcc60"
      },
      "outputs": [],
      "source": [
        "df_ohlcv = df.iloc[:, :-1] # 마지막 컬럼 제외하고 저장\n",
        "\n",
        "dfx = df_ohlcv.drop(columns =\"Close\")\n",
        "dfy = df_ohlcv[\"Close\"]\n",
        "dfx.shape # 정답(Y) -- close, 훈련(x) - close제외한 나머지"
      ]
    },
    {
      "cell_type": "markdown",
      "id": "fd327e43",
      "metadata": {
        "id": "fd327e43"
      },
      "source": [
        "## 정규화 "
      ]
    },
    {
      "cell_type": "code",
      "execution_count": null,
      "id": "5b00b47c",
      "metadata": {
        "id": "5b00b47c"
      },
      "outputs": [],
      "source": [
        "# MinMaxScaler\n",
        "from sklearn.preprocessing import MinMaxScaler\n",
        "# 복원을 위해 x, y 따로 스케일링하기\n",
        "# 스케일링 후 list 형태로 변환하기\n",
        "mmsx = MinMaxScaler()\n",
        "mmsy = MinMaxScaler()\n",
        "x = mmsx.fit_transform(dfx).tolist()\n",
        "y = mmsy.fit_transform(dfy.to_frame()).tolist()"
      ]
    },
    {
      "cell_type": "code",
      "execution_count": null,
      "id": "ecb2175d",
      "metadata": {
        "id": "ecb2175d"
      },
      "outputs": [],
      "source": [
        "len(x[0]), len(y[0])\n",
        "# (685, 4)      (685, 1)"
      ]
    },
    {
      "cell_type": "markdown",
      "id": "9273cc48",
      "metadata": {
        "id": "9273cc48"
      },
      "source": [
        "## x, y 값 window_size 적용하기\n",
        "\n",
        "\n",
        "<center>\n",
        "<img src = \"https://i.stack.imgur.com/padg4.gif\">\n",
        "</center>\n",
        "* 이미지출처: https://stackoverflow.com/questions/31947183/how-to-implement-walk-forward-testing-in-sklearn\n"
      ]
    },
    {
      "cell_type": "code",
      "source": [
        "window_size = 10 \n",
        "len(y) - window_size"
      ],
      "metadata": {
        "id": "B7GqtXfLVDM_"
      },
      "id": "B7GqtXfLVDM_",
      "execution_count": null,
      "outputs": []
    },
    {
      "cell_type": "code",
      "execution_count": null,
      "id": "415439a5",
      "metadata": {
        "scrolled": true,
        "id": "415439a5"
      },
      "outputs": [],
      "source": [
        "# window_size 만큼만 슬라이싱\n",
        "# 10일치 데이터로 다음날 주가를 예측\n",
        "# 다음 날 종가(i+windows_size)는 포함되지 않도록 X값을 만들고\n",
        "# 다음 날 종가를 y로 만듦\n",
        "window_size = 10 \n",
        "x_data = []\n",
        "y_data = []\n",
        "\n",
        "for i in range(len(y) - window_size):\n",
        "    _x = x[i : i+window_size]\n",
        "    _y = y[i + window_size]\n",
        "    x_data.append(_x)\n",
        "    y_data.append(_y)"
      ]
    },
    {
      "cell_type": "code",
      "execution_count": null,
      "id": "b6ffe6e8",
      "metadata": {
        "id": "b6ffe6e8"
      },
      "outputs": [],
      "source": [
        "len(x_data), len(y_data)"
      ]
    },
    {
      "cell_type": "markdown",
      "id": "6e723022",
      "metadata": {
        "id": "6e723022"
      },
      "source": [
        "## train, test 나누기"
      ]
    },
    {
      "cell_type": "code",
      "execution_count": null,
      "id": "ce512ee8",
      "metadata": {
        "id": "ce512ee8"
      },
      "outputs": [],
      "source": [
        "# 8:2 로 나누기\n",
        "split_size = int(len(x_data) * 0.8)\n",
        "split_size"
      ]
    },
    {
      "cell_type": "code",
      "execution_count": null,
      "id": "ae0655c3",
      "metadata": {
        "id": "ae0655c3"
      },
      "outputs": [],
      "source": [
        "X_train = np.array(x_data[:split_size]) # 80\n",
        "y_train = np.array(y_data[:split_size]) #80\n",
        "X_test = np.array(x_data[split_size:]) # 20\n",
        "y_test = np.array(y_data[split_size:]) #20"
      ]
    },
    {
      "cell_type": "code",
      "execution_count": null,
      "id": "92e52115",
      "metadata": {
        "id": "92e52115"
      },
      "outputs": [],
      "source": [
        "X_train.shape, y_train.shape, X_test.shape, y_test.shape"
      ]
    },
    {
      "cell_type": "markdown",
      "id": "54e52b61",
      "metadata": {
        "id": "54e52b61"
      },
      "source": [
        "## 모델 생성"
      ]
    },
    {
      "cell_type": "code",
      "source": [
        "data_size = dfx.shape[1]\n",
        "data_size"
      ],
      "metadata": {
        "id": "IB8xhhIedjhi"
      },
      "id": "IB8xhhIedjhi",
      "execution_count": null,
      "outputs": []
    },
    {
      "cell_type": "code",
      "execution_count": null,
      "id": "5ed6899e",
      "metadata": {
        "id": "5ed6899e"
      },
      "outputs": [],
      "source": [
        "# 모델 생성\n",
        "\n",
        "data_size = dfx.shape[1]\n",
        "\n",
        "model = Sequential()\n"
      ]
    },
    {
      "cell_type": "markdown",
      "id": "580a6c41",
      "metadata": {
        "id": "580a6c41"
      },
      "source": [
        "## compile"
      ]
    },
    {
      "cell_type": "code",
      "execution_count": null,
      "id": "5171593a",
      "metadata": {
        "id": "5171593a"
      },
      "outputs": [],
      "source": []
    },
    {
      "cell_type": "markdown",
      "id": "74c24ffd",
      "metadata": {
        "id": "74c24ffd"
      },
      "source": [
        "## 학습과 예측"
      ]
    },
    {
      "cell_type": "code",
      "execution_count": null,
      "id": "2ede1bda",
      "metadata": {
        "scrolled": false,
        "id": "2ede1bda"
      },
      "outputs": [],
      "source": []
    },
    {
      "cell_type": "code",
      "execution_count": null,
      "id": "a7845169",
      "metadata": {
        "id": "a7845169"
      },
      "outputs": [],
      "source": []
    },
    {
      "cell_type": "code",
      "execution_count": null,
      "id": "8923e031",
      "metadata": {
        "id": "8923e031"
      },
      "outputs": [],
      "source": [
        "# y_pred"
      ]
    },
    {
      "cell_type": "code",
      "execution_count": null,
      "id": "de52e11f",
      "metadata": {
        "id": "de52e11f"
      },
      "outputs": [],
      "source": [
        "# rmse\n"
      ]
    },
    {
      "cell_type": "markdown",
      "id": "0c56329a",
      "metadata": {
        "id": "0c56329a"
      },
      "source": [
        "## 예측 결과 시각화"
      ]
    },
    {
      "cell_type": "code",
      "execution_count": null,
      "id": "bd91d28e",
      "metadata": {
        "id": "bd91d28e"
      },
      "outputs": [],
      "source": []
    },
    {
      "cell_type": "markdown",
      "id": "2788eef5",
      "metadata": {
        "id": "2788eef5"
      },
      "source": [
        "## 원래 값으로 복원하여 비교"
      ]
    },
    {
      "cell_type": "code",
      "execution_count": null,
      "id": "0cc78657",
      "metadata": {
        "id": "0cc78657"
      },
      "outputs": [],
      "source": [
        "# y_predict_inverse"
      ]
    },
    {
      "cell_type": "code",
      "execution_count": null,
      "id": "d91e7a2c",
      "metadata": {
        "id": "d91e7a2c"
      },
      "outputs": [],
      "source": [
        "# y_test_inverse"
      ]
    },
    {
      "cell_type": "code",
      "execution_count": null,
      "id": "2051791f",
      "metadata": {
        "id": "2051791f"
      },
      "outputs": [],
      "source": [
        "# rmse \n"
      ]
    },
    {
      "cell_type": "code",
      "execution_count": null,
      "id": "87a76c69",
      "metadata": {
        "id": "87a76c69"
      },
      "outputs": [],
      "source": []
    },
    {
      "cell_type": "code",
      "execution_count": null,
      "id": "a9eeffab",
      "metadata": {
        "id": "a9eeffab"
      },
      "outputs": [],
      "source": []
    }
  ],
  "metadata": {
    "kernelspec": {
      "display_name": "Python 3 (ipykernel)",
      "language": "python",
      "name": "python3"
    },
    "language_info": {
      "codemirror_mode": {
        "name": "ipython",
        "version": 3
      },
      "file_extension": ".py",
      "mimetype": "text/x-python",
      "name": "python",
      "nbconvert_exporter": "python",
      "pygments_lexer": "ipython3",
      "version": "3.7.13"
    },
    "varInspector": {
      "cols": {
        "lenName": 16,
        "lenType": 16,
        "lenVar": 40
      },
      "kernels_config": {
        "python": {
          "delete_cmd_postfix": "",
          "delete_cmd_prefix": "del ",
          "library": "var_list.py",
          "varRefreshCmd": "print(var_dic_list())"
        },
        "r": {
          "delete_cmd_postfix": ") ",
          "delete_cmd_prefix": "rm(",
          "library": "var_list.r",
          "varRefreshCmd": "cat(var_dic_list()) "
        }
      },
      "types_to_exclude": [
        "module",
        "function",
        "builtin_function_or_method",
        "instance",
        "_Feature"
      ],
      "window_display": false
    },
    "colab": {
      "provenance": [],
      "include_colab_link": true
    }
  },
  "nbformat": 4,
  "nbformat_minor": 5
}