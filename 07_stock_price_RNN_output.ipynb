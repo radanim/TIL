{
  "cells": [
    {
      "cell_type": "markdown",
      "metadata": {
        "id": "view-in-github",
        "colab_type": "text"
      },
      "source": [
        "<a href=\"https://colab.research.google.com/github/radanim/TIL/blob/master/07_stock_price_RNN_output.ipynb\" target=\"_parent\"><img src=\"https://colab.research.google.com/assets/colab-badge.svg\" alt=\"Open In Colab\"/></a>"
      ]
    },
    {
      "cell_type": "markdown",
      "id": "62b61891",
      "metadata": {
        "id": "62b61891"
      },
      "source": [
        "## RNN 으로 주가예측하기"
      ]
    },
    {
      "cell_type": "code",
      "source": [
        "!pip install -U finance-datareader"
      ],
      "metadata": {
        "colab": {
          "base_uri": "https://localhost:8080/"
        },
        "id": "aLnKbSTeSCon",
        "outputId": "5896bcbf-fa7d-4048-ac2a-cfd239223099"
      },
      "id": "aLnKbSTeSCon",
      "execution_count": 23,
      "outputs": [
        {
          "output_type": "stream",
          "name": "stdout",
          "text": [
            "Looking in indexes: https://pypi.org/simple, https://us-python.pkg.dev/colab-wheels/public/simple/\n",
            "Requirement already satisfied: finance-datareader in /usr/local/lib/python3.7/dist-packages (0.9.42)\n",
            "Requirement already satisfied: lxml in /usr/local/lib/python3.7/dist-packages (from finance-datareader) (4.9.1)\n",
            "Requirement already satisfied: pandas>=0.19.2 in /usr/local/lib/python3.7/dist-packages (from finance-datareader) (1.3.5)\n",
            "Requirement already satisfied: requests-file in /usr/local/lib/python3.7/dist-packages (from finance-datareader) (1.5.1)\n",
            "Requirement already satisfied: tqdm in /usr/local/lib/python3.7/dist-packages (from finance-datareader) (4.64.1)\n",
            "Requirement already satisfied: requests>=2.3.0 in /usr/local/lib/python3.7/dist-packages (from finance-datareader) (2.23.0)\n",
            "Requirement already satisfied: python-dateutil>=2.7.3 in /usr/local/lib/python3.7/dist-packages (from pandas>=0.19.2->finance-datareader) (2.8.2)\n",
            "Requirement already satisfied: pytz>=2017.3 in /usr/local/lib/python3.7/dist-packages (from pandas>=0.19.2->finance-datareader) (2022.4)\n",
            "Requirement already satisfied: numpy>=1.17.3 in /usr/local/lib/python3.7/dist-packages (from pandas>=0.19.2->finance-datareader) (1.21.6)\n",
            "Requirement already satisfied: six>=1.5 in /usr/local/lib/python3.7/dist-packages (from python-dateutil>=2.7.3->pandas>=0.19.2->finance-datareader) (1.15.0)\n",
            "Requirement already satisfied: chardet<4,>=3.0.2 in /usr/local/lib/python3.7/dist-packages (from requests>=2.3.0->finance-datareader) (3.0.4)\n",
            "Requirement already satisfied: idna<3,>=2.5 in /usr/local/lib/python3.7/dist-packages (from requests>=2.3.0->finance-datareader) (2.10)\n",
            "Requirement already satisfied: urllib3!=1.25.0,!=1.25.1,<1.26,>=1.21.1 in /usr/local/lib/python3.7/dist-packages (from requests>=2.3.0->finance-datareader) (1.24.3)\n",
            "Requirement already satisfied: certifi>=2017.4.17 in /usr/local/lib/python3.7/dist-packages (from requests>=2.3.0->finance-datareader) (2022.9.24)\n"
          ]
        }
      ]
    },
    {
      "cell_type": "code",
      "execution_count": 24,
      "id": "c526793a",
      "metadata": {
        "id": "c526793a"
      },
      "outputs": [],
      "source": [
        "import numpy as np\n",
        "import pandas as pd\n",
        "import matplotlib.pyplot as plt\n",
        "import FinanceDataReader as fdr\n",
        "from tensorflow.keras import Sequential\n",
        "from tensorflow.keras.layers import Dense, LSTM, Dropout, Bidirectional"
      ]
    },
    {
      "cell_type": "markdown",
      "id": "0e8ed6bc",
      "metadata": {
        "id": "0e8ed6bc"
      },
      "source": [
        "## 주가수집"
      ]
    },
    {
      "cell_type": "code",
      "execution_count": 25,
      "id": "6f9c4fc4",
      "metadata": {
        "colab": {
          "base_uri": "https://localhost:8080/"
        },
        "id": "6f9c4fc4",
        "outputId": "9e115778-9e51-44eb-8e65-7ec34cf23af0"
      },
      "outputs": [
        {
          "output_type": "execute_result",
          "data": {
            "text/plain": [
              "(686, 6)"
            ]
          },
          "metadata": {},
          "execution_count": 25
        }
      ],
      "source": [
        "# 삼성전자 주가 수집\n",
        "df = fdr.DataReader(\"005930\",\"2020\")\n",
        "df.shape"
      ]
    },
    {
      "cell_type": "code",
      "execution_count": 26,
      "id": "42f19def",
      "metadata": {
        "colab": {
          "base_uri": "https://localhost:8080/",
          "height": 708
        },
        "id": "42f19def",
        "outputId": "da4a44e9-ce62-4ac8-cc17-28c40eb3a92e"
      },
      "outputs": [
        {
          "output_type": "execute_result",
          "data": {
            "text/plain": [
              "             Open   High    Low  Close    Volume    Change\n",
              "Date                                                      \n",
              "2020-01-02  55500  56000  55000  55200  12993228 -0.010753\n",
              "2020-01-03  56000  56600  54900  55500  15422255  0.005435\n",
              "2020-01-06  54900  55600  54600  55500  10278951  0.000000\n",
              "2020-01-07  55700  56400  55600  55800  10009778  0.005405\n",
              "2020-01-08  56200  57400  55900  56800  23501171  0.017921\n",
              "2020-01-09  58400  58600  57400  58600  24102579  0.031690\n",
              "2020-01-10  58800  59700  58300  59500  16000170  0.015358\n",
              "2020-01-13  59600  60000  59100  60000  11359139  0.008403\n",
              "2020-01-14  60400  61000  59900  60000  16906295  0.000000\n",
              "2020-01-15  59500  59600  58900  59000  14300928 -0.016667\n",
              "2020-01-16  59100  60700  59000  60700  14381774  0.028814\n",
              "2020-01-17  61900  62000  61000  61300  16025661  0.009885\n",
              "2020-01-20  62000  62800  61700  62400  12528855  0.017945\n",
              "2020-01-21  62000  62400  61200  61400  11142693 -0.016026\n",
              "2020-01-22  60500  62600  60400  62300  15339565  0.014658\n",
              "2020-01-23  61800  61800  60700  60800  14916555 -0.024077\n",
              "2020-01-28  59400  59400  58300  58800  23664541 -0.032895\n",
              "2020-01-29  59100  59700  58800  59100  16446102  0.005102\n",
              "2020-01-30  58800  58800  56800  57200  20821939 -0.032149\n",
              "2020-01-31  57800  58400  56400  56400  19749457 -0.013986"
            ],
            "text/html": [
              "\n",
              "  <div id=\"df-d2a44587-602f-4b53-a386-baebeb589ee6\">\n",
              "    <div class=\"colab-df-container\">\n",
              "      <div>\n",
              "<style scoped>\n",
              "    .dataframe tbody tr th:only-of-type {\n",
              "        vertical-align: middle;\n",
              "    }\n",
              "\n",
              "    .dataframe tbody tr th {\n",
              "        vertical-align: top;\n",
              "    }\n",
              "\n",
              "    .dataframe thead th {\n",
              "        text-align: right;\n",
              "    }\n",
              "</style>\n",
              "<table border=\"1\" class=\"dataframe\">\n",
              "  <thead>\n",
              "    <tr style=\"text-align: right;\">\n",
              "      <th></th>\n",
              "      <th>Open</th>\n",
              "      <th>High</th>\n",
              "      <th>Low</th>\n",
              "      <th>Close</th>\n",
              "      <th>Volume</th>\n",
              "      <th>Change</th>\n",
              "    </tr>\n",
              "    <tr>\n",
              "      <th>Date</th>\n",
              "      <th></th>\n",
              "      <th></th>\n",
              "      <th></th>\n",
              "      <th></th>\n",
              "      <th></th>\n",
              "      <th></th>\n",
              "    </tr>\n",
              "  </thead>\n",
              "  <tbody>\n",
              "    <tr>\n",
              "      <th>2020-01-02</th>\n",
              "      <td>55500</td>\n",
              "      <td>56000</td>\n",
              "      <td>55000</td>\n",
              "      <td>55200</td>\n",
              "      <td>12993228</td>\n",
              "      <td>-0.010753</td>\n",
              "    </tr>\n",
              "    <tr>\n",
              "      <th>2020-01-03</th>\n",
              "      <td>56000</td>\n",
              "      <td>56600</td>\n",
              "      <td>54900</td>\n",
              "      <td>55500</td>\n",
              "      <td>15422255</td>\n",
              "      <td>0.005435</td>\n",
              "    </tr>\n",
              "    <tr>\n",
              "      <th>2020-01-06</th>\n",
              "      <td>54900</td>\n",
              "      <td>55600</td>\n",
              "      <td>54600</td>\n",
              "      <td>55500</td>\n",
              "      <td>10278951</td>\n",
              "      <td>0.000000</td>\n",
              "    </tr>\n",
              "    <tr>\n",
              "      <th>2020-01-07</th>\n",
              "      <td>55700</td>\n",
              "      <td>56400</td>\n",
              "      <td>55600</td>\n",
              "      <td>55800</td>\n",
              "      <td>10009778</td>\n",
              "      <td>0.005405</td>\n",
              "    </tr>\n",
              "    <tr>\n",
              "      <th>2020-01-08</th>\n",
              "      <td>56200</td>\n",
              "      <td>57400</td>\n",
              "      <td>55900</td>\n",
              "      <td>56800</td>\n",
              "      <td>23501171</td>\n",
              "      <td>0.017921</td>\n",
              "    </tr>\n",
              "    <tr>\n",
              "      <th>2020-01-09</th>\n",
              "      <td>58400</td>\n",
              "      <td>58600</td>\n",
              "      <td>57400</td>\n",
              "      <td>58600</td>\n",
              "      <td>24102579</td>\n",
              "      <td>0.031690</td>\n",
              "    </tr>\n",
              "    <tr>\n",
              "      <th>2020-01-10</th>\n",
              "      <td>58800</td>\n",
              "      <td>59700</td>\n",
              "      <td>58300</td>\n",
              "      <td>59500</td>\n",
              "      <td>16000170</td>\n",
              "      <td>0.015358</td>\n",
              "    </tr>\n",
              "    <tr>\n",
              "      <th>2020-01-13</th>\n",
              "      <td>59600</td>\n",
              "      <td>60000</td>\n",
              "      <td>59100</td>\n",
              "      <td>60000</td>\n",
              "      <td>11359139</td>\n",
              "      <td>0.008403</td>\n",
              "    </tr>\n",
              "    <tr>\n",
              "      <th>2020-01-14</th>\n",
              "      <td>60400</td>\n",
              "      <td>61000</td>\n",
              "      <td>59900</td>\n",
              "      <td>60000</td>\n",
              "      <td>16906295</td>\n",
              "      <td>0.000000</td>\n",
              "    </tr>\n",
              "    <tr>\n",
              "      <th>2020-01-15</th>\n",
              "      <td>59500</td>\n",
              "      <td>59600</td>\n",
              "      <td>58900</td>\n",
              "      <td>59000</td>\n",
              "      <td>14300928</td>\n",
              "      <td>-0.016667</td>\n",
              "    </tr>\n",
              "    <tr>\n",
              "      <th>2020-01-16</th>\n",
              "      <td>59100</td>\n",
              "      <td>60700</td>\n",
              "      <td>59000</td>\n",
              "      <td>60700</td>\n",
              "      <td>14381774</td>\n",
              "      <td>0.028814</td>\n",
              "    </tr>\n",
              "    <tr>\n",
              "      <th>2020-01-17</th>\n",
              "      <td>61900</td>\n",
              "      <td>62000</td>\n",
              "      <td>61000</td>\n",
              "      <td>61300</td>\n",
              "      <td>16025661</td>\n",
              "      <td>0.009885</td>\n",
              "    </tr>\n",
              "    <tr>\n",
              "      <th>2020-01-20</th>\n",
              "      <td>62000</td>\n",
              "      <td>62800</td>\n",
              "      <td>61700</td>\n",
              "      <td>62400</td>\n",
              "      <td>12528855</td>\n",
              "      <td>0.017945</td>\n",
              "    </tr>\n",
              "    <tr>\n",
              "      <th>2020-01-21</th>\n",
              "      <td>62000</td>\n",
              "      <td>62400</td>\n",
              "      <td>61200</td>\n",
              "      <td>61400</td>\n",
              "      <td>11142693</td>\n",
              "      <td>-0.016026</td>\n",
              "    </tr>\n",
              "    <tr>\n",
              "      <th>2020-01-22</th>\n",
              "      <td>60500</td>\n",
              "      <td>62600</td>\n",
              "      <td>60400</td>\n",
              "      <td>62300</td>\n",
              "      <td>15339565</td>\n",
              "      <td>0.014658</td>\n",
              "    </tr>\n",
              "    <tr>\n",
              "      <th>2020-01-23</th>\n",
              "      <td>61800</td>\n",
              "      <td>61800</td>\n",
              "      <td>60700</td>\n",
              "      <td>60800</td>\n",
              "      <td>14916555</td>\n",
              "      <td>-0.024077</td>\n",
              "    </tr>\n",
              "    <tr>\n",
              "      <th>2020-01-28</th>\n",
              "      <td>59400</td>\n",
              "      <td>59400</td>\n",
              "      <td>58300</td>\n",
              "      <td>58800</td>\n",
              "      <td>23664541</td>\n",
              "      <td>-0.032895</td>\n",
              "    </tr>\n",
              "    <tr>\n",
              "      <th>2020-01-29</th>\n",
              "      <td>59100</td>\n",
              "      <td>59700</td>\n",
              "      <td>58800</td>\n",
              "      <td>59100</td>\n",
              "      <td>16446102</td>\n",
              "      <td>0.005102</td>\n",
              "    </tr>\n",
              "    <tr>\n",
              "      <th>2020-01-30</th>\n",
              "      <td>58800</td>\n",
              "      <td>58800</td>\n",
              "      <td>56800</td>\n",
              "      <td>57200</td>\n",
              "      <td>20821939</td>\n",
              "      <td>-0.032149</td>\n",
              "    </tr>\n",
              "    <tr>\n",
              "      <th>2020-01-31</th>\n",
              "      <td>57800</td>\n",
              "      <td>58400</td>\n",
              "      <td>56400</td>\n",
              "      <td>56400</td>\n",
              "      <td>19749457</td>\n",
              "      <td>-0.013986</td>\n",
              "    </tr>\n",
              "  </tbody>\n",
              "</table>\n",
              "</div>\n",
              "      <button class=\"colab-df-convert\" onclick=\"convertToInteractive('df-d2a44587-602f-4b53-a386-baebeb589ee6')\"\n",
              "              title=\"Convert this dataframe to an interactive table.\"\n",
              "              style=\"display:none;\">\n",
              "        \n",
              "  <svg xmlns=\"http://www.w3.org/2000/svg\" height=\"24px\"viewBox=\"0 0 24 24\"\n",
              "       width=\"24px\">\n",
              "    <path d=\"M0 0h24v24H0V0z\" fill=\"none\"/>\n",
              "    <path d=\"M18.56 5.44l.94 2.06.94-2.06 2.06-.94-2.06-.94-.94-2.06-.94 2.06-2.06.94zm-11 1L8.5 8.5l.94-2.06 2.06-.94-2.06-.94L8.5 2.5l-.94 2.06-2.06.94zm10 10l.94 2.06.94-2.06 2.06-.94-2.06-.94-.94-2.06-.94 2.06-2.06.94z\"/><path d=\"M17.41 7.96l-1.37-1.37c-.4-.4-.92-.59-1.43-.59-.52 0-1.04.2-1.43.59L10.3 9.45l-7.72 7.72c-.78.78-.78 2.05 0 2.83L4 21.41c.39.39.9.59 1.41.59.51 0 1.02-.2 1.41-.59l7.78-7.78 2.81-2.81c.8-.78.8-2.07 0-2.86zM5.41 20L4 18.59l7.72-7.72 1.47 1.35L5.41 20z\"/>\n",
              "  </svg>\n",
              "      </button>\n",
              "      \n",
              "  <style>\n",
              "    .colab-df-container {\n",
              "      display:flex;\n",
              "      flex-wrap:wrap;\n",
              "      gap: 12px;\n",
              "    }\n",
              "\n",
              "    .colab-df-convert {\n",
              "      background-color: #E8F0FE;\n",
              "      border: none;\n",
              "      border-radius: 50%;\n",
              "      cursor: pointer;\n",
              "      display: none;\n",
              "      fill: #1967D2;\n",
              "      height: 32px;\n",
              "      padding: 0 0 0 0;\n",
              "      width: 32px;\n",
              "    }\n",
              "\n",
              "    .colab-df-convert:hover {\n",
              "      background-color: #E2EBFA;\n",
              "      box-shadow: 0px 1px 2px rgba(60, 64, 67, 0.3), 0px 1px 3px 1px rgba(60, 64, 67, 0.15);\n",
              "      fill: #174EA6;\n",
              "    }\n",
              "\n",
              "    [theme=dark] .colab-df-convert {\n",
              "      background-color: #3B4455;\n",
              "      fill: #D2E3FC;\n",
              "    }\n",
              "\n",
              "    [theme=dark] .colab-df-convert:hover {\n",
              "      background-color: #434B5C;\n",
              "      box-shadow: 0px 1px 3px 1px rgba(0, 0, 0, 0.15);\n",
              "      filter: drop-shadow(0px 1px 2px rgba(0, 0, 0, 0.3));\n",
              "      fill: #FFFFFF;\n",
              "    }\n",
              "  </style>\n",
              "\n",
              "      <script>\n",
              "        const buttonEl =\n",
              "          document.querySelector('#df-d2a44587-602f-4b53-a386-baebeb589ee6 button.colab-df-convert');\n",
              "        buttonEl.style.display =\n",
              "          google.colab.kernel.accessAllowed ? 'block' : 'none';\n",
              "\n",
              "        async function convertToInteractive(key) {\n",
              "          const element = document.querySelector('#df-d2a44587-602f-4b53-a386-baebeb589ee6');\n",
              "          const dataTable =\n",
              "            await google.colab.kernel.invokeFunction('convertToInteractive',\n",
              "                                                     [key], {});\n",
              "          if (!dataTable) return;\n",
              "\n",
              "          const docLinkHtml = 'Like what you see? Visit the ' +\n",
              "            '<a target=\"_blank\" href=https://colab.research.google.com/notebooks/data_table.ipynb>data table notebook</a>'\n",
              "            + ' to learn more about interactive tables.';\n",
              "          element.innerHTML = '';\n",
              "          dataTable['output_type'] = 'display_data';\n",
              "          await google.colab.output.renderOutput(dataTable, element);\n",
              "          const docLink = document.createElement('div');\n",
              "          docLink.innerHTML = docLinkHtml;\n",
              "          element.appendChild(docLink);\n",
              "        }\n",
              "      </script>\n",
              "    </div>\n",
              "  </div>\n",
              "  "
            ]
          },
          "metadata": {},
          "execution_count": 26
        }
      ],
      "source": [
        "df.head(20)"
      ]
    },
    {
      "cell_type": "code",
      "execution_count": 27,
      "id": "ae81002b",
      "metadata": {
        "colab": {
          "base_uri": "https://localhost:8080/",
          "height": 143
        },
        "id": "ae81002b",
        "outputId": "5d614d57-465c-4e85-f547-3e9b7ae98b21"
      },
      "outputs": [
        {
          "output_type": "execute_result",
          "data": {
            "text/plain": [
              "             Open   High    Low  Close    Volume    Change\n",
              "Date                                                      \n",
              "2022-10-11  54400  55700  54000  55400  21437877 -0.014235\n",
              "2022-10-12  55700  57000  55200  55900   9695421  0.009025"
            ],
            "text/html": [
              "\n",
              "  <div id=\"df-42fed56f-3128-494f-ba1b-27e305f4081b\">\n",
              "    <div class=\"colab-df-container\">\n",
              "      <div>\n",
              "<style scoped>\n",
              "    .dataframe tbody tr th:only-of-type {\n",
              "        vertical-align: middle;\n",
              "    }\n",
              "\n",
              "    .dataframe tbody tr th {\n",
              "        vertical-align: top;\n",
              "    }\n",
              "\n",
              "    .dataframe thead th {\n",
              "        text-align: right;\n",
              "    }\n",
              "</style>\n",
              "<table border=\"1\" class=\"dataframe\">\n",
              "  <thead>\n",
              "    <tr style=\"text-align: right;\">\n",
              "      <th></th>\n",
              "      <th>Open</th>\n",
              "      <th>High</th>\n",
              "      <th>Low</th>\n",
              "      <th>Close</th>\n",
              "      <th>Volume</th>\n",
              "      <th>Change</th>\n",
              "    </tr>\n",
              "    <tr>\n",
              "      <th>Date</th>\n",
              "      <th></th>\n",
              "      <th></th>\n",
              "      <th></th>\n",
              "      <th></th>\n",
              "      <th></th>\n",
              "      <th></th>\n",
              "    </tr>\n",
              "  </thead>\n",
              "  <tbody>\n",
              "    <tr>\n",
              "      <th>2022-10-11</th>\n",
              "      <td>54400</td>\n",
              "      <td>55700</td>\n",
              "      <td>54000</td>\n",
              "      <td>55400</td>\n",
              "      <td>21437877</td>\n",
              "      <td>-0.014235</td>\n",
              "    </tr>\n",
              "    <tr>\n",
              "      <th>2022-10-12</th>\n",
              "      <td>55700</td>\n",
              "      <td>57000</td>\n",
              "      <td>55200</td>\n",
              "      <td>55900</td>\n",
              "      <td>9695421</td>\n",
              "      <td>0.009025</td>\n",
              "    </tr>\n",
              "  </tbody>\n",
              "</table>\n",
              "</div>\n",
              "      <button class=\"colab-df-convert\" onclick=\"convertToInteractive('df-42fed56f-3128-494f-ba1b-27e305f4081b')\"\n",
              "              title=\"Convert this dataframe to an interactive table.\"\n",
              "              style=\"display:none;\">\n",
              "        \n",
              "  <svg xmlns=\"http://www.w3.org/2000/svg\" height=\"24px\"viewBox=\"0 0 24 24\"\n",
              "       width=\"24px\">\n",
              "    <path d=\"M0 0h24v24H0V0z\" fill=\"none\"/>\n",
              "    <path d=\"M18.56 5.44l.94 2.06.94-2.06 2.06-.94-2.06-.94-.94-2.06-.94 2.06-2.06.94zm-11 1L8.5 8.5l.94-2.06 2.06-.94-2.06-.94L8.5 2.5l-.94 2.06-2.06.94zm10 10l.94 2.06.94-2.06 2.06-.94-2.06-.94-.94-2.06-.94 2.06-2.06.94z\"/><path d=\"M17.41 7.96l-1.37-1.37c-.4-.4-.92-.59-1.43-.59-.52 0-1.04.2-1.43.59L10.3 9.45l-7.72 7.72c-.78.78-.78 2.05 0 2.83L4 21.41c.39.39.9.59 1.41.59.51 0 1.02-.2 1.41-.59l7.78-7.78 2.81-2.81c.8-.78.8-2.07 0-2.86zM5.41 20L4 18.59l7.72-7.72 1.47 1.35L5.41 20z\"/>\n",
              "  </svg>\n",
              "      </button>\n",
              "      \n",
              "  <style>\n",
              "    .colab-df-container {\n",
              "      display:flex;\n",
              "      flex-wrap:wrap;\n",
              "      gap: 12px;\n",
              "    }\n",
              "\n",
              "    .colab-df-convert {\n",
              "      background-color: #E8F0FE;\n",
              "      border: none;\n",
              "      border-radius: 50%;\n",
              "      cursor: pointer;\n",
              "      display: none;\n",
              "      fill: #1967D2;\n",
              "      height: 32px;\n",
              "      padding: 0 0 0 0;\n",
              "      width: 32px;\n",
              "    }\n",
              "\n",
              "    .colab-df-convert:hover {\n",
              "      background-color: #E2EBFA;\n",
              "      box-shadow: 0px 1px 2px rgba(60, 64, 67, 0.3), 0px 1px 3px 1px rgba(60, 64, 67, 0.15);\n",
              "      fill: #174EA6;\n",
              "    }\n",
              "\n",
              "    [theme=dark] .colab-df-convert {\n",
              "      background-color: #3B4455;\n",
              "      fill: #D2E3FC;\n",
              "    }\n",
              "\n",
              "    [theme=dark] .colab-df-convert:hover {\n",
              "      background-color: #434B5C;\n",
              "      box-shadow: 0px 1px 3px 1px rgba(0, 0, 0, 0.15);\n",
              "      filter: drop-shadow(0px 1px 2px rgba(0, 0, 0, 0.3));\n",
              "      fill: #FFFFFF;\n",
              "    }\n",
              "  </style>\n",
              "\n",
              "      <script>\n",
              "        const buttonEl =\n",
              "          document.querySelector('#df-42fed56f-3128-494f-ba1b-27e305f4081b button.colab-df-convert');\n",
              "        buttonEl.style.display =\n",
              "          google.colab.kernel.accessAllowed ? 'block' : 'none';\n",
              "\n",
              "        async function convertToInteractive(key) {\n",
              "          const element = document.querySelector('#df-42fed56f-3128-494f-ba1b-27e305f4081b');\n",
              "          const dataTable =\n",
              "            await google.colab.kernel.invokeFunction('convertToInteractive',\n",
              "                                                     [key], {});\n",
              "          if (!dataTable) return;\n",
              "\n",
              "          const docLinkHtml = 'Like what you see? Visit the ' +\n",
              "            '<a target=\"_blank\" href=https://colab.research.google.com/notebooks/data_table.ipynb>data table notebook</a>'\n",
              "            + ' to learn more about interactive tables.';\n",
              "          element.innerHTML = '';\n",
              "          dataTable['output_type'] = 'display_data';\n",
              "          await google.colab.output.renderOutput(dataTable, element);\n",
              "          const docLink = document.createElement('div');\n",
              "          docLink.innerHTML = docLinkHtml;\n",
              "          element.appendChild(docLink);\n",
              "        }\n",
              "      </script>\n",
              "    </div>\n",
              "  </div>\n",
              "  "
            ]
          },
          "metadata": {},
          "execution_count": 27
        }
      ],
      "source": [
        "df.tail(2)"
      ]
    },
    {
      "cell_type": "markdown",
      "id": "cda36cbd",
      "metadata": {
        "id": "cda36cbd"
      },
      "source": [
        "## 문제, 답안 나누기"
      ]
    },
    {
      "cell_type": "code",
      "execution_count": 28,
      "id": "a74dcc60",
      "metadata": {
        "colab": {
          "base_uri": "https://localhost:8080/"
        },
        "id": "a74dcc60",
        "outputId": "0fcb46c8-dd70-483f-a514-ab39ba31721b"
      },
      "outputs": [
        {
          "output_type": "execute_result",
          "data": {
            "text/plain": [
              "(686, 4)"
            ]
          },
          "metadata": {},
          "execution_count": 28
        }
      ],
      "source": [
        "df_ohlcv = df.iloc[:, :-1] # 마지막 컬럼 제외하고 저장\n",
        "\n",
        "dfx = df_ohlcv.drop(columns =\"Close\")\n",
        "dfy = df_ohlcv[\"Close\"]\n",
        "dfx.shape # 정답(Y) -- close, 훈련(x) - close제외한 나머지"
      ]
    },
    {
      "cell_type": "markdown",
      "id": "fd327e43",
      "metadata": {
        "id": "fd327e43"
      },
      "source": [
        "## 정규화 "
      ]
    },
    {
      "cell_type": "code",
      "execution_count": 29,
      "id": "5b00b47c",
      "metadata": {
        "id": "5b00b47c"
      },
      "outputs": [],
      "source": [
        "# MinMaxScaler\n",
        "from sklearn.preprocessing import MinMaxScaler\n",
        "# 복원을 위해 x, y 따로 스케일링하기\n",
        "# 스케일링 후 list 형태로 변환하기\n",
        "mmsx = MinMaxScaler()\n",
        "mmsy = MinMaxScaler()\n",
        "x = mmsx.fit_transform(dfx).tolist()\n",
        "y = mmsy.fit_transform(dfy.to_frame()).tolist()"
      ]
    },
    {
      "cell_type": "code",
      "execution_count": 30,
      "id": "ecb2175d",
      "metadata": {
        "colab": {
          "base_uri": "https://localhost:8080/"
        },
        "id": "ecb2175d",
        "outputId": "4339c0a7-6182-4e2c-9df8-1612970ddff2"
      },
      "outputs": [
        {
          "output_type": "execute_result",
          "data": {
            "text/plain": [
              "(4, 1)"
            ]
          },
          "metadata": {},
          "execution_count": 30
        }
      ],
      "source": [
        "len(x[0]), len(y[0])\n",
        "# (685, 4)      (685, 1)"
      ]
    },
    {
      "cell_type": "markdown",
      "id": "9273cc48",
      "metadata": {
        "id": "9273cc48"
      },
      "source": [
        "## x, y 값 window_size 적용하기\n",
        "\n",
        "\n",
        "<center>\n",
        "<img src = \"https://i.stack.imgur.com/padg4.gif\">\n",
        "</center>\n",
        "* 이미지출처: https://stackoverflow.com/questions/31947183/how-to-implement-walk-forward-testing-in-sklearn\n"
      ]
    },
    {
      "cell_type": "code",
      "source": [
        "window_size = 10 \n",
        "len(y) - window_size"
      ],
      "metadata": {
        "colab": {
          "base_uri": "https://localhost:8080/"
        },
        "id": "B7GqtXfLVDM_",
        "outputId": "2366320c-ddf9-4508-9cbb-bb19b5b8c0de"
      },
      "id": "B7GqtXfLVDM_",
      "execution_count": 31,
      "outputs": [
        {
          "output_type": "execute_result",
          "data": {
            "text/plain": [
              "676"
            ]
          },
          "metadata": {},
          "execution_count": 31
        }
      ]
    },
    {
      "cell_type": "code",
      "execution_count": 32,
      "id": "415439a5",
      "metadata": {
        "scrolled": true,
        "id": "415439a5"
      },
      "outputs": [],
      "source": [
        "# window_size 만큼만 슬라이싱\n",
        "# 10일치 데이터로 다음날 주가를 예측\n",
        "# 다음 날 종가(i+windows_size)는 포함되지 않도록 X값을 만들고\n",
        "# 다음 날 종가를 y로 만듦\n",
        "window_size = 10 \n",
        "x_data = []\n",
        "y_data = []\n",
        "\n",
        "for i in range(len(y) - window_size):\n",
        "    _x = x[i : i+window_size]\n",
        "    _y = y[i + window_size]\n",
        "    x_data.append(_x)\n",
        "    y_data.append(_y)"
      ]
    },
    {
      "cell_type": "code",
      "execution_count": 33,
      "id": "b6ffe6e8",
      "metadata": {
        "colab": {
          "base_uri": "https://localhost:8080/"
        },
        "id": "b6ffe6e8",
        "outputId": "b73421af-59e9-4f90-c940-4b140f87bd17"
      },
      "outputs": [
        {
          "output_type": "execute_result",
          "data": {
            "text/plain": [
              "(676, 676)"
            ]
          },
          "metadata": {},
          "execution_count": 33
        }
      ],
      "source": [
        "len(x_data), len(y_data)"
      ]
    },
    {
      "cell_type": "markdown",
      "id": "6e723022",
      "metadata": {
        "id": "6e723022"
      },
      "source": [
        "## train, test 나누기"
      ]
    },
    {
      "cell_type": "code",
      "execution_count": 34,
      "id": "ce512ee8",
      "metadata": {
        "colab": {
          "base_uri": "https://localhost:8080/"
        },
        "id": "ce512ee8",
        "outputId": "4500435e-0484-41a9-91af-433bb63a9d1b"
      },
      "outputs": [
        {
          "output_type": "execute_result",
          "data": {
            "text/plain": [
              "540"
            ]
          },
          "metadata": {},
          "execution_count": 34
        }
      ],
      "source": [
        "# 8:2 로 나누기\n",
        "split_size = int(len(x_data) * 0.8)\n",
        "split_size"
      ]
    },
    {
      "cell_type": "code",
      "execution_count": 35,
      "id": "ae0655c3",
      "metadata": {
        "id": "ae0655c3"
      },
      "outputs": [],
      "source": [
        "X_train = np.array(x_data[:split_size]) # 80\n",
        "y_train = np.array(y_data[:split_size]) #80\n",
        "X_test = np.array(x_data[split_size:]) # 20\n",
        "y_test = np.array(y_data[split_size:]) #20"
      ]
    },
    {
      "cell_type": "code",
      "execution_count": 36,
      "id": "92e52115",
      "metadata": {
        "colab": {
          "base_uri": "https://localhost:8080/"
        },
        "id": "92e52115",
        "outputId": "6ff8de42-c54f-4481-927a-12e3473f33bf"
      },
      "outputs": [
        {
          "output_type": "execute_result",
          "data": {
            "text/plain": [
              "((540, 10, 4), (540, 1), (136, 10, 4), (136, 1))"
            ]
          },
          "metadata": {},
          "execution_count": 36
        }
      ],
      "source": [
        "X_train.shape, y_train.shape, X_test.shape, y_test.shape"
      ]
    },
    {
      "cell_type": "markdown",
      "id": "54e52b61",
      "metadata": {
        "id": "54e52b61"
      },
      "source": [
        "## 모델 생성"
      ]
    },
    {
      "cell_type": "code",
      "source": [
        "data_size = dfx.shape[1]\n",
        "data_size"
      ],
      "metadata": {
        "colab": {
          "base_uri": "https://localhost:8080/"
        },
        "id": "IB8xhhIedjhi",
        "outputId": "17dc4702-cc0a-4bba-ed4d-5848abc5bd8a"
      },
      "id": "IB8xhhIedjhi",
      "execution_count": 37,
      "outputs": [
        {
          "output_type": "execute_result",
          "data": {
            "text/plain": [
              "4"
            ]
          },
          "metadata": {},
          "execution_count": 37
        }
      ]
    },
    {
      "cell_type": "code",
      "execution_count": 38,
      "id": "5ed6899e",
      "metadata": {
        "colab": {
          "base_uri": "https://localhost:8080/"
        },
        "id": "5ed6899e",
        "outputId": "27ea7069-7289-458b-cfa4-c3b3a2c63c3e"
      },
      "outputs": [
        {
          "output_type": "stream",
          "name": "stdout",
          "text": [
            "Model: \"sequential_1\"\n",
            "_________________________________________________________________\n",
            " Layer (type)                Output Shape              Param #   \n",
            "=================================================================\n",
            " lstm_2 (LSTM)               (None, 10, 10)            600       \n",
            "                                                                 \n",
            " dropout_2 (Dropout)         (None, 10, 10)            0         \n",
            "                                                                 \n",
            " bidirectional_1 (Bidirectio  (None, 20)               1680      \n",
            " nal)                                                            \n",
            "                                                                 \n",
            " dropout_3 (Dropout)         (None, 20)                0         \n",
            "                                                                 \n",
            " dense_1 (Dense)             (None, 1)                 21        \n",
            "                                                                 \n",
            "=================================================================\n",
            "Total params: 2,301\n",
            "Trainable params: 2,301\n",
            "Non-trainable params: 0\n",
            "_________________________________________________________________\n"
          ]
        }
      ],
      "source": [
        "# 모델 생성\n",
        "\n",
        "data_size = dfx.shape[1]\n",
        "\n",
        "model = Sequential()\n",
        "model.add(LSTM(units=10, activation='relu', return_sequences=True,input_shape=(window_size, data_size)))\n",
        "model.add(Dropout(0.1))\n",
        "model.add(Bidirectional(LSTM(units=10, activation='relu')))\n",
        "model.add(Dropout(0.1))\n",
        "model.add(Dense(units=1)) # 분류를 하기 위한 학습\n",
        "model.summary()"
      ]
    },
    {
      "cell_type": "markdown",
      "id": "580a6c41",
      "metadata": {
        "id": "580a6c41"
      },
      "source": [
        "## compile"
      ]
    },
    {
      "cell_type": "code",
      "execution_count": 39,
      "id": "5171593a",
      "metadata": {
        "id": "5171593a"
      },
      "outputs": [],
      "source": [
        "model.compile(optimizer = 'adam',\n",
        "              loss = 'mse',\n",
        "              metrics = ['mse', 'mae']) # 회귀 (y^ - y)^2 // 분류 categorical entropy"
      ]
    },
    {
      "cell_type": "markdown",
      "id": "74c24ffd",
      "metadata": {
        "id": "74c24ffd"
      },
      "source": [
        "## 학습과 예측"
      ]
    },
    {
      "cell_type": "code",
      "execution_count": 40,
      "id": "2ede1bda",
      "metadata": {
        "scrolled": false,
        "colab": {
          "base_uri": "https://localhost:8080/"
        },
        "id": "2ede1bda",
        "outputId": "816ca2af-17e6-4dae-bbd4-0b885e4a2050"
      },
      "outputs": [
        {
          "output_type": "execute_result",
          "data": {
            "text/plain": [
              "((540, 10, 4), (540, 1))"
            ]
          },
          "metadata": {},
          "execution_count": 40
        }
      ],
      "source": [
        "X_train.shape, y_train.shape"
      ]
    },
    {
      "cell_type": "code",
      "execution_count": 41,
      "id": "a7845169",
      "metadata": {
        "colab": {
          "base_uri": "https://localhost:8080/"
        },
        "id": "a7845169",
        "outputId": "2e6c714f-db59-4290-95ee-6df632595f74"
      },
      "outputs": [
        {
          "output_type": "stream",
          "name": "stdout",
          "text": [
            "Epoch 1/100\n",
            "15/15 [==============================] - 3s 32ms/step - loss: 0.2906 - mse: 0.2906 - mae: 0.4770 - val_loss: 0.3181 - val_mse: 0.3181 - val_mae: 0.5606\n",
            "Epoch 2/100\n",
            "15/15 [==============================] - 0s 8ms/step - loss: 0.2098 - mse: 0.2098 - mae: 0.3991 - val_loss: 0.1745 - val_mse: 0.1745 - val_mae: 0.4146\n",
            "Epoch 3/100\n",
            "15/15 [==============================] - 0s 7ms/step - loss: 0.0702 - mse: 0.0702 - mae: 0.1975 - val_loss: 0.0093 - val_mse: 0.0093 - val_mae: 0.0718\n",
            "Epoch 4/100\n",
            "15/15 [==============================] - 0s 7ms/step - loss: 0.0275 - mse: 0.0275 - mae: 0.1185 - val_loss: 0.0195 - val_mse: 0.0195 - val_mae: 0.1337\n",
            "Epoch 5/100\n",
            "15/15 [==============================] - 0s 9ms/step - loss: 0.0174 - mse: 0.0174 - mae: 0.0921 - val_loss: 0.0021 - val_mse: 0.0021 - val_mae: 0.0355\n",
            "Epoch 6/100\n",
            "15/15 [==============================] - 0s 9ms/step - loss: 0.0135 - mse: 0.0135 - mae: 0.0858 - val_loss: 0.0040 - val_mse: 0.0040 - val_mae: 0.0523\n",
            "Epoch 7/100\n",
            "15/15 [==============================] - 0s 7ms/step - loss: 0.0140 - mse: 0.0140 - mae: 0.0868 - val_loss: 0.0028 - val_mse: 0.0028 - val_mae: 0.0420\n",
            "Epoch 8/100\n",
            "15/15 [==============================] - 0s 7ms/step - loss: 0.0135 - mse: 0.0135 - mae: 0.0878 - val_loss: 0.0033 - val_mse: 0.0033 - val_mae: 0.0467\n",
            "Epoch 9/100\n",
            "15/15 [==============================] - 0s 7ms/step - loss: 0.0134 - mse: 0.0134 - mae: 0.0875 - val_loss: 0.0037 - val_mse: 0.0037 - val_mae: 0.0503\n",
            "Epoch 10/100\n",
            "15/15 [==============================] - 0s 14ms/step - loss: 0.0134 - mse: 0.0134 - mae: 0.0843 - val_loss: 0.0020 - val_mse: 0.0020 - val_mae: 0.0347\n",
            "Epoch 11/100\n",
            "15/15 [==============================] - 0s 10ms/step - loss: 0.0151 - mse: 0.0151 - mae: 0.0887 - val_loss: 0.0023 - val_mse: 0.0023 - val_mae: 0.0376\n",
            "Epoch 12/100\n",
            "15/15 [==============================] - 0s 8ms/step - loss: 0.0109 - mse: 0.0109 - mae: 0.0778 - val_loss: 0.0028 - val_mse: 0.0028 - val_mae: 0.0426\n",
            "Epoch 13/100\n",
            "15/15 [==============================] - 0s 8ms/step - loss: 0.0118 - mse: 0.0118 - mae: 0.0802 - val_loss: 0.0019 - val_mse: 0.0019 - val_mae: 0.0338\n",
            "Epoch 14/100\n",
            "15/15 [==============================] - 0s 7ms/step - loss: 0.0132 - mse: 0.0132 - mae: 0.0845 - val_loss: 0.0019 - val_mse: 0.0019 - val_mae: 0.0333\n",
            "Epoch 15/100\n",
            "15/15 [==============================] - 0s 8ms/step - loss: 0.0115 - mse: 0.0115 - mae: 0.0797 - val_loss: 0.0018 - val_mse: 0.0018 - val_mae: 0.0321\n",
            "Epoch 16/100\n",
            "15/15 [==============================] - 0s 7ms/step - loss: 0.0090 - mse: 0.0090 - mae: 0.0717 - val_loss: 0.0023 - val_mse: 0.0023 - val_mae: 0.0370\n",
            "Epoch 17/100\n",
            "15/15 [==============================] - 0s 7ms/step - loss: 0.0107 - mse: 0.0107 - mae: 0.0755 - val_loss: 0.0017 - val_mse: 0.0017 - val_mae: 0.0323\n",
            "Epoch 18/100\n",
            "15/15 [==============================] - 0s 9ms/step - loss: 0.0101 - mse: 0.0101 - mae: 0.0762 - val_loss: 0.0027 - val_mse: 0.0027 - val_mae: 0.0410\n",
            "Epoch 19/100\n",
            "15/15 [==============================] - 0s 8ms/step - loss: 0.0104 - mse: 0.0104 - mae: 0.0766 - val_loss: 0.0017 - val_mse: 0.0017 - val_mae: 0.0310\n",
            "Epoch 20/100\n",
            "15/15 [==============================] - 0s 7ms/step - loss: 0.0104 - mse: 0.0104 - mae: 0.0744 - val_loss: 0.0016 - val_mse: 0.0016 - val_mae: 0.0305\n",
            "Epoch 21/100\n",
            "15/15 [==============================] - 0s 8ms/step - loss: 0.0103 - mse: 0.0103 - mae: 0.0765 - val_loss: 0.0017 - val_mse: 0.0017 - val_mae: 0.0311\n",
            "Epoch 22/100\n",
            "15/15 [==============================] - 0s 9ms/step - loss: 0.0086 - mse: 0.0086 - mae: 0.0688 - val_loss: 0.0019 - val_mse: 0.0019 - val_mae: 0.0329\n",
            "Epoch 23/100\n",
            "15/15 [==============================] - 0s 7ms/step - loss: 0.0084 - mse: 0.0084 - mae: 0.0682 - val_loss: 0.0021 - val_mse: 0.0021 - val_mae: 0.0352\n",
            "Epoch 24/100\n",
            "15/15 [==============================] - 0s 8ms/step - loss: 0.0097 - mse: 0.0097 - mae: 0.0735 - val_loss: 0.0024 - val_mse: 0.0024 - val_mae: 0.0386\n",
            "Epoch 25/100\n",
            "15/15 [==============================] - 0s 8ms/step - loss: 0.0089 - mse: 0.0089 - mae: 0.0691 - val_loss: 0.0015 - val_mse: 0.0015 - val_mae: 0.0303\n",
            "Epoch 26/100\n",
            "15/15 [==============================] - 0s 8ms/step - loss: 0.0087 - mse: 0.0087 - mae: 0.0699 - val_loss: 0.0016 - val_mse: 0.0016 - val_mae: 0.0296\n",
            "Epoch 27/100\n",
            "15/15 [==============================] - 0s 7ms/step - loss: 0.0080 - mse: 0.0080 - mae: 0.0665 - val_loss: 0.0018 - val_mse: 0.0018 - val_mae: 0.0320\n",
            "Epoch 28/100\n",
            "15/15 [==============================] - 0s 7ms/step - loss: 0.0087 - mse: 0.0087 - mae: 0.0686 - val_loss: 0.0015 - val_mse: 0.0015 - val_mae: 0.0293\n",
            "Epoch 29/100\n",
            "15/15 [==============================] - 0s 9ms/step - loss: 0.0087 - mse: 0.0087 - mae: 0.0699 - val_loss: 0.0015 - val_mse: 0.0015 - val_mae: 0.0292\n",
            "Epoch 30/100\n",
            "15/15 [==============================] - 0s 7ms/step - loss: 0.0091 - mse: 0.0091 - mae: 0.0721 - val_loss: 0.0015 - val_mse: 0.0015 - val_mae: 0.0293\n",
            "Epoch 31/100\n",
            "15/15 [==============================] - 0s 7ms/step - loss: 0.0070 - mse: 0.0070 - mae: 0.0650 - val_loss: 0.0018 - val_mse: 0.0018 - val_mae: 0.0315\n",
            "Epoch 32/100\n",
            "15/15 [==============================] - 0s 7ms/step - loss: 0.0075 - mse: 0.0075 - mae: 0.0653 - val_loss: 0.0018 - val_mse: 0.0018 - val_mae: 0.0318\n",
            "Epoch 33/100\n",
            "15/15 [==============================] - 0s 7ms/step - loss: 0.0083 - mse: 0.0083 - mae: 0.0677 - val_loss: 0.0015 - val_mse: 0.0015 - val_mae: 0.0290\n",
            "Epoch 34/100\n",
            "15/15 [==============================] - 0s 8ms/step - loss: 0.0072 - mse: 0.0072 - mae: 0.0642 - val_loss: 0.0015 - val_mse: 0.0015 - val_mae: 0.0290\n",
            "Epoch 35/100\n",
            "15/15 [==============================] - 0s 7ms/step - loss: 0.0078 - mse: 0.0078 - mae: 0.0676 - val_loss: 0.0016 - val_mse: 0.0016 - val_mae: 0.0293\n",
            "Epoch 36/100\n",
            "15/15 [==============================] - 0s 9ms/step - loss: 0.0072 - mse: 0.0072 - mae: 0.0627 - val_loss: 0.0016 - val_mse: 0.0016 - val_mae: 0.0327\n",
            "Epoch 37/100\n",
            "15/15 [==============================] - 0s 16ms/step - loss: 0.0084 - mse: 0.0084 - mae: 0.0657 - val_loss: 0.0014 - val_mse: 0.0014 - val_mae: 0.0294\n",
            "Epoch 38/100\n",
            "15/15 [==============================] - 0s 17ms/step - loss: 0.0080 - mse: 0.0080 - mae: 0.0655 - val_loss: 0.0023 - val_mse: 0.0023 - val_mae: 0.0369\n",
            "Epoch 39/100\n",
            "15/15 [==============================] - 0s 17ms/step - loss: 0.0077 - mse: 0.0077 - mae: 0.0653 - val_loss: 0.0014 - val_mse: 0.0014 - val_mae: 0.0311\n",
            "Epoch 40/100\n",
            "15/15 [==============================] - 0s 14ms/step - loss: 0.0069 - mse: 0.0069 - mae: 0.0632 - val_loss: 0.0014 - val_mse: 0.0014 - val_mae: 0.0290\n",
            "Epoch 41/100\n",
            "15/15 [==============================] - 0s 15ms/step - loss: 0.0063 - mse: 0.0063 - mae: 0.0628 - val_loss: 0.0014 - val_mse: 0.0014 - val_mae: 0.0286\n",
            "Epoch 42/100\n",
            "15/15 [==============================] - 0s 15ms/step - loss: 0.0071 - mse: 0.0071 - mae: 0.0641 - val_loss: 0.0014 - val_mse: 0.0014 - val_mae: 0.0285\n",
            "Epoch 43/100\n",
            "15/15 [==============================] - 0s 18ms/step - loss: 0.0068 - mse: 0.0068 - mae: 0.0630 - val_loss: 0.0014 - val_mse: 0.0014 - val_mae: 0.0290\n",
            "Epoch 44/100\n",
            "15/15 [==============================] - 0s 19ms/step - loss: 0.0072 - mse: 0.0072 - mae: 0.0649 - val_loss: 0.0015 - val_mse: 0.0015 - val_mae: 0.0316\n",
            "Epoch 45/100\n",
            "15/15 [==============================] - 0s 14ms/step - loss: 0.0078 - mse: 0.0078 - mae: 0.0665 - val_loss: 0.0015 - val_mse: 0.0015 - val_mae: 0.0291\n",
            "Epoch 46/100\n",
            "15/15 [==============================] - 0s 13ms/step - loss: 0.0063 - mse: 0.0063 - mae: 0.0613 - val_loss: 0.0014 - val_mse: 0.0014 - val_mae: 0.0288\n",
            "Epoch 47/100\n",
            "15/15 [==============================] - 0s 15ms/step - loss: 0.0070 - mse: 0.0070 - mae: 0.0627 - val_loss: 0.0014 - val_mse: 0.0014 - val_mae: 0.0288\n",
            "Epoch 48/100\n",
            "15/15 [==============================] - 0s 18ms/step - loss: 0.0067 - mse: 0.0067 - mae: 0.0634 - val_loss: 0.0014 - val_mse: 0.0014 - val_mae: 0.0296\n",
            "Epoch 49/100\n",
            "15/15 [==============================] - 0s 13ms/step - loss: 0.0074 - mse: 0.0074 - mae: 0.0636 - val_loss: 0.0017 - val_mse: 0.0017 - val_mae: 0.0350\n",
            "Epoch 50/100\n",
            "15/15 [==============================] - 0s 17ms/step - loss: 0.0077 - mse: 0.0077 - mae: 0.0662 - val_loss: 0.0016 - val_mse: 0.0016 - val_mae: 0.0339\n",
            "Epoch 51/100\n",
            "15/15 [==============================] - 0s 13ms/step - loss: 0.0076 - mse: 0.0076 - mae: 0.0647 - val_loss: 0.0025 - val_mse: 0.0025 - val_mae: 0.0382\n",
            "Epoch 52/100\n",
            "15/15 [==============================] - 0s 16ms/step - loss: 0.0073 - mse: 0.0073 - mae: 0.0651 - val_loss: 0.0014 - val_mse: 0.0014 - val_mae: 0.0298\n",
            "Epoch 53/100\n",
            "15/15 [==============================] - 0s 15ms/step - loss: 0.0073 - mse: 0.0073 - mae: 0.0637 - val_loss: 0.0014 - val_mse: 0.0014 - val_mae: 0.0299\n",
            "Epoch 54/100\n",
            "15/15 [==============================] - 0s 22ms/step - loss: 0.0065 - mse: 0.0065 - mae: 0.0614 - val_loss: 0.0014 - val_mse: 0.0014 - val_mae: 0.0289\n",
            "Epoch 55/100\n",
            "15/15 [==============================] - 0s 29ms/step - loss: 0.0077 - mse: 0.0077 - mae: 0.0663 - val_loss: 0.0020 - val_mse: 0.0020 - val_mae: 0.0387\n",
            "Epoch 56/100\n",
            "15/15 [==============================] - 1s 35ms/step - loss: 0.0074 - mse: 0.0074 - mae: 0.0646 - val_loss: 0.0018 - val_mse: 0.0018 - val_mae: 0.0361\n",
            "Epoch 57/100\n",
            "15/15 [==============================] - 0s 26ms/step - loss: 0.0072 - mse: 0.0072 - mae: 0.0632 - val_loss: 0.0014 - val_mse: 0.0014 - val_mae: 0.0289\n",
            "Epoch 58/100\n",
            "15/15 [==============================] - 0s 20ms/step - loss: 0.0071 - mse: 0.0071 - mae: 0.0636 - val_loss: 0.0018 - val_mse: 0.0018 - val_mae: 0.0368\n",
            "Epoch 59/100\n",
            "15/15 [==============================] - 0s 15ms/step - loss: 0.0071 - mse: 0.0071 - mae: 0.0646 - val_loss: 0.0020 - val_mse: 0.0020 - val_mae: 0.0391\n",
            "Epoch 60/100\n",
            "15/15 [==============================] - 0s 17ms/step - loss: 0.0064 - mse: 0.0064 - mae: 0.0592 - val_loss: 0.0014 - val_mse: 0.0014 - val_mae: 0.0289\n",
            "Epoch 61/100\n",
            "15/15 [==============================] - 0s 16ms/step - loss: 0.0076 - mse: 0.0076 - mae: 0.0647 - val_loss: 0.0013 - val_mse: 0.0013 - val_mae: 0.0296\n",
            "Epoch 62/100\n",
            "15/15 [==============================] - 0s 21ms/step - loss: 0.0060 - mse: 0.0060 - mae: 0.0577 - val_loss: 0.0014 - val_mse: 0.0014 - val_mae: 0.0317\n",
            "Epoch 63/100\n",
            "15/15 [==============================] - 0s 17ms/step - loss: 0.0062 - mse: 0.0062 - mae: 0.0599 - val_loss: 0.0013 - val_mse: 0.0013 - val_mae: 0.0296\n",
            "Epoch 64/100\n",
            "15/15 [==============================] - 0s 14ms/step - loss: 0.0061 - mse: 0.0061 - mae: 0.0570 - val_loss: 0.0013 - val_mse: 0.0013 - val_mae: 0.0292\n",
            "Epoch 65/100\n",
            "15/15 [==============================] - 0s 15ms/step - loss: 0.0063 - mse: 0.0063 - mae: 0.0600 - val_loss: 0.0014 - val_mse: 0.0014 - val_mae: 0.0291\n",
            "Epoch 66/100\n",
            "15/15 [==============================] - 0s 16ms/step - loss: 0.0081 - mse: 0.0081 - mae: 0.0684 - val_loss: 0.0016 - val_mse: 0.0016 - val_mae: 0.0335\n",
            "Epoch 67/100\n",
            "15/15 [==============================] - 0s 18ms/step - loss: 0.0062 - mse: 0.0062 - mae: 0.0598 - val_loss: 0.0014 - val_mse: 0.0014 - val_mae: 0.0317\n",
            "Epoch 68/100\n",
            "15/15 [==============================] - 0s 13ms/step - loss: 0.0071 - mse: 0.0071 - mae: 0.0637 - val_loss: 0.0014 - val_mse: 0.0014 - val_mae: 0.0307\n",
            "Epoch 69/100\n",
            "15/15 [==============================] - 0s 17ms/step - loss: 0.0057 - mse: 0.0057 - mae: 0.0569 - val_loss: 0.0013 - val_mse: 0.0013 - val_mae: 0.0291\n",
            "Epoch 70/100\n",
            "15/15 [==============================] - 0s 20ms/step - loss: 0.0063 - mse: 0.0063 - mae: 0.0597 - val_loss: 0.0014 - val_mse: 0.0014 - val_mae: 0.0310\n",
            "Epoch 71/100\n",
            "15/15 [==============================] - 0s 22ms/step - loss: 0.0059 - mse: 0.0059 - mae: 0.0579 - val_loss: 0.0013 - val_mse: 0.0013 - val_mae: 0.0301\n",
            "Epoch 72/100\n",
            "15/15 [==============================] - 0s 18ms/step - loss: 0.0048 - mse: 0.0048 - mae: 0.0527 - val_loss: 0.0014 - val_mse: 0.0014 - val_mae: 0.0305\n",
            "Epoch 73/100\n",
            "15/15 [==============================] - 0s 17ms/step - loss: 0.0059 - mse: 0.0059 - mae: 0.0561 - val_loss: 0.0014 - val_mse: 0.0014 - val_mae: 0.0287\n",
            "Epoch 74/100\n",
            "15/15 [==============================] - 0s 18ms/step - loss: 0.0063 - mse: 0.0063 - mae: 0.0603 - val_loss: 0.0014 - val_mse: 0.0014 - val_mae: 0.0288\n",
            "Epoch 75/100\n",
            "15/15 [==============================] - 0s 16ms/step - loss: 0.0058 - mse: 0.0058 - mae: 0.0576 - val_loss: 0.0014 - val_mse: 0.0014 - val_mae: 0.0290\n",
            "Epoch 76/100\n",
            "15/15 [==============================] - 0s 17ms/step - loss: 0.0056 - mse: 0.0056 - mae: 0.0568 - val_loss: 0.0016 - val_mse: 0.0016 - val_mae: 0.0339\n",
            "Epoch 77/100\n",
            "15/15 [==============================] - 0s 17ms/step - loss: 0.0062 - mse: 0.0062 - mae: 0.0597 - val_loss: 0.0014 - val_mse: 0.0014 - val_mae: 0.0303\n",
            "Epoch 78/100\n",
            "15/15 [==============================] - 0s 14ms/step - loss: 0.0055 - mse: 0.0055 - mae: 0.0566 - val_loss: 0.0015 - val_mse: 0.0015 - val_mae: 0.0332\n",
            "Epoch 79/100\n",
            "15/15 [==============================] - 0s 23ms/step - loss: 0.0058 - mse: 0.0058 - mae: 0.0582 - val_loss: 0.0016 - val_mse: 0.0016 - val_mae: 0.0337\n",
            "Epoch 80/100\n",
            "15/15 [==============================] - 0s 16ms/step - loss: 0.0052 - mse: 0.0052 - mae: 0.0540 - val_loss: 0.0020 - val_mse: 0.0020 - val_mae: 0.0392\n",
            "Epoch 81/100\n",
            "15/15 [==============================] - 0s 15ms/step - loss: 0.0060 - mse: 0.0060 - mae: 0.0580 - val_loss: 0.0026 - val_mse: 0.0026 - val_mae: 0.0445\n",
            "Epoch 82/100\n",
            "15/15 [==============================] - 0s 15ms/step - loss: 0.0068 - mse: 0.0068 - mae: 0.0616 - val_loss: 0.0017 - val_mse: 0.0017 - val_mae: 0.0355\n",
            "Epoch 83/100\n",
            "15/15 [==============================] - 0s 14ms/step - loss: 0.0063 - mse: 0.0063 - mae: 0.0599 - val_loss: 0.0013 - val_mse: 0.0013 - val_mae: 0.0302\n",
            "Epoch 84/100\n",
            "15/15 [==============================] - 0s 13ms/step - loss: 0.0060 - mse: 0.0060 - mae: 0.0583 - val_loss: 0.0018 - val_mse: 0.0018 - val_mae: 0.0316\n",
            "Epoch 85/100\n",
            "15/15 [==============================] - 0s 18ms/step - loss: 0.0063 - mse: 0.0063 - mae: 0.0597 - val_loss: 0.0014 - val_mse: 0.0014 - val_mae: 0.0293\n",
            "Epoch 86/100\n",
            "15/15 [==============================] - 0s 13ms/step - loss: 0.0059 - mse: 0.0059 - mae: 0.0583 - val_loss: 0.0014 - val_mse: 0.0014 - val_mae: 0.0294\n",
            "Epoch 87/100\n",
            "15/15 [==============================] - 0s 23ms/step - loss: 0.0062 - mse: 0.0062 - mae: 0.0570 - val_loss: 0.0014 - val_mse: 0.0014 - val_mae: 0.0319\n",
            "Epoch 88/100\n",
            "15/15 [==============================] - 0s 26ms/step - loss: 0.0061 - mse: 0.0061 - mae: 0.0583 - val_loss: 0.0015 - val_mse: 0.0015 - val_mae: 0.0331\n",
            "Epoch 89/100\n",
            "15/15 [==============================] - 0s 21ms/step - loss: 0.0062 - mse: 0.0062 - mae: 0.0577 - val_loss: 0.0018 - val_mse: 0.0018 - val_mae: 0.0368\n",
            "Epoch 90/100\n",
            "15/15 [==============================] - 0s 15ms/step - loss: 0.0059 - mse: 0.0059 - mae: 0.0575 - val_loss: 0.0015 - val_mse: 0.0015 - val_mae: 0.0294\n",
            "Epoch 91/100\n",
            "15/15 [==============================] - 0s 14ms/step - loss: 0.0064 - mse: 0.0064 - mae: 0.0582 - val_loss: 0.0015 - val_mse: 0.0015 - val_mae: 0.0327\n",
            "Epoch 92/100\n",
            "15/15 [==============================] - 0s 15ms/step - loss: 0.0058 - mse: 0.0058 - mae: 0.0571 - val_loss: 0.0022 - val_mse: 0.0022 - val_mae: 0.0405\n",
            "Epoch 93/100\n",
            "15/15 [==============================] - 0s 8ms/step - loss: 0.0057 - mse: 0.0057 - mae: 0.0570 - val_loss: 0.0014 - val_mse: 0.0014 - val_mae: 0.0295\n",
            "Epoch 94/100\n",
            "15/15 [==============================] - 0s 7ms/step - loss: 0.0053 - mse: 0.0053 - mae: 0.0558 - val_loss: 0.0014 - val_mse: 0.0014 - val_mae: 0.0292\n",
            "Epoch 95/100\n",
            "15/15 [==============================] - 0s 7ms/step - loss: 0.0060 - mse: 0.0060 - mae: 0.0585 - val_loss: 0.0014 - val_mse: 0.0014 - val_mae: 0.0321\n",
            "Epoch 96/100\n",
            "15/15 [==============================] - 0s 8ms/step - loss: 0.0056 - mse: 0.0056 - mae: 0.0568 - val_loss: 0.0018 - val_mse: 0.0018 - val_mae: 0.0315\n",
            "Epoch 97/100\n",
            "15/15 [==============================] - 0s 7ms/step - loss: 0.0052 - mse: 0.0052 - mae: 0.0549 - val_loss: 0.0016 - val_mse: 0.0016 - val_mae: 0.0347\n",
            "Epoch 98/100\n",
            "15/15 [==============================] - 0s 7ms/step - loss: 0.0057 - mse: 0.0057 - mae: 0.0557 - val_loss: 0.0036 - val_mse: 0.0036 - val_mae: 0.0519\n",
            "Epoch 99/100\n",
            "15/15 [==============================] - 0s 7ms/step - loss: 0.0060 - mse: 0.0060 - mae: 0.0602 - val_loss: 0.0022 - val_mse: 0.0022 - val_mae: 0.0406\n",
            "Epoch 100/100\n",
            "15/15 [==============================] - 0s 7ms/step - loss: 0.0057 - mse: 0.0057 - mae: 0.0566 - val_loss: 0.0015 - val_mse: 0.0015 - val_mae: 0.0306\n"
          ]
        }
      ],
      "source": [
        "history = model.fit(X_train, y_train, epochs = 100, validation_split = 0.2, batch_size=30, verbose=1)\n",
        "# early stopping기능 추가하기. invalid syntax"
      ]
    },
    {
      "cell_type": "code",
      "execution_count": 42,
      "id": "8923e031",
      "metadata": {
        "id": "8923e031"
      },
      "outputs": [],
      "source": [
        "# y_pred\n",
        "df_hist = pd.DataFrame(history.history)"
      ]
    },
    {
      "cell_type": "code",
      "source": [
        "df_hist"
      ],
      "metadata": {
        "colab": {
          "base_uri": "https://localhost:8080/",
          "height": 424
        },
        "id": "EbMi-94T2Ddg",
        "outputId": "997187dc-e5b9-4ade-8316-dde74f60cff3"
      },
      "id": "EbMi-94T2Ddg",
      "execution_count": 43,
      "outputs": [
        {
          "output_type": "execute_result",
          "data": {
            "text/plain": [
              "        loss       mse       mae  val_loss   val_mse   val_mae\n",
              "0   0.290595  0.290595  0.477040  0.318088  0.318088  0.560628\n",
              "1   0.209758  0.209758  0.399102  0.174499  0.174499  0.414565\n",
              "2   0.070154  0.070154  0.197488  0.009254  0.009254  0.071776\n",
              "3   0.027496  0.027496  0.118476  0.019534  0.019534  0.133702\n",
              "4   0.017359  0.017359  0.092078  0.002082  0.002082  0.035482\n",
              "..       ...       ...       ...       ...       ...       ...\n",
              "95  0.005596  0.005596  0.056815  0.001765  0.001765  0.031518\n",
              "96  0.005200  0.005200  0.054852  0.001612  0.001612  0.034735\n",
              "97  0.005747  0.005747  0.055715  0.003567  0.003567  0.051934\n",
              "98  0.006044  0.006044  0.060211  0.002187  0.002187  0.040632\n",
              "99  0.005724  0.005724  0.056606  0.001461  0.001461  0.030617\n",
              "\n",
              "[100 rows x 6 columns]"
            ],
            "text/html": [
              "\n",
              "  <div id=\"df-2bd02676-f747-4854-971b-df244643bb35\">\n",
              "    <div class=\"colab-df-container\">\n",
              "      <div>\n",
              "<style scoped>\n",
              "    .dataframe tbody tr th:only-of-type {\n",
              "        vertical-align: middle;\n",
              "    }\n",
              "\n",
              "    .dataframe tbody tr th {\n",
              "        vertical-align: top;\n",
              "    }\n",
              "\n",
              "    .dataframe thead th {\n",
              "        text-align: right;\n",
              "    }\n",
              "</style>\n",
              "<table border=\"1\" class=\"dataframe\">\n",
              "  <thead>\n",
              "    <tr style=\"text-align: right;\">\n",
              "      <th></th>\n",
              "      <th>loss</th>\n",
              "      <th>mse</th>\n",
              "      <th>mae</th>\n",
              "      <th>val_loss</th>\n",
              "      <th>val_mse</th>\n",
              "      <th>val_mae</th>\n",
              "    </tr>\n",
              "  </thead>\n",
              "  <tbody>\n",
              "    <tr>\n",
              "      <th>0</th>\n",
              "      <td>0.290595</td>\n",
              "      <td>0.290595</td>\n",
              "      <td>0.477040</td>\n",
              "      <td>0.318088</td>\n",
              "      <td>0.318088</td>\n",
              "      <td>0.560628</td>\n",
              "    </tr>\n",
              "    <tr>\n",
              "      <th>1</th>\n",
              "      <td>0.209758</td>\n",
              "      <td>0.209758</td>\n",
              "      <td>0.399102</td>\n",
              "      <td>0.174499</td>\n",
              "      <td>0.174499</td>\n",
              "      <td>0.414565</td>\n",
              "    </tr>\n",
              "    <tr>\n",
              "      <th>2</th>\n",
              "      <td>0.070154</td>\n",
              "      <td>0.070154</td>\n",
              "      <td>0.197488</td>\n",
              "      <td>0.009254</td>\n",
              "      <td>0.009254</td>\n",
              "      <td>0.071776</td>\n",
              "    </tr>\n",
              "    <tr>\n",
              "      <th>3</th>\n",
              "      <td>0.027496</td>\n",
              "      <td>0.027496</td>\n",
              "      <td>0.118476</td>\n",
              "      <td>0.019534</td>\n",
              "      <td>0.019534</td>\n",
              "      <td>0.133702</td>\n",
              "    </tr>\n",
              "    <tr>\n",
              "      <th>4</th>\n",
              "      <td>0.017359</td>\n",
              "      <td>0.017359</td>\n",
              "      <td>0.092078</td>\n",
              "      <td>0.002082</td>\n",
              "      <td>0.002082</td>\n",
              "      <td>0.035482</td>\n",
              "    </tr>\n",
              "    <tr>\n",
              "      <th>...</th>\n",
              "      <td>...</td>\n",
              "      <td>...</td>\n",
              "      <td>...</td>\n",
              "      <td>...</td>\n",
              "      <td>...</td>\n",
              "      <td>...</td>\n",
              "    </tr>\n",
              "    <tr>\n",
              "      <th>95</th>\n",
              "      <td>0.005596</td>\n",
              "      <td>0.005596</td>\n",
              "      <td>0.056815</td>\n",
              "      <td>0.001765</td>\n",
              "      <td>0.001765</td>\n",
              "      <td>0.031518</td>\n",
              "    </tr>\n",
              "    <tr>\n",
              "      <th>96</th>\n",
              "      <td>0.005200</td>\n",
              "      <td>0.005200</td>\n",
              "      <td>0.054852</td>\n",
              "      <td>0.001612</td>\n",
              "      <td>0.001612</td>\n",
              "      <td>0.034735</td>\n",
              "    </tr>\n",
              "    <tr>\n",
              "      <th>97</th>\n",
              "      <td>0.005747</td>\n",
              "      <td>0.005747</td>\n",
              "      <td>0.055715</td>\n",
              "      <td>0.003567</td>\n",
              "      <td>0.003567</td>\n",
              "      <td>0.051934</td>\n",
              "    </tr>\n",
              "    <tr>\n",
              "      <th>98</th>\n",
              "      <td>0.006044</td>\n",
              "      <td>0.006044</td>\n",
              "      <td>0.060211</td>\n",
              "      <td>0.002187</td>\n",
              "      <td>0.002187</td>\n",
              "      <td>0.040632</td>\n",
              "    </tr>\n",
              "    <tr>\n",
              "      <th>99</th>\n",
              "      <td>0.005724</td>\n",
              "      <td>0.005724</td>\n",
              "      <td>0.056606</td>\n",
              "      <td>0.001461</td>\n",
              "      <td>0.001461</td>\n",
              "      <td>0.030617</td>\n",
              "    </tr>\n",
              "  </tbody>\n",
              "</table>\n",
              "<p>100 rows × 6 columns</p>\n",
              "</div>\n",
              "      <button class=\"colab-df-convert\" onclick=\"convertToInteractive('df-2bd02676-f747-4854-971b-df244643bb35')\"\n",
              "              title=\"Convert this dataframe to an interactive table.\"\n",
              "              style=\"display:none;\">\n",
              "        \n",
              "  <svg xmlns=\"http://www.w3.org/2000/svg\" height=\"24px\"viewBox=\"0 0 24 24\"\n",
              "       width=\"24px\">\n",
              "    <path d=\"M0 0h24v24H0V0z\" fill=\"none\"/>\n",
              "    <path d=\"M18.56 5.44l.94 2.06.94-2.06 2.06-.94-2.06-.94-.94-2.06-.94 2.06-2.06.94zm-11 1L8.5 8.5l.94-2.06 2.06-.94-2.06-.94L8.5 2.5l-.94 2.06-2.06.94zm10 10l.94 2.06.94-2.06 2.06-.94-2.06-.94-.94-2.06-.94 2.06-2.06.94z\"/><path d=\"M17.41 7.96l-1.37-1.37c-.4-.4-.92-.59-1.43-.59-.52 0-1.04.2-1.43.59L10.3 9.45l-7.72 7.72c-.78.78-.78 2.05 0 2.83L4 21.41c.39.39.9.59 1.41.59.51 0 1.02-.2 1.41-.59l7.78-7.78 2.81-2.81c.8-.78.8-2.07 0-2.86zM5.41 20L4 18.59l7.72-7.72 1.47 1.35L5.41 20z\"/>\n",
              "  </svg>\n",
              "      </button>\n",
              "      \n",
              "  <style>\n",
              "    .colab-df-container {\n",
              "      display:flex;\n",
              "      flex-wrap:wrap;\n",
              "      gap: 12px;\n",
              "    }\n",
              "\n",
              "    .colab-df-convert {\n",
              "      background-color: #E8F0FE;\n",
              "      border: none;\n",
              "      border-radius: 50%;\n",
              "      cursor: pointer;\n",
              "      display: none;\n",
              "      fill: #1967D2;\n",
              "      height: 32px;\n",
              "      padding: 0 0 0 0;\n",
              "      width: 32px;\n",
              "    }\n",
              "\n",
              "    .colab-df-convert:hover {\n",
              "      background-color: #E2EBFA;\n",
              "      box-shadow: 0px 1px 2px rgba(60, 64, 67, 0.3), 0px 1px 3px 1px rgba(60, 64, 67, 0.15);\n",
              "      fill: #174EA6;\n",
              "    }\n",
              "\n",
              "    [theme=dark] .colab-df-convert {\n",
              "      background-color: #3B4455;\n",
              "      fill: #D2E3FC;\n",
              "    }\n",
              "\n",
              "    [theme=dark] .colab-df-convert:hover {\n",
              "      background-color: #434B5C;\n",
              "      box-shadow: 0px 1px 3px 1px rgba(0, 0, 0, 0.15);\n",
              "      filter: drop-shadow(0px 1px 2px rgba(0, 0, 0, 0.3));\n",
              "      fill: #FFFFFF;\n",
              "    }\n",
              "  </style>\n",
              "\n",
              "      <script>\n",
              "        const buttonEl =\n",
              "          document.querySelector('#df-2bd02676-f747-4854-971b-df244643bb35 button.colab-df-convert');\n",
              "        buttonEl.style.display =\n",
              "          google.colab.kernel.accessAllowed ? 'block' : 'none';\n",
              "\n",
              "        async function convertToInteractive(key) {\n",
              "          const element = document.querySelector('#df-2bd02676-f747-4854-971b-df244643bb35');\n",
              "          const dataTable =\n",
              "            await google.colab.kernel.invokeFunction('convertToInteractive',\n",
              "                                                     [key], {});\n",
              "          if (!dataTable) return;\n",
              "\n",
              "          const docLinkHtml = 'Like what you see? Visit the ' +\n",
              "            '<a target=\"_blank\" href=https://colab.research.google.com/notebooks/data_table.ipynb>data table notebook</a>'\n",
              "            + ' to learn more about interactive tables.';\n",
              "          element.innerHTML = '';\n",
              "          dataTable['output_type'] = 'display_data';\n",
              "          await google.colab.output.renderOutput(dataTable, element);\n",
              "          const docLink = document.createElement('div');\n",
              "          docLink.innerHTML = docLinkHtml;\n",
              "          element.appendChild(docLink);\n",
              "        }\n",
              "      </script>\n",
              "    </div>\n",
              "  </div>\n",
              "  "
            ]
          },
          "metadata": {},
          "execution_count": 43
        }
      ]
    },
    {
      "cell_type": "code",
      "source": [
        "df_hist['loss'].plot()"
      ],
      "metadata": {
        "colab": {
          "base_uri": "https://localhost:8080/",
          "height": 284
        },
        "id": "1osDlDcG2KHH",
        "outputId": "6eab83ee-69ab-4805-c58d-b97473b98da9"
      },
      "id": "1osDlDcG2KHH",
      "execution_count": 44,
      "outputs": [
        {
          "output_type": "execute_result",
          "data": {
            "text/plain": [
              "<matplotlib.axes._subplots.AxesSubplot at 0x7f3f82e875d0>"
            ]
          },
          "metadata": {},
          "execution_count": 44
        },
        {
          "output_type": "display_data",
          "data": {
            "text/plain": [
              "<Figure size 432x288 with 1 Axes>"
            ],
            "image/png": "[encoded data removed]"
          },
          "metadata": {
            "needs_background": "light"
          }
        }
      ]
    },
    {
      "cell_type": "code",
      "source": [
        "y_pred = model.predict(X_test)"
      ],
      "metadata": {
        "id": "wy3niX9B2bpe"
      },
      "id": "wy3niX9B2bpe",
      "execution_count": 45,
      "outputs": []
    },
    {
      "cell_type": "code",
      "execution_count": 46,
      "id": "de52e11f",
      "metadata": {
        "colab": {
          "base_uri": "https://localhost:8080/"
        },
        "id": "de52e11f",
        "outputId": "6e0c4cfc-7ffb-40e9-c6db-12d9a067e56c"
      },
      "outputs": [
        {
          "output_type": "execute_result",
          "data": {
            "text/plain": [
              "0.03824563196928527"
            ]
          },
          "metadata": {},
          "execution_count": 46
        }
      ],
      "source": [
        "# rmse\n",
        "np.sqrt(np.square(y_test - y_pred).mean())"
      ]
    },
    {
      "cell_type": "markdown",
      "id": "0c56329a",
      "metadata": {
        "id": "0c56329a"
      },
      "source": [
        "## 예측 결과 시각화"
      ]
    },
    {
      "cell_type": "code",
      "source": [
        "y_test.shape, y_pred.shape"
      ],
      "metadata": {
        "colab": {
          "base_uri": "https://localhost:8080/"
        },
        "id": "LDctvqp-6RHI",
        "outputId": "fbc09972-1478-42d9-bf4a-295691cc0d18"
      },
      "id": "LDctvqp-6RHI",
      "execution_count": 47,
      "outputs": [
        {
          "output_type": "execute_result",
          "data": {
            "text/plain": [
              "((136, 1), (136, 1))"
            ]
          },
          "metadata": {},
          "execution_count": 47
        }
      ]
    },
    {
      "cell_type": "code",
      "execution_count": 48,
      "id": "bd91d28e",
      "metadata": {
        "colab": {
          "base_uri": "https://localhost:8080/",
          "height": 284
        },
        "id": "bd91d28e",
        "outputId": "05a47390-254e-46b0-e0f8-72109483e1c1"
      },
      "outputs": [
        {
          "output_type": "execute_result",
          "data": {
            "text/plain": [
              "<matplotlib.legend.Legend at 0x7f3f8109cfd0>"
            ]
          },
          "metadata": {},
          "execution_count": 48
        },
        {
          "output_type": "display_data",
          "data": {
            "text/plain": [
              "<Figure size 864x288 with 1 Axes>"
            ],
            "image/png": "[encoded data removed]"
          },
          "metadata": {
            "needs_background": "light"
          }
        }
      ],
      "source": [
        "plt.figure(figsize= (12, 4))\n",
        "plt.plot(y_test.flatten(), label='y_test')\n",
        "plt.plot(y_pred.flatten(), label='y_pred')\n",
        "plt.legend()"
      ]
    },
    {
      "cell_type": "markdown",
      "id": "2788eef5",
      "metadata": {
        "id": "2788eef5"
      },
      "source": [
        "## 원래 값으로 복원하여 비교"
      ]
    },
    {
      "cell_type": "code",
      "execution_count": 49,
      "id": "0cc78657",
      "metadata": {
        "colab": {
          "base_uri": "https://localhost:8080/"
        },
        "id": "0cc78657",
        "outputId": "c324acd1-acc8-48e1-c906-2d0911bb6f66"
      },
      "outputs": [
        {
          "output_type": "execute_result",
          "data": {
            "text/plain": [
              "array([[71016.51 ],\n",
              "       [71009.305],\n",
              "       [70929.44 ],\n",
              "       [70882.34 ],\n",
              "       [70776.625]], dtype=float32)"
            ]
          },
          "metadata": {},
          "execution_count": 49
        }
      ],
      "source": [
        "y_predict_inverse = mmsy.inverse_transform(y_pred)\n",
        "y_predict_inverse[:5]"
      ]
    },
    {
      "cell_type": "code",
      "execution_count": 50,
      "id": "d91e7a2c",
      "metadata": {
        "colab": {
          "base_uri": "https://localhost:8080/"
        },
        "id": "d91e7a2c",
        "outputId": "36927768-24f0-43a3-c866-d395c3de8ed4"
      },
      "outputs": [
        {
          "output_type": "execute_result",
          "data": {
            "text/plain": [
              "array([[69800.],\n",
              "       [69700.],\n",
              "       [70200.],\n",
              "       [69900.],\n",
              "       [69600.]])"
            ]
          },
          "metadata": {},
          "execution_count": 50
        }
      ],
      "source": [
        "y_test_inverse = mmsy.inverse_transform(y_test)\n",
        "y_test_inverse[:5\n",
        "]"
      ]
    },
    {
      "cell_type": "code",
      "execution_count": 51,
      "id": "2051791f",
      "metadata": {
        "colab": {
          "base_uri": "https://localhost:8080/"
        },
        "id": "2051791f",
        "outputId": "6a94d2e6-8f04-4404-f50d-638780945593"
      },
      "outputs": [
        {
          "output_type": "execute_result",
          "data": {
            "text/plain": [
              "1854.9138361040905"
            ]
          },
          "metadata": {},
          "execution_count": 51
        }
      ],
      "source": [
        "# rmse \n",
        "np.sqrt(np.square(y_test_inverse-y_predict_inverse).mean())"
      ]
    },
    {
      "cell_type": "code",
      "execution_count": 52,
      "id": "87a76c69",
      "metadata": {
        "colab": {
          "base_uri": "https://localhost:8080/",
          "height": 229
        },
        "id": "87a76c69",
        "outputId": "40808e43-3e88-4061-ef40-6ecaeddab993"
      },
      "outputs": [
        {
          "output_type": "execute_result",
          "data": {
            "text/plain": [
              "[<matplotlib.lines.Line2D at 0x7f3f8acb1910>]"
            ]
          },
          "metadata": {},
          "execution_count": 52
        },
        {
          "output_type": "display_data",
          "data": {
            "text/plain": [
              "<Figure size 864x216 with 1 Axes>"
            ],
            "image/png": "[encoded data removed]"
          },
          "metadata": {
            "needs_background": "light"
          }
        }
      ],
      "source": [
        "# 시각화\n",
        "plt.figure(figsize = (12, 3))\n",
        "plt.plot(y_predict_inverse)\n",
        "plt.plot(y_test_inverse)"
      ]
    },
    {
      "cell_type": "code",
      "execution_count": 52,
      "id": "a9eeffab",
      "metadata": {
        "id": "a9eeffab"
      },
      "outputs": [],
      "source": []
    }
  ],
  "metadata": {
    "kernelspec": {
      "display_name": "Python 3 (ipykernel)",
      "language": "python",
      "name": "python3"
    },
    "language_info": {
      "codemirror_mode": {
        "name": "ipython",
        "version": 3
      },
      "file_extension": ".py",
      "mimetype": "text/x-python",
      "name": "python",
      "nbconvert_exporter": "python",
      "pygments_lexer": "ipython3",
      "version": "3.7.13"
    },
    "varInspector": {
      "cols": {
        "lenName": 16,
        "lenType": 16,
        "lenVar": 40
      },
      "kernels_config": {
        "python": {
          "delete_cmd_postfix": "",
          "delete_cmd_prefix": "del ",
          "library": "var_list.py",
          "varRefreshCmd": "print(var_dic_list())"
        },
        "r": {
          "delete_cmd_postfix": ") ",
          "delete_cmd_prefix": "rm(",
          "library": "var_list.r",
          "varRefreshCmd": "cat(var_dic_list()) "
        }
      },
      "types_to_exclude": [
        "module",
        "function",
        "builtin_function_or_method",
        "instance",
        "_Feature"
      ],
      "window_display": false
    },
    "colab": {
      "provenance": [],
      "include_colab_link": true
    }
  },
  "nbformat": 4,
  "nbformat_minor": 5
}