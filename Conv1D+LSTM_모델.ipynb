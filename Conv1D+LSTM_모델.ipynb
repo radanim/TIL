{
  "cells": [
    {
      "cell_type": "markdown",
      "metadata": {
        "id": "view-in-github",
        "colab_type": "text"
      },
      "source": [
        "<a href=\"https://colab.research.google.com/github/radanim/TIL/blob/master/Conv1D%2BLSTM_%EB%AA%A8%EB%8D%B8.ipynb\" target=\"_parent\"><img src=\"https://colab.research.google.com/assets/colab-badge.svg\" alt=\"Open In Colab\"/></a>"
      ]
    },
    {
      "cell_type": "code",
      "source": [
        "from google.colab import drive\n",
        "drive.mount('/content/drive')"
      ],
      "metadata": {
        "colab": {
          "base_uri": "https://localhost:8080/"
        },
        "id": "ecR-8LMdlycN",
        "outputId": "990c86ed-1909-4d60-8685-48012d483739"
      },
      "execution_count": 1,
      "outputs": [
        {
          "output_type": "stream",
          "name": "stdout",
          "text": [
            "Drive already mounted at /content/drive; to attempt to forcibly remount, call drive.mount(\"/content/drive\", force_remount=True).\n"
          ]
        }
      ]
    },
    {
      "cell_type": "code",
      "execution_count": 2,
      "metadata": {
        "id": "IOSbUkka8IZy"
      },
      "outputs": [],
      "source": [
        "import numpy as np\n",
        "import pandas as pd\n",
        "import matplotlib.pyplot as plt\n",
        "import tensorflow as tf\n",
        "from tensorflow.keras import Sequential\n",
        "from tensorflow.keras.layers import Dense, LSTM, Dropout, Bidirectional, Conv1D, Flatten\n",
        "import os\n",
        "import glob"
      ]
    },
    {
      "cell_type": "code",
      "source": [
        "output=glob.glob('/content/drive/MyDrive/dataset/train 01/*')\n",
        "\n",
        "# 데이터 프레임 통합하기\n",
        "df_total = pd.read_csv(output[0])\n",
        "for i in range (1,100):\n",
        "    df=pd.read_csv(output[i])\n",
        "    type(df)\n",
        "    df_total = pd.concat([df_total, df], ignore_index=True, axis=0)\n",
        "\n",
        "df_total.shape\n",
        "\n",
        "# 학습데이터 x,y 분리 \n",
        "dfx = df_total.drop(columns=\"FREL(2)\")\n",
        "dfy = df_total[\"FREL(2)\"]\n",
        "print(dfx.shape, dfy.shape) # (1076, 14), (1076, )\n",
        "\n",
        "# MinMaxScaler\n",
        "from gc import callbacks\n",
        "from sklearn.preprocessing import MinMaxScaler\n",
        "# 복원을 위해 x, y 따로 스케일링하기\n",
        "# 스케일링 후 list 형태로 변환하기\n",
        "mms = MinMaxScaler()\n",
        "x = mms.fit_transform(dfx).tolist()\n",
        "y = mms.fit_transform(dfy.to_frame()).tolist() # Series > frame > list, Series 상태에서는 minmaxscaler 적용안됨.\n",
        "\n",
        "print(len(x), len(y)) # 1076, 1076\n",
        "\n",
        "window_size = 150\n",
        "len(y) - window_size\n",
        "\n",
        "# window_size 만큼만 슬라이싱\n",
        "# 10step x값으로 다음 step y값을 예측\n",
        "# 다음 날 종가(i+windows_size)는 포함되지 않도록 X값을 만들고\n",
        "# 다음 날 종가를 y로 만듦\n",
        "# window_size = 10 \n",
        "\n",
        "x_data = []\n",
        "y_data = []\n",
        "for i in range(len(y) - window_size):\n",
        "    # print(i, end=\",\")\n",
        "    _x = x[i : i+window_size]\n",
        "    _y = y[i+window_size]\n",
        "    x_data.append(_x)\n",
        "    y_data.append(_y)\n"
      ],
      "metadata": {
        "colab": {
          "base_uri": "https://localhost:8080/"
        },
        "id": "9p7FmbYLnmYn",
        "outputId": "a0048512-e7ca-46ef-87ec-de4a00237ec6"
      },
      "execution_count": 3,
      "outputs": [
        {
          "output_type": "stream",
          "name": "stdout",
          "text": [
            "(106393, 14) (106393,)\n",
            "106393 106393\n"
          ]
        }
      ]
    },
    {
      "cell_type": "code",
      "source": [
        "# 경로 설정\n",
        "\n",
        "a=df_total[df_total.TIME == 0.0].index[76]\n",
        "print(a)\n",
        "\n",
        "b=df_total[df_total.TIME == 0.0].index[96]\n",
        "print(b)\n",
        "\n",
        "# train, test, valid\n",
        "X_train = np.array(x_data[:a]) # 80\n",
        "y_train = np.array(y_data[:a]) #80\n",
        "X_valid = np.array(x_data[a:b]) # 80\n",
        "y_valid = np.array(y_data[a:b]) #80\n",
        "X_test = np.array(x_data[b:]) # 20\n",
        "y_test = np.array(y_data[b:]) #20\n",
        "X_train.shape, y_train.shape, X_valid.shape, y_valid.shape, X_test.shape, y_test.shape\n",
        "\n",
        "# 성능지표 함수\n",
        "def s_mape(y_true, y_pred):\n",
        "  ja = tf.math.abs(y_pred - y_true)\n",
        "  mo = (tf.math.abs(y_true)+tf.math.abs(y_pred))/2\n",
        "  loss = 100* tf.reduce_mean(ja/mo)\n",
        "  return loss\n"
      ],
      "metadata": {
        "colab": {
          "base_uri": "https://localhost:8080/"
        },
        "id": "hfO-ExqXnx6r",
        "outputId": "81feccd8-1323-4a84-aeb3-a29dea550198"
      },
      "execution_count": 4,
      "outputs": [
        {
          "output_type": "stream",
          "name": "stdout",
          "text": [
            "81205\n",
            "102044\n"
          ]
        }
      ]
    },
    {
      "cell_type": "code",
      "source": [
        "data_size = dfx.shape[1]\n",
        "print(data_size)"
      ],
      "metadata": {
        "colab": {
          "base_uri": "https://localhost:8080/"
        },
        "id": "O7BHDJ6IpyKy",
        "outputId": "fd8e11fb-3cec-4278-a5cb-e51f7fd4896c"
      },
      "execution_count": 5,
      "outputs": [
        {
          "output_type": "stream",
          "name": "stdout",
          "text": [
            "14\n"
          ]
        }
      ]
    },
    {
      "cell_type": "code",
      "execution_count": 6,
      "metadata": {
        "colab": {
          "base_uri": "https://localhost:8080/"
        },
        "id": "3pcLPSXK8IZ1",
        "outputId": "6d8e2366-7c52-48b2-8d96-12dc895de430"
      },
      "outputs": [
        {
          "output_type": "stream",
          "name": "stderr",
          "text": [
            "WARNING:tensorflow:Layer lstm will not use cuDNN kernels since it doesn't meet the criteria. It will use a generic GPU kernel as fallback when running on GPU.\n",
            "WARNING:tensorflow:Layer lstm_1 will not use cuDNN kernels since it doesn't meet the criteria. It will use a generic GPU kernel as fallback when running on GPU.\n"
          ]
        },
        {
          "output_type": "stream",
          "name": "stdout",
          "text": [
            "Model: \"sequential\"\n",
            "_________________________________________________________________\n",
            " Layer (type)                Output Shape              Param #   \n",
            "=================================================================\n",
            " lstm (LSTM)                 (None, 150, 32)           6016      \n",
            "                                                                 \n",
            " dropout (Dropout)           (None, 150, 32)           0         \n",
            "                                                                 \n",
            " lstm_1 (LSTM)               (None, 150, 32)           8320      \n",
            "                                                                 \n",
            " dropout_1 (Dropout)         (None, 150, 32)           0         \n",
            "                                                                 \n",
            " dense (Dense)               (None, 150, 32)           1056      \n",
            "                                                                 \n",
            " conv1d (Conv1D)             (None, 150, 64)           6208      \n",
            "                                                                 \n",
            " dropout_2 (Dropout)         (None, 150, 64)           0         \n",
            "                                                                 \n",
            " conv1d_1 (Conv1D)           (None, 150, 64)           12352     \n",
            "                                                                 \n",
            " dropout_3 (Dropout)         (None, 150, 64)           0         \n",
            "                                                                 \n",
            " flatten (Flatten)           (None, 9600)              0         \n",
            "                                                                 \n",
            " dense_1 (Dense)             (None, 1)                 9601      \n",
            "                                                                 \n",
            "=================================================================\n",
            "Total params: 43,553\n",
            "Trainable params: 43,553\n",
            "Non-trainable params: 0\n",
            "_________________________________________________________________\n"
          ]
        }
      ],
      "source": [
        "# 모델 생성 (validation 데이터 범위 지정해서 돌리기)\n",
        "\n",
        "data_size = dfx.shape[1]\n",
        "\n",
        "model = Sequential()\n",
        "model.add(LSTM(units=32, activation='relu', return_sequences=True, input_shape=(window_size, data_size))) # bi 히든레이어 unit 10+10=20 \n",
        "model.add(Dropout(0.3))\n",
        "\n",
        "model.add(LSTM(units=32, activation='relu', return_sequences=True))\n",
        "model.add(Dropout(0.3))\n",
        "model.add(Dense(units=32))\n",
        "\n",
        "model.add(Conv1D(filters=64, kernel_size=3, strides=1, padding='same', activation=\"relu\")) #유닛수=히든레이어수\n",
        "model.add(Dropout(0.3))\n",
        "model.add(Conv1D(filters=64, kernel_size=3, strides=1, padding='same', activation=\"relu\")) #유닛수=히든레이어수\n",
        "model.add(Dropout(0.3))\n",
        "model.add(Flatten())\n",
        "model.add(Dense(units=1)) # 분류를 하기 위한 학습, output layer = FNN Fully Connected Neural Network\n",
        "model.summary()\n",
        "\n",
        "model.compile(optimizer = 'adam',\n",
        "              loss = 'mse',\n",
        "              metrics = [s_mape]) # 회귀 (y^ - y)^2 // 분류 categorical entropy\n",
        "model.save('model100.h5')\n",
        "\n"
      ]
    },
    {
      "cell_type": "code",
      "source": [
        "print(X_train.shape, y_train.shape)\n",
        "file_path = '/content/drive/MyDrive/dataset/train 01'\n",
        "# 모델 epoch별 가중치 저장 체크포인트\n",
        "cp_callback = [tf.keras.callbacks.ModelCheckpoint(file_path ,save_weights_only=True,verbose=1),\n",
        "tf.keras.callbacks.EarlyStopping(monitor='val_loss', patience=20)]\n",
        "\n",
        "#early stopping patience loss값이 연속적으로 patience 횟수만큼 커질때 스탑 \n",
        "history = model.fit(X_train, y_train, validation_data= (X_valid, y_valid), epochs = 500, batch_size=30, verbose=1, callbacks=cp_callback) \n",
        "#verbose progress 바가 생기는게 1 아닌게 0 결과만 2 "
      ],
      "metadata": {
        "colab": {
          "base_uri": "https://localhost:8080/"
        },
        "id": "55GkIVOASeHx",
        "outputId": "d9a56425-584e-445d-f80c-8414af00dd90"
      },
      "execution_count": null,
      "outputs": [
        {
          "output_type": "stream",
          "name": "stdout",
          "text": [
            "(81205, 150, 14) (81205, 1)\n",
            "Epoch 1/500\n",
            "2707/2707 [==============================] - ETA: 0s - loss: 5.3108e-04 - s_mape: 70.7769\n",
            "Epoch 1: saving model to /content/drive/MyDrive/dataset/train 01\n",
            "2707/2707 [==============================] - 1307s 483ms/step - loss: 5.3108e-04 - s_mape: 70.7769 - val_loss: 0.0034 - val_s_mape: 59.1205\n",
            "Epoch 2/500\n",
            "2707/2707 [==============================] - ETA: 0s - loss: 1.0451e-04 - s_mape: 57.0655\n",
            "Epoch 2: saving model to /content/drive/MyDrive/dataset/train 01\n",
            "2707/2707 [==============================] - 1268s 469ms/step - loss: 1.0451e-04 - s_mape: 57.0655 - val_loss: 0.0035 - val_s_mape: 58.8187\n",
            "Epoch 3/500\n",
            "2707/2707 [==============================] - ETA: 0s - loss: 6.2191e-05 - s_mape: 57.2415\n",
            "Epoch 3: saving model to /content/drive/MyDrive/dataset/train 01\n",
            "2707/2707 [==============================] - 1235s 456ms/step - loss: 6.2191e-05 - s_mape: 57.2415 - val_loss: 0.0038 - val_s_mape: 58.4961\n",
            "Epoch 4/500\n",
            "2707/2707 [==============================] - ETA: 0s - loss: 6.9232e-05 - s_mape: 57.6367\n",
            "Epoch 4: saving model to /content/drive/MyDrive/dataset/train 01\n",
            "2707/2707 [==============================] - 1230s 455ms/step - loss: 6.9232e-05 - s_mape: 57.6367 - val_loss: 0.0032 - val_s_mape: 56.8167\n",
            "Epoch 5/500\n",
            "2707/2707 [==============================] - ETA: 0s - loss: 6.9636e-05 - s_mape: 56.8720\n",
            "Epoch 5: saving model to /content/drive/MyDrive/dataset/train 01\n",
            "2707/2707 [==============================] - 1224s 452ms/step - loss: 6.9636e-05 - s_mape: 56.8720 - val_loss: 0.0035 - val_s_mape: 56.7426\n",
            "Epoch 6/500\n",
            " 637/2707 [======>.......................] - ETA: 15:19 - loss: 6.0777e-05 - s_mape: 59.0220"
          ]
        }
      ]
    },
    {
      "cell_type": "code",
      "source": [
        "history_df=pd.DataFrame(history.history)\n",
        "history_df\n",
        "\n",
        "loss_final=history.history['loss'][-1]\n",
        "val_loss_final =history.history['val_loss'][-1]\n",
        "results=model.evaluate(X_test,y_test,batch_size=128)\n",
        "print(results)"
      ],
      "metadata": {
        "id": "lcGZtQDFvMwf"
      },
      "execution_count": null,
      "outputs": []
    },
    {
      "cell_type": "code",
      "execution_count": null,
      "metadata": {
        "id": "RLS_YSiu8IZ3"
      },
      "outputs": [],
      "source": [
        "# 모델 설계 및 학습 코드와 시각화 코드 분리 \n",
        "time_index = df_total[b:-window_size]['TIME']\n",
        "time_index.shape\n",
        "\n",
        "# y_pred\n",
        "# df_hist = pd.DataFrame(history.history)\n",
        "# df_hist['loss'].plot()\n",
        "y_pred = model.predict(X_test)\n",
        "\n",
        "plt.figure(figsize= (12, 4))\n",
        "plt.title(\"Loss/Val_loss\")\n",
        "plt.xlabel(\"epochs\")\n",
        "plt.ylabel(\"loss/val_loss\")\n",
        "plt.plot(history.history['loss'], label='loss')\n",
        "plt.plot(history.history['val_loss'], label='val_loss')\n",
        "plt.text(17, 0.01, 'loss={:.4f} val_loss={:.2f}'.format(val_loss_final, val_loss_final), fontsize=14)\n",
        "plt.legend()\n",
        "plt.savefig('./valid_loss_epoch500_6.png', dpi=500)\n",
        "\n",
        "# rmse\n",
        "# np.sqrt(np.square(y_test - y_pred).mean())\n",
        "# print(y_test.shape, y_pred.shape) # (214, 1), (214, 1)\n",
        "\n",
        "plt.figure(figsize= (12, 4))\n",
        "plt.title(\"CS/I Release Prediction\")\n",
        "plt.xlabel(\"time\")\n",
        "plt.ylabel(\"CS/I FREL\")\n",
        "plt.plot(time_index,y_pred.flatten(), label=\"predicted CS/I Release\")\n",
        "plt.plot(time_index,y_test.flatten(), label=\"real CS/I Release\")\n",
        "plt.text(200000, 0.200, 'loss={:.4f} s_mape={:.2f}'.format(results[0], results[1]), fontsize=14)\n",
        "plt.legend()\n",
        "plt.savefig('./scaling_result_epoch500_6.png', dpi=500)\n",
        "\n",
        "y_predict_inverse = mms.inverse_transform(y_pred)\n",
        "y_predict_inverse[:5]\n",
        "\n",
        "y_test_inverse = mms.inverse_transform(y_test)\n",
        "y_test_inverse[:5]\n",
        "\n",
        "# rmse \n",
        "# np.sqrt(np.square(y_test_inverse - y_predict_inverse).mean())\n",
        "\n",
        "# 시각화\n",
        "plt.figure(figsize = (12, 3))\n",
        "plt.title(\"CS/I Release Prediction\")\n",
        "plt.xlabel(\"time\")\n",
        "plt.ylabel(\"CS/I FREL\")\n",
        "plt.plot(time_index,y_predict_inverse, label = \"predicted CS/I Release\")\n",
        "plt.plot(time_index,y_test_inverse, label=\"real CS/I Release\")\n",
        "plt.text(200000, .0000200, 'loss={:.4f} s_mape={:.2f}'.format(results[0], results[1]), fontsize=14)\n",
        "plt.legend()\n",
        "plt.savefig('./inverse_result_epoch500_6.png', dpi=500)"
      ]
    },
    {
      "cell_type": "code",
      "execution_count": null,
      "metadata": {
        "id": "y_QO_rC18IZ4"
      },
      "outputs": [],
      "source": []
    },
    {
      "cell_type": "code",
      "execution_count": null,
      "metadata": {
        "id": "MRKB0mgU8IZ4"
      },
      "outputs": [],
      "source": []
    },
    {
      "cell_type": "code",
      "execution_count": null,
      "metadata": {
        "id": "qZA9NU6C8IZ4"
      },
      "outputs": [],
      "source": []
    },
    {
      "cell_type": "code",
      "execution_count": null,
      "metadata": {
        "id": "-Lye3Jmq8IZ5"
      },
      "outputs": [],
      "source": []
    },
    {
      "cell_type": "code",
      "execution_count": null,
      "metadata": {
        "id": "aa1zH1Vn8IZ5"
      },
      "outputs": [],
      "source": []
    },
    {
      "cell_type": "code",
      "execution_count": null,
      "metadata": {
        "id": "Infl8Kys8IZ6"
      },
      "outputs": [],
      "source": []
    },
    {
      "cell_type": "code",
      "execution_count": null,
      "metadata": {
        "id": "txsCVkN88IZ6"
      },
      "outputs": [],
      "source": []
    },
    {
      "cell_type": "code",
      "execution_count": null,
      "metadata": {
        "id": "RmrtT2Bt8IZ7"
      },
      "outputs": [],
      "source": []
    },
    {
      "cell_type": "code",
      "execution_count": null,
      "metadata": {
        "id": "lrdldFRe8IZ7"
      },
      "outputs": [],
      "source": []
    },
    {
      "cell_type": "code",
      "execution_count": null,
      "metadata": {
        "id": "AqV72G3I8IZ7"
      },
      "outputs": [],
      "source": []
    },
    {
      "cell_type": "code",
      "execution_count": null,
      "metadata": {
        "id": "TDt8azpr8IZ7"
      },
      "outputs": [],
      "source": []
    },
    {
      "cell_type": "code",
      "execution_count": null,
      "metadata": {
        "id": "e5CsuqB38IZ7"
      },
      "outputs": [],
      "source": []
    },
    {
      "cell_type": "code",
      "execution_count": null,
      "metadata": {
        "id": "zXn7nN6Y8IZ8"
      },
      "outputs": [],
      "source": []
    },
    {
      "cell_type": "code",
      "execution_count": null,
      "metadata": {
        "id": "W8fDzHTm8IZ8"
      },
      "outputs": [],
      "source": []
    },
    {
      "cell_type": "code",
      "execution_count": null,
      "metadata": {
        "id": "8pkLwF668IZ8"
      },
      "outputs": [],
      "source": []
    },
    {
      "cell_type": "code",
      "execution_count": null,
      "metadata": {
        "id": "zrT7t4xr8IZ8"
      },
      "outputs": [],
      "source": []
    },
    {
      "cell_type": "code",
      "execution_count": null,
      "metadata": {
        "id": "ugbzNoN48IZ8"
      },
      "outputs": [],
      "source": []
    },
    {
      "cell_type": "code",
      "execution_count": null,
      "metadata": {
        "id": "v7PMp0Uq8IZ8"
      },
      "outputs": [],
      "source": []
    },
    {
      "cell_type": "code",
      "execution_count": null,
      "metadata": {
        "id": "iFTv4WMd8IZ8"
      },
      "outputs": [],
      "source": []
    },
    {
      "cell_type": "code",
      "execution_count": null,
      "metadata": {
        "id": "H8yeeDWZ8IZ8"
      },
      "outputs": [],
      "source": []
    },
    {
      "cell_type": "code",
      "execution_count": null,
      "metadata": {
        "id": "LpzFs1vv8IZ8"
      },
      "outputs": [],
      "source": []
    },
    {
      "cell_type": "code",
      "execution_count": null,
      "metadata": {
        "id": "Jo6l0gCu8IZ8"
      },
      "outputs": [],
      "source": []
    },
    {
      "cell_type": "code",
      "execution_count": null,
      "metadata": {
        "id": "fqpXfVgB8IZ9"
      },
      "outputs": [],
      "source": []
    },
    {
      "cell_type": "code",
      "execution_count": null,
      "metadata": {
        "id": "Wq7Ck_-E8IZ9"
      },
      "outputs": [],
      "source": []
    }
  ],
  "metadata": {
    "kernelspec": {
      "display_name": "Python 3.9.12",
      "language": "python",
      "name": "python3"
    },
    "language_info": {
      "codemirror_mode": {
        "name": "ipython",
        "version": 3
      },
      "file_extension": ".py",
      "mimetype": "text/x-python",
      "name": "python",
      "nbconvert_exporter": "python",
      "pygments_lexer": "ipython3",
      "version": "3.9.12"
    },
    "orig_nbformat": 4,
    "vscode": {
      "interpreter": {
        "hash": "a077222d77dfe082b8f1dd562ad70e458ac2ab76993a0b248ab0476e32e9e8dd"
      }
    },
    "colab": {
      "provenance": [],
      "include_colab_link": true
    },
    "accelerator": "GPU",
    "gpuClass": "standard"
  },
  "nbformat": 4,
  "nbformat_minor": 0
}