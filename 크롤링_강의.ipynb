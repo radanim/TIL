{
  "nbformat": 4,
  "nbformat_minor": 0,
  "metadata": {
    "colab": {
      "name": "크롤링 강의",
      "provenance": [],
      "authorship_tag": "ABX9TyMmlh3GQUMCuYhYO8W1C/w+",
      "include_colab_link": true
    },
    "kernelspec": {
      "name": "python3",
      "display_name": "Python 3"
    },
    "language_info": {
      "name": "python"
    }
  },
  "cells": [
    {
      "cell_type": "markdown",
      "metadata": {
        "id": "view-in-github",
        "colab_type": "text"
      },
      "source": [
        "<a href=\"https://colab.research.google.com/github/radanim/TIL/blob/master/%ED%81%AC%EB%A1%A4%EB%A7%81_%EA%B0%95%EC%9D%98.ipynb\" target=\"_parent\"><img src=\"https://colab.research.google.com/assets/colab-badge.svg\" alt=\"Open In Colab\"/></a>"
      ]
    },
    {
      "cell_type": "code",
      "execution_count": null,
      "metadata": {
        "id": "jkOVeb0r4YOy"
      },
      "outputs": [],
      "source": [
        "웹사이트 내용 파이썬 코드로 크롤링 하는 방법\n",
        "request\n",
        "beautiful soup\n",
        "selenium"
      ]
    },
    {
      "cell_type": "code",
      "source": [
        "파씽 문자열 핸들링\n",
        "time.sleep(x) : x초만큼 쉬면서 시간간격두기\n",
        "implicitly_wait(x): "
      ],
      "metadata": {
        "id": "dRkNDxz74fxH"
      },
      "execution_count": null,
      "outputs": []
    }
  ]
}