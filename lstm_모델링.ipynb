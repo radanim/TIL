{
  "nbformat": 4,
  "nbformat_minor": 0,
  "metadata": {
    "colab": {
      "provenance": [],
      "mount_file_id": "17mXA2-O9XhFrVKgv1hK21qoXjyzoVwkQ",
      "authorship_tag": "ABX9TyOWSbQ1HHoGRUX4y1y2Rkjc",
      "include_colab_link": true
    },
    "kernelspec": {
      "name": "python3",
      "display_name": "Python 3"
    },
    "language_info": {
      "name": "python"
    }
  },
  "cells": [
    {
      "cell_type": "markdown",
      "metadata": {
        "id": "view-in-github",
        "colab_type": "text"
      },
      "source": [
        "<a href=\"https://colab.research.google.com/github/radanim/TIL/blob/master/lstm_%EB%AA%A8%EB%8D%B8%EB%A7%81.ipynb\" target=\"_parent\"><img src=\"https://colab.research.google.com/assets/colab-badge.svg\" alt=\"Open In Colab\"/></a>"
      ]
    },
    {
      "cell_type": "code",
      "source": [
        "train_path=\"/content/drive/MyDrive/LSTM 모델링/train 01/RUN-001.csv\"\n",
        "test_path=\"/content/drive/MyDrive/dataset/RUN-001_test.csv\""
      ],
      "metadata": {
        "id": "rhzqxd7lAaMh"
      },
      "execution_count": 1,
      "outputs": []
    },
    {
      "cell_type": "code",
      "source": [
        "import numpy as np\n",
        "import pandas as pd\n",
        "import matplotlib.pyplot as plt\n",
        "from tensorflow.keras import Sequential\n",
        "from tensorflow.keras.layers import Dense, LSTM, Dropout, Bidirectional\n",
        "df_train=pd.read_csv(train_path)\n",
        "df_test=pd.read_csv(test_path)"
      ],
      "metadata": {
        "id": "mkniGRtSAuM9"
      },
      "execution_count": 2,
      "outputs": []
    },
    {
      "cell_type": "code",
      "source": [],
      "metadata": {
        "id": "2SERFPMNtjf4"
      },
      "execution_count": null,
      "outputs": []
    },
    {
      "cell_type": "code",
      "source": [
        "df_train.head()"
      ],
      "metadata": {
        "colab": {
          "base_uri": "https://localhost:8080/",
          "height": 206
        },
        "id": "gUI86glrBo-I",
        "outputId": "228f8c15-9c82-427c-e25d-9b32ad5b5f0a"
      },
      "execution_count": 3,
      "outputs": [
        {
          "output_type": "execute_result",
          "data": {
            "text/plain": [
              "         TIME           PPS      TCRHOT  MH2CR1      ZWV     PPSTRB(3)  \\\n",
              "0    0.000000  1.553135e+07  988.374430     0.0  6.71237  10497.684600   \n",
              "1    0.001000  1.553164e+07  988.374430     0.0  6.71237  10497.686728   \n",
              "2  300.098525  1.374299e+07  589.749630     0.0  6.71237  10610.922523   \n",
              "3  600.098525  1.330853e+07  584.539460     0.0  6.71237  10637.030370   \n",
              "4  900.098525  1.309044e+07  580.881991     0.0  6.71237  10647.300461   \n",
              "\n",
              "   MFPWB(2,3)  WSPTA  WESFCL  XCNDB(1)  MCMTB(1)  TCMB(1)  TCMIB(1)  FREL(1)  \\\n",
              "0         0.0    0.0     0.0       0.0       0.0    300.0     300.0      0.0   \n",
              "1         0.0    0.0     0.0       0.0       0.0    300.0     300.0      0.0   \n",
              "2         0.0    0.0     0.0       0.0       0.0    300.0     300.0      0.0   \n",
              "3         0.0    0.0     0.0       0.0       0.0    300.0     300.0      0.0   \n",
              "4         0.0    0.0     0.0       0.0       0.0    300.0     300.0      0.0   \n",
              "\n",
              "   FREL(2)  \n",
              "0      0.0  \n",
              "1      0.0  \n",
              "2      0.0  \n",
              "3      0.0  \n",
              "4      0.0  "
            ],
            "text/html": [
              "\n",
              "  <div id=\"df-b1daadb2-156c-4870-95f2-81576509a6d1\">\n",
              "    <div class=\"colab-df-container\">\n",
              "      <div>\n",
              "<style scoped>\n",
              "    .dataframe tbody tr th:only-of-type {\n",
              "        vertical-align: middle;\n",
              "    }\n",
              "\n",
              "    .dataframe tbody tr th {\n",
              "        vertical-align: top;\n",
              "    }\n",
              "\n",
              "    .dataframe thead th {\n",
              "        text-align: right;\n",
              "    }\n",
              "</style>\n",
              "<table border=\"1\" class=\"dataframe\">\n",
              "  <thead>\n",
              "    <tr style=\"text-align: right;\">\n",
              "      <th></th>\n",
              "      <th>TIME</th>\n",
              "      <th>PPS</th>\n",
              "      <th>TCRHOT</th>\n",
              "      <th>MH2CR1</th>\n",
              "      <th>ZWV</th>\n",
              "      <th>PPSTRB(3)</th>\n",
              "      <th>MFPWB(2,3)</th>\n",
              "      <th>WSPTA</th>\n",
              "      <th>WESFCL</th>\n",
              "      <th>XCNDB(1)</th>\n",
              "      <th>MCMTB(1)</th>\n",
              "      <th>TCMB(1)</th>\n",
              "      <th>TCMIB(1)</th>\n",
              "      <th>FREL(1)</th>\n",
              "      <th>FREL(2)</th>\n",
              "    </tr>\n",
              "  </thead>\n",
              "  <tbody>\n",
              "    <tr>\n",
              "      <th>0</th>\n",
              "      <td>0.000000</td>\n",
              "      <td>1.553135e+07</td>\n",
              "      <td>988.374430</td>\n",
              "      <td>0.0</td>\n",
              "      <td>6.71237</td>\n",
              "      <td>10497.684600</td>\n",
              "      <td>0.0</td>\n",
              "      <td>0.0</td>\n",
              "      <td>0.0</td>\n",
              "      <td>0.0</td>\n",
              "      <td>0.0</td>\n",
              "      <td>300.0</td>\n",
              "      <td>300.0</td>\n",
              "      <td>0.0</td>\n",
              "      <td>0.0</td>\n",
              "    </tr>\n",
              "    <tr>\n",
              "      <th>1</th>\n",
              "      <td>0.001000</td>\n",
              "      <td>1.553164e+07</td>\n",
              "      <td>988.374430</td>\n",
              "      <td>0.0</td>\n",
              "      <td>6.71237</td>\n",
              "      <td>10497.686728</td>\n",
              "      <td>0.0</td>\n",
              "      <td>0.0</td>\n",
              "      <td>0.0</td>\n",
              "      <td>0.0</td>\n",
              "      <td>0.0</td>\n",
              "      <td>300.0</td>\n",
              "      <td>300.0</td>\n",
              "      <td>0.0</td>\n",
              "      <td>0.0</td>\n",
              "    </tr>\n",
              "    <tr>\n",
              "      <th>2</th>\n",
              "      <td>300.098525</td>\n",
              "      <td>1.374299e+07</td>\n",
              "      <td>589.749630</td>\n",
              "      <td>0.0</td>\n",
              "      <td>6.71237</td>\n",
              "      <td>10610.922523</td>\n",
              "      <td>0.0</td>\n",
              "      <td>0.0</td>\n",
              "      <td>0.0</td>\n",
              "      <td>0.0</td>\n",
              "      <td>0.0</td>\n",
              "      <td>300.0</td>\n",
              "      <td>300.0</td>\n",
              "      <td>0.0</td>\n",
              "      <td>0.0</td>\n",
              "    </tr>\n",
              "    <tr>\n",
              "      <th>3</th>\n",
              "      <td>600.098525</td>\n",
              "      <td>1.330853e+07</td>\n",
              "      <td>584.539460</td>\n",
              "      <td>0.0</td>\n",
              "      <td>6.71237</td>\n",
              "      <td>10637.030370</td>\n",
              "      <td>0.0</td>\n",
              "      <td>0.0</td>\n",
              "      <td>0.0</td>\n",
              "      <td>0.0</td>\n",
              "      <td>0.0</td>\n",
              "      <td>300.0</td>\n",
              "      <td>300.0</td>\n",
              "      <td>0.0</td>\n",
              "      <td>0.0</td>\n",
              "    </tr>\n",
              "    <tr>\n",
              "      <th>4</th>\n",
              "      <td>900.098525</td>\n",
              "      <td>1.309044e+07</td>\n",
              "      <td>580.881991</td>\n",
              "      <td>0.0</td>\n",
              "      <td>6.71237</td>\n",
              "      <td>10647.300461</td>\n",
              "      <td>0.0</td>\n",
              "      <td>0.0</td>\n",
              "      <td>0.0</td>\n",
              "      <td>0.0</td>\n",
              "      <td>0.0</td>\n",
              "      <td>300.0</td>\n",
              "      <td>300.0</td>\n",
              "      <td>0.0</td>\n",
              "      <td>0.0</td>\n",
              "    </tr>\n",
              "  </tbody>\n",
              "</table>\n",
              "</div>\n",
              "      <button class=\"colab-df-convert\" onclick=\"convertToInteractive('df-b1daadb2-156c-4870-95f2-81576509a6d1')\"\n",
              "              title=\"Convert this dataframe to an interactive table.\"\n",
              "              style=\"display:none;\">\n",
              "        \n",
              "  <svg xmlns=\"http://www.w3.org/2000/svg\" height=\"24px\"viewBox=\"0 0 24 24\"\n",
              "       width=\"24px\">\n",
              "    <path d=\"M0 0h24v24H0V0z\" fill=\"none\"/>\n",
              "    <path d=\"M18.56 5.44l.94 2.06.94-2.06 2.06-.94-2.06-.94-.94-2.06-.94 2.06-2.06.94zm-11 1L8.5 8.5l.94-2.06 2.06-.94-2.06-.94L8.5 2.5l-.94 2.06-2.06.94zm10 10l.94 2.06.94-2.06 2.06-.94-2.06-.94-.94-2.06-.94 2.06-2.06.94z\"/><path d=\"M17.41 7.96l-1.37-1.37c-.4-.4-.92-.59-1.43-.59-.52 0-1.04.2-1.43.59L10.3 9.45l-7.72 7.72c-.78.78-.78 2.05 0 2.83L4 21.41c.39.39.9.59 1.41.59.51 0 1.02-.2 1.41-.59l7.78-7.78 2.81-2.81c.8-.78.8-2.07 0-2.86zM5.41 20L4 18.59l7.72-7.72 1.47 1.35L5.41 20z\"/>\n",
              "  </svg>\n",
              "      </button>\n",
              "      \n",
              "  <style>\n",
              "    .colab-df-container {\n",
              "      display:flex;\n",
              "      flex-wrap:wrap;\n",
              "      gap: 12px;\n",
              "    }\n",
              "\n",
              "    .colab-df-convert {\n",
              "      background-color: #E8F0FE;\n",
              "      border: none;\n",
              "      border-radius: 50%;\n",
              "      cursor: pointer;\n",
              "      display: none;\n",
              "      fill: #1967D2;\n",
              "      height: 32px;\n",
              "      padding: 0 0 0 0;\n",
              "      width: 32px;\n",
              "    }\n",
              "\n",
              "    .colab-df-convert:hover {\n",
              "      background-color: #E2EBFA;\n",
              "      box-shadow: 0px 1px 2px rgba(60, 64, 67, 0.3), 0px 1px 3px 1px rgba(60, 64, 67, 0.15);\n",
              "      fill: #174EA6;\n",
              "    }\n",
              "\n",
              "    [theme=dark] .colab-df-convert {\n",
              "      background-color: #3B4455;\n",
              "      fill: #D2E3FC;\n",
              "    }\n",
              "\n",
              "    [theme=dark] .colab-df-convert:hover {\n",
              "      background-color: #434B5C;\n",
              "      box-shadow: 0px 1px 3px 1px rgba(0, 0, 0, 0.15);\n",
              "      filter: drop-shadow(0px 1px 2px rgba(0, 0, 0, 0.3));\n",
              "      fill: #FFFFFF;\n",
              "    }\n",
              "  </style>\n",
              "\n",
              "      <script>\n",
              "        const buttonEl =\n",
              "          document.querySelector('#df-b1daadb2-156c-4870-95f2-81576509a6d1 button.colab-df-convert');\n",
              "        buttonEl.style.display =\n",
              "          google.colab.kernel.accessAllowed ? 'block' : 'none';\n",
              "\n",
              "        async function convertToInteractive(key) {\n",
              "          const element = document.querySelector('#df-b1daadb2-156c-4870-95f2-81576509a6d1');\n",
              "          const dataTable =\n",
              "            await google.colab.kernel.invokeFunction('convertToInteractive',\n",
              "                                                     [key], {});\n",
              "          if (!dataTable) return;\n",
              "\n",
              "          const docLinkHtml = 'Like what you see? Visit the ' +\n",
              "            '<a target=\"_blank\" href=https://colab.research.google.com/notebooks/data_table.ipynb>data table notebook</a>'\n",
              "            + ' to learn more about interactive tables.';\n",
              "          element.innerHTML = '';\n",
              "          dataTable['output_type'] = 'display_data';\n",
              "          await google.colab.output.renderOutput(dataTable, element);\n",
              "          const docLink = document.createElement('div');\n",
              "          docLink.innerHTML = docLinkHtml;\n",
              "          element.appendChild(docLink);\n",
              "        }\n",
              "      </script>\n",
              "    </div>\n",
              "  </div>\n",
              "  "
            ]
          },
          "metadata": {},
          "execution_count": 3
        }
      ]
    },
    {
      "cell_type": "code",
      "source": [
        "df_test.head()"
      ],
      "metadata": {
        "colab": {
          "base_uri": "https://localhost:8080/",
          "height": 206
        },
        "id": "u73v3A5mA3WT",
        "outputId": "99d206f2-c258-4ffc-f074-3ef056266d48"
      },
      "execution_count": 4,
      "outputs": [
        {
          "output_type": "execute_result",
          "data": {
            "text/plain": [
              "        TIME         PPS     TCRHOT  MH2CR1      ZWV  PPSTRB(3)  MFPWB(2,3)  \\\n",
              "0    0.00000  15531344.0  988.37156     0.0  6.71237  10497.685         0.0   \n",
              "1    0.00100  15534223.0  988.37156     0.0  6.71237  10497.687         0.0   \n",
              "2  300.09852  14714246.0  585.05062     0.0  6.71237  10607.187         0.0   \n",
              "3  600.09852  14745930.0  583.71887     0.0  6.71237  10631.537         0.0   \n",
              "4  900.09852  14788842.0  583.05977     0.0  6.71237  10641.417         0.0   \n",
              "\n",
              "   WSPTA  WESFCL  XCNDB(1)  MCMTB(1)  TCMB(1)  TCMIB(1)  FREL(1)  FREL(2)  \n",
              "0    0.0     0.0       0.0       0.0    300.0     300.0      0.0      0.0  \n",
              "1    0.0     0.0       0.0       0.0    300.0     300.0      0.0      0.0  \n",
              "2    0.0     0.0       0.0       0.0    300.0     300.0      0.0      0.0  \n",
              "3    0.0     0.0       0.0       0.0    300.0     300.0      0.0      0.0  \n",
              "4    0.0     0.0       0.0       0.0    300.0     300.0      0.0      0.0  "
            ],
            "text/html": [
              "\n",
              "  <div id=\"df-ca7edaf6-cd72-4ea3-b06a-8ed43280636d\">\n",
              "    <div class=\"colab-df-container\">\n",
              "      <div>\n",
              "<style scoped>\n",
              "    .dataframe tbody tr th:only-of-type {\n",
              "        vertical-align: middle;\n",
              "    }\n",
              "\n",
              "    .dataframe tbody tr th {\n",
              "        vertical-align: top;\n",
              "    }\n",
              "\n",
              "    .dataframe thead th {\n",
              "        text-align: right;\n",
              "    }\n",
              "</style>\n",
              "<table border=\"1\" class=\"dataframe\">\n",
              "  <thead>\n",
              "    <tr style=\"text-align: right;\">\n",
              "      <th></th>\n",
              "      <th>TIME</th>\n",
              "      <th>PPS</th>\n",
              "      <th>TCRHOT</th>\n",
              "      <th>MH2CR1</th>\n",
              "      <th>ZWV</th>\n",
              "      <th>PPSTRB(3)</th>\n",
              "      <th>MFPWB(2,3)</th>\n",
              "      <th>WSPTA</th>\n",
              "      <th>WESFCL</th>\n",
              "      <th>XCNDB(1)</th>\n",
              "      <th>MCMTB(1)</th>\n",
              "      <th>TCMB(1)</th>\n",
              "      <th>TCMIB(1)</th>\n",
              "      <th>FREL(1)</th>\n",
              "      <th>FREL(2)</th>\n",
              "    </tr>\n",
              "  </thead>\n",
              "  <tbody>\n",
              "    <tr>\n",
              "      <th>0</th>\n",
              "      <td>0.00000</td>\n",
              "      <td>15531344.0</td>\n",
              "      <td>988.37156</td>\n",
              "      <td>0.0</td>\n",
              "      <td>6.71237</td>\n",
              "      <td>10497.685</td>\n",
              "      <td>0.0</td>\n",
              "      <td>0.0</td>\n",
              "      <td>0.0</td>\n",
              "      <td>0.0</td>\n",
              "      <td>0.0</td>\n",
              "      <td>300.0</td>\n",
              "      <td>300.0</td>\n",
              "      <td>0.0</td>\n",
              "      <td>0.0</td>\n",
              "    </tr>\n",
              "    <tr>\n",
              "      <th>1</th>\n",
              "      <td>0.00100</td>\n",
              "      <td>15534223.0</td>\n",
              "      <td>988.37156</td>\n",
              "      <td>0.0</td>\n",
              "      <td>6.71237</td>\n",
              "      <td>10497.687</td>\n",
              "      <td>0.0</td>\n",
              "      <td>0.0</td>\n",
              "      <td>0.0</td>\n",
              "      <td>0.0</td>\n",
              "      <td>0.0</td>\n",
              "      <td>300.0</td>\n",
              "      <td>300.0</td>\n",
              "      <td>0.0</td>\n",
              "      <td>0.0</td>\n",
              "    </tr>\n",
              "    <tr>\n",
              "      <th>2</th>\n",
              "      <td>300.09852</td>\n",
              "      <td>14714246.0</td>\n",
              "      <td>585.05062</td>\n",
              "      <td>0.0</td>\n",
              "      <td>6.71237</td>\n",
              "      <td>10607.187</td>\n",
              "      <td>0.0</td>\n",
              "      <td>0.0</td>\n",
              "      <td>0.0</td>\n",
              "      <td>0.0</td>\n",
              "      <td>0.0</td>\n",
              "      <td>300.0</td>\n",
              "      <td>300.0</td>\n",
              "      <td>0.0</td>\n",
              "      <td>0.0</td>\n",
              "    </tr>\n",
              "    <tr>\n",
              "      <th>3</th>\n",
              "      <td>600.09852</td>\n",
              "      <td>14745930.0</td>\n",
              "      <td>583.71887</td>\n",
              "      <td>0.0</td>\n",
              "      <td>6.71237</td>\n",
              "      <td>10631.537</td>\n",
              "      <td>0.0</td>\n",
              "      <td>0.0</td>\n",
              "      <td>0.0</td>\n",
              "      <td>0.0</td>\n",
              "      <td>0.0</td>\n",
              "      <td>300.0</td>\n",
              "      <td>300.0</td>\n",
              "      <td>0.0</td>\n",
              "      <td>0.0</td>\n",
              "    </tr>\n",
              "    <tr>\n",
              "      <th>4</th>\n",
              "      <td>900.09852</td>\n",
              "      <td>14788842.0</td>\n",
              "      <td>583.05977</td>\n",
              "      <td>0.0</td>\n",
              "      <td>6.71237</td>\n",
              "      <td>10641.417</td>\n",
              "      <td>0.0</td>\n",
              "      <td>0.0</td>\n",
              "      <td>0.0</td>\n",
              "      <td>0.0</td>\n",
              "      <td>0.0</td>\n",
              "      <td>300.0</td>\n",
              "      <td>300.0</td>\n",
              "      <td>0.0</td>\n",
              "      <td>0.0</td>\n",
              "    </tr>\n",
              "  </tbody>\n",
              "</table>\n",
              "</div>\n",
              "      <button class=\"colab-df-convert\" onclick=\"convertToInteractive('df-ca7edaf6-cd72-4ea3-b06a-8ed43280636d')\"\n",
              "              title=\"Convert this dataframe to an interactive table.\"\n",
              "              style=\"display:none;\">\n",
              "        \n",
              "  <svg xmlns=\"http://www.w3.org/2000/svg\" height=\"24px\"viewBox=\"0 0 24 24\"\n",
              "       width=\"24px\">\n",
              "    <path d=\"M0 0h24v24H0V0z\" fill=\"none\"/>\n",
              "    <path d=\"M18.56 5.44l.94 2.06.94-2.06 2.06-.94-2.06-.94-.94-2.06-.94 2.06-2.06.94zm-11 1L8.5 8.5l.94-2.06 2.06-.94-2.06-.94L8.5 2.5l-.94 2.06-2.06.94zm10 10l.94 2.06.94-2.06 2.06-.94-2.06-.94-.94-2.06-.94 2.06-2.06.94z\"/><path d=\"M17.41 7.96l-1.37-1.37c-.4-.4-.92-.59-1.43-.59-.52 0-1.04.2-1.43.59L10.3 9.45l-7.72 7.72c-.78.78-.78 2.05 0 2.83L4 21.41c.39.39.9.59 1.41.59.51 0 1.02-.2 1.41-.59l7.78-7.78 2.81-2.81c.8-.78.8-2.07 0-2.86zM5.41 20L4 18.59l7.72-7.72 1.47 1.35L5.41 20z\"/>\n",
              "  </svg>\n",
              "      </button>\n",
              "      \n",
              "  <style>\n",
              "    .colab-df-container {\n",
              "      display:flex;\n",
              "      flex-wrap:wrap;\n",
              "      gap: 12px;\n",
              "    }\n",
              "\n",
              "    .colab-df-convert {\n",
              "      background-color: #E8F0FE;\n",
              "      border: none;\n",
              "      border-radius: 50%;\n",
              "      cursor: pointer;\n",
              "      display: none;\n",
              "      fill: #1967D2;\n",
              "      height: 32px;\n",
              "      padding: 0 0 0 0;\n",
              "      width: 32px;\n",
              "    }\n",
              "\n",
              "    .colab-df-convert:hover {\n",
              "      background-color: #E2EBFA;\n",
              "      box-shadow: 0px 1px 2px rgba(60, 64, 67, 0.3), 0px 1px 3px 1px rgba(60, 64, 67, 0.15);\n",
              "      fill: #174EA6;\n",
              "    }\n",
              "\n",
              "    [theme=dark] .colab-df-convert {\n",
              "      background-color: #3B4455;\n",
              "      fill: #D2E3FC;\n",
              "    }\n",
              "\n",
              "    [theme=dark] .colab-df-convert:hover {\n",
              "      background-color: #434B5C;\n",
              "      box-shadow: 0px 1px 3px 1px rgba(0, 0, 0, 0.15);\n",
              "      filter: drop-shadow(0px 1px 2px rgba(0, 0, 0, 0.3));\n",
              "      fill: #FFFFFF;\n",
              "    }\n",
              "  </style>\n",
              "\n",
              "      <script>\n",
              "        const buttonEl =\n",
              "          document.querySelector('#df-ca7edaf6-cd72-4ea3-b06a-8ed43280636d button.colab-df-convert');\n",
              "        buttonEl.style.display =\n",
              "          google.colab.kernel.accessAllowed ? 'block' : 'none';\n",
              "\n",
              "        async function convertToInteractive(key) {\n",
              "          const element = document.querySelector('#df-ca7edaf6-cd72-4ea3-b06a-8ed43280636d');\n",
              "          const dataTable =\n",
              "            await google.colab.kernel.invokeFunction('convertToInteractive',\n",
              "                                                     [key], {});\n",
              "          if (!dataTable) return;\n",
              "\n",
              "          const docLinkHtml = 'Like what you see? Visit the ' +\n",
              "            '<a target=\"_blank\" href=https://colab.research.google.com/notebooks/data_table.ipynb>data table notebook</a>'\n",
              "            + ' to learn more about interactive tables.';\n",
              "          element.innerHTML = '';\n",
              "          dataTable['output_type'] = 'display_data';\n",
              "          await google.colab.output.renderOutput(dataTable, element);\n",
              "          const docLink = document.createElement('div');\n",
              "          docLink.innerHTML = docLinkHtml;\n",
              "          element.appendChild(docLink);\n",
              "        }\n",
              "      </script>\n",
              "    </div>\n",
              "  </div>\n",
              "  "
            ]
          },
          "metadata": {},
          "execution_count": 4
        }
      ]
    },
    {
      "cell_type": "code",
      "source": [
        "df_train.shape,df_test.shape"
      ],
      "metadata": {
        "colab": {
          "base_uri": "https://localhost:8080/"
        },
        "id": "fhyuSEwZBs9E",
        "outputId": "91e75f20-e267-4e72-9d72-76b62bc96bdb"
      },
      "execution_count": 5,
      "outputs": [
        {
          "output_type": "execute_result",
          "data": {
            "text/plain": [
              "((1076, 15), (888, 15))"
            ]
          },
          "metadata": {},
          "execution_count": 5
        }
      ]
    },
    {
      "cell_type": "code",
      "source": [
        "dfx = df_train.drop(columns =\"FREL(2)\")\n",
        "dfy = df_train[\"FREL(2)\"]\n",
        "dfx.shape, dfy.shape"
      ],
      "metadata": {
        "colab": {
          "base_uri": "https://localhost:8080/"
        },
        "id": "yJK4JldHBvai",
        "outputId": "ef449a4f-feba-455a-ed56-d41e1a1a79ef"
      },
      "execution_count": 6,
      "outputs": [
        {
          "output_type": "execute_result",
          "data": {
            "text/plain": [
              "((1076, 14), (1076,))"
            ]
          },
          "metadata": {},
          "execution_count": 6
        }
      ]
    },
    {
      "cell_type": "code",
      "source": [
        "df_train.tail()"
      ],
      "metadata": {
        "colab": {
          "base_uri": "https://localhost:8080/",
          "height": 270
        },
        "id": "JenMr58WoQb2",
        "outputId": "016d1281-dd6a-4024-b478-47bbd9e35c38"
      },
      "execution_count": 7,
      "outputs": [
        {
          "output_type": "execute_result",
          "data": {
            "text/plain": [
              "               TIME            PPS  TCRHOT      MH2CR1       ZWV  \\\n",
              "1071  321487.720099  278310.315048   100.0  108.330616  4.312400   \n",
              "1072  321788.537966  278135.425426   100.0  108.330616  4.535665   \n",
              "1073  322089.382649  277999.821243   100.0  108.330616  4.309454   \n",
              "1074  322390.074890  277826.113225   100.0  108.330616  4.520843   \n",
              "1075  322630.432005  277731.507039   100.0  108.330616  4.302035   \n",
              "\n",
              "         PPSTRB(3)  MFPWB(2,3)       WSPTA  WESFCL  XCNDB(1)       MCMTB(1)  \\\n",
              "1071  21266.333103    0.000002  171.480895     0.0  2.317669  750520.366179   \n",
              "1072  21184.360080    0.000002  171.497192     0.0  2.317669  750520.366179   \n",
              "1073  21103.305550    0.000002  171.513331     0.0  2.317669  750520.366179   \n",
              "1074  21037.116768    0.000003  171.529308     0.0  2.317669  750520.366179   \n",
              "1075  20976.149013    0.000002  171.541975     0.0  2.317669  750520.366179   \n",
              "\n",
              "         TCMB(1)    TCMIB(1)   FREL(1)   FREL(2)  \n",
              "1071  370.119950  410.327498  0.004346  0.000047  \n",
              "1072  369.985221  410.312020  0.004351  0.000047  \n",
              "1073  369.851542  410.296111  0.004355  0.000047  \n",
              "1074  369.719003  410.280974  0.004360  0.000047  \n",
              "1075  369.614893  410.269200  0.004364  0.000047  "
            ],
            "text/html": [
              "\n",
              "  <div id=\"df-6e5217f3-c791-4664-b2cc-b549aeabc2d2\">\n",
              "    <div class=\"colab-df-container\">\n",
              "      <div>\n",
              "<style scoped>\n",
              "    .dataframe tbody tr th:only-of-type {\n",
              "        vertical-align: middle;\n",
              "    }\n",
              "\n",
              "    .dataframe tbody tr th {\n",
              "        vertical-align: top;\n",
              "    }\n",
              "\n",
              "    .dataframe thead th {\n",
              "        text-align: right;\n",
              "    }\n",
              "</style>\n",
              "<table border=\"1\" class=\"dataframe\">\n",
              "  <thead>\n",
              "    <tr style=\"text-align: right;\">\n",
              "      <th></th>\n",
              "      <th>TIME</th>\n",
              "      <th>PPS</th>\n",
              "      <th>TCRHOT</th>\n",
              "      <th>MH2CR1</th>\n",
              "      <th>ZWV</th>\n",
              "      <th>PPSTRB(3)</th>\n",
              "      <th>MFPWB(2,3)</th>\n",
              "      <th>WSPTA</th>\n",
              "      <th>WESFCL</th>\n",
              "      <th>XCNDB(1)</th>\n",
              "      <th>MCMTB(1)</th>\n",
              "      <th>TCMB(1)</th>\n",
              "      <th>TCMIB(1)</th>\n",
              "      <th>FREL(1)</th>\n",
              "      <th>FREL(2)</th>\n",
              "    </tr>\n",
              "  </thead>\n",
              "  <tbody>\n",
              "    <tr>\n",
              "      <th>1071</th>\n",
              "      <td>321487.720099</td>\n",
              "      <td>278310.315048</td>\n",
              "      <td>100.0</td>\n",
              "      <td>108.330616</td>\n",
              "      <td>4.312400</td>\n",
              "      <td>21266.333103</td>\n",
              "      <td>0.000002</td>\n",
              "      <td>171.480895</td>\n",
              "      <td>0.0</td>\n",
              "      <td>2.317669</td>\n",
              "      <td>750520.366179</td>\n",
              "      <td>370.119950</td>\n",
              "      <td>410.327498</td>\n",
              "      <td>0.004346</td>\n",
              "      <td>0.000047</td>\n",
              "    </tr>\n",
              "    <tr>\n",
              "      <th>1072</th>\n",
              "      <td>321788.537966</td>\n",
              "      <td>278135.425426</td>\n",
              "      <td>100.0</td>\n",
              "      <td>108.330616</td>\n",
              "      <td>4.535665</td>\n",
              "      <td>21184.360080</td>\n",
              "      <td>0.000002</td>\n",
              "      <td>171.497192</td>\n",
              "      <td>0.0</td>\n",
              "      <td>2.317669</td>\n",
              "      <td>750520.366179</td>\n",
              "      <td>369.985221</td>\n",
              "      <td>410.312020</td>\n",
              "      <td>0.004351</td>\n",
              "      <td>0.000047</td>\n",
              "    </tr>\n",
              "    <tr>\n",
              "      <th>1073</th>\n",
              "      <td>322089.382649</td>\n",
              "      <td>277999.821243</td>\n",
              "      <td>100.0</td>\n",
              "      <td>108.330616</td>\n",
              "      <td>4.309454</td>\n",
              "      <td>21103.305550</td>\n",
              "      <td>0.000002</td>\n",
              "      <td>171.513331</td>\n",
              "      <td>0.0</td>\n",
              "      <td>2.317669</td>\n",
              "      <td>750520.366179</td>\n",
              "      <td>369.851542</td>\n",
              "      <td>410.296111</td>\n",
              "      <td>0.004355</td>\n",
              "      <td>0.000047</td>\n",
              "    </tr>\n",
              "    <tr>\n",
              "      <th>1074</th>\n",
              "      <td>322390.074890</td>\n",
              "      <td>277826.113225</td>\n",
              "      <td>100.0</td>\n",
              "      <td>108.330616</td>\n",
              "      <td>4.520843</td>\n",
              "      <td>21037.116768</td>\n",
              "      <td>0.000003</td>\n",
              "      <td>171.529308</td>\n",
              "      <td>0.0</td>\n",
              "      <td>2.317669</td>\n",
              "      <td>750520.366179</td>\n",
              "      <td>369.719003</td>\n",
              "      <td>410.280974</td>\n",
              "      <td>0.004360</td>\n",
              "      <td>0.000047</td>\n",
              "    </tr>\n",
              "    <tr>\n",
              "      <th>1075</th>\n",
              "      <td>322630.432005</td>\n",
              "      <td>277731.507039</td>\n",
              "      <td>100.0</td>\n",
              "      <td>108.330616</td>\n",
              "      <td>4.302035</td>\n",
              "      <td>20976.149013</td>\n",
              "      <td>0.000002</td>\n",
              "      <td>171.541975</td>\n",
              "      <td>0.0</td>\n",
              "      <td>2.317669</td>\n",
              "      <td>750520.366179</td>\n",
              "      <td>369.614893</td>\n",
              "      <td>410.269200</td>\n",
              "      <td>0.004364</td>\n",
              "      <td>0.000047</td>\n",
              "    </tr>\n",
              "  </tbody>\n",
              "</table>\n",
              "</div>\n",
              "      <button class=\"colab-df-convert\" onclick=\"convertToInteractive('df-6e5217f3-c791-4664-b2cc-b549aeabc2d2')\"\n",
              "              title=\"Convert this dataframe to an interactive table.\"\n",
              "              style=\"display:none;\">\n",
              "        \n",
              "  <svg xmlns=\"http://www.w3.org/2000/svg\" height=\"24px\"viewBox=\"0 0 24 24\"\n",
              "       width=\"24px\">\n",
              "    <path d=\"M0 0h24v24H0V0z\" fill=\"none\"/>\n",
              "    <path d=\"M18.56 5.44l.94 2.06.94-2.06 2.06-.94-2.06-.94-.94-2.06-.94 2.06-2.06.94zm-11 1L8.5 8.5l.94-2.06 2.06-.94-2.06-.94L8.5 2.5l-.94 2.06-2.06.94zm10 10l.94 2.06.94-2.06 2.06-.94-2.06-.94-.94-2.06-.94 2.06-2.06.94z\"/><path d=\"M17.41 7.96l-1.37-1.37c-.4-.4-.92-.59-1.43-.59-.52 0-1.04.2-1.43.59L10.3 9.45l-7.72 7.72c-.78.78-.78 2.05 0 2.83L4 21.41c.39.39.9.59 1.41.59.51 0 1.02-.2 1.41-.59l7.78-7.78 2.81-2.81c.8-.78.8-2.07 0-2.86zM5.41 20L4 18.59l7.72-7.72 1.47 1.35L5.41 20z\"/>\n",
              "  </svg>\n",
              "      </button>\n",
              "      \n",
              "  <style>\n",
              "    .colab-df-container {\n",
              "      display:flex;\n",
              "      flex-wrap:wrap;\n",
              "      gap: 12px;\n",
              "    }\n",
              "\n",
              "    .colab-df-convert {\n",
              "      background-color: #E8F0FE;\n",
              "      border: none;\n",
              "      border-radius: 50%;\n",
              "      cursor: pointer;\n",
              "      display: none;\n",
              "      fill: #1967D2;\n",
              "      height: 32px;\n",
              "      padding: 0 0 0 0;\n",
              "      width: 32px;\n",
              "    }\n",
              "\n",
              "    .colab-df-convert:hover {\n",
              "      background-color: #E2EBFA;\n",
              "      box-shadow: 0px 1px 2px rgba(60, 64, 67, 0.3), 0px 1px 3px 1px rgba(60, 64, 67, 0.15);\n",
              "      fill: #174EA6;\n",
              "    }\n",
              "\n",
              "    [theme=dark] .colab-df-convert {\n",
              "      background-color: #3B4455;\n",
              "      fill: #D2E3FC;\n",
              "    }\n",
              "\n",
              "    [theme=dark] .colab-df-convert:hover {\n",
              "      background-color: #434B5C;\n",
              "      box-shadow: 0px 1px 3px 1px rgba(0, 0, 0, 0.15);\n",
              "      filter: drop-shadow(0px 1px 2px rgba(0, 0, 0, 0.3));\n",
              "      fill: #FFFFFF;\n",
              "    }\n",
              "  </style>\n",
              "\n",
              "      <script>\n",
              "        const buttonEl =\n",
              "          document.querySelector('#df-6e5217f3-c791-4664-b2cc-b549aeabc2d2 button.colab-df-convert');\n",
              "        buttonEl.style.display =\n",
              "          google.colab.kernel.accessAllowed ? 'block' : 'none';\n",
              "\n",
              "        async function convertToInteractive(key) {\n",
              "          const element = document.querySelector('#df-6e5217f3-c791-4664-b2cc-b549aeabc2d2');\n",
              "          const dataTable =\n",
              "            await google.colab.kernel.invokeFunction('convertToInteractive',\n",
              "                                                     [key], {});\n",
              "          if (!dataTable) return;\n",
              "\n",
              "          const docLinkHtml = 'Like what you see? Visit the ' +\n",
              "            '<a target=\"_blank\" href=https://colab.research.google.com/notebooks/data_table.ipynb>data table notebook</a>'\n",
              "            + ' to learn more about interactive tables.';\n",
              "          element.innerHTML = '';\n",
              "          dataTable['output_type'] = 'display_data';\n",
              "          await google.colab.output.renderOutput(dataTable, element);\n",
              "          const docLink = document.createElement('div');\n",
              "          docLink.innerHTML = docLinkHtml;\n",
              "          element.appendChild(docLink);\n",
              "        }\n",
              "      </script>\n",
              "    </div>\n",
              "  </div>\n",
              "  "
            ]
          },
          "metadata": {},
          "execution_count": 7
        }
      ]
    },
    {
      "cell_type": "code",
      "source": [
        "df_test.tail()"
      ],
      "metadata": {
        "colab": {
          "base_uri": "https://localhost:8080/",
          "height": 250
        },
        "id": "E4_NB-i4oSQ_",
        "outputId": "7bc473cd-2a33-4f59-b112-e2e37d055bad"
      },
      "execution_count": 8,
      "outputs": [
        {
          "output_type": "execute_result",
          "data": {
            "text/plain": [
              "          TIME        PPS     TCRHOT     MH2CR1      ZWV  PPSTRB(3)  \\\n",
              "883  264701.60  137339.71  2262.4162  277.65574  6.71237  12018.207   \n",
              "884  265001.70  136298.03  2261.5105  277.65574  6.71237  12015.111   \n",
              "885  265301.71  136156.88  2260.5958  277.65574  6.71237  12012.456   \n",
              "886  265601.78  136198.89  2259.6870  277.65574  6.71237  12004.733   \n",
              "887  265863.66  141512.82  2258.8968  277.65574  6.71237  11997.538   \n",
              "\n",
              "     MFPWB(2,3)      WSPTA     WESFCL  XCNDB(1)  MCMTB(1)  TCMB(1)  TCMIB(1)  \\\n",
              "883    0.000004  187.80320  98.983706       0.0       0.0    300.0     300.0   \n",
              "884    0.000004  187.80422  98.983946       0.0       0.0    300.0     300.0   \n",
              "885    0.000006  187.80608  98.984897       0.0       0.0    300.0     300.0   \n",
              "886    0.000006  187.80939  98.986654       0.0       0.0    300.0     300.0   \n",
              "887    0.000009  187.81426  98.990758       0.0       0.0    300.0     300.0   \n",
              "\n",
              "      FREL(1)   FREL(2)  \n",
              "883  0.001303  0.000002  \n",
              "884  0.001304  0.000002  \n",
              "885  0.001306  0.000002  \n",
              "886  0.001307  0.000002  \n",
              "887  0.001308  0.000002  "
            ],
            "text/html": [
              "\n",
              "  <div id=\"df-d33a4dec-2b31-4846-9032-8e64d7a5622f\">\n",
              "    <div class=\"colab-df-container\">\n",
              "      <div>\n",
              "<style scoped>\n",
              "    .dataframe tbody tr th:only-of-type {\n",
              "        vertical-align: middle;\n",
              "    }\n",
              "\n",
              "    .dataframe tbody tr th {\n",
              "        vertical-align: top;\n",
              "    }\n",
              "\n",
              "    .dataframe thead th {\n",
              "        text-align: right;\n",
              "    }\n",
              "</style>\n",
              "<table border=\"1\" class=\"dataframe\">\n",
              "  <thead>\n",
              "    <tr style=\"text-align: right;\">\n",
              "      <th></th>\n",
              "      <th>TIME</th>\n",
              "      <th>PPS</th>\n",
              "      <th>TCRHOT</th>\n",
              "      <th>MH2CR1</th>\n",
              "      <th>ZWV</th>\n",
              "      <th>PPSTRB(3)</th>\n",
              "      <th>MFPWB(2,3)</th>\n",
              "      <th>WSPTA</th>\n",
              "      <th>WESFCL</th>\n",
              "      <th>XCNDB(1)</th>\n",
              "      <th>MCMTB(1)</th>\n",
              "      <th>TCMB(1)</th>\n",
              "      <th>TCMIB(1)</th>\n",
              "      <th>FREL(1)</th>\n",
              "      <th>FREL(2)</th>\n",
              "    </tr>\n",
              "  </thead>\n",
              "  <tbody>\n",
              "    <tr>\n",
              "      <th>883</th>\n",
              "      <td>264701.60</td>\n",
              "      <td>137339.71</td>\n",
              "      <td>2262.4162</td>\n",
              "      <td>277.65574</td>\n",
              "      <td>6.71237</td>\n",
              "      <td>12018.207</td>\n",
              "      <td>0.000004</td>\n",
              "      <td>187.80320</td>\n",
              "      <td>98.983706</td>\n",
              "      <td>0.0</td>\n",
              "      <td>0.0</td>\n",
              "      <td>300.0</td>\n",
              "      <td>300.0</td>\n",
              "      <td>0.001303</td>\n",
              "      <td>0.000002</td>\n",
              "    </tr>\n",
              "    <tr>\n",
              "      <th>884</th>\n",
              "      <td>265001.70</td>\n",
              "      <td>136298.03</td>\n",
              "      <td>2261.5105</td>\n",
              "      <td>277.65574</td>\n",
              "      <td>6.71237</td>\n",
              "      <td>12015.111</td>\n",
              "      <td>0.000004</td>\n",
              "      <td>187.80422</td>\n",
              "      <td>98.983946</td>\n",
              "      <td>0.0</td>\n",
              "      <td>0.0</td>\n",
              "      <td>300.0</td>\n",
              "      <td>300.0</td>\n",
              "      <td>0.001304</td>\n",
              "      <td>0.000002</td>\n",
              "    </tr>\n",
              "    <tr>\n",
              "      <th>885</th>\n",
              "      <td>265301.71</td>\n",
              "      <td>136156.88</td>\n",
              "      <td>2260.5958</td>\n",
              "      <td>277.65574</td>\n",
              "      <td>6.71237</td>\n",
              "      <td>12012.456</td>\n",
              "      <td>0.000006</td>\n",
              "      <td>187.80608</td>\n",
              "      <td>98.984897</td>\n",
              "      <td>0.0</td>\n",
              "      <td>0.0</td>\n",
              "      <td>300.0</td>\n",
              "      <td>300.0</td>\n",
              "      <td>0.001306</td>\n",
              "      <td>0.000002</td>\n",
              "    </tr>\n",
              "    <tr>\n",
              "      <th>886</th>\n",
              "      <td>265601.78</td>\n",
              "      <td>136198.89</td>\n",
              "      <td>2259.6870</td>\n",
              "      <td>277.65574</td>\n",
              "      <td>6.71237</td>\n",
              "      <td>12004.733</td>\n",
              "      <td>0.000006</td>\n",
              "      <td>187.80939</td>\n",
              "      <td>98.986654</td>\n",
              "      <td>0.0</td>\n",
              "      <td>0.0</td>\n",
              "      <td>300.0</td>\n",
              "      <td>300.0</td>\n",
              "      <td>0.001307</td>\n",
              "      <td>0.000002</td>\n",
              "    </tr>\n",
              "    <tr>\n",
              "      <th>887</th>\n",
              "      <td>265863.66</td>\n",
              "      <td>141512.82</td>\n",
              "      <td>2258.8968</td>\n",
              "      <td>277.65574</td>\n",
              "      <td>6.71237</td>\n",
              "      <td>11997.538</td>\n",
              "      <td>0.000009</td>\n",
              "      <td>187.81426</td>\n",
              "      <td>98.990758</td>\n",
              "      <td>0.0</td>\n",
              "      <td>0.0</td>\n",
              "      <td>300.0</td>\n",
              "      <td>300.0</td>\n",
              "      <td>0.001308</td>\n",
              "      <td>0.000002</td>\n",
              "    </tr>\n",
              "  </tbody>\n",
              "</table>\n",
              "</div>\n",
              "      <button class=\"colab-df-convert\" onclick=\"convertToInteractive('df-d33a4dec-2b31-4846-9032-8e64d7a5622f')\"\n",
              "              title=\"Convert this dataframe to an interactive table.\"\n",
              "              style=\"display:none;\">\n",
              "        \n",
              "  <svg xmlns=\"http://www.w3.org/2000/svg\" height=\"24px\"viewBox=\"0 0 24 24\"\n",
              "       width=\"24px\">\n",
              "    <path d=\"M0 0h24v24H0V0z\" fill=\"none\"/>\n",
              "    <path d=\"M18.56 5.44l.94 2.06.94-2.06 2.06-.94-2.06-.94-.94-2.06-.94 2.06-2.06.94zm-11 1L8.5 8.5l.94-2.06 2.06-.94-2.06-.94L8.5 2.5l-.94 2.06-2.06.94zm10 10l.94 2.06.94-2.06 2.06-.94-2.06-.94-.94-2.06-.94 2.06-2.06.94z\"/><path d=\"M17.41 7.96l-1.37-1.37c-.4-.4-.92-.59-1.43-.59-.52 0-1.04.2-1.43.59L10.3 9.45l-7.72 7.72c-.78.78-.78 2.05 0 2.83L4 21.41c.39.39.9.59 1.41.59.51 0 1.02-.2 1.41-.59l7.78-7.78 2.81-2.81c.8-.78.8-2.07 0-2.86zM5.41 20L4 18.59l7.72-7.72 1.47 1.35L5.41 20z\"/>\n",
              "  </svg>\n",
              "      </button>\n",
              "      \n",
              "  <style>\n",
              "    .colab-df-container {\n",
              "      display:flex;\n",
              "      flex-wrap:wrap;\n",
              "      gap: 12px;\n",
              "    }\n",
              "\n",
              "    .colab-df-convert {\n",
              "      background-color: #E8F0FE;\n",
              "      border: none;\n",
              "      border-radius: 50%;\n",
              "      cursor: pointer;\n",
              "      display: none;\n",
              "      fill: #1967D2;\n",
              "      height: 32px;\n",
              "      padding: 0 0 0 0;\n",
              "      width: 32px;\n",
              "    }\n",
              "\n",
              "    .colab-df-convert:hover {\n",
              "      background-color: #E2EBFA;\n",
              "      box-shadow: 0px 1px 2px rgba(60, 64, 67, 0.3), 0px 1px 3px 1px rgba(60, 64, 67, 0.15);\n",
              "      fill: #174EA6;\n",
              "    }\n",
              "\n",
              "    [theme=dark] .colab-df-convert {\n",
              "      background-color: #3B4455;\n",
              "      fill: #D2E3FC;\n",
              "    }\n",
              "\n",
              "    [theme=dark] .colab-df-convert:hover {\n",
              "      background-color: #434B5C;\n",
              "      box-shadow: 0px 1px 3px 1px rgba(0, 0, 0, 0.15);\n",
              "      filter: drop-shadow(0px 1px 2px rgba(0, 0, 0, 0.3));\n",
              "      fill: #FFFFFF;\n",
              "    }\n",
              "  </style>\n",
              "\n",
              "      <script>\n",
              "        const buttonEl =\n",
              "          document.querySelector('#df-d33a4dec-2b31-4846-9032-8e64d7a5622f button.colab-df-convert');\n",
              "        buttonEl.style.display =\n",
              "          google.colab.kernel.accessAllowed ? 'block' : 'none';\n",
              "\n",
              "        async function convertToInteractive(key) {\n",
              "          const element = document.querySelector('#df-d33a4dec-2b31-4846-9032-8e64d7a5622f');\n",
              "          const dataTable =\n",
              "            await google.colab.kernel.invokeFunction('convertToInteractive',\n",
              "                                                     [key], {});\n",
              "          if (!dataTable) return;\n",
              "\n",
              "          const docLinkHtml = 'Like what you see? Visit the ' +\n",
              "            '<a target=\"_blank\" href=https://colab.research.google.com/notebooks/data_table.ipynb>data table notebook</a>'\n",
              "            + ' to learn more about interactive tables.';\n",
              "          element.innerHTML = '';\n",
              "          dataTable['output_type'] = 'display_data';\n",
              "          await google.colab.output.renderOutput(dataTable, element);\n",
              "          const docLink = document.createElement('div');\n",
              "          docLink.innerHTML = docLinkHtml;\n",
              "          element.appendChild(docLink);\n",
              "        }\n",
              "      </script>\n",
              "    </div>\n",
              "  </div>\n",
              "  "
            ]
          },
          "metadata": {},
          "execution_count": 8
        }
      ]
    },
    {
      "cell_type": "code",
      "source": [
        "# MinMaxScaler\n",
        "from sklearn.preprocessing import MinMaxScaler\n",
        "# 복원을 위해 x, y 따로 스케일링하기\n",
        "# 스케일링 후 list 형태로 변환하기\n",
        "mms = MinMaxScaler()\n",
        "x = mms.fit_transform(dfx).tolist()\n",
        "y = mms.fit_transform(dfy.to_frame()).tolist()"
      ],
      "metadata": {
        "id": "QK0eQDbxA95r"
      },
      "execution_count": 9,
      "outputs": []
    },
    {
      "cell_type": "code",
      "source": [
        "len(x[0]), len(y[0])\n",
        "# (1075, 14)      (1075, 1)"
      ],
      "metadata": {
        "colab": {
          "base_uri": "https://localhost:8080/"
        },
        "id": "9epDQaRYA9-s",
        "outputId": "2fa4048e-b622-4fcf-f1ec-da648048e766"
      },
      "execution_count": 10,
      "outputs": [
        {
          "output_type": "execute_result",
          "data": {
            "text/plain": [
              "(14, 1)"
            ]
          },
          "metadata": {},
          "execution_count": 10
        }
      ]
    },
    {
      "cell_type": "code",
      "source": [
        "window_size = 10 \n",
        "len(y) - window_size"
      ],
      "metadata": {
        "colab": {
          "base_uri": "https://localhost:8080/"
        },
        "id": "p5rGNkWtA-DX",
        "outputId": "b29d9090-4927-4a51-93f0-d9fb8cccae0c"
      },
      "execution_count": 11,
      "outputs": [
        {
          "output_type": "execute_result",
          "data": {
            "text/plain": [
              "1066"
            ]
          },
          "metadata": {},
          "execution_count": 11
        }
      ]
    },
    {
      "cell_type": "code",
      "source": [
        "# window_size 만큼만 슬라이싱\n",
        "# 10개 단위 데이터로 다음 y값을 예측\n",
        "# 다음 y값(i+windows_size)은 포함되지 않도록 X값을 만들기\n",
        "window_size = 10 \n",
        "x_data = []\n",
        "y_data = []\n",
        "\n",
        "for i in range(len(y) - window_size):\n",
        "    _x = x[i : i+window_size]\n",
        "    _y = y[i + window_size]\n",
        "    x_data.append(_x)\n",
        "    y_data.append(_y)"
      ],
      "metadata": {
        "id": "vXRI2C46A-Hv"
      },
      "execution_count": 12,
      "outputs": []
    },
    {
      "cell_type": "code",
      "source": [
        "len(x_data), len(y_data)"
      ],
      "metadata": {
        "colab": {
          "base_uri": "https://localhost:8080/"
        },
        "id": "QSsq5VJOA-LW",
        "outputId": "83ba8daf-e6b9-42d2-a847-90061e334139"
      },
      "execution_count": 13,
      "outputs": [
        {
          "output_type": "execute_result",
          "data": {
            "text/plain": [
              "(1066, 1066)"
            ]
          },
          "metadata": {},
          "execution_count": 13
        }
      ]
    },
    {
      "cell_type": "code",
      "source": [
        "# 8:2 로 나누기\n",
        "split_size = int(len(x_data) * 0.8)\n",
        "split_size"
      ],
      "metadata": {
        "colab": {
          "base_uri": "https://localhost:8080/"
        },
        "id": "AfkEeDWmKLcv",
        "outputId": "2db8afcf-8d33-49fc-8634-39cac1ad6002"
      },
      "execution_count": 14,
      "outputs": [
        {
          "output_type": "execute_result",
          "data": {
            "text/plain": [
              "852"
            ]
          },
          "metadata": {},
          "execution_count": 14
        }
      ]
    },
    {
      "cell_type": "code",
      "source": [
        "X_train = np.array(x_data[:split_size]) # 80\n",
        "y_train = np.array(y_data[:split_size]) #80\n",
        "X_valid = np.array(x_data[split_size:]) # 20\n",
        "y_valid = np.array(y_data[split_size:]) #20"
      ],
      "metadata": {
        "id": "GtazEDTFKOsV"
      },
      "execution_count": 15,
      "outputs": []
    },
    {
      "cell_type": "code",
      "source": [
        "X_train.shape, y_train.shape, X_valid.shape, y_valid.shape"
      ],
      "metadata": {
        "colab": {
          "base_uri": "https://localhost:8080/"
        },
        "id": "KoPlpz1pA-Vg",
        "outputId": "7926d5f7-cd4f-4511-dee2-19152df58f87"
      },
      "execution_count": 16,
      "outputs": [
        {
          "output_type": "execute_result",
          "data": {
            "text/plain": [
              "((852, 10, 14), (852, 1), (214, 10, 14), (214, 1))"
            ]
          },
          "metadata": {},
          "execution_count": 16
        }
      ]
    },
    {
      "cell_type": "code",
      "source": [
        "data_size = dfx.shape[1]\n",
        "data_size"
      ],
      "metadata": {
        "colab": {
          "base_uri": "https://localhost:8080/"
        },
        "id": "1Gk6Ss5JA-ZY",
        "outputId": "f8f163f6-c92a-4dd0-e930-4bd345fde457"
      },
      "execution_count": 17,
      "outputs": [
        {
          "output_type": "execute_result",
          "data": {
            "text/plain": [
              "14"
            ]
          },
          "metadata": {},
          "execution_count": 17
        }
      ]
    },
    {
      "cell_type": "code",
      "source": [
        "# 모델 생성\n",
        "\n",
        "data_size = dfx.shape[1]\n",
        "\n",
        "model = Sequential()\n",
        "model.add(LSTM(units=10, activation='relu', return_sequences=True,input_shape=(window_size, data_size)))\n",
        "model.add(Dropout(0.1))\n",
        "model.add(Bidirectional(LSTM(units=10, activation='relu')))\n",
        "model.add(Dropout(0.1))\n",
        "model.add(Dense(units=1)) # 분류를 하기 위한 학습\n",
        "model.summary()"
      ],
      "metadata": {
        "colab": {
          "base_uri": "https://localhost:8080/"
        },
        "id": "B8-5cInXI6kO",
        "outputId": "32367806-5f84-460c-b193-13ccd89b5c13"
      },
      "execution_count": 18,
      "outputs": [
        {
          "output_type": "stream",
          "name": "stdout",
          "text": [
            "Model: \"sequential\"\n",
            "_________________________________________________________________\n",
            " Layer (type)                Output Shape              Param #   \n",
            "=================================================================\n",
            " lstm (LSTM)                 (None, 10, 10)            1000      \n",
            "                                                                 \n",
            " dropout (Dropout)           (None, 10, 10)            0         \n",
            "                                                                 \n",
            " bidirectional (Bidirectiona  (None, 20)               1680      \n",
            " l)                                                              \n",
            "                                                                 \n",
            " dropout_1 (Dropout)         (None, 20)                0         \n",
            "                                                                 \n",
            " dense (Dense)               (None, 1)                 21        \n",
            "                                                                 \n",
            "=================================================================\n",
            "Total params: 2,701\n",
            "Trainable params: 2,701\n",
            "Non-trainable params: 0\n",
            "_________________________________________________________________\n"
          ]
        }
      ]
    },
    {
      "cell_type": "code",
      "source": [
        "model.compile(optimizer='adam',loss='mse',metrics=['mse','mae'])"
      ],
      "metadata": {
        "id": "oGUa_5DVI6pH"
      },
      "execution_count": 19,
      "outputs": []
    },
    {
      "cell_type": "code",
      "source": [
        "X_train.shape, y_train.shape"
      ],
      "metadata": {
        "colab": {
          "base_uri": "https://localhost:8080/"
        },
        "id": "LToe_LePI6tA",
        "outputId": "47929d25-c577-42cc-b782-2c7cbcf72f93"
      },
      "execution_count": 20,
      "outputs": [
        {
          "output_type": "execute_result",
          "data": {
            "text/plain": [
              "((852, 10, 14), (852, 1))"
            ]
          },
          "metadata": {},
          "execution_count": 20
        }
      ]
    },
    {
      "cell_type": "code",
      "source": [
        "history = model.fit(X_train, y_train, epochs = 100, validation_split = 0.2, batch_size=30, verbose=1) #verbose, callbacks 추가 서치 요망 "
      ],
      "metadata": {
        "colab": {
          "base_uri": "https://localhost:8080/"
        },
        "id": "opVcb-n9I6w9",
        "outputId": "77b570f8-81c3-42dd-deb7-ddd7fb88f217"
      },
      "execution_count": 21,
      "outputs": [
        {
          "output_type": "stream",
          "name": "stdout",
          "text": [
            "Epoch 1/100\n",
            "23/23 [==============================] - 11s 93ms/step - loss: 0.1056 - mse: 0.1056 - mae: 0.2430 - val_loss: 0.0974 - val_mse: 0.0974 - val_mae: 0.3117\n",
            "Epoch 2/100\n",
            "23/23 [==============================] - 1s 24ms/step - loss: 0.0266 - mse: 0.0266 - mae: 0.1104 - val_loss: 0.1688 - val_mse: 0.1688 - val_mae: 0.4107\n",
            "Epoch 3/100\n",
            "23/23 [==============================] - 1s 33ms/step - loss: 0.0177 - mse: 0.0177 - mae: 0.0921 - val_loss: 0.0985 - val_mse: 0.0985 - val_mae: 0.3135\n",
            "Epoch 4/100\n",
            "23/23 [==============================] - 1s 38ms/step - loss: 0.0143 - mse: 0.0143 - mae: 0.0816 - val_loss: 0.0889 - val_mse: 0.0889 - val_mae: 0.2980\n",
            "Epoch 5/100\n",
            "23/23 [==============================] - 1s 32ms/step - loss: 0.0102 - mse: 0.0102 - mae: 0.0705 - val_loss: 0.0774 - val_mse: 0.0774 - val_mae: 0.2779\n",
            "Epoch 6/100\n",
            "23/23 [==============================] - 1s 34ms/step - loss: 0.0083 - mse: 0.0083 - mae: 0.0645 - val_loss: 0.0733 - val_mse: 0.0733 - val_mae: 0.2706\n",
            "Epoch 7/100\n",
            "23/23 [==============================] - 1s 44ms/step - loss: 0.0084 - mse: 0.0084 - mae: 0.0641 - val_loss: 0.0435 - val_mse: 0.0435 - val_mae: 0.2083\n",
            "Epoch 8/100\n",
            "23/23 [==============================] - 1s 24ms/step - loss: 0.0060 - mse: 0.0060 - mae: 0.0566 - val_loss: 0.0307 - val_mse: 0.0307 - val_mae: 0.1749\n",
            "Epoch 9/100\n",
            "23/23 [==============================] - 1s 31ms/step - loss: 0.0060 - mse: 0.0060 - mae: 0.0548 - val_loss: 0.0293 - val_mse: 0.0293 - val_mae: 0.1708\n",
            "Epoch 10/100\n",
            "23/23 [==============================] - 1s 29ms/step - loss: 0.0055 - mse: 0.0055 - mae: 0.0523 - val_loss: 0.0460 - val_mse: 0.0460 - val_mae: 0.2141\n",
            "Epoch 11/100\n",
            "23/23 [==============================] - 1s 26ms/step - loss: 0.0059 - mse: 0.0059 - mae: 0.0533 - val_loss: 0.0238 - val_mse: 0.0238 - val_mae: 0.1538\n",
            "Epoch 12/100\n",
            "23/23 [==============================] - 0s 14ms/step - loss: 0.0048 - mse: 0.0048 - mae: 0.0492 - val_loss: 0.0280 - val_mse: 0.0280 - val_mae: 0.1671\n",
            "Epoch 13/100\n",
            "23/23 [==============================] - 0s 14ms/step - loss: 0.0049 - mse: 0.0049 - mae: 0.0498 - val_loss: 0.0317 - val_mse: 0.0317 - val_mae: 0.1778\n",
            "Epoch 14/100\n",
            "23/23 [==============================] - 0s 14ms/step - loss: 0.0051 - mse: 0.0051 - mae: 0.0495 - val_loss: 0.0293 - val_mse: 0.0293 - val_mae: 0.1711\n",
            "Epoch 15/100\n",
            "23/23 [==============================] - 0s 13ms/step - loss: 0.0058 - mse: 0.0058 - mae: 0.0528 - val_loss: 0.0220 - val_mse: 0.0220 - val_mae: 0.1480\n",
            "Epoch 16/100\n",
            "23/23 [==============================] - 0s 15ms/step - loss: 0.0045 - mse: 0.0045 - mae: 0.0474 - val_loss: 0.0197 - val_mse: 0.0197 - val_mae: 0.1401\n",
            "Epoch 17/100\n",
            "23/23 [==============================] - 0s 13ms/step - loss: 0.0045 - mse: 0.0045 - mae: 0.0478 - val_loss: 0.0214 - val_mse: 0.0214 - val_mae: 0.1460\n",
            "Epoch 18/100\n",
            "23/23 [==============================] - 0s 13ms/step - loss: 0.0047 - mse: 0.0047 - mae: 0.0476 - val_loss: 0.0172 - val_mse: 0.0172 - val_mae: 0.1309\n",
            "Epoch 19/100\n",
            "23/23 [==============================] - 0s 16ms/step - loss: 0.0043 - mse: 0.0043 - mae: 0.0463 - val_loss: 0.0231 - val_mse: 0.0231 - val_mae: 0.1517\n",
            "Epoch 20/100\n",
            "23/23 [==============================] - 0s 16ms/step - loss: 0.0043 - mse: 0.0043 - mae: 0.0452 - val_loss: 0.0172 - val_mse: 0.0172 - val_mae: 0.1308\n",
            "Epoch 21/100\n",
            "23/23 [==============================] - 0s 18ms/step - loss: 0.0047 - mse: 0.0047 - mae: 0.0466 - val_loss: 0.0142 - val_mse: 0.0142 - val_mae: 0.1187\n",
            "Epoch 22/100\n",
            "23/23 [==============================] - 0s 17ms/step - loss: 0.0043 - mse: 0.0043 - mae: 0.0444 - val_loss: 0.0158 - val_mse: 0.0158 - val_mae: 0.1253\n",
            "Epoch 23/100\n",
            "23/23 [==============================] - 0s 16ms/step - loss: 0.0038 - mse: 0.0038 - mae: 0.0446 - val_loss: 0.0195 - val_mse: 0.0195 - val_mae: 0.1393\n",
            "Epoch 24/100\n",
            "23/23 [==============================] - 0s 16ms/step - loss: 0.0041 - mse: 0.0041 - mae: 0.0452 - val_loss: 0.0198 - val_mse: 0.0198 - val_mae: 0.1404\n",
            "Epoch 25/100\n",
            "23/23 [==============================] - 0s 15ms/step - loss: 0.0040 - mse: 0.0040 - mae: 0.0452 - val_loss: 0.0089 - val_mse: 0.0089 - val_mae: 0.0938\n",
            "Epoch 26/100\n",
            "23/23 [==============================] - 0s 13ms/step - loss: 0.0041 - mse: 0.0041 - mae: 0.0443 - val_loss: 0.0200 - val_mse: 0.0200 - val_mae: 0.1411\n",
            "Epoch 27/100\n",
            "23/23 [==============================] - 0s 15ms/step - loss: 0.0036 - mse: 0.0036 - mae: 0.0421 - val_loss: 0.0143 - val_mse: 0.0143 - val_mae: 0.1193\n",
            "Epoch 28/100\n",
            "23/23 [==============================] - 0s 18ms/step - loss: 0.0035 - mse: 0.0035 - mae: 0.0423 - val_loss: 0.0179 - val_mse: 0.0179 - val_mae: 0.1336\n",
            "Epoch 29/100\n",
            "23/23 [==============================] - 0s 16ms/step - loss: 0.0038 - mse: 0.0038 - mae: 0.0430 - val_loss: 0.0093 - val_mse: 0.0093 - val_mae: 0.0962\n",
            "Epoch 30/100\n",
            "23/23 [==============================] - 0s 16ms/step - loss: 0.0040 - mse: 0.0040 - mae: 0.0437 - val_loss: 0.0164 - val_mse: 0.0164 - val_mae: 0.1280\n",
            "Epoch 31/100\n",
            "23/23 [==============================] - 0s 17ms/step - loss: 0.0037 - mse: 0.0037 - mae: 0.0424 - val_loss: 0.0157 - val_mse: 0.0157 - val_mae: 0.1251\n",
            "Epoch 32/100\n",
            "23/23 [==============================] - 0s 16ms/step - loss: 0.0047 - mse: 0.0047 - mae: 0.0465 - val_loss: 0.0198 - val_mse: 0.0198 - val_mae: 0.1407\n",
            "Epoch 33/100\n",
            "23/23 [==============================] - 0s 14ms/step - loss: 0.0039 - mse: 0.0039 - mae: 0.0433 - val_loss: 0.0127 - val_mse: 0.0127 - val_mae: 0.1126\n",
            "Epoch 34/100\n",
            "23/23 [==============================] - 0s 14ms/step - loss: 0.0034 - mse: 0.0034 - mae: 0.0408 - val_loss: 0.0144 - val_mse: 0.0144 - val_mae: 0.1197\n",
            "Epoch 35/100\n",
            "23/23 [==============================] - 0s 15ms/step - loss: 0.0035 - mse: 0.0035 - mae: 0.0409 - val_loss: 0.0082 - val_mse: 0.0082 - val_mae: 0.0903\n",
            "Epoch 36/100\n",
            "23/23 [==============================] - 0s 14ms/step - loss: 0.0038 - mse: 0.0038 - mae: 0.0429 - val_loss: 0.0077 - val_mse: 0.0077 - val_mae: 0.0875\n",
            "Epoch 37/100\n",
            "23/23 [==============================] - 0s 15ms/step - loss: 0.0034 - mse: 0.0034 - mae: 0.0420 - val_loss: 0.0125 - val_mse: 0.0125 - val_mae: 0.1118\n",
            "Epoch 38/100\n",
            "23/23 [==============================] - 0s 14ms/step - loss: 0.0032 - mse: 0.0032 - mae: 0.0403 - val_loss: 0.0160 - val_mse: 0.0160 - val_mae: 0.1263\n",
            "Epoch 39/100\n",
            "23/23 [==============================] - 0s 14ms/step - loss: 0.0032 - mse: 0.0032 - mae: 0.0399 - val_loss: 0.0121 - val_mse: 0.0121 - val_mae: 0.1098\n",
            "Epoch 40/100\n",
            "23/23 [==============================] - 0s 14ms/step - loss: 0.0033 - mse: 0.0033 - mae: 0.0408 - val_loss: 0.0119 - val_mse: 0.0119 - val_mae: 0.1090\n",
            "Epoch 41/100\n",
            "23/23 [==============================] - 0s 14ms/step - loss: 0.0034 - mse: 0.0034 - mae: 0.0421 - val_loss: 0.0114 - val_mse: 0.0114 - val_mae: 0.1064\n",
            "Epoch 42/100\n",
            "23/23 [==============================] - 0s 15ms/step - loss: 0.0031 - mse: 0.0031 - mae: 0.0398 - val_loss: 0.0142 - val_mse: 0.0142 - val_mae: 0.1190\n",
            "Epoch 43/100\n",
            "23/23 [==============================] - 0s 15ms/step - loss: 0.0031 - mse: 0.0031 - mae: 0.0393 - val_loss: 0.0129 - val_mse: 0.0129 - val_mae: 0.1132\n",
            "Epoch 44/100\n",
            "23/23 [==============================] - 0s 17ms/step - loss: 0.0033 - mse: 0.0033 - mae: 0.0406 - val_loss: 0.0081 - val_mse: 0.0081 - val_mae: 0.0895\n",
            "Epoch 45/100\n",
            "23/23 [==============================] - 0s 16ms/step - loss: 0.0030 - mse: 0.0030 - mae: 0.0392 - val_loss: 0.0146 - val_mse: 0.0146 - val_mae: 0.1205\n",
            "Epoch 46/100\n",
            "23/23 [==============================] - 0s 16ms/step - loss: 0.0028 - mse: 0.0028 - mae: 0.0384 - val_loss: 0.0071 - val_mse: 0.0071 - val_mae: 0.0842\n",
            "Epoch 47/100\n",
            "23/23 [==============================] - 0s 15ms/step - loss: 0.0033 - mse: 0.0033 - mae: 0.0402 - val_loss: 0.0116 - val_mse: 0.0116 - val_mae: 0.1075\n",
            "Epoch 48/100\n",
            "23/23 [==============================] - 0s 14ms/step - loss: 0.0026 - mse: 0.0026 - mae: 0.0375 - val_loss: 0.0169 - val_mse: 0.0169 - val_mae: 0.1297\n",
            "Epoch 49/100\n",
            "23/23 [==============================] - 0s 14ms/step - loss: 0.0030 - mse: 0.0030 - mae: 0.0405 - val_loss: 0.0097 - val_mse: 0.0097 - val_mae: 0.0984\n",
            "Epoch 50/100\n",
            "23/23 [==============================] - 0s 15ms/step - loss: 0.0026 - mse: 0.0026 - mae: 0.0370 - val_loss: 0.0126 - val_mse: 0.0126 - val_mae: 0.1119\n",
            "Epoch 51/100\n",
            "23/23 [==============================] - 0s 16ms/step - loss: 0.0026 - mse: 0.0026 - mae: 0.0368 - val_loss: 0.0109 - val_mse: 0.0109 - val_mae: 0.1041\n",
            "Epoch 52/100\n",
            "23/23 [==============================] - 0s 16ms/step - loss: 0.0026 - mse: 0.0026 - mae: 0.0373 - val_loss: 0.0093 - val_mse: 0.0093 - val_mae: 0.0960\n",
            "Epoch 53/100\n",
            "23/23 [==============================] - 0s 14ms/step - loss: 0.0030 - mse: 0.0030 - mae: 0.0404 - val_loss: 0.0135 - val_mse: 0.0135 - val_mae: 0.1161\n",
            "Epoch 54/100\n",
            "23/23 [==============================] - 0s 16ms/step - loss: 0.0026 - mse: 0.0026 - mae: 0.0364 - val_loss: 0.0101 - val_mse: 0.0101 - val_mae: 0.1004\n",
            "Epoch 55/100\n",
            "23/23 [==============================] - 0s 14ms/step - loss: 0.0027 - mse: 0.0027 - mae: 0.0375 - val_loss: 0.0094 - val_mse: 0.0094 - val_mae: 0.0970\n",
            "Epoch 56/100\n",
            "23/23 [==============================] - 0s 15ms/step - loss: 0.0025 - mse: 0.0025 - mae: 0.0367 - val_loss: 0.0102 - val_mse: 0.0102 - val_mae: 0.1010\n",
            "Epoch 57/100\n",
            "23/23 [==============================] - 0s 16ms/step - loss: 0.0029 - mse: 0.0029 - mae: 0.0390 - val_loss: 0.0142 - val_mse: 0.0142 - val_mae: 0.1189\n",
            "Epoch 58/100\n",
            "23/23 [==============================] - 0s 16ms/step - loss: 0.0025 - mse: 0.0025 - mae: 0.0376 - val_loss: 0.0119 - val_mse: 0.0119 - val_mae: 0.1088\n",
            "Epoch 59/100\n",
            "23/23 [==============================] - 0s 18ms/step - loss: 0.0025 - mse: 0.0025 - mae: 0.0362 - val_loss: 0.0106 - val_mse: 0.0106 - val_mae: 0.1026\n",
            "Epoch 60/100\n",
            "23/23 [==============================] - 0s 16ms/step - loss: 0.0029 - mse: 0.0029 - mae: 0.0390 - val_loss: 0.0085 - val_mse: 0.0085 - val_mae: 0.0917\n",
            "Epoch 61/100\n",
            "23/23 [==============================] - 0s 16ms/step - loss: 0.0026 - mse: 0.0026 - mae: 0.0365 - val_loss: 0.0163 - val_mse: 0.0163 - val_mae: 0.1275\n",
            "Epoch 62/100\n",
            "23/23 [==============================] - 0s 16ms/step - loss: 0.0025 - mse: 0.0025 - mae: 0.0364 - val_loss: 0.0187 - val_mse: 0.0187 - val_mae: 0.1367\n",
            "Epoch 63/100\n",
            "23/23 [==============================] - 0s 16ms/step - loss: 0.0027 - mse: 0.0027 - mae: 0.0368 - val_loss: 0.0083 - val_mse: 0.0083 - val_mae: 0.0910\n",
            "Epoch 64/100\n",
            "23/23 [==============================] - 0s 14ms/step - loss: 0.0023 - mse: 0.0023 - mae: 0.0351 - val_loss: 0.0149 - val_mse: 0.0149 - val_mae: 0.1219\n",
            "Epoch 65/100\n",
            "23/23 [==============================] - 0s 14ms/step - loss: 0.0027 - mse: 0.0027 - mae: 0.0375 - val_loss: 0.0097 - val_mse: 0.0097 - val_mae: 0.0981\n",
            "Epoch 66/100\n",
            "23/23 [==============================] - 0s 14ms/step - loss: 0.0028 - mse: 0.0028 - mae: 0.0382 - val_loss: 0.0105 - val_mse: 0.0105 - val_mae: 0.1022\n",
            "Epoch 67/100\n",
            "23/23 [==============================] - 0s 17ms/step - loss: 0.0027 - mse: 0.0027 - mae: 0.0383 - val_loss: 0.0157 - val_mse: 0.0157 - val_mae: 0.1251\n",
            "Epoch 68/100\n",
            "23/23 [==============================] - 0s 17ms/step - loss: 0.0025 - mse: 0.0025 - mae: 0.0375 - val_loss: 0.0106 - val_mse: 0.0106 - val_mae: 0.1025\n",
            "Epoch 69/100\n",
            "23/23 [==============================] - 0s 16ms/step - loss: 0.0026 - mse: 0.0026 - mae: 0.0362 - val_loss: 0.0121 - val_mse: 0.0121 - val_mae: 0.1099\n",
            "Epoch 70/100\n",
            "23/23 [==============================] - 0s 14ms/step - loss: 0.0027 - mse: 0.0027 - mae: 0.0370 - val_loss: 0.0115 - val_mse: 0.0115 - val_mae: 0.1070\n",
            "Epoch 71/100\n",
            "23/23 [==============================] - 0s 14ms/step - loss: 0.0023 - mse: 0.0023 - mae: 0.0352 - val_loss: 0.0028 - val_mse: 0.0028 - val_mae: 0.0527\n",
            "Epoch 72/100\n",
            "23/23 [==============================] - 0s 14ms/step - loss: 0.0027 - mse: 0.0027 - mae: 0.0376 - val_loss: 0.0057 - val_mse: 0.0057 - val_mae: 0.0754\n",
            "Epoch 73/100\n",
            "23/23 [==============================] - 0s 15ms/step - loss: 0.0026 - mse: 0.0026 - mae: 0.0383 - val_loss: 0.0169 - val_mse: 0.0169 - val_mae: 0.1298\n",
            "Epoch 74/100\n",
            "23/23 [==============================] - 0s 16ms/step - loss: 0.0025 - mse: 0.0025 - mae: 0.0378 - val_loss: 0.0054 - val_mse: 0.0054 - val_mae: 0.0729\n",
            "Epoch 75/100\n",
            "23/23 [==============================] - 0s 16ms/step - loss: 0.0024 - mse: 0.0024 - mae: 0.0356 - val_loss: 0.0093 - val_mse: 0.0093 - val_mae: 0.0963\n",
            "Epoch 76/100\n",
            "23/23 [==============================] - 0s 14ms/step - loss: 0.0024 - mse: 0.0024 - mae: 0.0363 - val_loss: 0.0065 - val_mse: 0.0065 - val_mae: 0.0804\n",
            "Epoch 77/100\n",
            "23/23 [==============================] - 0s 14ms/step - loss: 0.0026 - mse: 0.0026 - mae: 0.0377 - val_loss: 0.0065 - val_mse: 0.0065 - val_mae: 0.0805\n",
            "Epoch 78/100\n",
            "23/23 [==============================] - 0s 14ms/step - loss: 0.0021 - mse: 0.0021 - mae: 0.0340 - val_loss: 0.0161 - val_mse: 0.0161 - val_mae: 0.1267\n",
            "Epoch 79/100\n",
            "23/23 [==============================] - 0s 16ms/step - loss: 0.0025 - mse: 0.0025 - mae: 0.0372 - val_loss: 0.0042 - val_mse: 0.0042 - val_mae: 0.0642\n",
            "Epoch 80/100\n",
            "23/23 [==============================] - 0s 17ms/step - loss: 0.0022 - mse: 0.0022 - mae: 0.0345 - val_loss: 0.0086 - val_mse: 0.0086 - val_mae: 0.0925\n",
            "Epoch 81/100\n",
            "23/23 [==============================] - 0s 18ms/step - loss: 0.0024 - mse: 0.0024 - mae: 0.0363 - val_loss: 0.0086 - val_mse: 0.0086 - val_mae: 0.0926\n",
            "Epoch 82/100\n",
            "23/23 [==============================] - 0s 15ms/step - loss: 0.0025 - mse: 0.0025 - mae: 0.0379 - val_loss: 0.0046 - val_mse: 0.0046 - val_mae: 0.0679\n",
            "Epoch 83/100\n",
            "23/23 [==============================] - 0s 16ms/step - loss: 0.0027 - mse: 0.0027 - mae: 0.0388 - val_loss: 0.0035 - val_mse: 0.0035 - val_mae: 0.0591\n",
            "Epoch 84/100\n",
            "23/23 [==============================] - 0s 15ms/step - loss: 0.0021 - mse: 0.0021 - mae: 0.0343 - val_loss: 0.0108 - val_mse: 0.0108 - val_mae: 0.1038\n",
            "Epoch 85/100\n",
            "23/23 [==============================] - 0s 15ms/step - loss: 0.0025 - mse: 0.0025 - mae: 0.0372 - val_loss: 0.0073 - val_mse: 0.0073 - val_mae: 0.0850\n",
            "Epoch 86/100\n",
            "23/23 [==============================] - 0s 15ms/step - loss: 0.0025 - mse: 0.0025 - mae: 0.0380 - val_loss: 0.0064 - val_mse: 0.0064 - val_mae: 0.0798\n",
            "Epoch 87/100\n",
            "23/23 [==============================] - 0s 16ms/step - loss: 0.0024 - mse: 0.0024 - mae: 0.0369 - val_loss: 0.0091 - val_mse: 0.0091 - val_mae: 0.0951\n",
            "Epoch 88/100\n",
            "23/23 [==============================] - 0s 17ms/step - loss: 0.0025 - mse: 0.0025 - mae: 0.0381 - val_loss: 0.0051 - val_mse: 0.0051 - val_mae: 0.0712\n",
            "Epoch 89/100\n",
            "23/23 [==============================] - 0s 15ms/step - loss: 0.0024 - mse: 0.0024 - mae: 0.0366 - val_loss: 0.0079 - val_mse: 0.0079 - val_mae: 0.0889\n",
            "Epoch 90/100\n",
            "23/23 [==============================] - 0s 16ms/step - loss: 0.0025 - mse: 0.0025 - mae: 0.0377 - val_loss: 0.0074 - val_mse: 0.0074 - val_mae: 0.0858\n",
            "Epoch 91/100\n",
            "23/23 [==============================] - 0s 16ms/step - loss: 0.0024 - mse: 0.0024 - mae: 0.0363 - val_loss: 0.0057 - val_mse: 0.0057 - val_mae: 0.0756\n",
            "Epoch 92/100\n",
            "23/23 [==============================] - 0s 16ms/step - loss: 0.0023 - mse: 0.0023 - mae: 0.0357 - val_loss: 0.0084 - val_mse: 0.0084 - val_mae: 0.0915\n",
            "Epoch 93/100\n",
            "23/23 [==============================] - 0s 18ms/step - loss: 0.0020 - mse: 0.0020 - mae: 0.0340 - val_loss: 0.0062 - val_mse: 0.0062 - val_mae: 0.0786\n",
            "Epoch 94/100\n",
            "23/23 [==============================] - 0s 16ms/step - loss: 0.0026 - mse: 0.0026 - mae: 0.0383 - val_loss: 0.0062 - val_mse: 0.0062 - val_mae: 0.0784\n",
            "Epoch 95/100\n",
            "23/23 [==============================] - 0s 16ms/step - loss: 0.0026 - mse: 0.0026 - mae: 0.0379 - val_loss: 0.0090 - val_mse: 0.0090 - val_mae: 0.0946\n",
            "Epoch 96/100\n",
            "23/23 [==============================] - 0s 17ms/step - loss: 0.0023 - mse: 0.0023 - mae: 0.0365 - val_loss: 0.0054 - val_mse: 0.0054 - val_mae: 0.0733\n",
            "Epoch 97/100\n",
            "23/23 [==============================] - 0s 14ms/step - loss: 0.0020 - mse: 0.0020 - mae: 0.0336 - val_loss: 0.0055 - val_mse: 0.0055 - val_mae: 0.0741\n",
            "Epoch 98/100\n",
            "23/23 [==============================] - 0s 16ms/step - loss: 0.0020 - mse: 0.0020 - mae: 0.0349 - val_loss: 0.0030 - val_mse: 0.0030 - val_mae: 0.0540\n",
            "Epoch 99/100\n",
            "23/23 [==============================] - 0s 16ms/step - loss: 0.0023 - mse: 0.0023 - mae: 0.0363 - val_loss: 0.0083 - val_mse: 0.0083 - val_mae: 0.0907\n",
            "Epoch 100/100\n",
            "23/23 [==============================] - 0s 16ms/step - loss: 0.0023 - mse: 0.0023 - mae: 0.0370 - val_loss: 0.0095 - val_mse: 0.0095 - val_mae: 0.0972\n"
          ]
        }
      ]
    },
    {
      "cell_type": "code",
      "source": [
        "df_hist = pd.DataFrame(history.history)"
      ],
      "metadata": {
        "id": "KpzmISBBI600"
      },
      "execution_count": 22,
      "outputs": []
    },
    {
      "cell_type": "code",
      "source": [
        "df_hist['loss'].plot()"
      ],
      "metadata": {
        "colab": {
          "base_uri": "https://localhost:8080/",
          "height": 283
        },
        "id": "A8uak1nLI64D",
        "outputId": "06fa2435-c2d5-44c9-f308-f9627cd45aa0"
      },
      "execution_count": 23,
      "outputs": [
        {
          "output_type": "execute_result",
          "data": {
            "text/plain": [
              "<matplotlib.axes._subplots.AxesSubplot at 0x7f22a6b357d0>"
            ]
          },
          "metadata": {},
          "execution_count": 23
        },
        {
          "output_type": "display_data",
          "data": {
            "text/plain": [
              "<Figure size 432x288 with 1 Axes>"
            ],
            "image/png": "[encoded data removed]"
          },
          "metadata": {
            "needs_background": "light"
          }
        }
      ]
    },
    {
      "cell_type": "code",
      "source": [
        "y_pred = model.predict(X_train)"
      ],
      "metadata": {
        "id": "NMShwQz8I67c",
        "colab": {
          "base_uri": "https://localhost:8080/"
        },
        "outputId": "5f57dda3-ea6a-451d-bc2b-4f67c04200eb"
      },
      "execution_count": 24,
      "outputs": [
        {
          "output_type": "stream",
          "name": "stdout",
          "text": [
            "27/27 [==============================] - 1s 3ms/step\n"
          ]
        }
      ]
    },
    {
      "cell_type": "code",
      "source": [
        "#rmse\n",
        "np.sqrt(np.square(y_test-y_pred).mean())"
      ],
      "metadata": {
        "colab": {
          "base_uri": "https://localhost:8080/",
          "height": 192
        },
        "id": "zFTI9WaOI6-v",
        "outputId": "abeec860-a75d-4fdc-c3c2-5a7b4b553c0f"
      },
      "execution_count": 25,
      "outputs": [
        {
          "output_type": "error",
          "ename": "NameError",
          "evalue": "ignored",
          "traceback": [
            "\u001b[0;31m---------------------------------------------------------------------------\u001b[0m",
            "\u001b[0;31mNameError\u001b[0m                                 Traceback (most recent call last)",
            "\u001b[0;32m<ipython-input-25-78a4add2d7d2>\u001b[0m in \u001b[0;36m<module>\u001b[0;34m\u001b[0m\n\u001b[1;32m      1\u001b[0m \u001b[0;31m#rmse\u001b[0m\u001b[0;34m\u001b[0m\u001b[0;34m\u001b[0m\u001b[0;34m\u001b[0m\u001b[0m\n\u001b[0;32m----> 2\u001b[0;31m \u001b[0mnp\u001b[0m\u001b[0;34m.\u001b[0m\u001b[0msqrt\u001b[0m\u001b[0;34m(\u001b[0m\u001b[0mnp\u001b[0m\u001b[0;34m.\u001b[0m\u001b[0msquare\u001b[0m\u001b[0;34m(\u001b[0m\u001b[0my_test\u001b[0m\u001b[0;34m-\u001b[0m\u001b[0my_pred\u001b[0m\u001b[0;34m)\u001b[0m\u001b[0;34m.\u001b[0m\u001b[0mmean\u001b[0m\u001b[0;34m(\u001b[0m\u001b[0;34m)\u001b[0m\u001b[0;34m)\u001b[0m\u001b[0;34m\u001b[0m\u001b[0;34m\u001b[0m\u001b[0m\n\u001b[0m",
            "\u001b[0;31mNameError\u001b[0m: name 'y_test' is not defined"
          ]
        }
      ]
    },
    {
      "cell_type": "code",
      "source": [
        "y_test.shape, y_pred.shape"
      ],
      "metadata": {
        "id": "4jKYUEgMI7CB"
      },
      "execution_count": null,
      "outputs": []
    },
    {
      "cell_type": "code",
      "source": [
        "plt.figure(figsize= (12, 4))\n",
        "plt.plot(y_test.flatten(), label='y_test')\n",
        "plt.plot(y_pred.flatten(), label='y_pred')\n",
        "plt.legend()"
      ],
      "metadata": {
        "id": "ZGImFA_3I7FI"
      },
      "execution_count": null,
      "outputs": []
    },
    {
      "cell_type": "code",
      "source": [
        "y_predict_inverse = mmsy.inverse_transform(y_pred)\n",
        "y_predict_inverse[:5]"
      ],
      "metadata": {
        "id": "-ug3ZNVaI7IM"
      },
      "execution_count": null,
      "outputs": []
    },
    {
      "cell_type": "code",
      "source": [
        "y_test_inverse = mmsy.inverse_transform(y_test)\n",
        "y_test_inverse[:5\n",
        "]"
      ],
      "metadata": {
        "id": "8BW5IL-PI7LZ"
      },
      "execution_count": null,
      "outputs": []
    },
    {
      "cell_type": "code",
      "source": [
        "# rmse \n",
        "np.sqrt(np.square(y_test_inverse-y_predict_inverse).mean())"
      ],
      "metadata": {
        "id": "FiE2gpXbI7OK"
      },
      "execution_count": null,
      "outputs": []
    },
    {
      "cell_type": "code",
      "source": [
        "# 시각화\n",
        "plt.figure(figsize = (12, 3))\n",
        "plt.plot(y_predict_inverse)\n",
        "plt.plot(y_test_inverse)"
      ],
      "metadata": {
        "id": "nB6lPgPzI7RW"
      },
      "execution_count": null,
      "outputs": []
    },
    {
      "cell_type": "code",
      "source": [],
      "metadata": {
        "id": "mpMY75qoI7VC"
      },
      "execution_count": null,
      "outputs": []
    },
    {
      "cell_type": "code",
      "source": [],
      "metadata": {
        "id": "6IyBjW7jI7YF"
      },
      "execution_count": null,
      "outputs": []
    },
    {
      "cell_type": "code",
      "source": [],
      "metadata": {
        "id": "cxYE5SyDI7a1"
      },
      "execution_count": null,
      "outputs": []
    },
    {
      "cell_type": "code",
      "source": [],
      "metadata": {
        "id": "9P2PCeQqI7eD"
      },
      "execution_count": null,
      "outputs": []
    },
    {
      "cell_type": "code",
      "source": [],
      "metadata": {
        "id": "87SxsO-1I7hC"
      },
      "execution_count": null,
      "outputs": []
    },
    {
      "cell_type": "code",
      "source": [],
      "metadata": {
        "id": "boUK8kRxI7pg"
      },
      "execution_count": null,
      "outputs": []
    }
  ]
}