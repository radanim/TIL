{
  "cells": [
    {
      "cell_type": "markdown",
      "metadata": {
        "id": "view-in-github",
        "colab_type": "text"
      },
      "source": [
        "<a href=\"https://colab.research.google.com/github/radanim/TIL/blob/master/CNN_Model.ipynb\" target=\"_parent\"><img src=\"https://colab.research.google.com/assets/colab-badge.svg\" alt=\"Open In Colab\"/></a>"
      ]
    },
    {
      "cell_type": "code",
      "execution_count": null,
      "metadata": {
        "id": "g4ojdS2IkiqJ"
      },
      "outputs": [],
      "source": [
        "import numpy as np\n",
        "import pandas as pd\n",
        "import matplotlib.pyplot as plt\n",
        "import tensorflow as tf\n",
        "from tensorflow.keras import Sequential\n",
        "from tensorflow.keras.layers import Dense, LSTM, Dropout, Bidirectional, Conv1D\n",
        "import os\n",
        "import glob\n"
      ]
    },
    {
      "cell_type": "code",
      "execution_count": null,
      "metadata": {
        "id": "poqe0lyIkiqQ",
        "outputId": "2b20a3a6-2f7b-4307-c59a-4bf028d476ec"
      },
      "outputs": [
        {
          "name": "stdout",
          "output_type": "stream",
          "text": [
            "(23531, 14) (23531,)\n",
            "23531 23531\n",
            "20333\n",
            "22470\n",
            "Model: \"sequential_5\"\n",
            "_________________________________________________________________\n",
            " Layer (type)                Output Shape              Param #   \n",
            "=================================================================\n",
            " conv1d_5 (Conv1D)           (None, None, 32)          1376      \n",
            "                                                                 \n",
            " dropout_10 (Dropout)        (None, None, 32)          0         \n",
            "                                                                 \n",
            " lstm_10 (LSTM)              (None, None, 32)          8320      \n",
            "                                                                 \n",
            " dropout_11 (Dropout)        (None, None, 32)          0         \n",
            "                                                                 \n",
            " lstm_11 (LSTM)              (None, 32)                8320      \n",
            "                                                                 \n",
            " dense_5 (Dense)             (None, 1)                 33        \n",
            "                                                                 \n",
            "=================================================================\n",
            "Total params: 18,049\n",
            "Trainable params: 18,049\n",
            "Non-trainable params: 0\n",
            "_________________________________________________________________\n",
            "(20333, 100, 14) (20333, 1)\n",
            "Epoch 1/500\n",
            "678/678 [==============================] - 31s 42ms/step - loss: 0.0092 - s_mape: 49.7677 - val_loss: 0.0341 - val_s_mape: 56.4412\n",
            "Epoch 2/500\n",
            "678/678 [==============================] - 32s 48ms/step - loss: 0.0039 - s_mape: 46.2415 - val_loss: 0.0444 - val_s_mape: 61.4283\n",
            "Epoch 3/500\n",
            "678/678 [==============================] - 33s 48ms/step - loss: 0.0024 - s_mape: 44.9243 - val_loss: 0.0476 - val_s_mape: 61.0800\n",
            "Epoch 4/500\n",
            "678/678 [==============================] - 38s 56ms/step - loss: 0.0018 - s_mape: 44.0942 - val_loss: 0.0435 - val_s_mape: 61.4654\n",
            "Epoch 5/500\n",
            "678/678 [==============================] - 50s 74ms/step - loss: 0.0015 - s_mape: 43.4850 - val_loss: 0.0370 - val_s_mape: 58.3772\n",
            "Epoch 6/500\n",
            "678/678 [==============================] - 54s 80ms/step - loss: 0.0013 - s_mape: 43.0061 - val_loss: 0.0412 - val_s_mape: 60.5675\n",
            "Epoch 7/500\n",
            "678/678 [==============================] - 38s 55ms/step - loss: 0.0013 - s_mape: 42.8520 - val_loss: 0.0335 - val_s_mape: 57.6339\n",
            "Epoch 8/500\n",
            "678/678 [==============================] - 37s 54ms/step - loss: 0.0011 - s_mape: 42.5838 - val_loss: 0.0291 - val_s_mape: 55.9125\n",
            "Epoch 9/500\n",
            "678/678 [==============================] - 47s 69ms/step - loss: 0.0011 - s_mape: 42.5744 - val_loss: 0.0319 - val_s_mape: 56.8893\n",
            "Epoch 10/500\n",
            "678/678 [==============================] - 47s 69ms/step - loss: 0.0011 - s_mape: 42.5130 - val_loss: 0.0324 - val_s_mape: 56.9492\n",
            "Epoch 11/500\n",
            "678/678 [==============================] - 45s 66ms/step - loss: 0.0010 - s_mape: 42.2535 - val_loss: 0.0368 - val_s_mape: 58.2635\n",
            "Epoch 12/500\n",
            "678/678 [==============================] - 57s 83ms/step - loss: 9.5776e-04 - s_mape: 42.0915 - val_loss: 0.0448 - val_s_mape: 60.7978\n",
            "Epoch 13/500\n",
            "678/678 [==============================] - 50s 73ms/step - loss: 9.2024e-04 - s_mape: 41.9729 - val_loss: 0.0333 - val_s_mape: 56.9561\n",
            "Epoch 14/500\n",
            "678/678 [==============================] - 52s 77ms/step - loss: 8.7251e-04 - s_mape: 41.9317 - val_loss: 0.0355 - val_s_mape: 58.1141\n",
            "Epoch 15/500\n",
            "678/678 [==============================] - 54s 80ms/step - loss: 9.4570e-04 - s_mape: 41.9946 - val_loss: 0.0309 - val_s_mape: 56.9191\n",
            "Epoch 16/500\n",
            "678/678 [==============================] - 44s 65ms/step - loss: 9.0920e-04 - s_mape: 41.9411 - val_loss: 0.0282 - val_s_mape: 54.9300\n",
            "Epoch 17/500\n",
            "678/678 [==============================] - 55s 81ms/step - loss: 7.3744e-04 - s_mape: 41.4251 - val_loss: 0.0252 - val_s_mape: 54.3799\n",
            "Epoch 18/500\n",
            "678/678 [==============================] - 54s 80ms/step - loss: 7.4687e-04 - s_mape: 41.5220 - val_loss: 0.0291 - val_s_mape: 56.2728\n",
            "Epoch 19/500\n",
            "678/678 [==============================] - 52s 76ms/step - loss: 7.1144e-04 - s_mape: 41.3904 - val_loss: 0.0275 - val_s_mape: 55.5867\n",
            "Epoch 20/500\n",
            "678/678 [==============================] - 53s 77ms/step - loss: 6.4197e-04 - s_mape: 41.2205 - val_loss: 0.0384 - val_s_mape: 59.8797\n",
            "Epoch 21/500\n",
            "678/678 [==============================] - 43s 63ms/step - loss: 8.1189e-04 - s_mape: 41.6356 - val_loss: 0.0350 - val_s_mape: 57.8833\n",
            "Epoch 22/500\n",
            "678/678 [==============================] - 61s 90ms/step - loss: 8.3283e-04 - s_mape: 41.6378 - val_loss: 0.0346 - val_s_mape: 59.1604\n",
            "Epoch 23/500\n",
            "678/678 [==============================] - 53s 78ms/step - loss: 6.9686e-04 - s_mape: 41.3117 - val_loss: 0.0289 - val_s_mape: 56.1633\n",
            "Epoch 24/500\n",
            "678/678 [==============================] - 38s 56ms/step - loss: 7.4248e-04 - s_mape: 41.3964 - val_loss: 0.0374 - val_s_mape: 59.9520\n",
            "Epoch 25/500\n",
            "678/678 [==============================] - 51s 76ms/step - loss: 8.6143e-04 - s_mape: 41.7301 - val_loss: 0.0305 - val_s_mape: 57.4453\n",
            "Epoch 26/500\n",
            "678/678 [==============================] - 49s 72ms/step - loss: 6.8228e-04 - s_mape: 41.2289 - val_loss: 0.0329 - val_s_mape: 58.3828\n",
            "Epoch 27/500\n",
            "678/678 [==============================] - 38s 55ms/step - loss: 9.3905e-04 - s_mape: 41.8669 - val_loss: 0.0315 - val_s_mape: 57.4413\n"
          ]
        }
      ],
      "source": [
        "# 경로 설정\n",
        "output=glob.glob('C:/Users/user/Downloads/LSTM 모델링/original data/train 01/*')\n",
        "\n",
        "# 데이터 프레임 통합하기\n",
        "df_total = pd.read_csv(output[0])\n",
        "for i in range (1,22):\n",
        "    df=pd.read_csv(output[i])\n",
        "    type(df)\n",
        "    df_total = pd.concat([df_total, df], ignore_index=True, axis=0)\n",
        "\n",
        "df_total.shape\n",
        "\n",
        "# 학습데이터 x,y 분리 \n",
        "dfx = df_total.drop(columns=\"FREL(2)\")\n",
        "dfy = df_total[\"FREL(2)\"]\n",
        "print(dfx.shape, dfy.shape) # (1076, 14), (1076, )\n",
        "\n",
        "# MinMaxScaler\n",
        "from gc import callbacks\n",
        "from sklearn.preprocessing import MinMaxScaler\n",
        "# 복원을 위해 x, y 따로 스케일링하기\n",
        "# 스케일링 후 list 형태로 변환하기\n",
        "mms = MinMaxScaler()\n",
        "x = mms.fit_transform(dfx).tolist()\n",
        "y = mms.fit_transform(dfy.to_frame()).tolist() # Series > frame > list, Series 상태에서는 minmaxscaler 적용안됨.\n",
        "\n",
        "print(len(x), len(y)) # 1076, 1076\n",
        "\n",
        "window_size = 100\n",
        "len(y) - window_size\n",
        "\n",
        "# window_size 만큼만 슬라이싱\n",
        "# 10step x값으로 다음 step y값을 예측\n",
        "# 다음 날 종가(i+windows_size)는 포함되지 않도록 X값을 만들고\n",
        "# 다음 날 종가를 y로 만듦\n",
        "# window_size = 10 \n",
        "\n",
        "x_data = []\n",
        "y_data = []\n",
        "for i in range(len(y) - window_size):\n",
        "    # print(i, end=\",\")\n",
        "    _x = x[i : i+window_size]\n",
        "    _y = y[i+window_size]\n",
        "    x_data.append(_x)\n",
        "    y_data.append(_y)\n",
        "\n",
        "a=df_total[df_total.TIME == 0.0].index[19]\n",
        "print(a)\n",
        "\n",
        "b=df_total[df_total.TIME == 0.0].index[21]\n",
        "print(b)\n",
        "\n",
        "# train, test, valid\n",
        "X_train = np.array(x_data[:a]) # 80\n",
        "y_train = np.array(y_data[:a]) #80\n",
        "X_valid = np.array(x_data[a:b]) # 80\n",
        "y_valid = np.array(y_data[a:b]) #80\n",
        "X_test = np.array(x_data[b:]) # 20\n",
        "y_test = np.array(y_data[b:]) #20\n",
        "X_train.shape, y_train.shape, X_valid.shape, y_valid.shape, X_test.shape, y_test.shape\n",
        "\n",
        "# 성능지표 함수\n",
        "def s_mape(y_true, y_pred):\n",
        "  ja = tf.math.abs(y_pred - y_true)\n",
        "  mo = (tf.math.abs(y_true)+tf.math.abs(y_pred))/2\n",
        "  loss = 100* tf.reduce_mean(ja/mo)\n",
        "  return loss\n",
        "\n",
        "# 모델 생성 (validation 데이터 범위 지정해서 돌리기)\n",
        "\n",
        "data_size = dfx.shape[1]\n",
        "\n",
        "model = Sequential()\n",
        "model.add(Conv1D(filters=32, kernel_size=3, strides=1, padding='same', activation=\"relu\", input_shape=[None, 14])) #유닛수=히든레이어수\n",
        "model.add(Dropout(0.3))\n",
        "model.add(LSTM(units=32, activation='relu', return_sequences=True)) # bi 히든레이어 unit 10+10=20 \n",
        "model.add(Dropout(0.3))\n",
        "model.add(LSTM(units=32, activation='relu'))\n",
        "model.add(Dense(units=1)) # 분류를 하기 위한 학습, output layer = FNN Fully Connected Neural Network\n",
        "model.summary()\n",
        "\n",
        "model.compile(optimizer = 'adam',\n",
        "              loss = 'mse',\n",
        "              metrics = [s_mape]) # 회귀 (y^ - y)^2 // 분류 categorical entropy\n",
        "# model.save()\n",
        "\n",
        "print(X_train.shape, y_train.shape)\n",
        "\n",
        "# 모델 epoch별 가중치 저장 체크포인트\n",
        "cp_callback = [tf.keras.callbacks.ModelCheckpoint(checkpoint_path='C:/Users/user/Downloads/AI 인력양성교육',save_weights_only=True,verbose=1),\n",
        "tf.keras.callbacks.EarlyStopping(monitor='val_loss', patience=10)]\n",
        "\n",
        "\n",
        "#early stopping patience loss값이 연속적으로 patience 횟수만큼 커질때 스탑 \n",
        "history = model.fit(X_train, y_train, validation_data= (X_valid, y_valid), epochs = 500, batch_size=30, verbose=1, callbacks=cp_callback) \n",
        "#verbose progress 바가 생기는게 1 아닌게 0 결과만 2 \n"
      ]
    },
    {
      "cell_type": "code",
      "execution_count": null,
      "metadata": {
        "id": "DbJU4mMUkiqR"
      },
      "outputs": [],
      "source": [
        "val_loss_final = history.history['val_loss'][-1]"
      ]
    },
    {
      "cell_type": "code",
      "execution_count": null,
      "metadata": {
        "id": "ShTL_vBRkiqR",
        "outputId": "387e277d-7d27-4bd8-a96c-3b8f52f2a785"
      },
      "outputs": [
        {
          "name": "stdout",
          "output_type": "stream",
          "text": [
            "8/8 [==============================] - 0s 21ms/step - loss: 0.0016 - s_mape: 26.6585\n",
            "[0.0015508088981732726, 26.658525466918945]\n",
            "31/31 [==============================] - 0s 11ms/step\n"
          ]
        },
        {
          "data": {
            "image/png": "[encoded data removed]",
            "text/plain": [
              "<Figure size 864x288 with 1 Axes>"
            ]
          },
          "metadata": {
            "needs_background": "light"
          },
          "output_type": "display_data"
        },
        {
          "data": {
            "image/png": "[encoded data removed]",
            "text/plain": [
              "<Figure size 864x288 with 1 Axes>"
            ]
          },
          "metadata": {
            "needs_background": "light"
          },
          "output_type": "display_data"
        },
        {
          "data": {
            "image/png": "[encoded data removed]",
            "text/plain": [
              "<Figure size 864x216 with 1 Axes>"
            ]
          },
          "metadata": {
            "needs_background": "light"
          },
          "output_type": "display_data"
        }
      ],
      "source": [
        "results=model.evaluate(X_test,y_test,batch_size=128)\n",
        "print(results)\n",
        "\n",
        "# 모델 설계 및 학습 코드와 시각화 코드 분리 \n",
        "time_index = df_total[b:-window_size]['TIME']\n",
        "time_index.shape\n",
        "\n",
        "# y_pred\n",
        "# df_hist = pd.DataFrame(history.history)\n",
        "# df_hist['loss'].plot()\n",
        "y_pred = model.predict(X_test)\n",
        "\n",
        "plt.figure(figsize= (12, 4))\n",
        "plt.title(\"Loss/Val_loss\")\n",
        "plt.xlabel(\"epochs\")\n",
        "plt.ylabel(\"loss/val_loss\")\n",
        "plt.plot(history.history['loss'], label='loss')\n",
        "plt.plot(history.history['val_loss'], label='val_loss')\n",
        "plt.text(17, 0.02, 'loss={:.4f} val_loss={:.2f}'.format(results[0], val_loss_final), fontsize=14)\n",
        "plt.legend()\n",
        "plt.savefig('./valid_loss_epoch500_6.png', dpi=500)\n",
        "\n",
        "# rmse\n",
        "# np.sqrt(np.square(y_test - y_pred).mean())\n",
        "# print(y_test.shape, y_pred.shape) # (214, 1), (214, 1)\n",
        "\n",
        "plt.figure(figsize= (12, 4))\n",
        "plt.title(\"CS/I Release Prediction\")\n",
        "plt.xlabel(\"time\")\n",
        "plt.ylabel(\"CS/I FREL\")\n",
        "plt.plot(time_index,y_pred.flatten(), label=\"predicted CS/I Release\")\n",
        "plt.plot(time_index,y_test.flatten(), label=\"real CS/I Release\")\n",
        "plt.text(200000, 0.200, 'loss={:.4f} s_mape={:.2f}'.format(results[0], results[1]), fontsize=14)\n",
        "plt.legend()\n",
        "plt.savefig('./scaling_result_epoch500_6.png', dpi=500)\n",
        "\n",
        "y_predict_inverse = mms.inverse_transform(y_pred)\n",
        "y_predict_inverse[:5]\n",
        "\n",
        "y_test_inverse = mms.inverse_transform(y_test)\n",
        "y_test_inverse[:5]\n",
        "\n",
        "# rmse \n",
        "# np.sqrt(np.square(y_test_inverse - y_predict_inverse).mean())\n",
        "\n",
        "# 시각화\n",
        "plt.figure(figsize = (12, 3))\n",
        "plt.title(\"CS/I Release Prediction\")\n",
        "plt.xlabel(\"time\")\n",
        "plt.ylabel(\"CS/I FREL\")\n",
        "plt.plot(time_index,y_predict_inverse, label = \"predicted CS/I Release\")\n",
        "plt.plot(time_index,y_test_inverse, label=\"real CS/I Release\")\n",
        "plt.text(200000, .0000200, 'loss={:.4f} s_mape={:.2f}'.format(results[0], results[1]), fontsize=14)\n",
        "plt.legend()\n",
        "plt.savefig('./inverse_result_epoch500_6.png', dpi=500)"
      ]
    },
    {
      "cell_type": "code",
      "execution_count": null,
      "metadata": {
        "id": "06EBRvfYkiqR"
      },
      "outputs": [],
      "source": []
    },
    {
      "cell_type": "code",
      "execution_count": null,
      "metadata": {
        "id": "MybsEKKdkiqR"
      },
      "outputs": [],
      "source": []
    },
    {
      "cell_type": "code",
      "execution_count": null,
      "metadata": {
        "id": "CfSmLqYLkiqR"
      },
      "outputs": [],
      "source": []
    },
    {
      "cell_type": "code",
      "execution_count": null,
      "metadata": {
        "id": "nX3Pnug8kiqR"
      },
      "outputs": [],
      "source": []
    },
    {
      "cell_type": "code",
      "execution_count": null,
      "metadata": {
        "id": "ULOkduD-kiqS"
      },
      "outputs": [],
      "source": []
    },
    {
      "cell_type": "code",
      "execution_count": null,
      "metadata": {
        "id": "73H5KHJTkiqS"
      },
      "outputs": [],
      "source": []
    },
    {
      "cell_type": "code",
      "execution_count": null,
      "metadata": {
        "id": "tMI8In4pkiqS"
      },
      "outputs": [],
      "source": []
    },
    {
      "cell_type": "code",
      "execution_count": null,
      "metadata": {
        "id": "l63Tt3A6kiqS"
      },
      "outputs": [],
      "source": []
    },
    {
      "cell_type": "code",
      "execution_count": null,
      "metadata": {
        "id": "R7miKBGhkiqS"
      },
      "outputs": [],
      "source": []
    },
    {
      "cell_type": "code",
      "execution_count": null,
      "metadata": {
        "id": "90oeaNO3kiqS"
      },
      "outputs": [],
      "source": []
    },
    {
      "cell_type": "code",
      "execution_count": null,
      "metadata": {
        "id": "vlDF67dzkiqS"
      },
      "outputs": [],
      "source": []
    },
    {
      "cell_type": "code",
      "execution_count": null,
      "metadata": {
        "id": "TFO0iC6PkiqS"
      },
      "outputs": [],
      "source": []
    },
    {
      "cell_type": "code",
      "execution_count": null,
      "metadata": {
        "id": "Xg8wzYQIkiqS"
      },
      "outputs": [],
      "source": []
    },
    {
      "cell_type": "code",
      "execution_count": null,
      "metadata": {
        "id": "B061_M3UkiqS"
      },
      "outputs": [],
      "source": []
    },
    {
      "cell_type": "code",
      "execution_count": null,
      "metadata": {
        "id": "TeZqB92IkiqS"
      },
      "outputs": [],
      "source": []
    },
    {
      "cell_type": "code",
      "execution_count": null,
      "metadata": {
        "id": "yHBod393kiqS"
      },
      "outputs": [],
      "source": []
    },
    {
      "cell_type": "code",
      "execution_count": null,
      "metadata": {
        "id": "F-Q7QgUukiqS"
      },
      "outputs": [],
      "source": []
    },
    {
      "cell_type": "code",
      "execution_count": null,
      "metadata": {
        "id": "MoB0It_8kiqS"
      },
      "outputs": [],
      "source": []
    },
    {
      "cell_type": "code",
      "execution_count": null,
      "metadata": {
        "id": "TK019L2MkiqS"
      },
      "outputs": [],
      "source": []
    },
    {
      "cell_type": "code",
      "execution_count": null,
      "metadata": {
        "id": "0-6TpatkkiqS"
      },
      "outputs": [],
      "source": []
    },
    {
      "cell_type": "code",
      "execution_count": null,
      "metadata": {
        "id": "Id96Z3JykiqT"
      },
      "outputs": [],
      "source": []
    },
    {
      "cell_type": "code",
      "execution_count": null,
      "metadata": {
        "id": "qYqtYZSkkiqT"
      },
      "outputs": [],
      "source": []
    },
    {
      "cell_type": "code",
      "execution_count": null,
      "metadata": {
        "id": "tdih7t7ukiqT"
      },
      "outputs": [],
      "source": []
    },
    {
      "cell_type": "code",
      "execution_count": null,
      "metadata": {
        "id": "VZ1bKd9CkiqT"
      },
      "outputs": [],
      "source": []
    }
  ],
  "metadata": {
    "kernelspec": {
      "display_name": "Python 3.9.12",
      "language": "python",
      "name": "python3"
    },
    "language_info": {
      "codemirror_mode": {
        "name": "ipython",
        "version": 3
      },
      "file_extension": ".py",
      "mimetype": "text/x-python",
      "name": "python",
      "nbconvert_exporter": "python",
      "pygments_lexer": "ipython3",
      "version": "3.9.12"
    },
    "orig_nbformat": 4,
    "vscode": {
      "interpreter": {
        "hash": "a077222d77dfe082b8f1dd562ad70e458ac2ab76993a0b248ab0476e32e9e8dd"
      }
    },
    "colab": {
      "provenance": [],
      "include_colab_link": true
    }
  },
  "nbformat": 4,
  "nbformat_minor": 0
}