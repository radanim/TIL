{
  "nbformat": 4,
  "nbformat_minor": 0,
  "metadata": {
    "colab": {
      "name": "ch12 데이터 길들이기",
      "provenance": [],
      "collapsed_sections": [],
      "authorship_tag": "ABX9TyONLPbFY8yyzT3YkjU+WVl3",
      "include_colab_link": true
    },
    "kernelspec": {
      "name": "python3",
      "display_name": "Python 3"
    },
    "language_info": {
      "name": "python"
    }
  },
  "cells": [
    {
      "cell_type": "markdown",
      "metadata": {
        "id": "view-in-github",
        "colab_type": "text"
      },
      "source": [
        "<a href=\"https://colab.research.google.com/github/radanim/TIL/blob/master/ch12_%EB%8D%B0%EC%9D%B4%ED%84%B0_%EA%B8%B8%EB%93%A4%EC%9D%B4%EA%B8%B0.ipynb\" target=\"_parent\"><img src=\"https://colab.research.google.com/assets/colab-badge.svg\" alt=\"Open In Colab\"/></a>"
      ]
    },
    {
      "cell_type": "code",
      "execution_count": null,
      "metadata": {
        "id": "cHnv4AUXPF6D"
      },
      "outputs": [],
      "source": [
        "유니코드 인코딩 \n",
        "유니코드 문자열 식별자 또는 문자에 대한 이름을 알아서 파이썬 문자열에 사용\n",
        "lookup(): 유니코드 문자 반환"
      ]
    },
    {
      "cell_type": "code",
      "source": [
        "UTF-8 파이썬 리눅스 HTML 표준 텍스트 인코딩\n",
        "문자열을 바이트로 인코딩\n",
        "바이트를 문자열로 디코딩\n",
        "유니코드 한문자당 1~4 바이트 사용\n",
        "1바이트: 아스키코드\n",
        "2바이트: 대부분 파생 라틴어\n",
        "3바이트: \n",
        "4바이트: 아시아문자들"
      ],
      "metadata": {
        "id": "AvKUJyicPN-8"
      },
      "execution_count": null,
      "outputs": []
    },
    {
      "cell_type": "code",
      "source": [
        "정규표현식: 문자열 축약형\n",
        "복잡한 문자열 패턴 매칭 가능\n",
        "\\ 찾는다. \n",
        "[a-z]  a-z 사이의 문자 중 하나 찾기\n",
        "[xy] xy 중 하나 찾기\n",
        "[^xy]  xy 제외하고 문자하나 찾기\n",
        "패턴: 지정자\n",
        "정규표현식 예시: 이메일 주소: @.com"
      ],
      "metadata": {
        "id": "tHeCyt3NPPT_"
      },
      "execution_count": null,
      "outputs": []
    },
    {
      "cell_type": "code",
      "source": [
        "원하는 데이터 셋 형태로 자르거나 찾을때 사용\n",
        "개인정보 비식별과 삭제때 활용\n",
        "정규표현식 테스트 사이트 \n",
        "빈칸생성 \\b"
      ],
      "metadata": {
        "id": "CCSmHQdjPQx3"
      },
      "execution_count": null,
      "outputs": []
    },
    {
      "cell_type": "code",
      "source": [
        "mammoth='''\n",
        "    We have seen thee, queen of cheese,\n",
        "    Lying quietly at your ease,\n",
        "    Gently fanned by evening breeze,\n",
        "    Thy fair form no flies dare seize.\n",
        "\n",
        "    All gaily dressed soon you'll go\n",
        "    To the great Provincial show,\n",
        "    To be admired by many a beau\n",
        "    In the city of Toronto.\n",
        "\n",
        "    Cows numerous as a swarm of bees,\n",
        "    Or as the leaves upon the trees,\n",
        "    It did require to make thee please,\n",
        "    And stand unrivalled, queen of cheese.\n",
        "\n",
        "    May you not receive a scar as\n",
        "    We have heard that Mr. Harris\n",
        "    Intends to send you off as far as\n",
        "    The great world's show at Paris.\n",
        "\n",
        "    Of the youth beware of these,\n",
        "    For some of them might rudely squeeze\n",
        "    And bite your cheek, then songs or glees\n",
        "    We could not sing, oh! queen of cheese.\n",
        "\n",
        "    We'rt thou suspended from balloon,\n",
        "    You'd cast a shade even at noon,\n",
        "    Folks would think it was the moon\n",
        "    About to fall and crush them soon.'''"
      ],
      "metadata": {
        "id": "U18uQxklPSv4"
      },
      "execution_count": null,
      "outputs": []
    },
    {
      "cell_type": "code",
      "source": [
        "import re\n",
        "pattern=r'\\bc\\w{3}\\b' #c로 시작하는 네글자 찾기 \n",
        "re.findall(pattern,mammoth)"
      ],
      "metadata": {
        "id": "0k-9SJEjPVoX"
      },
      "execution_count": null,
      "outputs": []
    },
    {
      "cell_type": "code",
      "source": [
        "pattern=r'\\b\\w*r\\b' #r로 끝나는 글자 찾기\n",
        "re.findall(pattern,mammoth)"
      ],
      "metadata": {
        "id": "39780tbrPYZu"
      },
      "execution_count": null,
      "outputs": []
    },
    {
      "cell_type": "code",
      "source": [
        "pattern=r'\\b\\w*[aeiou]{3}[^aeiou\\s]*\\r*\\b' #모음 연속 세번 나오는 단어\n",
        "re.findall(pattern,mammoth)"
      ],
      "metadata": {
        "id": "wa7rZzwFPaDd"
      },
      "execution_count": null,
      "outputs": []
    }
  ]
}